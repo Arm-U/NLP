{
  "cells": [
    {
      "cell_type": "markdown",
      "metadata": {
        "id": "IjRutOF4RaM7"
      },
      "source": [
        "### N-gram language models or how to write scientific papers (4 pts)\n",
        "\n",
        "We shall train our language model on a corpora of [ArXiv](http://arxiv.org/) articles and see if we can generate a new one!\n",
        "\n",
        "![img](https://media.npr.org/assets/img/2013/12/10/istock-18586699-monkey-computer_brick-16e5064d3378a14e0e4c2da08857efe03c04695e-s800-c85.jpg)\n",
        "\n",
        "_data by neelshah18 from [here](https://www.kaggle.com/neelshah18/arxivdataset/)_\n",
        "\n",
        "_Disclaimer: this has nothing to do with actual science. But it's fun, so who cares?!_"
      ]
    },
    {
      "cell_type": "code",
      "execution_count": null,
      "metadata": {
        "id": "V-6C9r5LRaM7"
      },
      "outputs": [],
      "source": [
        "import numpy as np\n",
        "import pandas as pd\n",
        "import matplotlib.pyplot as plt\n",
        "%matplotlib inline"
      ]
    },
    {
      "cell_type": "code",
      "execution_count": null,
      "metadata": {
        "colab": {
          "base_uri": "https://localhost:8080/",
          "height": 734
        },
        "id": "VVvndHxjRaM8",
        "outputId": "fdac9ddd-0663-4aa5-c521-727e077edc7d"
      },
      "outputs": [
        {
          "name": "stdout",
          "output_type": "stream",
          "text": [
            "--2024-10-10 11:20:11--  https://www.dropbox.com/s/99az9n1b57qkd9j/arxivData.json.tar.gz?dl=1\n",
            "Resolving www.dropbox.com (www.dropbox.com)... 162.125.65.18, 2620:100:6021:18::a27d:4112\n",
            "Connecting to www.dropbox.com (www.dropbox.com)|162.125.65.18|:443... connected.\n",
            "HTTP request sent, awaiting response... 302 Found\n",
            "Location: https://www.dropbox.com/scl/fi/0mulrothty5o8i8ud9gz2/arxivData.json.tar.gz?rlkey=n759u5qx2xpxxglmrl390vwvk&dl=1 [following]\n",
            "--2024-10-10 11:20:12--  https://www.dropbox.com/scl/fi/0mulrothty5o8i8ud9gz2/arxivData.json.tar.gz?rlkey=n759u5qx2xpxxglmrl390vwvk&dl=1\n",
            "Reusing existing connection to www.dropbox.com:443.\n",
            "HTTP request sent, awaiting response... 302 Found\n",
            "Location: https://uc4c2f19a2c313e7384e39fdd653.dl.dropboxusercontent.com/cd/0/inline/CcIFA8949BttAyCcisw9PkW-NKoWs89CArrar8sWR1nmWiTGTulHqFSfX0qMPuf2E20hmE0Qc203FAo1afniWFcqe01nKA1lj8IftqepyC66mbvKv1WtJfZ0kIyY4f-c8-E/file?dl=1# [following]\n",
            "--2024-10-10 11:20:12--  https://uc4c2f19a2c313e7384e39fdd653.dl.dropboxusercontent.com/cd/0/inline/CcIFA8949BttAyCcisw9PkW-NKoWs89CArrar8sWR1nmWiTGTulHqFSfX0qMPuf2E20hmE0Qc203FAo1afniWFcqe01nKA1lj8IftqepyC66mbvKv1WtJfZ0kIyY4f-c8-E/file?dl=1\n",
            "Resolving uc4c2f19a2c313e7384e39fdd653.dl.dropboxusercontent.com (uc4c2f19a2c313e7384e39fdd653.dl.dropboxusercontent.com)... 162.125.65.15, 2620:100:6021:15::a27d:410f\n",
            "Connecting to uc4c2f19a2c313e7384e39fdd653.dl.dropboxusercontent.com (uc4c2f19a2c313e7384e39fdd653.dl.dropboxusercontent.com)|162.125.65.15|:443... connected.\n",
            "HTTP request sent, awaiting response... 302 Found\n",
            "Location: /cd/0/inline2/CcI7v3NanSBCzp5PAwfGF-U6spWBX6LXiUdXUqFHjojx41MpLqdtQ17ONHLTmOEMiaFZ9PKvls2YPGt-OpajBUXHJOp3CqUYj5U3DFWOqpU5jf0Y3aNM5HScA8wbWKMJKzlis4xwODKDgxHsnJ4aOOi4_UyRdkeC5Vt92iYuLP-imHikmdgiQhF2gyPojVOjSme-TB9UPAWFVEm5EVmzf9k0Au7HBh6Zp8qM4PzgdzP1w8hNlOey5kpBs_CzdD3hi7ms8xiYAYc0h8FtBN2VWl6aPrD4aM0U00apEH6ZePWa3LSV-9wmaKxze29brUYaS07cxySW7aahYU17q0UEDvoyr-xSFkrm7MUMujQAOijQmg/file?dl=1 [following]\n",
            "--2024-10-10 11:20:13--  https://uc4c2f19a2c313e7384e39fdd653.dl.dropboxusercontent.com/cd/0/inline2/CcI7v3NanSBCzp5PAwfGF-U6spWBX6LXiUdXUqFHjojx41MpLqdtQ17ONHLTmOEMiaFZ9PKvls2YPGt-OpajBUXHJOp3CqUYj5U3DFWOqpU5jf0Y3aNM5HScA8wbWKMJKzlis4xwODKDgxHsnJ4aOOi4_UyRdkeC5Vt92iYuLP-imHikmdgiQhF2gyPojVOjSme-TB9UPAWFVEm5EVmzf9k0Au7HBh6Zp8qM4PzgdzP1w8hNlOey5kpBs_CzdD3hi7ms8xiYAYc0h8FtBN2VWl6aPrD4aM0U00apEH6ZePWa3LSV-9wmaKxze29brUYaS07cxySW7aahYU17q0UEDvoyr-xSFkrm7MUMujQAOijQmg/file?dl=1\n",
            "Reusing existing connection to uc4c2f19a2c313e7384e39fdd653.dl.dropboxusercontent.com:443.\n",
            "HTTP request sent, awaiting response... 200 OK\n",
            "Length: 18933283 (18M) [application/binary]\n",
            "Saving to: ‘arxivData.json.tar.gz’\n",
            "\n",
            "arxivData.json.tar. 100%[===================>]  18.06M  20.7MB/s    in 0.9s    \n",
            "\n",
            "2024-10-10 11:20:15 (20.7 MB/s) - ‘arxivData.json.tar.gz’ saved [18933283/18933283]\n",
            "\n",
            "arxivData.json\n"
          ]
        },
        {
          "data": {
            "application/vnd.google.colaboratory.intrinsic+json": {
              "summary": "{\n  \"name\": \"data\",\n  \"rows\": 5,\n  \"fields\": [\n    {\n      \"column\": \"author\",\n      \"properties\": {\n        \"dtype\": \"string\",\n        \"num_unique_values\": 5,\n        \"samples\": [\n          \"[{'name': 'Martin H\\u00fcnniger'}]\",\n          \"[{'name': 'Yifan Wu'}, {'name': 'Barnabas Poczos'}, {'name': 'Aarti Singh'}]\",\n          \"[{'name': 'Daniel Burfoot'}]\"\n        ],\n        \"semantic_type\": \"\",\n        \"description\": \"\"\n      }\n    },\n    {\n      \"column\": \"day\",\n      \"properties\": {\n        \"dtype\": \"number\",\n        \"std\": 8,\n        \"min\": 6,\n        \"max\": 28,\n        \"num_unique_values\": 5,\n        \"samples\": [\n          16,\n          13,\n          28\n        ],\n        \"semantic_type\": \"\",\n        \"description\": \"\"\n      }\n    },\n    {\n      \"column\": \"id\",\n      \"properties\": {\n        \"dtype\": \"string\",\n        \"num_unique_values\": 5,\n        \"samples\": [\n          \"1111.3818v1\",\n          \"1802.04420v1\",\n          \"1104.5466v1\"\n        ],\n        \"semantic_type\": \"\",\n        \"description\": \"\"\n      }\n    },\n    {\n      \"column\": \"link\",\n      \"properties\": {\n        \"dtype\": \"string\",\n        \"num_unique_values\": 5,\n        \"samples\": [\n          \"[{'rel': 'alternate', 'href': 'http://arxiv.org/abs/1111.3818v1', 'type': 'text/html'}, {'rel': 'related', 'href': 'http://arxiv.org/pdf/1111.3818v1', 'type': 'application/pdf', 'title': 'pdf'}]\",\n          \"[{'rel': 'alternate', 'href': 'http://arxiv.org/abs/1802.04420v1', 'type': 'text/html'}, {'rel': 'related', 'href': 'http://arxiv.org/pdf/1802.04420v1', 'type': 'application/pdf', 'title': 'pdf'}]\",\n          \"[{'rel': 'alternate', 'href': 'http://arxiv.org/abs/1104.5466v1', 'type': 'text/html'}, {'rel': 'related', 'href': 'http://arxiv.org/pdf/1104.5466v1', 'type': 'application/pdf', 'title': 'pdf'}]\"\n        ],\n        \"semantic_type\": \"\",\n        \"description\": \"\"\n      }\n    },\n    {\n      \"column\": \"month\",\n      \"properties\": {\n        \"dtype\": \"number\",\n        \"std\": 3,\n        \"min\": 2,\n        \"max\": 11,\n        \"num_unique_values\": 3,\n        \"samples\": [\n          2,\n          11,\n          4\n        ],\n        \"semantic_type\": \"\",\n        \"description\": \"\"\n      }\n    },\n    {\n      \"column\": \"summary\",\n      \"properties\": {\n        \"dtype\": \"string\",\n        \"num_unique_values\": 5,\n        \"samples\": [\n          \"In this text we show, that the notion of a \\\"good pair\\\" that was introduced in\\nthe paper \\\"Digital Manifolds and the Theorem of Jordan-Brouwer\\\" has actually\\nknown models. We will show, how to choose cubical adjacencies, the\\ngeneralizations of the well known 4- and 8-neighborhood to arbitrary\\ndimensions, in order to find good pairs. Furthermore, we give another proof for\\nthe well known fact that the Khalimsky-topology implies good pairs. The outcome\\nis consistent with the known theory as presented by T.Y. Kong, A. Rosenfeld,\\nG.T. Herman and M. Khachan et.al and gives new insights in higher dimensions.\",\n          \"A major challenge in understanding the generalization of deep learning is to\\nexplain why (stochastic) gradient descent can exploit the network architecture\\nto find solutions that have good generalization performance when using high\\ncapacity models. We find simple but realistic examples showing that this\\nphenomenon exists even when learning linear classifiers --- between two linear\\nnetworks with the same capacity, the one with a convolutional layer can\\ngeneralize better than the other when the data distribution has some underlying\\nspatial structure. We argue that this difference results from a combination of\\nthe convolution architecture, data distribution and gradient descent, all of\\nwhich are necessary to be included in a meaningful analysis. We provide a\\ngeneral analysis of the generalization performance as a function of data\\ndistribution and convolutional filter size, given gradient descent as the\\noptimization algorithm, then interpret the results using concrete examples.\\nExperimental results show that our analysis is able to explain what happens in\\nour introduced examples.\",\n          \"This book presents a methodology and philosophy of empirical science based on\\nlarge scale lossless data compression. In this view a theory is scientific if\\nit can be used to build a data compression program, and it is valuable if it\\ncan compress a standard benchmark database to a small size, taking into account\\nthe length of the compressor itself. This methodology therefore includes an\\nOccam principle as well as a solution to the problem of demarcation. Because of\\nthe fundamental difficulty of lossless compression, this type of research must\\nbe empirical in nature: compression can only be achieved by discovering and\\ncharacterizing empirical regularities in the data. Because of this, the\\nphilosophy provides a way to reformulate fields such as computer vision and\\ncomputational linguistics as empirical sciences: the former by attempting to\\ncompress databases of natural images, the latter by attempting to compress\\nlarge text databases. The book argues that the rigor and objectivity of the\\ncompression principle should set the stage for systematic progress in these\\nfields. The argument is especially strong in the context of computer vision,\\nwhich is plagued by chronic problems of evaluation.\\n  The book also considers the field of machine learning. Here the traditional\\napproach requires that the models proposed to solve learning problems be\\nextremely simple, in order to avoid overfitting. However, the world may contain\\nintrinsically complex phenomena, which would require complex models to\\nunderstand. The compression philosophy can justify complex models because of\\nthe large quantity of data being modeled (if the target database is 100 Gb, it\\nis easy to justify a 10 Mb model). The complex models and abstractions learned\\non the basis of the raw data (images, language, etc) can then be reused to\\nsolve any specific learning problem, such as face recognition or machine\\ntranslation.\"\n        ],\n        \"semantic_type\": \"\",\n        \"description\": \"\"\n      }\n    },\n    {\n      \"column\": \"tag\",\n      \"properties\": {\n        \"dtype\": \"string\",\n        \"num_unique_values\": 4,\n        \"samples\": [\n          \"[{'term': 'cs.LG', 'scheme': 'http://arxiv.org/schemas/atom', 'label': None}, {'term': 'math.ST', 'scheme': 'http://arxiv.org/schemas/atom', 'label': None}, {'term': 'stat.ML', 'scheme': 'http://arxiv.org/schemas/atom', 'label': None}, {'term': 'stat.TH', 'scheme': 'http://arxiv.org/schemas/atom', 'label': None}]\",\n          \"[{'term': 'cs.LG', 'scheme': 'http://arxiv.org/schemas/atom', 'label': None}, {'term': 'stat.ML', 'scheme': 'http://arxiv.org/schemas/atom', 'label': None}]\",\n          \"[{'term': 'cs.CV', 'scheme': 'http://arxiv.org/schemas/atom', 'label': None}]\"\n        ],\n        \"semantic_type\": \"\",\n        \"description\": \"\"\n      }\n    },\n    {\n      \"column\": \"title\",\n      \"properties\": {\n        \"dtype\": \"string\",\n        \"num_unique_values\": 5,\n        \"samples\": [\n          \"Good Pairs of Adjacency Relations in Arbitrary Dimensions\",\n          \"Towards Understanding the Generalization Bias of Two Layer Convolutional\\n  Linear Classifiers with Gradient Descent\",\n          \"Notes on a New Philosophy of Empirical Science\"\n        ],\n        \"semantic_type\": \"\",\n        \"description\": \"\"\n      }\n    },\n    {\n      \"column\": \"year\",\n      \"properties\": {\n        \"dtype\": \"number\",\n        \"std\": 3,\n        \"min\": 2011,\n        \"max\": 2018,\n        \"num_unique_values\": 3,\n        \"samples\": [\n          2018,\n          2011,\n          2013\n        ],\n        \"semantic_type\": \"\",\n        \"description\": \"\"\n      }\n    }\n  ]\n}",
              "type": "dataframe"
            },
            "text/html": [
              "\n",
              "  <div id=\"df-994f9a59-f3a6-4d59-9616-aa750838fdfe\" class=\"colab-df-container\">\n",
              "    <div>\n",
              "<style scoped>\n",
              "    .dataframe tbody tr th:only-of-type {\n",
              "        vertical-align: middle;\n",
              "    }\n",
              "\n",
              "    .dataframe tbody tr th {\n",
              "        vertical-align: top;\n",
              "    }\n",
              "\n",
              "    .dataframe thead th {\n",
              "        text-align: right;\n",
              "    }\n",
              "</style>\n",
              "<table border=\"1\" class=\"dataframe\">\n",
              "  <thead>\n",
              "    <tr style=\"text-align: right;\">\n",
              "      <th></th>\n",
              "      <th>author</th>\n",
              "      <th>day</th>\n",
              "      <th>id</th>\n",
              "      <th>link</th>\n",
              "      <th>month</th>\n",
              "      <th>summary</th>\n",
              "      <th>tag</th>\n",
              "      <th>title</th>\n",
              "      <th>year</th>\n",
              "    </tr>\n",
              "  </thead>\n",
              "  <tbody>\n",
              "    <tr>\n",
              "      <th>31099</th>\n",
              "      <td>[{'name': 'Michael Ying Yang'}, {'name': 'Went...</td>\n",
              "      <td>9</td>\n",
              "      <td>1802.03257v1</td>\n",
              "      <td>[{'rel': 'alternate', 'href': 'http://arxiv.or...</td>\n",
              "      <td>2</td>\n",
              "      <td>In this paper, we present an unsupervised lear...</td>\n",
              "      <td>[{'term': 'cs.CV', 'scheme': 'http://arxiv.org...</td>\n",
              "      <td>Video Event Recognition and Anomaly Detection ...</td>\n",
              "      <td>2018</td>\n",
              "    </tr>\n",
              "    <tr>\n",
              "      <th>23369</th>\n",
              "      <td>[{'name': 'Martin Hünniger'}]</td>\n",
              "      <td>16</td>\n",
              "      <td>1111.3818v1</td>\n",
              "      <td>[{'rel': 'alternate', 'href': 'http://arxiv.or...</td>\n",
              "      <td>11</td>\n",
              "      <td>In this text we show, that the notion of a \"go...</td>\n",
              "      <td>[{'term': 'cs.CV', 'scheme': 'http://arxiv.org...</td>\n",
              "      <td>Good Pairs of Adjacency Relations in Arbitrary...</td>\n",
              "      <td>2011</td>\n",
              "    </tr>\n",
              "    <tr>\n",
              "      <th>10452</th>\n",
              "      <td>[{'name': 'Daniel Burfoot'}]</td>\n",
              "      <td>28</td>\n",
              "      <td>1104.5466v1</td>\n",
              "      <td>[{'rel': 'alternate', 'href': 'http://arxiv.or...</td>\n",
              "      <td>4</td>\n",
              "      <td>This book presents a methodology and philosoph...</td>\n",
              "      <td>[{'term': 'cs.LG', 'scheme': 'http://arxiv.org...</td>\n",
              "      <td>Notes on a New Philosophy of Empirical Science</td>\n",
              "      <td>2011</td>\n",
              "    </tr>\n",
              "    <tr>\n",
              "      <th>36372</th>\n",
              "      <td>[{'name': 'Yoav Shoham'}]</td>\n",
              "      <td>6</td>\n",
              "      <td>1302.1568v1</td>\n",
              "      <td>[{'rel': 'alternate', 'href': 'http://arxiv.or...</td>\n",
              "      <td>2</td>\n",
              "      <td>We introduce a new interpretation of two relat...</td>\n",
              "      <td>[{'term': 'cs.GT', 'scheme': 'http://arxiv.org...</td>\n",
              "      <td>Conditional Utility, Utility Independence, and...</td>\n",
              "      <td>2013</td>\n",
              "    </tr>\n",
              "    <tr>\n",
              "      <th>7594</th>\n",
              "      <td>[{'name': 'Yifan Wu'}, {'name': 'Barnabas Pocz...</td>\n",
              "      <td>13</td>\n",
              "      <td>1802.04420v1</td>\n",
              "      <td>[{'rel': 'alternate', 'href': 'http://arxiv.or...</td>\n",
              "      <td>2</td>\n",
              "      <td>A major challenge in understanding the general...</td>\n",
              "      <td>[{'term': 'cs.LG', 'scheme': 'http://arxiv.org...</td>\n",
              "      <td>Towards Understanding the Generalization Bias ...</td>\n",
              "      <td>2018</td>\n",
              "    </tr>\n",
              "  </tbody>\n",
              "</table>\n",
              "</div>\n",
              "    <div class=\"colab-df-buttons\">\n",
              "\n",
              "  <div class=\"colab-df-container\">\n",
              "    <button class=\"colab-df-convert\" onclick=\"convertToInteractive('df-994f9a59-f3a6-4d59-9616-aa750838fdfe')\"\n",
              "            title=\"Convert this dataframe to an interactive table.\"\n",
              "            style=\"display:none;\">\n",
              "\n",
              "  <svg xmlns=\"http://www.w3.org/2000/svg\" height=\"24px\" viewBox=\"0 -960 960 960\">\n",
              "    <path d=\"M120-120v-720h720v720H120Zm60-500h600v-160H180v160Zm220 220h160v-160H400v160Zm0 220h160v-160H400v160ZM180-400h160v-160H180v160Zm440 0h160v-160H620v160ZM180-180h160v-160H180v160Zm440 0h160v-160H620v160Z\"/>\n",
              "  </svg>\n",
              "    </button>\n",
              "\n",
              "  <style>\n",
              "    .colab-df-container {\n",
              "      display:flex;\n",
              "      gap: 12px;\n",
              "    }\n",
              "\n",
              "    .colab-df-convert {\n",
              "      background-color: #E8F0FE;\n",
              "      border: none;\n",
              "      border-radius: 50%;\n",
              "      cursor: pointer;\n",
              "      display: none;\n",
              "      fill: #1967D2;\n",
              "      height: 32px;\n",
              "      padding: 0 0 0 0;\n",
              "      width: 32px;\n",
              "    }\n",
              "\n",
              "    .colab-df-convert:hover {\n",
              "      background-color: #E2EBFA;\n",
              "      box-shadow: 0px 1px 2px rgba(60, 64, 67, 0.3), 0px 1px 3px 1px rgba(60, 64, 67, 0.15);\n",
              "      fill: #174EA6;\n",
              "    }\n",
              "\n",
              "    .colab-df-buttons div {\n",
              "      margin-bottom: 4px;\n",
              "    }\n",
              "\n",
              "    [theme=dark] .colab-df-convert {\n",
              "      background-color: #3B4455;\n",
              "      fill: #D2E3FC;\n",
              "    }\n",
              "\n",
              "    [theme=dark] .colab-df-convert:hover {\n",
              "      background-color: #434B5C;\n",
              "      box-shadow: 0px 1px 3px 1px rgba(0, 0, 0, 0.15);\n",
              "      filter: drop-shadow(0px 1px 2px rgba(0, 0, 0, 0.3));\n",
              "      fill: #FFFFFF;\n",
              "    }\n",
              "  </style>\n",
              "\n",
              "    <script>\n",
              "      const buttonEl =\n",
              "        document.querySelector('#df-994f9a59-f3a6-4d59-9616-aa750838fdfe button.colab-df-convert');\n",
              "      buttonEl.style.display =\n",
              "        google.colab.kernel.accessAllowed ? 'block' : 'none';\n",
              "\n",
              "      async function convertToInteractive(key) {\n",
              "        const element = document.querySelector('#df-994f9a59-f3a6-4d59-9616-aa750838fdfe');\n",
              "        const dataTable =\n",
              "          await google.colab.kernel.invokeFunction('convertToInteractive',\n",
              "                                                    [key], {});\n",
              "        if (!dataTable) return;\n",
              "\n",
              "        const docLinkHtml = 'Like what you see? Visit the ' +\n",
              "          '<a target=\"_blank\" href=https://colab.research.google.com/notebooks/data_table.ipynb>data table notebook</a>'\n",
              "          + ' to learn more about interactive tables.';\n",
              "        element.innerHTML = '';\n",
              "        dataTable['output_type'] = 'display_data';\n",
              "        await google.colab.output.renderOutput(dataTable, element);\n",
              "        const docLink = document.createElement('div');\n",
              "        docLink.innerHTML = docLinkHtml;\n",
              "        element.appendChild(docLink);\n",
              "      }\n",
              "    </script>\n",
              "  </div>\n",
              "\n",
              "\n",
              "<div id=\"df-6becf3f6-0625-4338-9e34-bacff5a24f11\">\n",
              "  <button class=\"colab-df-quickchart\" onclick=\"quickchart('df-6becf3f6-0625-4338-9e34-bacff5a24f11')\"\n",
              "            title=\"Suggest charts\"\n",
              "            style=\"display:none;\">\n",
              "\n",
              "<svg xmlns=\"http://www.w3.org/2000/svg\" height=\"24px\"viewBox=\"0 0 24 24\"\n",
              "     width=\"24px\">\n",
              "    <g>\n",
              "        <path d=\"M19 3H5c-1.1 0-2 .9-2 2v14c0 1.1.9 2 2 2h14c1.1 0 2-.9 2-2V5c0-1.1-.9-2-2-2zM9 17H7v-7h2v7zm4 0h-2V7h2v10zm4 0h-2v-4h2v4z\"/>\n",
              "    </g>\n",
              "</svg>\n",
              "  </button>\n",
              "\n",
              "<style>\n",
              "  .colab-df-quickchart {\n",
              "      --bg-color: #E8F0FE;\n",
              "      --fill-color: #1967D2;\n",
              "      --hover-bg-color: #E2EBFA;\n",
              "      --hover-fill-color: #174EA6;\n",
              "      --disabled-fill-color: #AAA;\n",
              "      --disabled-bg-color: #DDD;\n",
              "  }\n",
              "\n",
              "  [theme=dark] .colab-df-quickchart {\n",
              "      --bg-color: #3B4455;\n",
              "      --fill-color: #D2E3FC;\n",
              "      --hover-bg-color: #434B5C;\n",
              "      --hover-fill-color: #FFFFFF;\n",
              "      --disabled-bg-color: #3B4455;\n",
              "      --disabled-fill-color: #666;\n",
              "  }\n",
              "\n",
              "  .colab-df-quickchart {\n",
              "    background-color: var(--bg-color);\n",
              "    border: none;\n",
              "    border-radius: 50%;\n",
              "    cursor: pointer;\n",
              "    display: none;\n",
              "    fill: var(--fill-color);\n",
              "    height: 32px;\n",
              "    padding: 0;\n",
              "    width: 32px;\n",
              "  }\n",
              "\n",
              "  .colab-df-quickchart:hover {\n",
              "    background-color: var(--hover-bg-color);\n",
              "    box-shadow: 0 1px 2px rgba(60, 64, 67, 0.3), 0 1px 3px 1px rgba(60, 64, 67, 0.15);\n",
              "    fill: var(--button-hover-fill-color);\n",
              "  }\n",
              "\n",
              "  .colab-df-quickchart-complete:disabled,\n",
              "  .colab-df-quickchart-complete:disabled:hover {\n",
              "    background-color: var(--disabled-bg-color);\n",
              "    fill: var(--disabled-fill-color);\n",
              "    box-shadow: none;\n",
              "  }\n",
              "\n",
              "  .colab-df-spinner {\n",
              "    border: 2px solid var(--fill-color);\n",
              "    border-color: transparent;\n",
              "    border-bottom-color: var(--fill-color);\n",
              "    animation:\n",
              "      spin 1s steps(1) infinite;\n",
              "  }\n",
              "\n",
              "  @keyframes spin {\n",
              "    0% {\n",
              "      border-color: transparent;\n",
              "      border-bottom-color: var(--fill-color);\n",
              "      border-left-color: var(--fill-color);\n",
              "    }\n",
              "    20% {\n",
              "      border-color: transparent;\n",
              "      border-left-color: var(--fill-color);\n",
              "      border-top-color: var(--fill-color);\n",
              "    }\n",
              "    30% {\n",
              "      border-color: transparent;\n",
              "      border-left-color: var(--fill-color);\n",
              "      border-top-color: var(--fill-color);\n",
              "      border-right-color: var(--fill-color);\n",
              "    }\n",
              "    40% {\n",
              "      border-color: transparent;\n",
              "      border-right-color: var(--fill-color);\n",
              "      border-top-color: var(--fill-color);\n",
              "    }\n",
              "    60% {\n",
              "      border-color: transparent;\n",
              "      border-right-color: var(--fill-color);\n",
              "    }\n",
              "    80% {\n",
              "      border-color: transparent;\n",
              "      border-right-color: var(--fill-color);\n",
              "      border-bottom-color: var(--fill-color);\n",
              "    }\n",
              "    90% {\n",
              "      border-color: transparent;\n",
              "      border-bottom-color: var(--fill-color);\n",
              "    }\n",
              "  }\n",
              "</style>\n",
              "\n",
              "  <script>\n",
              "    async function quickchart(key) {\n",
              "      const quickchartButtonEl =\n",
              "        document.querySelector('#' + key + ' button');\n",
              "      quickchartButtonEl.disabled = true;  // To prevent multiple clicks.\n",
              "      quickchartButtonEl.classList.add('colab-df-spinner');\n",
              "      try {\n",
              "        const charts = await google.colab.kernel.invokeFunction(\n",
              "            'suggestCharts', [key], {});\n",
              "      } catch (error) {\n",
              "        console.error('Error during call to suggestCharts:', error);\n",
              "      }\n",
              "      quickchartButtonEl.classList.remove('colab-df-spinner');\n",
              "      quickchartButtonEl.classList.add('colab-df-quickchart-complete');\n",
              "    }\n",
              "    (() => {\n",
              "      let quickchartButtonEl =\n",
              "        document.querySelector('#df-6becf3f6-0625-4338-9e34-bacff5a24f11 button');\n",
              "      quickchartButtonEl.style.display =\n",
              "        google.colab.kernel.accessAllowed ? 'block' : 'none';\n",
              "    })();\n",
              "  </script>\n",
              "</div>\n",
              "    </div>\n",
              "  </div>\n"
            ],
            "text/plain": [
              "                                                  author  day            id  \\\n",
              "31099  [{'name': 'Michael Ying Yang'}, {'name': 'Went...    9  1802.03257v1   \n",
              "23369                      [{'name': 'Martin Hünniger'}]   16   1111.3818v1   \n",
              "10452                       [{'name': 'Daniel Burfoot'}]   28   1104.5466v1   \n",
              "36372                          [{'name': 'Yoav Shoham'}]    6   1302.1568v1   \n",
              "7594   [{'name': 'Yifan Wu'}, {'name': 'Barnabas Pocz...   13  1802.04420v1   \n",
              "\n",
              "                                                    link  month  \\\n",
              "31099  [{'rel': 'alternate', 'href': 'http://arxiv.or...      2   \n",
              "23369  [{'rel': 'alternate', 'href': 'http://arxiv.or...     11   \n",
              "10452  [{'rel': 'alternate', 'href': 'http://arxiv.or...      4   \n",
              "36372  [{'rel': 'alternate', 'href': 'http://arxiv.or...      2   \n",
              "7594   [{'rel': 'alternate', 'href': 'http://arxiv.or...      2   \n",
              "\n",
              "                                                 summary  \\\n",
              "31099  In this paper, we present an unsupervised lear...   \n",
              "23369  In this text we show, that the notion of a \"go...   \n",
              "10452  This book presents a methodology and philosoph...   \n",
              "36372  We introduce a new interpretation of two relat...   \n",
              "7594   A major challenge in understanding the general...   \n",
              "\n",
              "                                                     tag  \\\n",
              "31099  [{'term': 'cs.CV', 'scheme': 'http://arxiv.org...   \n",
              "23369  [{'term': 'cs.CV', 'scheme': 'http://arxiv.org...   \n",
              "10452  [{'term': 'cs.LG', 'scheme': 'http://arxiv.org...   \n",
              "36372  [{'term': 'cs.GT', 'scheme': 'http://arxiv.org...   \n",
              "7594   [{'term': 'cs.LG', 'scheme': 'http://arxiv.org...   \n",
              "\n",
              "                                                   title  year  \n",
              "31099  Video Event Recognition and Anomaly Detection ...  2018  \n",
              "23369  Good Pairs of Adjacency Relations in Arbitrary...  2011  \n",
              "10452     Notes on a New Philosophy of Empirical Science  2011  \n",
              "36372  Conditional Utility, Utility Independence, and...  2013  \n",
              "7594   Towards Understanding the Generalization Bias ...  2018  "
            ]
          },
          "execution_count": 2,
          "metadata": {},
          "output_type": "execute_result"
        }
      ],
      "source": [
        "# Alternative manual download link: https://yadi.sk/d/_nGyU2IajjR9-w\n",
        "!wget \"https://www.dropbox.com/s/99az9n1b57qkd9j/arxivData.json.tar.gz?dl=1\" -O arxivData.json.tar.gz\n",
        "!tar -xvzf arxivData.json.tar.gz\n",
        "data = pd.read_json(\"./arxivData.json\")\n",
        "data.sample(n=5)"
      ]
    },
    {
      "cell_type": "code",
      "execution_count": null,
      "metadata": {
        "colab": {
          "base_uri": "https://localhost:8080/"
        },
        "id": "t8Foyf7qRaM8",
        "outputId": "5e78af70-f664-4103-dc34-eca0d2f447f9"
      },
      "outputs": [
        {
          "data": {
            "text/plain": [
              "['Differential Contrastive Divergence ; This paper has been retracted.',\n",
              " 'What Does Artificial Life Tell Us About Death? ; Short philosophical essay',\n",
              " 'P=NP ; We claim to resolve the P=?NP problem via a formal argument for P=NP.']"
            ]
          },
          "execution_count": 3,
          "metadata": {},
          "output_type": "execute_result"
        }
      ],
      "source": [
        "# assemble lines: concatenate title and description\n",
        "lines = data.apply(lambda row: row['title'] + ' ; ' + row['summary'].replace(\"\\n\", ' '), axis=1).tolist()\n",
        "\n",
        "sorted(lines, key=len)[:3]"
      ]
    },
    {
      "cell_type": "markdown",
      "metadata": {
        "id": "Xbfh9o35RaM8"
      },
      "source": [
        "### Tokenization\n",
        "\n",
        "You know the dril. The data is messy. Go clean the data. Use WordPunctTokenizer or something.\n"
      ]
    },
    {
      "cell_type": "code",
      "execution_count": null,
      "metadata": {
        "id": "mD_zlUgrRaM9"
      },
      "outputs": [],
      "source": [
        "# Task: convert lines (in-place) into strings of space-separated tokens. Import & use WordPunctTokenizer\n",
        "\n",
        "import nltk\n",
        "\n",
        "tokenizer = nltk.tokenize.WordPunctTokenizer()\n",
        "\n",
        "lines = [' '.join(tokenizer.tokenize(str(line).lower())) for line in lines]"
      ]
    },
    {
      "cell_type": "code",
      "execution_count": null,
      "metadata": {
        "id": "sBN1Gc9mRaM9"
      },
      "outputs": [],
      "source": [
        "assert sorted(lines, key=len)[0] == \\\n",
        "    'differential contrastive divergence ; this paper has been retracted .'\n",
        "assert sorted(lines, key=len)[2] == \\\n",
        "    'p = np ; we claim to resolve the p =? np problem via a formal argument for p = np .'"
      ]
    },
    {
      "cell_type": "markdown",
      "metadata": {
        "id": "56lE9ZRWRaM9"
      },
      "source": [
        "### N-Gram Language Model (1point)\n",
        "\n",
        "A language model is a probabilistic model that estimates text probability: the joint probability of all tokens $w_t$ in text $X$: $P(X) = P(w_1, \\dots, w_T)$.\n",
        "\n",
        "It can do so by following the chain rule:\n",
        "$$P(w_1, \\dots, w_T) = P(w_1)P(w_2 \\mid w_1)\\dots P(w_T \\mid w_1, \\dots, w_{T-1}).$$\n",
        "\n",
        "The problem with such approach is that the final term $P(w_T \\mid w_1, \\dots, w_{T-1})$ depends on $n-1$ previous words. This probability is impractical to estimate for long texts, e.g. $T = 1000$.\n",
        "\n",
        "One popular approximation is to assume that next word only depends on a finite amount of previous words:\n",
        "\n",
        "$$P(w_t \\mid w_1, \\dots, w_{t - 1}) = P(w_t \\mid w_{t - n + 1}, \\dots, w_{t - 1})$$\n",
        "\n",
        "Such model is called __n-gram language model__ where n is a parameter. For example, in 3-gram language model, each word only depends on 2 previous words.\n",
        "\n",
        "$$\n",
        "    P(w_1, \\dots, w_n) = \\prod_t P(w_t \\mid w_{t - n + 1}, \\dots, w_{t - 1}).\n",
        "$$\n",
        "\n",
        "You can also sometimes see such approximation under the name of _n-th order markov assumption_."
      ]
    },
    {
      "cell_type": "markdown",
      "metadata": {
        "id": "tiOHPZFZRaM-"
      },
      "source": [
        "The first stage to building such a model is counting all word occurences given N-1 previous words"
      ]
    },
    {
      "cell_type": "code",
      "execution_count": null,
      "metadata": {
        "id": "tmwW1BSYRaM-"
      },
      "outputs": [],
      "source": [
        "from tqdm import tqdm\n",
        "from collections import defaultdict, Counter\n",
        "\n",
        "# special tokens:\n",
        "# - `UNK` represents absent tokens,\n",
        "# - `EOS` is a special token after the end of sequence\n",
        "\n",
        "UNK, EOS = \"_UNK_\", \"_EOS_\"\n",
        "\n",
        "def count_ngrams(lines, n):\n",
        "    \"\"\"\n",
        "    Count how many times each word occured after (n - 1) previous words\n",
        "    :param lines: an iterable of strings with space-separated tokens\n",
        "    :returns: a dictionary { tuple(prefix_tokens): {next_token_1: count_1, next_token_2: count_2}}\n",
        "\n",
        "    When building counts, please consider the following two edge cases:\n",
        "    - if prefix is shorter than (n - 1) tokens, it should be padded with UNK. For n=3,\n",
        "      empty prefix: \"\" -> (UNK, UNK)\n",
        "      short prefix: \"the\" -> (UNK, the)\n",
        "      long prefix: \"the new approach\" -> (new, approach)\n",
        "    - you should add a special token, EOS, at the end of each sequence\n",
        "      \"... with deep neural networks .\" -> (..., with, deep, neural, networks, ., EOS)\n",
        "      count the probability of this token just like all others.\n",
        "    \"\"\"\n",
        "    counts = defaultdict(Counter)\n",
        "    # counts[(word1, word2)][word3] = how many times word3 occured after (word1, word2)\n",
        "\n",
        "    paded_lines = [[UNK] * (n - 1) + line.split() + [EOS] for line in lines]\n",
        "\n",
        "    for line in paded_lines:\n",
        "        for ngram_ind_end in range(n - 1, len(line)):\n",
        "            prefix = tuple(line[ngram_ind_end - n + 1:ngram_ind_end])\n",
        "            next_token = line[ngram_ind_end]\n",
        "            counts[prefix][next_token] += 1\n",
        "    return counts\n"
      ]
    },
    {
      "cell_type": "code",
      "execution_count": null,
      "metadata": {
        "collapsed": true,
        "id": "Zi78abK9RaM-"
      },
      "outputs": [],
      "source": [
        "# let's test it\n",
        "dummy_lines = sorted(lines, key=len)[:100]\n",
        "dummy_counts = count_ngrams(dummy_lines, n=3)\n",
        "assert set(map(len, dummy_counts.keys())) == {2}, \"please only count {n-1}-grams\"\n",
        "assert len(dummy_counts[('_UNK_', '_UNK_')]) == 78\n",
        "assert dummy_counts['_UNK_', 'a']['note'] == 3\n",
        "assert dummy_counts['p', '=']['np'] == 2\n",
        "assert dummy_counts['author', '.']['_EOS_'] == 1"
      ]
    },
    {
      "cell_type": "markdown",
      "metadata": {
        "id": "Y81R5phCRaM-"
      },
      "source": [
        "Once we can count N-grams, we can build a probabilistic language model.\n",
        "The simplest way to compute probabilities is in proporiton to counts:\n",
        "\n",
        "$$ P(w_t | prefix) = { Count(prefix, w_t) \\over \\sum_{\\hat w} Count(prefix, \\hat w) } $$"
      ]
    },
    {
      "cell_type": "code",
      "execution_count": null,
      "metadata": {
        "colab": {
          "base_uri": "https://localhost:8080/"
        },
        "id": "ES-oJe3tbQA7",
        "outputId": "7b3964a4-d3e6-4fd0-f14c-7a839efe6c39"
      },
      "outputs": [
        {
          "data": {
            "text/plain": [
              "dict_values([1, 1, 1, 1, 1, 1, 1, 1, 1, 1, 1, 1, 1, 1, 1, 1, 13, 1, 1, 1, 3, 1, 1, 1, 1, 1, 1, 2, 1, 1, 1, 1, 1, 1, 1, 1, 1, 1, 1, 1, 2, 2, 1, 1, 1, 1, 1, 1, 1, 1, 1, 1, 1, 1, 2, 1, 3, 1, 1, 1, 1, 1, 1, 1, 1, 1, 1, 2, 1, 1, 1, 2, 1, 1, 1, 1, 1, 1])"
            ]
          },
          "execution_count": 8,
          "metadata": {},
          "output_type": "execute_result"
        }
      ],
      "source": [
        "dummy_counts[('_UNK_', '_UNK_')].values()"
      ]
    },
    {
      "cell_type": "code",
      "execution_count": null,
      "metadata": {
        "id": "_8rLguGFRaM-"
      },
      "outputs": [],
      "source": [
        "class NGramLanguageModel:\n",
        "    def __init__(self, lines, n):\n",
        "        \"\"\"\n",
        "        Train a simple count-based language model:\n",
        "        compute probabilities P(w_t | prefix) given ngram counts\n",
        "\n",
        "        :param n: computes probability of next token given (n - 1) previous words\n",
        "        :param lines: an iterable of strings with space-separated tokens\n",
        "        \"\"\"\n",
        "        assert n >= 1\n",
        "        self.n = n\n",
        "\n",
        "        counts = count_ngrams(lines, self.n)\n",
        "\n",
        "        # compute token proabilities given counts\n",
        "        self.probs = defaultdict(Counter)\n",
        "        # probs[(word1, word2)][word3] = P(word3 | word1, word2)\n",
        "\n",
        "        # populate self.probs with actual probabilities\n",
        "        for prefix in counts.keys():\n",
        "            count_sum = sum(counts[prefix].values())\n",
        "            for next_token in counts[prefix].keys():\n",
        "                self.probs[prefix][next_token] = counts[prefix][next_token] / count_sum\n",
        "\n",
        "    def get_possible_next_tokens(self, prefix):\n",
        "        \"\"\"\n",
        "        :param prefix: string with space-separated prefix tokens\n",
        "        :returns: a dictionary {token : it's probability} for all tokens with positive probabilities\n",
        "        \"\"\"\n",
        "        prefix = prefix.split()\n",
        "        prefix = prefix[max(0, len(prefix) - self.n + 1):]\n",
        "        prefix = [ UNK ] * (self.n - 1 - len(prefix)) + prefix\n",
        "        return self.probs[tuple(prefix)]\n",
        "\n",
        "    def get_next_token_prob(self, prefix, next_token):\n",
        "        \"\"\"\n",
        "        :param prefix: string with space-separated prefix tokens\n",
        "        :param next_token: the next token to predict probability for\n",
        "        :returns: P(next_token|prefix) a single number, 0 <= P <= 1\n",
        "        \"\"\"\n",
        "        return self.get_possible_next_tokens(prefix).get(next_token, 0)"
      ]
    },
    {
      "cell_type": "markdown",
      "metadata": {
        "id": "ourjNdbmRaM_"
      },
      "source": [
        "Let's test it!"
      ]
    },
    {
      "cell_type": "code",
      "execution_count": null,
      "metadata": {
        "id": "77VMEcciRaM_"
      },
      "outputs": [],
      "source": [
        "dummy_lm = NGramLanguageModel(dummy_lines, n=3)\n",
        "\n",
        "p_initial = dummy_lm.get_possible_next_tokens('') # '' -> ['_UNK_', '_UNK_']\n",
        "assert np.allclose(p_initial['learning'], 0.02)\n",
        "assert np.allclose(p_initial['a'], 0.13)\n",
        "assert np.allclose(p_initial.get('meow', 0), 0)\n",
        "assert np.allclose(sum(p_initial.values()), 1)\n",
        "\n",
        "p_a = dummy_lm.get_possible_next_tokens('a') # '' -> ['_UNK_', 'a']\n",
        "assert np.allclose(p_a['machine'], 0.15384615)\n",
        "assert np.allclose(p_a['note'], 0.23076923)\n",
        "assert np.allclose(p_a.get('the', 0), 0)\n",
        "assert np.allclose(sum(p_a.values()), 1)\n",
        "\n",
        "assert np.allclose(dummy_lm.get_possible_next_tokens('a note')['on'], 1)\n",
        "assert dummy_lm.get_possible_next_tokens('a machine') == \\\n",
        "    dummy_lm.get_possible_next_tokens(\"there have always been ghosts in a machine\"), \\\n",
        "    \"your 3-gram model should only depend on 2 previous words\""
      ]
    },
    {
      "cell_type": "markdown",
      "metadata": {
        "id": "KtkMFDMGRaM_"
      },
      "source": [
        "Now that you've got a working n-gram language model, let's see what sequences it can generate. But first, let's train it on the whole dataset."
      ]
    },
    {
      "cell_type": "code",
      "execution_count": null,
      "metadata": {
        "id": "kf8uSBIbRaM_"
      },
      "outputs": [],
      "source": [
        "lm = NGramLanguageModel(lines, n=3)"
      ]
    },
    {
      "cell_type": "markdown",
      "metadata": {
        "id": "wtL7kwDqRaM_"
      },
      "source": [
        "The process of generating sequences is... well, it's sequential. You maintain a list of tokens and iteratively add next token by sampling with probabilities.\n",
        "\n",
        "$ X = [] $\n",
        "\n",
        "__forever:__\n",
        "* $w_{next} \\sim P(w_{next} | X)$\n",
        "* $X = concat(X, w_{next})$\n",
        "\n",
        "\n",
        "Instead of sampling with probabilities, one can also try always taking most likely token, sampling among top-K most likely tokens or sampling with temperature. In the latter case (temperature), one samples from\n",
        "\n",
        "$$w_{next} \\sim {P(w_{next} | X) ^ {1 / \\tau} \\over \\sum_{\\hat w} P(\\hat w | X) ^ {1 / \\tau}}$$\n",
        "\n",
        "Where $\\tau > 0$ is model temperature. If $\\tau << 1$, more likely tokens will be sampled with even higher probability while less likely tokens will vanish."
      ]
    },
    {
      "cell_type": "code",
      "execution_count": null,
      "metadata": {
        "id": "txy9RdqsRaM_"
      },
      "outputs": [],
      "source": [
        "def get_next_token(lm, prefix, temperature=1.0):\n",
        "    \"\"\"\n",
        "    return next token after prefix;\n",
        "    :param temperature: samples proportionally to lm probabilities ^ (1 / temperature)\n",
        "        if temperature == 0, always takes most likely token. Break ties arbitrarily.\n",
        "    \"\"\"\n",
        "    words, probs = zip(*lm.get_possible_next_tokens(prefix).items())\n",
        "    if temperature == 0:\n",
        "        return words[np.argmax(probs)]\n",
        "\n",
        "    probs = np.array(probs)\n",
        "    probs = probs**(1/temperature) / np.sum(probs**(1/temperature))\n",
        "    next_word = words[np.random.choice(len(probs), p=probs)]\n",
        "    return next_word"
      ]
    },
    {
      "cell_type": "code",
      "execution_count": null,
      "metadata": {
        "colab": {
          "base_uri": "https://localhost:8080/"
        },
        "id": "SkpLUXxzRaM_",
        "outputId": "62a287a6-5b14-434e-bc2b-f142aa29d105"
      },
      "outputs": [
        {
          "name": "stdout",
          "output_type": "stream",
          "text": [
            "Looks nice!\n"
          ]
        }
      ],
      "source": [
        "from collections import Counter\n",
        "test_freqs = Counter([get_next_token(lm, 'there have') for _ in range(10000)])\n",
        "assert 250 < test_freqs['not'] < 450\n",
        "assert 8500 < test_freqs['been'] < 9500\n",
        "assert 1 < test_freqs['lately'] < 200\n",
        "\n",
        "test_freqs = Counter([get_next_token(lm, 'deep', temperature=1.0) for _ in range(10000)])\n",
        "assert 1500 < test_freqs['learning'] < 3000\n",
        "test_freqs = Counter([get_next_token(lm, 'deep', temperature=0.5) for _ in range(10000)])\n",
        "assert 8000 < test_freqs['learning'] < 9000\n",
        "test_freqs = Counter([get_next_token(lm, 'deep', temperature=0.0) for _ in range(10000)])\n",
        "assert test_freqs['learning'] == 10000\n",
        "\n",
        "print(\"Looks nice!\")"
      ]
    },
    {
      "cell_type": "markdown",
      "metadata": {
        "id": "X3OkhyWeRaM_"
      },
      "source": [
        "Let's have fun with this model"
      ]
    },
    {
      "cell_type": "code",
      "execution_count": null,
      "metadata": {
        "colab": {
          "base_uri": "https://localhost:8080/"
        },
        "id": "G0Rbiy5HRaM_",
        "outputId": "0468fb27-350e-4052-f949-bf9c2486abae"
      },
      "outputs": [
        {
          "name": "stdout",
          "output_type": "stream",
          "text": [
            "artificial intelligence has been shown to be drawn from a normal convolutional neural networks grows as if it involves minimizing the kullback - leibler divergence from a big written dataset ( parts , i . e ., how to leverage this impressive achievement to treat it as easy as perspective lens cameras have also proposed , we propose a system . compared to a set of categories that are syntactically modular but are typically not visually related , also known as an analysis - sparsity rather than color . _EOS_\n"
          ]
        }
      ],
      "source": [
        "prefix = 'artificial' # <- your ideas :)\n",
        "\n",
        "for i in range(100):\n",
        "    prefix += ' ' + get_next_token(lm, prefix)\n",
        "    if prefix.endswith(EOS) or len(lm.get_possible_next_tokens(prefix)) == 0:\n",
        "        break\n",
        "\n",
        "print(prefix)"
      ]
    },
    {
      "cell_type": "code",
      "execution_count": null,
      "metadata": {
        "colab": {
          "base_uri": "https://localhost:8080/"
        },
        "id": "wnWVLZ6hRaNA",
        "outputId": "31f21013-6c8b-43b8-89c1-9bd9ef743225"
      },
      "outputs": [
        {
          "name": "stdout",
          "output_type": "stream",
          "text": [
            "bridging the gap between the two - layer perceptron ( mlp ) classifier . we describe a new algorithm for the case of the data . the second step , the proposed method is proposed . the proposed method is proposed . this paper , we present a novel approach for the first time we apply our method can identify the most recent work in the sense that the proposed method is evaluated on three public datasets of the proposed approach is able to learn the parameters of the two - stage approach of the proposed approach is based on a large\n"
          ]
        }
      ],
      "source": [
        "prefix = 'bridging the' # <- more of your ideas\n",
        "\n",
        "for i in range(100):\n",
        "    prefix += ' ' + get_next_token(lm, prefix, temperature=0.5)\n",
        "    if prefix.endswith(EOS) or len(lm.get_possible_next_tokens(prefix)) == 0:\n",
        "        break\n",
        "\n",
        "print(prefix)"
      ]
    },
    {
      "cell_type": "markdown",
      "metadata": {
        "id": "sSDyOd6ERaNA"
      },
      "source": [
        "__More in the homework:__ nucleus sampling, top-k sampling, beam search(not for the faint of heart)."
      ]
    },
    {
      "cell_type": "markdown",
      "metadata": {
        "id": "VZjlffDmRaNA"
      },
      "source": [
        "### Evaluating language models: perplexity (1point)\n",
        "\n",
        "Perplexity is a measure of how well your model approximates the true probability distribution behind the data. __Smaller perplexity = better model__.\n",
        "\n",
        "To compute perplexity on one sentence, use:\n",
        "$$\n",
        "    {\\mathbb{P}}(w_1 \\dots w_N) = P(w_1, \\dots, w_N)^{-\\frac1N} = \\left( \\prod_t P(w_t \\mid w_{t - n}, \\dots, w_{t - 1})\\right)^{-\\frac1N},\n",
        "$$\n",
        "\n",
        "\n",
        "On the corpora level, perplexity is a product of probabilities of all tokens in all sentences to the power of $1/N$, where $N$ is __total length (in tokens) of all sentences__ in corpora.\n",
        "\n",
        "This number can quickly get too small for float32/float64 precision, so we recommend you to first compute log-perplexity (from log-probabilities) and then take the exponent."
      ]
    },
    {
      "cell_type": "code",
      "execution_count": null,
      "metadata": {
        "id": "MHm31fp7RaNA"
      },
      "outputs": [],
      "source": [
        "def perplexity(lm, lines, min_logprob=np.log(10 ** -50.)):\n",
        "    \"\"\"\n",
        "    :param lines: a list of strings with space-separated tokens\n",
        "    :param min_logprob: if log(P(w | ...)) is smaller than min_logprop, set it equal to min_logrob\n",
        "    :returns: corpora-level perplexity - a single scalar number from the formula above\n",
        "\n",
        "    Note: do not forget to compute P(w_first | empty) and P(eos | full_sequence)\n",
        "\n",
        "    PLEASE USE lm.get_next_token_prob and NOT lm.get_possible_next_tokens\n",
        "    \"\"\"\n",
        "\n",
        "    log_perplexity = 0\n",
        "    N = 0\n",
        "    for line in lines:\n",
        "        tokens = line.split(' ')\n",
        "        tokens.append(EOS)\n",
        "        N += len(tokens)\n",
        "        prefix = []\n",
        "        for next_token in tokens:\n",
        "            log_perplexity += np.log(lm.get_next_token_prob(' '.join(prefix), next_token)) if np.log(lm.get_next_token_prob(' '.join(prefix), next_token)) >= min_logprob else min_logprob\n",
        "            prefix.append(next_token)\n",
        "    log_perplexity *= -1/N\n",
        "\n",
        "    return np.exp(log_perplexity)"
      ]
    },
    {
      "cell_type": "code",
      "execution_count": null,
      "metadata": {
        "colab": {
          "base_uri": "https://localhost:8080/"
        },
        "id": "ZVjB4_ItRaNA",
        "outputId": "d142a7b5-5610-4597-b8e6-6d4447750211"
      },
      "outputs": [
        {
          "name": "stdout",
          "output_type": "stream",
          "text": [
            "Perplexities: ppx1=318.213 ppx3=1.520 ppx10=1.184\n"
          ]
        },
        {
          "name": "stderr",
          "output_type": "stream",
          "text": [
            "<ipython-input-16-1ccfe08ddbc5>:20: RuntimeWarning: divide by zero encountered in log\n",
            "  log_perplexity += np.log(lm.get_next_token_prob(' '.join(prefix), next_token)) if np.log(lm.get_next_token_prob(' '.join(prefix), next_token)) >= min_logprob else min_logprob\n"
          ]
        }
      ],
      "source": [
        "lm1 = NGramLanguageModel(dummy_lines, n=1)\n",
        "lm3 = NGramLanguageModel(dummy_lines, n=3)\n",
        "lm10 = NGramLanguageModel(dummy_lines, n=10)\n",
        "\n",
        "ppx1 = perplexity(lm1, dummy_lines)\n",
        "ppx3 = perplexity(lm3, dummy_lines)\n",
        "ppx10 = perplexity(lm10, dummy_lines)\n",
        "ppx_missing = perplexity(lm3, ['the jabberwock , with eyes of flame , '])  # thanks, L. Carrol\n",
        "\n",
        "print(\"Perplexities: ppx1=%.3f ppx3=%.3f ppx10=%.3f\" % (ppx1, ppx3, ppx10))\n",
        "\n",
        "assert all(0 < ppx < 500 for ppx in (ppx1, ppx3, ppx10)), \"perplexity should be non-negative and reasonably small\"\n",
        "assert ppx1 > ppx3 > ppx10, \"higher N models should overfit and \"\n",
        "assert np.isfinite(ppx_missing) and ppx_missing > 10 ** 6, \"missing words should have large but finite perplexity. \" \\\n",
        "    \" Make sure you use min_logprob right\"\n",
        "assert np.allclose([ppx1, ppx3, ppx10], (318.2132342216302, 1.5199996213739575, 1.1838145037901249))"
      ]
    },
    {
      "cell_type": "markdown",
      "metadata": {
        "id": "bgezY4AtRaNA"
      },
      "source": [
        "Now let's measure the actual perplexity: we'll split the data into train and test and score model on test data only."
      ]
    },
    {
      "cell_type": "code",
      "execution_count": null,
      "metadata": {
        "colab": {
          "base_uri": "https://localhost:8080/"
        },
        "id": "30Wsr4ZZRaNA",
        "outputId": "eec081b7-af54-427c-f9b4-cee9b13f6c60"
      },
      "outputs": [
        {
          "name": "stderr",
          "output_type": "stream",
          "text": [
            "<ipython-input-16-1ccfe08ddbc5>:20: RuntimeWarning: divide by zero encountered in log\n",
            "  log_perplexity += np.log(lm.get_next_token_prob(' '.join(prefix), next_token)) if np.log(lm.get_next_token_prob(' '.join(prefix), next_token)) >= min_logprob else min_logprob\n"
          ]
        },
        {
          "name": "stdout",
          "output_type": "stream",
          "text": [
            "N = 1, Perplexity = 1832.23136\n",
            "N = 2, Perplexity = 85653987.28774\n",
            "N = 3, Perplexity = 61999196259042902147072.00000\n"
          ]
        }
      ],
      "source": [
        "from sklearn.model_selection import train_test_split\n",
        "train_lines, test_lines = train_test_split(lines, test_size=0.25, random_state=42)\n",
        "\n",
        "for n in (1, 2, 3):\n",
        "    lm = NGramLanguageModel(n=n, lines=train_lines)\n",
        "    ppx = perplexity(lm, test_lines)\n",
        "    print(\"N = %i, Perplexity = %.5f\" % (n, ppx))\n"
      ]
    },
    {
      "cell_type": "code",
      "execution_count": null,
      "metadata": {
        "id": "RgJ5ZDFqRaNA"
      },
      "outputs": [],
      "source": [
        "# whoops, it just blew up :)"
      ]
    },
    {
      "cell_type": "markdown",
      "metadata": {
        "id": "yaNGuwHLRaNA"
      },
      "source": [
        "### LM Smoothing\n",
        "\n",
        "The problem with our simple language model is that whenever it encounters an n-gram it has never seen before, it assigns it with the probabilitiy of 0. Every time this happens, perplexity explodes.\n",
        "\n",
        "To battle this issue, there's a technique called __smoothing__. The core idea is to modify counts in a way that prevents probabilities from getting too low. The simplest algorithm here is Additive smoothing (aka [Lapace smoothing](https://en.wikipedia.org/wiki/Additive_smoothing)):\n",
        "\n",
        "$$ P(w_t | prefix) = { Count(prefix, w_t) + \\delta \\over \\sum_{\\hat w} (Count(prefix, \\hat w) + \\delta) } $$\n",
        "\n",
        "If counts for a given prefix are low, additive smoothing will adjust probabilities to a more uniform distribution. Not that the summation in the denominator goes over _all words in the vocabulary_.\n",
        "\n",
        "Here's an example code we've implemented for you:"
      ]
    },
    {
      "cell_type": "code",
      "execution_count": null,
      "metadata": {
        "id": "HCyfgQ9dRaNA"
      },
      "outputs": [],
      "source": [
        "class LaplaceLanguageModel(NGramLanguageModel):\n",
        "    \"\"\" this code is an example, no need to change anything \"\"\"\n",
        "    def __init__(self, lines, n, delta=1.0):\n",
        "        self.n = n\n",
        "        counts = count_ngrams(lines, self.n)\n",
        "        self.vocab = set(token for token_counts in counts.values() for token in token_counts)\n",
        "        self.probs = defaultdict(Counter)\n",
        "\n",
        "        for prefix in counts:\n",
        "            token_counts = counts[prefix]\n",
        "            total_count = sum(token_counts.values()) + delta * len(self.vocab)\n",
        "            self.probs[prefix] = {token: (token_counts[token] + delta) / total_count\n",
        "                                          for token in token_counts}\n",
        "    def get_possible_next_tokens(self, prefix):\n",
        "        token_probs = super().get_possible_next_tokens(prefix)\n",
        "        missing_prob_total = 1.0 - sum(token_probs.values())\n",
        "        missing_prob = missing_prob_total / max(1, len(self.vocab) - len(token_probs))\n",
        "        return {token: token_probs.get(token, missing_prob) for token in self.vocab}\n",
        "\n",
        "    def get_next_token_prob(self, prefix, next_token):\n",
        "        token_probs = super().get_possible_next_tokens(prefix)\n",
        "        if next_token in token_probs:\n",
        "            return token_probs[next_token]\n",
        "        else:\n",
        "            missing_prob_total = 1.0 - sum(token_probs.values())\n",
        "            missing_prob_total = max(0, missing_prob_total) # prevent rounding errors\n",
        "            return missing_prob_total / max(1, len(self.vocab) - len(token_probs))\n"
      ]
    },
    {
      "cell_type": "markdown",
      "metadata": {
        "id": "5lSB7PhrRaNA"
      },
      "source": [
        "**Disclaimer**: the implementation above assumes all words unknown within a given context to be equally likely, *as well as the words outside of vocabulary*. Therefore, its' perplexity will be lower than it should when encountering such words. Therefore, comparing it with a model with fewer unknown words will not be fair. When implementing your own smoothing, you may handle this by adding a virtual `UNK` token of non-zero probability. Technically, this will result in a model where probabilities do not add up to $1$, but it is close enough for a practice excercise."
      ]
    },
    {
      "cell_type": "code",
      "execution_count": null,
      "metadata": {
        "id": "w451G7UBRaNA"
      },
      "outputs": [],
      "source": [
        "#test that it's a valid probability model\n",
        "for n in (1, 2, 3):\n",
        "    dummy_lm = LaplaceLanguageModel(dummy_lines, n=n)\n",
        "    assert np.allclose(sum([dummy_lm.get_next_token_prob('a', w_i) for w_i in dummy_lm.vocab]), 1), \"I told you not to break anything! :)\""
      ]
    },
    {
      "cell_type": "code",
      "execution_count": null,
      "metadata": {
        "colab": {
          "base_uri": "https://localhost:8080/"
        },
        "id": "Clu3B76yRaNA",
        "outputId": "b782a463-029f-4d19-91ed-293effc61c46"
      },
      "outputs": [
        {
          "name": "stdout",
          "output_type": "stream",
          "text": [
            "N = 1, Perplexity = 977.67559\n",
            "N = 2, Perplexity = 470.48021\n",
            "N = 3, Perplexity = 3679.44765\n"
          ]
        }
      ],
      "source": [
        "for n in (1, 2, 3):\n",
        "    lm = LaplaceLanguageModel(train_lines, n=n, delta=0.1)\n",
        "    ppx = perplexity(lm, test_lines)\n",
        "    print(\"N = %i, Perplexity = %.5f\" % (n, ppx))"
      ]
    },
    {
      "cell_type": "code",
      "execution_count": null,
      "metadata": {
        "id": "JlApDboCRaNB"
      },
      "outputs": [],
      "source": [
        "# optional: try to sample tokens from such a model"
      ]
    },
    {
      "cell_type": "markdown",
      "metadata": {
        "id": "PpTrAeT8RaNB"
      },
      "source": [
        "### Kneser-Ney smoothing (2 points)\n",
        "\n",
        "Additive smoothing is simple, reasonably good but definitely not a State of The Art algorithm.\n",
        "\n",
        "\n",
        "Your final task in this notebook is to implement [Kneser-Ney](https://en.wikipedia.org/wiki/Kneser%E2%80%93Ney_smoothing) smoothing.\n",
        "\n",
        "It can be computed recurrently, for n>1:\n",
        "\n",
        "$$P_{kn}(w_t | prefix_{n-1}) = { \\max(0, Count(prefix_{n-1}, w_t) - \\delta) \\over \\sum_{\\hat w} Count(prefix_{n-1}, \\hat w)} + \\lambda_{prefix_{n-1}} \\cdot P_{kn}(w_t | prefix_{n-2})$$\n",
        "\n",
        "where\n",
        "- $prefix_{n-1}$ is a tuple of {n-1} previous tokens\n",
        "- $lambda_{prefix_{n-1}}$ is a normalization constant chosen so that probabilities add up to 1\n",
        "- Unigram $P_{kn}(w_t | prefix_{n-2})$ corresponds to Kneser Ney smoothing for {N-1}-gram language model.\n",
        "- Unigram $P_{kn}(w_t)$ is a special case: how likely it is to see x_t in an unfamiliar context\n",
        "\n",
        "See lecture slides or wiki for more detailed formulae.\n",
        "\n",
        "__Your task__ is to\n",
        "- implement `KneserNeyLanguageModel` class,\n",
        "- test it on 1-3 gram language models\n",
        "- find optimal (within reason) smoothing delta for 3-gram language model with Kneser-Ney smoothing"
      ]
    },
    {
      "cell_type": "code",
      "execution_count": null,
      "metadata": {
        "id": "yw9sgphPRaNB"
      },
      "outputs": [],
      "source": [
        "class KneserNeyLanguageModel(NGramLanguageModel):\n",
        "    \"\"\" A template for Kneser-Ney language model. Default delta may be suboptimal. \"\"\"\n",
        "    def __init__(self, lines, n, delta=1.0):\n",
        "        self.n = n\n",
        "\n",
        "        counts_prev = count_ngrams(lines, 1)\n",
        "        self.probs_prev = defaultdict(Counter)\n",
        "\n",
        "        for prefix in counts_prev.keys():\n",
        "            count_sum = sum(counts_prev[prefix].values())\n",
        "            for next_token in counts_prev[prefix].keys():\n",
        "                self.probs_prev[prefix][next_token] = counts_prev[prefix][next_token] / count_sum\n",
        "\n",
        "        self.probs_cur = defaultdict(Counter)\n",
        "        for cur_n in range(2, n + 1):\n",
        "            counts_cur = count_ngrams(lines, cur_n)\n",
        "\n",
        "            for prefix in counts_cur.keys():\n",
        "                count_sum = sum(counts_cur[prefix].values())\n",
        "                for next_token in counts_cur[prefix].keys():\n",
        "                    self.probs_cur[prefix][next_token] = max(0, counts_cur[prefix][next_token] - delta) + delta * len(counts_cur[prefix].keys()) * self.probs_prev[prefix[1:]][next_token]\n",
        "                    self.probs_cur[prefix][next_token] /= count_sum\n",
        "\n",
        "            self.probs_prev = self.probs_cur\n",
        "            counts_prev = counts_cur\n",
        "\n",
        "        self.vocab = set(token for token_counts in counts_prev.values() for token in token_counts)\n",
        "        self.probs = self.probs_prev\n",
        "\n",
        "    def get_possible_next_tokens(self, prefix):\n",
        "        token_probs = super().get_possible_next_tokens(prefix)\n",
        "        missing_prob_total = 1.0 - sum(token_probs.values())\n",
        "        missing_prob = missing_prob_total / max(1, len(self.vocab) - len(token_probs))\n",
        "        return {token: token_probs.get(token, missing_prob) for token in self.vocab}\n",
        "\n",
        "    def get_next_token_prob(self, prefix, next_token):\n",
        "        token_probs = super().get_possible_next_tokens(prefix)\n",
        "        if next_token in token_probs:\n",
        "            return token_probs[next_token]\n",
        "        else:\n",
        "            missing_prob_total = 1.0 - sum(token_probs.values())\n",
        "            missing_prob_total = max(0, missing_prob_total) # prevent rounding errors\n",
        "            return missing_prob_total / max(1, len(self.vocab) - len(token_probs))"
      ]
    },
    {
      "cell_type": "code",
      "execution_count": null,
      "metadata": {
        "id": "AbtcgUhkRaNB"
      },
      "outputs": [],
      "source": [
        "#test that it's a valid probability model\n",
        "for n in (1, 2, 3):\n",
        "    dummy_lm = KneserNeyLanguageModel(dummy_lines, n=n)\n",
        "    assert np.allclose(sum([dummy_lm.get_next_token_prob('a', w_i) for w_i in dummy_lm.vocab]), 1), \"I told you not to break anything! :)\""
      ]
    },
    {
      "cell_type": "code",
      "execution_count": null,
      "metadata": {
        "colab": {
          "background_save": true,
          "base_uri": "https://localhost:8080/"
        },
        "id": "Q9sQWRWBOn7q",
        "outputId": "0cf05776-a078-4909-e752-f2e002b7b49d"
      },
      "outputs": [
        {
          "name": "stderr",
          "output_type": "stream",
          "text": [
            "<ipython-input-16-1ccfe08ddbc5>:20: RuntimeWarning: divide by zero encountered in log\n",
            "  log_perplexity += np.log(lm.get_next_token_prob(' '.join(prefix), next_token)) if np.log(lm.get_next_token_prob(' '.join(prefix), next_token)) >= min_logprob else min_logprob\n"
          ]
        },
        {
          "name": "stdout",
          "output_type": "stream",
          "text": [
            "N = 1, delta = 0.10, Perplexity = 1832.23136\n",
            "N = 2, delta = 0.10, Perplexity = 304.73636\n",
            "N = 3, delta = 0.10, Perplexity = 1665.17792\n",
            "N = 1, delta = 0.50, Perplexity = 1832.23136\n",
            "N = 2, delta = 0.50, Perplexity = 257.66393\n",
            "N = 3, delta = 0.50, Perplexity = 1018.18449\n",
            "N = 1, delta = 0.90, Perplexity = 1832.23136\n",
            "N = 2, delta = 0.90, Perplexity = 253.26280\n",
            "N = 3, delta = 0.90, Perplexity = 902.38531\n"
          ]
        }
      ],
      "source": [
        "for delta in (0.1, 0.5, 0.9):\n",
        "    for n in (1, 2, 3):\n",
        "        lm = KneserNeyLanguageModel(train_lines, n=n, delta=delta)\n",
        "        ppx = perplexity(lm, test_lines)\n",
        "        print(\"N = %i, delta = %.2f, Perplexity = %.5f\" % (n, delta, ppx))"
      ]
    },
    {
      "cell_type": "markdown",
      "source": [
        "Никаких рекомендаций к реализации get_next_token_prob не было, поэтому в одном варианте оставил также как в Лапласе, но кажется мы можем использовать статистики по меньшим n-граммам которые мы считали. Т.е. если на заданном префиксе и следующем токене вероятность ноль, то рассмотреть меньший префикс и с ним вероятность следующего токена, но с какми-то весом. Я не знал какой вес взять и взял тот, что в формуле для Кнезера"
      ],
      "metadata": {
        "id": "nA9PUFQXV3Zs"
      }
    },
    {
      "cell_type": "code",
      "execution_count": null,
      "metadata": {
        "id": "jKgqsbCUdTfR"
      },
      "outputs": [],
      "source": [
        "import functools\n",
        "\n",
        "\n",
        "class KneserNeyLanguageModelModified(NGramLanguageModel):\n",
        "    \"\"\" A template for Kneser-Ney language model. Default delta may be suboptimal. \"\"\"\n",
        "    def __init__(self, lines, n, delta=1.0):\n",
        "        self.n = n\n",
        "\n",
        "        counts_prev = count_ngrams(lines, 1)\n",
        "        self.probs_prev = defaultdict(Counter)\n",
        "        self.probs_list = [self.probs_prev]\n",
        "        self.counts_list = [counts_prev]\n",
        "        self.delta = delta\n",
        "\n",
        "        for prefix in counts_prev.keys():\n",
        "            count_sum = sum(counts_prev[prefix].values())\n",
        "            for next_token in counts_prev[prefix].keys():\n",
        "                self.probs_prev[prefix][next_token] = counts_prev[prefix][next_token] / count_sum\n",
        "\n",
        "        self.probs_cur = defaultdict(Counter)\n",
        "        for cur_n in range(2, n + 1):\n",
        "            counts_cur = count_ngrams(lines, cur_n)\n",
        "\n",
        "            for prefix in counts_cur.keys():\n",
        "                count_sum = sum(counts_cur[prefix].values())\n",
        "                for next_token in counts_cur[prefix].keys():\n",
        "                    self.probs_cur[prefix][next_token] = max(0, counts_cur[prefix][next_token] - delta) + delta * len(counts_cur[prefix].keys()) * self.probs_prev[prefix[1:]][next_token]\n",
        "                    self.probs_cur[prefix][next_token] /= count_sum\n",
        "\n",
        "            self.probs_prev = self.probs_cur\n",
        "            counts_prev = counts_cur\n",
        "            self.counts_list.append(counts_prev)\n",
        "            self.probs_list.append(self.probs_prev)\n",
        "\n",
        "        self.vocab = set(token for token_counts in counts_prev.values() for token in token_counts)\n",
        "        self.probs = self.probs_prev\n",
        "        self.probs_list.reverse()\n",
        "        self.counts_list.reverse()\n",
        "\n",
        "    def get_possible_next_tokens(self, prefix):\n",
        "        token_probs = super().get_possible_next_tokens(prefix)\n",
        "        missing_prob_total = 1.0 - sum(token_probs.values())\n",
        "        missing_prob = missing_prob_total / max(1, len(self.vocab) - len(token_probs))\n",
        "        return {token: token_probs.get(token, missing_prob) for token in self.vocab}\n",
        "\n",
        "\n",
        "    @functools.lru_cache(100000)\n",
        "    def get_next_token_prob(self, prefix, next_token):\n",
        "        prefix = prefix.split()\n",
        "        prefix = prefix[max(0, len(prefix) - self.n + 1):]\n",
        "        prefix = [ UNK ] * (self.n - 1 - len(prefix)) + prefix\n",
        "\n",
        "        token_probs = self.probs[tuple(prefix)]\n",
        "        missing_prob_total = 1.0 - sum(token_probs.values())\n",
        "        if token_probs[next_token] > 0:\n",
        "            return max(0, token_probs[next_token])\n",
        "\n",
        "        set_tokens = set(token_probs)\n",
        "        lamb = 1\n",
        "        cur_prefix = prefix\n",
        "        for i in range(1, self.n):\n",
        "            counts_cur = self.counts_list[i - 1][tuple(cur_prefix)]\n",
        "            if np.allclose(sum(counts_cur.values()), 0):\n",
        "                continue\n",
        "            lamb *= self.delta * len(counts_cur.keys()) / sum(counts_cur.values())\n",
        "            cur_prefix = prefix[i:]\n",
        "\n",
        "            token_probs = self.probs_list[i][tuple(cur_prefix)]\n",
        "            next_token_prob = lamb * token_probs[next_token]\n",
        "\n",
        "            if next_token_prob > 0:\n",
        "                return max(0, next_token_prob)\n",
        "\n",
        "            set_tokens.add(tuple(token_probs))\n",
        "            missing_prob_total -= lamb * sum(token_probs.values())\n",
        "\n",
        "        return missing_prob_total / max(1, len(self.vocab) - len(set_tokens))"
      ]
    },
    {
      "cell_type": "code",
      "execution_count": null,
      "metadata": {
        "collapsed": true,
        "id": "U5zbqaG3PCzL"
      },
      "outputs": [],
      "source": [
        "#test that it's a valid probability model\n",
        "for n in (1, 2, 3):\n",
        "    dummy_lm = KneserNeyLanguageModelModified(dummy_lines, n=n)\n",
        "    assert np.allclose(sum([dummy_lm.get_next_token_prob('a', w_i) for w_i in dummy_lm.vocab]), 1), \"I told you not to break anything! :)\""
      ]
    },
    {
      "cell_type": "code",
      "execution_count": null,
      "metadata": {
        "colab": {
          "base_uri": "https://localhost:8080/"
        },
        "id": "UjeSItqqPGrL",
        "outputId": "08ed547d-56b9-44d4-d4ab-b9e50a946dc1"
      },
      "outputs": [
        {
          "name": "stderr",
          "output_type": "stream",
          "text": [
            "<ipython-input-16-1ccfe08ddbc5>:20: RuntimeWarning: invalid value encountered in log\n",
            "  log_perplexity += np.log(lm.get_next_token_prob(' '.join(prefix), next_token)) if np.log(lm.get_next_token_prob(' '.join(prefix), next_token)) >= min_logprob else min_logprob\n"
          ]
        },
        {
          "name": "stdout",
          "output_type": "stream",
          "text": [
            "N = 1, delta = 0.10, Perplexity = 1832.23136\n",
            "N = 2, delta = 0.10, Perplexity = 488.80910\n",
            "N = 3, delta = 0.10, Perplexity = 1069.73835\n",
            "N = 1, delta = 0.50, Perplexity = 1832.23136\n",
            "N = 2, delta = 0.50, Perplexity = 418.04132\n",
            "N = 3, delta = 0.50, Perplexity = 591.92389\n",
            "N = 1, delta = 0.90, Perplexity = 1832.23136\n",
            "N = 2, delta = 0.90, Perplexity = 412.61499\n",
            "N = 3, delta = 0.90, Perplexity = 519.20401\n"
          ]
        }
      ],
      "source": [
        "for delta in (0.1, 0.5, 0.9):\n",
        "    for n in (1, 2, 3):\n",
        "        lm = KneserNeyLanguageModelModified(train_lines, n=n, delta=delta)\n",
        "        ppx = perplexity(lm, test_lines)\n",
        "        print(\"N = %i, delta = %.2f, Perplexity = %.5f\" % (n, delta, ppx))"
      ]
    },
    {
      "cell_type": "code",
      "execution_count": null,
      "metadata": {
        "id": "BXaW0sYBUz90"
      },
      "outputs": [],
      "source": []
    }
  ],
  "metadata": {
    "colab": {
      "provenance": []
    },
    "kernelspec": {
      "display_name": "Python 3",
      "name": "python3"
    },
    "language_info": {
      "codemirror_mode": {
        "name": "ipython",
        "version": 3
      },
      "file_extension": ".py",
      "mimetype": "text/x-python",
      "name": "python",
      "nbconvert_exporter": "python",
      "pygments_lexer": "ipython3",
      "version": "3.11.0"
    },
    "notebookId": "53997d2d-afb8-4477-8874-b6d46299f06c",
    "notebookPath": "seminar.ipynb"
  },
  "nbformat": 4,
  "nbformat_minor": 0
}