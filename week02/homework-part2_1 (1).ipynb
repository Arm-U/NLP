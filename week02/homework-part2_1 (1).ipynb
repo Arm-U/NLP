{
 "cells": [
  {
   "cell_type": "markdown",
   "metadata": {
    "id": "MtOwwxoqR-i5",
    "jp-MarkdownHeadingCollapsed": true,
    "tags": []
   },
   "source": [
    "### Salary prediction, episode II: make it actually work (4 points)\n",
    "\n",
    "Your main task is to use some of the tricks you've learned on the network and analyze if you can improve __validation MAE__. Try __at least 3 options__ from the list below for a passing grade. Write a short report about what you have tried. More ideas = more bonus points.\n",
    "\n",
    "__Please be serious:__ \" plot learning curves in MAE/epoch, compare models based on optimal performance, test one change at a time. You know the drill :)\n",
    "\n",
    "You can use either __pytorch__ or __tensorflow__ or any other framework (e.g. pure __keras__). Feel free to adapt the seminar code for your needs. For tensorflow version, consider `seminar_tf2.ipynb` as a starting point.\n"
   ]
  },
  {
   "cell_type": "code",
   "execution_count": 1,
   "metadata": {
    "execution": {
     "iopub.execute_input": "2024-10-02T13:22:48.238380Z",
     "iopub.status.busy": "2024-10-02T13:22:48.237467Z",
     "iopub.status.idle": "2024-10-02T13:22:48.273602Z",
     "shell.execute_reply": "2024-10-02T13:22:48.272829Z",
     "shell.execute_reply.started": "2024-10-02T13:22:48.238335Z"
    },
    "id": "Q9lvrtiWR-i9",
    "tags": []
   },
   "outputs": [],
   "source": [
    "import numpy as np\n",
    "import pandas as pd\n",
    "import matplotlib.pyplot as plt\n",
    "%matplotlib inline"
   ]
  },
  {
   "cell_type": "code",
   "execution_count": 2,
   "metadata": {
    "execution": {
     "iopub.execute_input": "2024-10-02T13:29:06.464084Z",
     "iopub.status.busy": "2024-10-02T13:29:06.462852Z",
     "iopub.status.idle": "2024-10-02T13:29:34.407392Z",
     "shell.execute_reply": "2024-10-02T13:29:34.406545Z",
     "shell.execute_reply.started": "2024-10-02T13:29:06.464039Z"
    },
    "id": "FBmesBDBWidP",
    "outputId": "fe7cfb85-2818-4de6-ff71-2c2c6df24273",
    "tags": []
   },
   "outputs": [
    {
     "data": {
      "text/plain": [
       "(244768, 12)"
      ]
     },
     "execution_count": 2,
     "metadata": {},
     "output_type": "execute_result"
    }
   ],
   "source": [
    "data = pd.read_csv(\"Train_rev1.csv\", index_col=None)\n",
    "data.shape"
   ]
  },
  {
   "cell_type": "code",
   "execution_count": 3,
   "metadata": {
    "execution": {
     "iopub.execute_input": "2024-10-02T13:29:34.410141Z",
     "iopub.status.busy": "2024-10-02T13:29:34.408691Z",
     "iopub.status.idle": "2024-10-02T13:29:34.783602Z",
     "shell.execute_reply": "2024-10-02T13:29:34.782757Z",
     "shell.execute_reply.started": "2024-10-02T13:29:34.410102Z"
    },
    "id": "UUTP8YF9Wotc",
    "outputId": "a7c5a995-04df-45b1-b305-cb0fb6bcbc9d",
    "tags": []
   },
   "outputs": [
    {
     "data": {
      "image/png": "[encoded data removed]",
      "text/plain": [
       "<Figure size 800x400 with 2 Axes>"
      ]
     },
     "metadata": {},
     "output_type": "display_data"
    }
   ],
   "source": [
    "data['Log1pSalary'] = np.log1p(data['SalaryNormalized']).astype('float32')\n",
    "\n",
    "plt.figure(figsize=[8, 4])\n",
    "plt.subplot(1, 2, 1)\n",
    "plt.hist(data[\"SalaryNormalized\"], bins=20);\n",
    "\n",
    "plt.subplot(1, 2, 2)\n",
    "plt.hist(data['Log1pSalary'], bins=20);"
   ]
  },
  {
   "cell_type": "code",
   "execution_count": 4,
   "metadata": {
    "execution": {
     "iopub.execute_input": "2024-10-02T13:29:34.785910Z",
     "iopub.status.busy": "2024-10-02T13:29:34.784877Z",
     "iopub.status.idle": "2024-10-02T13:29:35.102731Z",
     "shell.execute_reply": "2024-10-02T13:29:35.101869Z",
     "shell.execute_reply.started": "2024-10-02T13:29:34.785849Z"
    },
    "id": "Kf-N_ir2WsFF",
    "outputId": "9c75e9fd-5b3c-4b18-d014-c5e8e65ce1bf",
    "tags": []
   },
   "outputs": [
    {
     "data": {
      "text/html": [
       "<div>\n",
       "<style scoped>\n",
       "    .dataframe tbody tr th:only-of-type {\n",
       "        vertical-align: middle;\n",
       "    }\n",
       "\n",
       "    .dataframe tbody tr th {\n",
       "        vertical-align: top;\n",
       "    }\n",
       "\n",
       "    .dataframe thead th {\n",
       "        text-align: right;\n",
       "    }\n",
       "</style>\n",
       "<table border=\"1\" class=\"dataframe\">\n",
       "  <thead>\n",
       "    <tr style=\"text-align: right;\">\n",
       "      <th></th>\n",
       "      <th>Id</th>\n",
       "      <th>Title</th>\n",
       "      <th>FullDescription</th>\n",
       "      <th>LocationRaw</th>\n",
       "      <th>LocationNormalized</th>\n",
       "      <th>ContractType</th>\n",
       "      <th>ContractTime</th>\n",
       "      <th>Company</th>\n",
       "      <th>Category</th>\n",
       "      <th>SalaryRaw</th>\n",
       "      <th>SalaryNormalized</th>\n",
       "      <th>SourceName</th>\n",
       "      <th>Log1pSalary</th>\n",
       "    </tr>\n",
       "  </thead>\n",
       "  <tbody>\n",
       "    <tr>\n",
       "      <th>59193</th>\n",
       "      <td>68690240</td>\n",
       "      <td>Learning Development Manager  6 month contract...</td>\n",
       "      <td>Learning Development Manager  6 month contract...</td>\n",
       "      <td>London South East</td>\n",
       "      <td>South East London</td>\n",
       "      <td>NaN</td>\n",
       "      <td>contract</td>\n",
       "      <td>Hamilton Mayday</td>\n",
       "      <td>HR &amp; Recruitment Jobs</td>\n",
       "      <td>17 - 20 per hour</td>\n",
       "      <td>35520</td>\n",
       "      <td>totaljobs.com</td>\n",
       "      <td>10.477880</td>\n",
       "    </tr>\n",
       "    <tr>\n",
       "      <th>173429</th>\n",
       "      <td>71430578</td>\n",
       "      <td>Site Manager</td>\n",
       "      <td>My client are looking for a Contract Site Mana...</td>\n",
       "      <td>Rainham, Essex Essex South East</td>\n",
       "      <td>UK</td>\n",
       "      <td>NaN</td>\n",
       "      <td>permanent</td>\n",
       "      <td>Engineering Services Bureau Ltd</td>\n",
       "      <td>Other/General Jobs</td>\n",
       "      <td>From 250 to 320 per day fully inclusive</td>\n",
       "      <td>68400</td>\n",
       "      <td>totaljobs.com</td>\n",
       "      <td>11.133142</td>\n",
       "    </tr>\n",
       "    <tr>\n",
       "      <th>154739</th>\n",
       "      <td>71016793</td>\n",
       "      <td>Legal Secretary/Personal Assistant (PA)  Litig...</td>\n",
       "      <td>Career Legal – Specialists in Legal Secretaria...</td>\n",
       "      <td>London</td>\n",
       "      <td>London</td>\n",
       "      <td>full_time</td>\n",
       "      <td>permanent</td>\n",
       "      <td>Career Legal Sec Perm</td>\n",
       "      <td>Legal Jobs</td>\n",
       "      <td>From 34,000 to 36,000 per year</td>\n",
       "      <td>35000</td>\n",
       "      <td>TotallyLegal</td>\n",
       "      <td>10.463132</td>\n",
       "    </tr>\n",
       "  </tbody>\n",
       "</table>\n",
       "</div>"
      ],
      "text/plain": [
       "              Id  ... Log1pSalary\n",
       "59193   68690240  ...   10.477880\n",
       "173429  71430578  ...   11.133142\n",
       "154739  71016793  ...   10.463132\n",
       "\n",
       "[3 rows x 13 columns]"
      ]
     },
     "execution_count": 4,
     "metadata": {},
     "output_type": "execute_result"
    }
   ],
   "source": [
    "text_columns = [\"Title\", \"FullDescription\"]\n",
    "categorical_columns = [\"Category\", \"Company\", \"LocationNormalized\", \"ContractType\", \"ContractTime\"]\n",
    "TARGET_COLUMN = \"Log1pSalary\"\n",
    "\n",
    "data[categorical_columns] = data[categorical_columns].fillna('NaN') # cast missing values to string \"NaN\"\n",
    "\n",
    "data.sample(3)"
   ]
  },
  {
   "cell_type": "code",
   "execution_count": 5,
   "metadata": {
    "execution": {
     "iopub.execute_input": "2024-10-02T13:29:35.105344Z",
     "iopub.status.busy": "2024-10-02T13:29:35.104799Z",
     "iopub.status.idle": "2024-10-02T13:29:57.135176Z",
     "shell.execute_reply": "2024-10-02T13:29:57.134364Z",
     "shell.execute_reply.started": "2024-10-02T13:29:35.105307Z"
    },
    "id": "x2wIAMU8WulC",
    "tags": []
   },
   "outputs": [],
   "source": [
    "import nltk\n",
    "\n",
    "data[\"Title\"].fillna(\"\")\n",
    "data[\"FullDescription\"].fillna(\"\")\n",
    "\n",
    "tokenizer = nltk.tokenize.WordPunctTokenizer()\n",
    "\n",
    "data[\"FullDescription\"] = data[\"FullDescription\"].apply(lambda x: ' '.join(tokenizer.tokenize(str(x).lower())))\n",
    "data[\"Title\"] = data[\"Title\"].apply(lambda x: ' '.join(tokenizer.tokenize(str(x).lower())))"
   ]
  },
  {
   "cell_type": "code",
   "execution_count": 6,
   "metadata": {
    "execution": {
     "iopub.execute_input": "2024-10-02T13:29:57.137979Z",
     "iopub.status.busy": "2024-10-02T13:29:57.136313Z",
     "iopub.status.idle": "2024-10-02T13:30:06.754767Z",
     "shell.execute_reply": "2024-10-02T13:30:06.753939Z",
     "shell.execute_reply.started": "2024-10-02T13:29:57.137937Z"
    },
    "id": "mlEOf-WbW0zY",
    "tags": []
   },
   "outputs": [],
   "source": [
    "from collections import Counter\n",
    "token_counts = Counter()\n",
    "\n",
    "# Count how many times does each token occur in both \"Title\" and \"FullDescription\" in total\n",
    "for line in data[\"Title\"].values:\n",
    "    token_counts.update(line.split(' '))\n",
    "\n",
    "for line in data[\"FullDescription\"].values:\n",
    "    token_counts.update(line.split(' '))"
   ]
  },
  {
   "cell_type": "code",
   "execution_count": 7,
   "metadata": {
    "execution": {
     "iopub.execute_input": "2024-10-02T13:30:06.756511Z",
     "iopub.status.busy": "2024-10-02T13:30:06.755889Z",
     "iopub.status.idle": "2024-10-02T13:30:07.825205Z",
     "shell.execute_reply": "2024-10-02T13:30:07.824170Z",
     "shell.execute_reply.started": "2024-10-02T13:30:06.756475Z"
    },
    "id": "58Br6QMWW6rY",
    "outputId": "c2ad276b-ea68-4af9-c87a-4d6141a0f2da",
    "tags": []
   },
   "outputs": [
    {
     "data": {
      "image/png": "[encoded data removed]",
      "text/plain": [
       "<Figure size 640x480 with 1 Axes>"
      ]
     },
     "metadata": {},
     "output_type": "display_data"
    }
   ],
   "source": [
    "# Let's see how many words are there for each count\n",
    "plt.hist(list(token_counts.values()), range=[0, 10**4], bins=50, log=True)\n",
    "plt.xlabel(\"Word counts\");"
   ]
  },
  {
   "cell_type": "code",
   "execution_count": 8,
   "metadata": {
    "execution": {
     "iopub.execute_input": "2024-10-02T13:30:07.831971Z",
     "iopub.status.busy": "2024-10-02T13:30:07.826397Z",
     "iopub.status.idle": "2024-10-02T13:30:07.883061Z",
     "shell.execute_reply": "2024-10-02T13:30:07.882279Z",
     "shell.execute_reply.started": "2024-10-02T13:30:07.831918Z"
    },
    "id": "TvDYR-aFW86S",
    "tags": []
   },
   "outputs": [],
   "source": [
    "min_count = 10\n",
    "\n",
    "# tokens from token_counts keys that had at least min_count occurrences throughout the dataset\n",
    "tokens = sorted(t for t, c in token_counts.items() if c >= min_count)#TODO<YOUR CODE HERE>\n",
    "\n",
    "# Add a special tokens for unknown and empty words\n",
    "UNK, PAD = \"UNK\", \"PAD\"\n",
    "tokens = [UNK, PAD] + tokens"
   ]
  },
  {
   "cell_type": "code",
   "execution_count": 9,
   "metadata": {
    "execution": {
     "iopub.execute_input": "2024-10-02T13:30:07.884388Z",
     "iopub.status.busy": "2024-10-02T13:30:07.883981Z",
     "iopub.status.idle": "2024-10-02T13:30:07.919966Z",
     "shell.execute_reply": "2024-10-02T13:30:07.919121Z",
     "shell.execute_reply.started": "2024-10-02T13:30:07.884353Z"
    },
    "id": "Z1AYqUeLW_CI",
    "outputId": "4ac93723-bb67-430f-cadb-61ecb780b9b0",
    "tags": []
   },
   "outputs": [
    {
     "name": "stdout",
     "output_type": "stream",
     "text": [
      "Vocabulary size: 34158\n",
      "Correct!\n"
     ]
    }
   ],
   "source": [
    "print(\"Vocabulary size:\", len(tokens))\n",
    "assert type(tokens) == list\n",
    "assert len(tokens) in range(32000, 35000)\n",
    "assert 'me' in tokens\n",
    "assert UNK in tokens\n",
    "print(\"Correct!\")"
   ]
  },
  {
   "cell_type": "code",
   "execution_count": 10,
   "metadata": {
    "execution": {
     "iopub.execute_input": "2024-10-02T13:30:07.922781Z",
     "iopub.status.busy": "2024-10-02T13:30:07.922020Z",
     "iopub.status.idle": "2024-10-02T13:30:07.956269Z",
     "shell.execute_reply": "2024-10-02T13:30:07.955468Z",
     "shell.execute_reply.started": "2024-10-02T13:30:07.922742Z"
    },
    "id": "EEsvIsXrXBlP",
    "tags": []
   },
   "outputs": [],
   "source": [
    "token_to_id = {token: index for index, token in enumerate(tokens)}"
   ]
  },
  {
   "cell_type": "code",
   "execution_count": 11,
   "metadata": {
    "execution": {
     "iopub.execute_input": "2024-10-02T13:30:07.960799Z",
     "iopub.status.busy": "2024-10-02T13:30:07.959923Z",
     "iopub.status.idle": "2024-10-02T13:30:07.996518Z",
     "shell.execute_reply": "2024-10-02T13:30:07.995736Z",
     "shell.execute_reply.started": "2024-10-02T13:30:07.960745Z"
    },
    "id": "QCY2moMMXjve",
    "tags": []
   },
   "outputs": [],
   "source": [
    "UNK_IX, PAD_IX = map(token_to_id.get, [UNK, PAD])\n",
    "\n",
    "def as_matrix(sequences, max_len=None):\n",
    "    \"\"\" Convert a list of tokens into a matrix with padding \"\"\"\n",
    "    if isinstance(sequences[0], str):\n",
    "        sequences = list(map(str.split, sequences))\n",
    "\n",
    "    max_len = min(max(map(len, sequences)), max_len or float('inf'))\n",
    "\n",
    "    matrix = np.full((len(sequences), max_len), np.int32(PAD_IX))\n",
    "    for i,seq in enumerate(sequences):\n",
    "        row_ix = [token_to_id.get(word, UNK_IX) for word in seq[:max_len]]\n",
    "        matrix[i, :len(row_ix)] = row_ix\n",
    "\n",
    "    return matrix"
   ]
  },
  {
   "cell_type": "code",
   "execution_count": 12,
   "metadata": {
    "execution": {
     "iopub.execute_input": "2024-10-02T13:30:07.998837Z",
     "iopub.status.busy": "2024-10-02T13:30:07.997940Z",
     "iopub.status.idle": "2024-10-02T13:30:12.200455Z",
     "shell.execute_reply": "2024-10-02T13:30:12.199722Z",
     "shell.execute_reply.started": "2024-10-02T13:30:07.998795Z"
    },
    "id": "d6kKDhH7XnER",
    "outputId": "7bd4ff1f-749b-4007-de3c-383d945c240a",
    "tags": []
   },
   "outputs": [
    {
     "data": {
      "text/html": [
       "<style>#sk-container-id-1 {color: black;background-color: white;}#sk-container-id-1 pre{padding: 0;}#sk-container-id-1 div.sk-toggleable {background-color: white;}#sk-container-id-1 label.sk-toggleable__label {cursor: pointer;display: block;width: 100%;margin-bottom: 0;padding: 0.3em;box-sizing: border-box;text-align: center;}#sk-container-id-1 label.sk-toggleable__label-arrow:before {content: \"▸\";float: left;margin-right: 0.25em;color: #696969;}#sk-container-id-1 label.sk-toggleable__label-arrow:hover:before {color: black;}#sk-container-id-1 div.sk-estimator:hover label.sk-toggleable__label-arrow:before {color: black;}#sk-container-id-1 div.sk-toggleable__content {max-height: 0;max-width: 0;overflow: hidden;text-align: left;background-color: #f0f8ff;}#sk-container-id-1 div.sk-toggleable__content pre {margin: 0.2em;color: black;border-radius: 0.25em;background-color: #f0f8ff;}#sk-container-id-1 input.sk-toggleable__control:checked~div.sk-toggleable__content {max-height: 200px;max-width: 100%;overflow: auto;}#sk-container-id-1 input.sk-toggleable__control:checked~label.sk-toggleable__label-arrow:before {content: \"▾\";}#sk-container-id-1 div.sk-estimator input.sk-toggleable__control:checked~label.sk-toggleable__label {background-color: #d4ebff;}#sk-container-id-1 div.sk-label input.sk-toggleable__control:checked~label.sk-toggleable__label {background-color: #d4ebff;}#sk-container-id-1 input.sk-hidden--visually {border: 0;clip: rect(1px 1px 1px 1px);clip: rect(1px, 1px, 1px, 1px);height: 1px;margin: -1px;overflow: hidden;padding: 0;position: absolute;width: 1px;}#sk-container-id-1 div.sk-estimator {font-family: monospace;background-color: #f0f8ff;border: 1px dotted black;border-radius: 0.25em;box-sizing: border-box;margin-bottom: 0.5em;}#sk-container-id-1 div.sk-estimator:hover {background-color: #d4ebff;}#sk-container-id-1 div.sk-parallel-item::after {content: \"\";width: 100%;border-bottom: 1px solid gray;flex-grow: 1;}#sk-container-id-1 div.sk-label:hover label.sk-toggleable__label {background-color: #d4ebff;}#sk-container-id-1 div.sk-serial::before {content: \"\";position: absolute;border-left: 1px solid gray;box-sizing: border-box;top: 0;bottom: 0;left: 50%;z-index: 0;}#sk-container-id-1 div.sk-serial {display: flex;flex-direction: column;align-items: center;background-color: white;padding-right: 0.2em;padding-left: 0.2em;position: relative;}#sk-container-id-1 div.sk-item {position: relative;z-index: 1;}#sk-container-id-1 div.sk-parallel {display: flex;align-items: stretch;justify-content: center;background-color: white;position: relative;}#sk-container-id-1 div.sk-item::before, #sk-container-id-1 div.sk-parallel-item::before {content: \"\";position: absolute;border-left: 1px solid gray;box-sizing: border-box;top: 0;bottom: 0;left: 50%;z-index: -1;}#sk-container-id-1 div.sk-parallel-item {display: flex;flex-direction: column;z-index: 1;position: relative;background-color: white;}#sk-container-id-1 div.sk-parallel-item:first-child::after {align-self: flex-end;width: 50%;}#sk-container-id-1 div.sk-parallel-item:last-child::after {align-self: flex-start;width: 50%;}#sk-container-id-1 div.sk-parallel-item:only-child::after {width: 0;}#sk-container-id-1 div.sk-dashed-wrapped {border: 1px dashed gray;margin: 0 0.4em 0.5em 0.4em;box-sizing: border-box;padding-bottom: 0.4em;background-color: white;}#sk-container-id-1 div.sk-label label {font-family: monospace;font-weight: bold;display: inline-block;line-height: 1.2em;}#sk-container-id-1 div.sk-label-container {text-align: center;}#sk-container-id-1 div.sk-container {/* jupyter's `normalize.less` sets `[hidden] { display: none; }` but bootstrap.min.css set `[hidden] { display: none !important; }` so we also need the `!important` here to be able to override the default hidden behavior on the sphinx rendered scikit-learn.org. See: https://github.com/scikit-learn/scikit-learn/issues/21755 */display: inline-block !important;position: relative;}#sk-container-id-1 div.sk-text-repr-fallback {display: none;}</style><div id=\"sk-container-id-1\" class=\"sk-top-container\"><div class=\"sk-text-repr-fallback\"><pre>DictVectorizer(dtype=&lt;class &#x27;numpy.float32&#x27;&gt;, sparse=False)</pre><b>In a Jupyter environment, please rerun this cell to show the HTML representation or trust the notebook. <br />On GitHub, the HTML representation is unable to render, please try loading this page with nbviewer.org.</b></div><div class=\"sk-container\" hidden><div class=\"sk-item\"><div class=\"sk-estimator sk-toggleable\"><input class=\"sk-toggleable__control sk-hidden--visually\" id=\"sk-estimator-id-1\" type=\"checkbox\" checked><label for=\"sk-estimator-id-1\" class=\"sk-toggleable__label sk-toggleable__label-arrow\">DictVectorizer</label><div class=\"sk-toggleable__content\"><pre>DictVectorizer(dtype=&lt;class &#x27;numpy.float32&#x27;&gt;, sparse=False)</pre></div></div></div></div></div>"
      ],
      "text/plain": [
       "DictVectorizer(dtype=<class 'numpy.float32'>, sparse=False)"
      ]
     },
     "execution_count": 12,
     "metadata": {},
     "output_type": "execute_result"
    }
   ],
   "source": [
    "from sklearn.feature_extraction import DictVectorizer\n",
    "\n",
    "# we only consider top-1k most frequent companies to minimize memory usage\n",
    "top_companies, top_counts = zip(*Counter(data['Company']).most_common(1000))\n",
    "recognized_companies = set(top_companies)\n",
    "data[\"Company\"] = data[\"Company\"].apply(lambda comp: comp if comp in recognized_companies else \"Other\")\n",
    "\n",
    "categorical_vectorizer = DictVectorizer(dtype=np.float32, sparse=False)\n",
    "categorical_vectorizer.fit(data[categorical_columns].apply(dict, axis=1))"
   ]
  },
  {
   "cell_type": "code",
   "execution_count": 13,
   "metadata": {
    "execution": {
     "iopub.execute_input": "2024-10-02T13:30:12.201866Z",
     "iopub.status.busy": "2024-10-02T13:30:12.201250Z",
     "iopub.status.idle": "2024-10-02T13:30:12.271656Z",
     "shell.execute_reply": "2024-10-02T13:30:12.270836Z",
     "shell.execute_reply.started": "2024-10-02T13:30:12.201831Z"
    },
    "id": "QE0BRQQwXnLD",
    "outputId": "a8a7578d-e3bc-4ff1-91d2-83e09a20a035",
    "tags": []
   },
   "outputs": [
    {
     "name": "stdout",
     "output_type": "stream",
     "text": [
      "Train size =  195814\n",
      "Validation size =  48954\n"
     ]
    }
   ],
   "source": [
    "from sklearn.model_selection import train_test_split\n",
    "\n",
    "data_train, data_val = train_test_split(data, test_size=0.2, random_state=42)\n",
    "data_train.index = range(len(data_train))\n",
    "data_val.index = range(len(data_val))\n",
    "\n",
    "print(\"Train size = \", len(data_train))\n",
    "print(\"Validation size = \", len(data_val))"
   ]
  },
  {
   "cell_type": "code",
   "execution_count": 14,
   "metadata": {
    "execution": {
     "iopub.execute_input": "2024-10-02T13:30:12.273419Z",
     "iopub.status.busy": "2024-10-02T13:30:12.272664Z",
     "iopub.status.idle": "2024-10-02T13:30:19.187016Z",
     "shell.execute_reply": "2024-10-02T13:30:19.186196Z",
     "shell.execute_reply.started": "2024-10-02T13:30:12.273383Z"
    },
    "id": "g_N0lQIZXnRT",
    "tags": []
   },
   "outputs": [],
   "source": [
    "import torch\n",
    "import torch.nn as nn\n",
    "import torch.nn.functional as F\n",
    "\n",
    "\n",
    "device = 'cuda' if torch.cuda.is_available() else 'cpu'\n",
    "\n",
    "\n",
    "def to_tensors(batch, device):\n",
    "    batch_tensors = dict()\n",
    "    for key, arr in batch.items():\n",
    "        if key in [\"FullDescription\", \"Title\"]:\n",
    "            batch_tensors[key] = torch.tensor(arr, device=device, dtype=torch.int64)\n",
    "        else:\n",
    "            batch_tensors[key] = torch.tensor(arr, device=device)\n",
    "    return batch_tensors\n",
    "\n",
    "\n",
    "def make_batch(data, max_len=None, word_dropout=0, device=device):\n",
    "    \"\"\"\n",
    "    Creates a keras-friendly dict from the batch data.\n",
    "    :param word_dropout: replaces token index with UNK_IX with this probability\n",
    "    :returns: a dict with {'title' : int64[batch, title_max_len]\n",
    "    \"\"\"\n",
    "    batch = {}\n",
    "    batch[\"Title\"] = as_matrix(data[\"Title\"].values, max_len)\n",
    "    batch[\"FullDescription\"] = as_matrix(data[\"FullDescription\"].values, max_len)\n",
    "    batch['Categorical'] = categorical_vectorizer.transform(data[categorical_columns].apply(dict, axis=1))\n",
    "\n",
    "    if word_dropout != 0:\n",
    "        batch[\"FullDescription\"] = apply_word_dropout(batch[\"FullDescription\"], 1. - word_dropout)\n",
    "\n",
    "    if TARGET_COLUMN in data.columns:\n",
    "        batch[TARGET_COLUMN] = data[TARGET_COLUMN].values\n",
    "\n",
    "    return to_tensors(batch, device)\n",
    "\n",
    "def apply_word_dropout(matrix, keep_prop, replace_with=UNK_IX, pad_ix=PAD_IX,):\n",
    "    dropout_mask = np.random.choice(2, np.shape(matrix), p=[keep_prop, 1 - keep_prop])\n",
    "    dropout_mask &= matrix != pad_ix\n",
    "    return np.choose(dropout_mask, [matrix, np.full_like(matrix, replace_with)])"
   ]
  },
  {
   "cell_type": "markdown",
   "metadata": {
    "id": "Pzq8EDoBX0Zd",
    "jp-MarkdownHeadingCollapsed": true,
    "tags": []
   },
   "source": [
    "#### A) CNN architecture\n",
    "\n",
    "All the tricks you know about dense and convolutional neural networks apply here as well.\n",
    "* Dropout. Nuff said.\n",
    "* Batch Norm. This time it's `nn.BatchNorm*`/`L.BatchNormalization`\n",
    "* Parallel convolution layers. The idea is that you apply several nn.Conv1d to the same embeddings and concatenate output channels.\n",
    "* More layers, more neurons, ya know..."
   ]
  },
  {
   "cell_type": "code",
   "execution_count": 15,
   "metadata": {
    "execution": {
     "iopub.execute_input": "2024-10-02T13:30:19.190229Z",
     "iopub.status.busy": "2024-10-02T13:30:19.188356Z",
     "iopub.status.idle": "2024-10-02T13:30:19.203605Z",
     "shell.execute_reply": "2024-10-02T13:30:19.202885Z",
     "shell.execute_reply.started": "2024-10-02T13:30:19.190183Z"
    },
    "id": "ASxsXRMTX2dP",
    "tags": []
   },
   "outputs": [],
   "source": [
    "embed_len = 300\n",
    "\n",
    "class EncoderCNN(nn.Module):\n",
    "    def __init__(self, n_tokens=len(tokens), hid_size=64):\n",
    "        super().__init__()\n",
    "        self.emb = nn.Embedding(n_tokens, embed_len)\n",
    "        self.conv1 = nn.Conv1d(embed_len, hid_size, kernel_size=(3,))\n",
    "        self.conv2 = nn.Conv1d(embed_len, hid_size, kernel_size=(2,))\n",
    "\n",
    "    def forward(self, matrix):\n",
    "        emb1 = self.conv1(self.emb(matrix).swapaxes(1, 2)).max(dim=-1).values\n",
    "        emb2 = self.conv2(self.emb(matrix).swapaxes(1, 2)).max(dim=-1).values\n",
    "\n",
    "        return torch.cat((emb1, emb2), 1)\n",
    "        #return emb1"
   ]
  },
  {
   "cell_type": "code",
   "execution_count": 16,
   "metadata": {
    "execution": {
     "iopub.execute_input": "2024-10-02T13:30:19.205060Z",
     "iopub.status.busy": "2024-10-02T13:30:19.204579Z",
     "iopub.status.idle": "2024-10-02T13:30:19.221153Z",
     "shell.execute_reply": "2024-10-02T13:30:19.220415Z",
     "shell.execute_reply.started": "2024-10-02T13:30:19.205029Z"
    },
    "id": "su0zUxc3wofM",
    "tags": []
   },
   "outputs": [],
   "source": [
    "class SalaryPredictorCNN(nn.Module):\n",
    "    def __init__(self, n_tokens=len(tokens), n_cat_features=len(categorical_vectorizer.vocabulary_), hid_size=64):\n",
    "        super().__init__()\n",
    "\n",
    "        self.title_enc = EncoderCNN(n_tokens, hid_size)\n",
    "        self.description_enc = EncoderCNN(n_tokens, hid_size)\n",
    "        self.cat_enc = nn.Sequential(\n",
    "            nn.Linear(n_cat_features, 32),\n",
    "            nn.ReLU(),\n",
    "            nn.Linear(32, hid_size)\n",
    "        )\n",
    "        self.fc1 = nn.Linear(5 * hid_size, 64)\n",
    "        self.act1 = nn.ReLU()\n",
    "        self.fc2 = nn.Linear(64, 32)\n",
    "        self.act2 = nn.ReLU()\n",
    "        self.fc3 = nn.Linear(32, 1)\n",
    "\n",
    "    def forward(self, batch):\n",
    "        title = self.title_enc(batch['Title'])\n",
    "        description = self.description_enc(batch['FullDescription'])\n",
    "        cat = self.cat_enc(batch['Categorical'])\n",
    "        x = torch.cat((title, description, cat), 1)\n",
    "\n",
    "        x = self.fc1(x)\n",
    "        x = self.act1(x)\n",
    "        x = self.fc2(x)\n",
    "        x = self.act2(x)\n",
    "        x = self.fc3(x)\n",
    "\n",
    "        return torch.squeeze(x)"
   ]
  },
  {
   "cell_type": "code",
   "execution_count": 17,
   "metadata": {
    "execution": {
     "iopub.execute_input": "2024-10-02T13:30:19.223259Z",
     "iopub.status.busy": "2024-10-02T13:30:19.222118Z",
     "iopub.status.idle": "2024-10-02T13:30:19.243986Z",
     "shell.execute_reply": "2024-10-02T13:30:19.243228Z",
     "shell.execute_reply.started": "2024-10-02T13:30:19.223203Z"
    },
    "id": "LZZHzpPSa8uT",
    "tags": []
   },
   "outputs": [],
   "source": [
    "def iterate_minibatches(data, batch_size=256, shuffle=True, cycle=False, device=device, **kwargs):\n",
    "    \"\"\" iterates minibatches of data in random order \"\"\"\n",
    "    while True:\n",
    "        indices = np.arange(len(data))\n",
    "        if shuffle:\n",
    "            indices = np.random.permutation(indices)\n",
    "\n",
    "        for start in range(0, len(indices), batch_size):\n",
    "            batch = make_batch(data.iloc[indices[start : start + batch_size]], device=device, **kwargs)\n",
    "            yield batch\n",
    "\n",
    "        if not cycle: break"
   ]
  },
  {
   "cell_type": "code",
   "execution_count": 18,
   "metadata": {
    "execution": {
     "iopub.execute_input": "2024-10-02T13:30:19.245354Z",
     "iopub.status.busy": "2024-10-02T13:30:19.244909Z",
     "iopub.status.idle": "2024-10-02T13:30:19.268280Z",
     "shell.execute_reply": "2024-10-02T13:30:19.267626Z",
     "shell.execute_reply.started": "2024-10-02T13:30:19.245322Z"
    },
    "id": "fHk8as02bLW7",
    "tags": []
   },
   "outputs": [],
   "source": [
    "from tqdm.auto import tqdm\n",
    "\n",
    "BATCH_SIZE = 20\n",
    "EPOCHS = 10"
   ]
  },
  {
   "cell_type": "code",
   "execution_count": 19,
   "metadata": {
    "execution": {
     "iopub.execute_input": "2024-10-02T13:30:19.269776Z",
     "iopub.status.busy": "2024-10-02T13:30:19.269297Z",
     "iopub.status.idle": "2024-10-02T13:30:19.287264Z",
     "shell.execute_reply": "2024-10-02T13:30:19.286528Z",
     "shell.execute_reply.started": "2024-10-02T13:30:19.269742Z"
    },
    "id": "nGq8bI9sbflm",
    "tags": []
   },
   "outputs": [],
   "source": [
    "def print_metrics(model, data, batch_size=BATCH_SIZE, name=\"\", device=torch.device('cpu'), **kw):\n",
    "    squared_error = abs_error = num_samples = 0.0\n",
    "    model.eval()\n",
    "    with torch.no_grad():\n",
    "        for batch in iterate_minibatches(data, batch_size=batch_size, shuffle=False, device=device, **kw):\n",
    "            batch_pred = model(batch)\n",
    "            squared_error += torch.sum(torch.square(batch_pred - batch[TARGET_COLUMN]))\n",
    "            abs_error += torch.sum(torch.abs(batch_pred - batch[TARGET_COLUMN]))\n",
    "            num_samples += len(batch_pred)\n",
    "    mse = squared_error.detach().cpu().numpy() / num_samples\n",
    "    mae = abs_error.detach().cpu().numpy() / num_samples\n",
    "    print(\"%s results:\" % (name or \"\"))\n",
    "    print(\"Mean square error: %.5f\" % mse)\n",
    "    print(\"Mean absolute error: %.5f\" % mae)\n",
    "    return mse, mae\n"
   ]
  },
  {
   "cell_type": "code",
   "execution_count": 26,
   "metadata": {
    "_kg_hide-output": false,
    "execution": {
     "iopub.execute_input": "2024-10-02T09:55:20.968307Z",
     "iopub.status.busy": "2024-10-02T09:55:20.967251Z",
     "iopub.status.idle": "2024-10-02T10:15:23.808684Z",
     "shell.execute_reply": "2024-10-02T10:15:23.807750Z",
     "shell.execute_reply.started": "2024-10-02T09:55:20.968259Z"
    },
    "id": "rQfllX33bjLE",
    "outputId": "00555f5b-2d6c-4926-c4ff-6ea1f5cc0fd5",
    "tags": []
   },
   "outputs": [
    {
     "name": "stdout",
     "output_type": "stream",
     "text": [
      "epoch: 0\n"
     ]
    },
    {
     "name": "stderr",
     "output_type": "stream",
     "text": [
      "9791it [01:47, 90.68it/s]                          \n"
     ]
    },
    {
     "name": "stdout",
     "output_type": "stream",
     "text": [
      " results:\n",
      "Mean square error: 0.12824\n",
      "Mean absolute error: 0.27205\n",
      "epoch: 1\n"
     ]
    },
    {
     "name": "stderr",
     "output_type": "stream",
     "text": [
      "9791it [01:47, 91.34it/s]                          \n"
     ]
    },
    {
     "name": "stdout",
     "output_type": "stream",
     "text": [
      " results:\n",
      "Mean square error: 0.10824\n",
      "Mean absolute error: 0.25506\n",
      "epoch: 2\n"
     ]
    },
    {
     "name": "stderr",
     "output_type": "stream",
     "text": [
      "9791it [01:48, 90.44it/s]                          \n"
     ]
    },
    {
     "name": "stdout",
     "output_type": "stream",
     "text": [
      " results:\n",
      "Mean square error: 0.09111\n",
      "Mean absolute error: 0.22695\n",
      "epoch: 3\n"
     ]
    },
    {
     "name": "stderr",
     "output_type": "stream",
     "text": [
      "9791it [01:48, 89.88it/s]                          \n"
     ]
    },
    {
     "name": "stdout",
     "output_type": "stream",
     "text": [
      " results:\n",
      "Mean square error: 0.08374\n",
      "Mean absolute error: 0.21900\n",
      "epoch: 4\n"
     ]
    },
    {
     "name": "stderr",
     "output_type": "stream",
     "text": [
      "9791it [01:46, 91.94it/s]                          \n"
     ]
    },
    {
     "name": "stdout",
     "output_type": "stream",
     "text": [
      " results:\n",
      "Mean square error: 0.07564\n",
      "Mean absolute error: 0.20478\n",
      "epoch: 5\n"
     ]
    },
    {
     "name": "stderr",
     "output_type": "stream",
     "text": [
      "9791it [01:46, 91.63it/s]                          \n"
     ]
    },
    {
     "name": "stdout",
     "output_type": "stream",
     "text": [
      " results:\n",
      "Mean square error: 0.08276\n",
      "Mean absolute error: 0.21699\n",
      "epoch: 6\n"
     ]
    },
    {
     "name": "stderr",
     "output_type": "stream",
     "text": [
      "9791it [01:46, 91.68it/s]                          \n"
     ]
    },
    {
     "name": "stdout",
     "output_type": "stream",
     "text": [
      " results:\n",
      "Mean square error: 0.09170\n",
      "Mean absolute error: 0.23165\n",
      "epoch: 7\n"
     ]
    },
    {
     "name": "stderr",
     "output_type": "stream",
     "text": [
      "9791it [01:47, 90.70it/s]                          \n"
     ]
    },
    {
     "name": "stdout",
     "output_type": "stream",
     "text": [
      " results:\n",
      "Mean square error: 0.07033\n",
      "Mean absolute error: 0.19701\n",
      "epoch: 8\n"
     ]
    },
    {
     "name": "stderr",
     "output_type": "stream",
     "text": [
      "9791it [01:49, 89.24it/s]                          \n"
     ]
    },
    {
     "name": "stdout",
     "output_type": "stream",
     "text": [
      " results:\n",
      "Mean square error: 0.07137\n",
      "Mean absolute error: 0.19869\n",
      "epoch: 9\n"
     ]
    },
    {
     "name": "stderr",
     "output_type": "stream",
     "text": [
      "9791it [01:47, 90.68it/s]                          \n"
     ]
    },
    {
     "name": "stdout",
     "output_type": "stream",
     "text": [
      " results:\n",
      "Mean square error: 0.06764\n",
      "Mean absolute error: 0.19327\n"
     ]
    }
   ],
   "source": [
    "device = torch.device(\"cuda\" if torch.cuda.is_available() else \"cpu\")\n",
    "model_CNN = SalaryPredictorCNN().to(device)\n",
    "criterion = nn.MSELoss(reduction='sum')\n",
    "optimizer = torch.optim.SGD(model_CNN.parameters(), lr=1e-4)\n",
    "\n",
    "mse_loss = []\n",
    "mae_loss = []\n",
    "\n",
    "for epoch in range(EPOCHS):\n",
    "    print(f\"epoch: {epoch}\")\n",
    "    model_CNN.train()\n",
    "    for i, batch in tqdm(enumerate(\n",
    "            iterate_minibatches(data_train, batch_size=BATCH_SIZE, device=device)),\n",
    "            total=len(data_train) // BATCH_SIZE\n",
    "        ):\n",
    "        pred = model_CNN(batch)\n",
    "        loss = criterion(pred, batch[TARGET_COLUMN])\n",
    "        optimizer.zero_grad()\n",
    "        loss.backward()\n",
    "        optimizer.step()\n",
    "\n",
    "    mse, mae = print_metrics(model_CNN, data_val, device=device)\n",
    "    mse_loss.append(mse)\n",
    "    mae_loss.append(mae)\n"
   ]
  },
  {
   "cell_type": "code",
   "execution_count": 27,
   "metadata": {
    "execution": {
     "iopub.execute_input": "2024-10-02T10:15:23.811553Z",
     "iopub.status.busy": "2024-10-02T10:15:23.810457Z",
     "iopub.status.idle": "2024-10-02T10:15:24.038116Z",
     "shell.execute_reply": "2024-10-02T10:15:24.037212Z",
     "shell.execute_reply.started": "2024-10-02T10:15:23.811510Z"
    },
    "tags": []
   },
   "outputs": [
    {
     "data": {
      "image/png": "[encoded data removed]",
      "text/plain": [
       "<Figure size 640x480 with 1 Axes>"
      ]
     },
     "metadata": {},
     "output_type": "display_data"
    }
   ],
   "source": [
    "plt.plot(np.array(mse_loss), color='r', label='mse loss'), plt.plot(np.array(mae_loss), color='b', label='mae loss')\n",
    "plt.legend()\n",
    "plt.title('Без оптимизации')\n",
    "plt.show()"
   ]
  },
  {
   "cell_type": "code",
   "execution_count": 28,
   "metadata": {
    "execution": {
     "iopub.execute_input": "2024-10-02T10:15:24.040390Z",
     "iopub.status.busy": "2024-10-02T10:15:24.039289Z",
     "iopub.status.idle": "2024-10-02T10:15:24.084810Z",
     "shell.execute_reply": "2024-10-02T10:15:24.083980Z",
     "shell.execute_reply.started": "2024-10-02T10:15:24.040349Z"
    },
    "tags": []
   },
   "outputs": [],
   "source": [
    "class SalaryPredictorCNNBatchNorm(nn.Module):\n",
    "    def __init__(self, n_tokens=len(tokens), n_cat_features=len(categorical_vectorizer.vocabulary_), hid_size=64):\n",
    "        super().__init__()\n",
    "\n",
    "        self.title_enc = EncoderCNN(n_tokens, hid_size)\n",
    "        self.description_enc = EncoderCNN(n_tokens, hid_size)\n",
    "        self.cat_enc = nn.Sequential(\n",
    "            nn.Linear(n_cat_features, 32),\n",
    "            nn.ReLU(),\n",
    "            nn.Linear(32, hid_size)\n",
    "        )\n",
    "        self.model = nn.Sequential(\n",
    "            nn.Linear(5 * hid_size, 64),\n",
    "            nn.BatchNorm1d(64),\n",
    "            nn.ReLU(),\n",
    "            nn.Linear(64, 32),\n",
    "            nn.BatchNorm1d(32),\n",
    "            nn.ReLU(),\n",
    "            nn.Linear(32, 1)\n",
    "        )\n",
    "\n",
    "    def forward(self, batch):\n",
    "        title = self.title_enc(batch['Title'])\n",
    "        description = self.description_enc(batch['FullDescription'])\n",
    "        cat = self.cat_enc(batch['Categorical'])\n",
    "        x = torch.cat((title, description, cat), 1)\n",
    "\n",
    "        x = self.model(x)\n",
    "\n",
    "        return torch.squeeze(x)"
   ]
  },
  {
   "cell_type": "code",
   "execution_count": 29,
   "metadata": {
    "execution": {
     "iopub.execute_input": "2024-10-02T10:15:24.088466Z",
     "iopub.status.busy": "2024-10-02T10:15:24.086718Z",
     "iopub.status.idle": "2024-10-02T10:36:00.526094Z",
     "shell.execute_reply": "2024-10-02T10:36:00.525287Z",
     "shell.execute_reply.started": "2024-10-02T10:15:24.088428Z"
    },
    "tags": []
   },
   "outputs": [
    {
     "name": "stdout",
     "output_type": "stream",
     "text": [
      "epoch: 0\n"
     ]
    },
    {
     "name": "stderr",
     "output_type": "stream",
     "text": [
      "9791it [01:51, 88.04it/s]                          \n"
     ]
    },
    {
     "name": "stdout",
     "output_type": "stream",
     "text": [
      " results:\n",
      "Mean square error: 0.17258\n",
      "Mean absolute error: 0.32158\n",
      "epoch: 1\n"
     ]
    },
    {
     "name": "stderr",
     "output_type": "stream",
     "text": [
      "9791it [01:51, 88.08it/s]                          \n"
     ]
    },
    {
     "name": "stdout",
     "output_type": "stream",
     "text": [
      " results:\n",
      "Mean square error: 0.15706\n",
      "Mean absolute error: 0.31117\n",
      "epoch: 2\n"
     ]
    },
    {
     "name": "stderr",
     "output_type": "stream",
     "text": [
      "9791it [01:51, 87.82it/s]                          \n"
     ]
    },
    {
     "name": "stdout",
     "output_type": "stream",
     "text": [
      " results:\n",
      "Mean square error: 0.11038\n",
      "Mean absolute error: 0.25304\n",
      "epoch: 3\n"
     ]
    },
    {
     "name": "stderr",
     "output_type": "stream",
     "text": [
      "9791it [01:49, 89.49it/s]                          \n"
     ]
    },
    {
     "name": "stdout",
     "output_type": "stream",
     "text": [
      " results:\n",
      "Mean square error: 0.11196\n",
      "Mean absolute error: 0.25750\n",
      "epoch: 4\n"
     ]
    },
    {
     "name": "stderr",
     "output_type": "stream",
     "text": [
      "9791it [01:49, 89.16it/s]                          \n"
     ]
    },
    {
     "name": "stdout",
     "output_type": "stream",
     "text": [
      " results:\n",
      "Mean square error: 0.10178\n",
      "Mean absolute error: 0.24414\n",
      "epoch: 5\n"
     ]
    },
    {
     "name": "stderr",
     "output_type": "stream",
     "text": [
      "9791it [01:48, 89.88it/s]                          \n"
     ]
    },
    {
     "name": "stdout",
     "output_type": "stream",
     "text": [
      " results:\n",
      "Mean square error: 0.10344\n",
      "Mean absolute error: 0.24598\n",
      "epoch: 6\n"
     ]
    },
    {
     "name": "stderr",
     "output_type": "stream",
     "text": [
      "9791it [01:53, 86.54it/s]                          \n"
     ]
    },
    {
     "name": "stdout",
     "output_type": "stream",
     "text": [
      " results:\n",
      "Mean square error: 0.09292\n",
      "Mean absolute error: 0.23177\n",
      "epoch: 7\n"
     ]
    },
    {
     "name": "stderr",
     "output_type": "stream",
     "text": [
      "9791it [01:52, 86.66it/s]                          \n"
     ]
    },
    {
     "name": "stdout",
     "output_type": "stream",
     "text": [
      " results:\n",
      "Mean square error: 0.09986\n",
      "Mean absolute error: 0.24286\n",
      "epoch: 8\n"
     ]
    },
    {
     "name": "stderr",
     "output_type": "stream",
     "text": [
      "9791it [01:52, 87.26it/s]                          \n"
     ]
    },
    {
     "name": "stdout",
     "output_type": "stream",
     "text": [
      " results:\n",
      "Mean square error: 0.09918\n",
      "Mean absolute error: 0.24265\n",
      "epoch: 9\n"
     ]
    },
    {
     "name": "stderr",
     "output_type": "stream",
     "text": [
      "9791it [01:49, 89.41it/s]                          \n"
     ]
    },
    {
     "name": "stdout",
     "output_type": "stream",
     "text": [
      " results:\n",
      "Mean square error: 0.10677\n",
      "Mean absolute error: 0.25489\n"
     ]
    }
   ],
   "source": [
    "BATCH_SIZE = 20\n",
    "EPOCHS = 10\n",
    "\n",
    "device = torch.device(\"cuda\" if torch.cuda.is_available() else \"cpu\")\n",
    "model_CNN_modified = SalaryPredictorCNNBatchNorm().to(device)\n",
    "criterion = nn.MSELoss(reduction='sum')\n",
    "optimizer = torch.optim.SGD(model_CNN_modified.parameters(), lr=1e-4)\n",
    "\n",
    "mse_loss_cnn_modified = []\n",
    "mae_loss_cnn_modified = []\n",
    "\n",
    "for epoch in range(EPOCHS):\n",
    "    print(f\"epoch: {epoch}\")\n",
    "    model_CNN_modified.train()\n",
    "    for i, batch in tqdm(enumerate(\n",
    "            iterate_minibatches(data_train, batch_size=BATCH_SIZE, device=device)),\n",
    "            total=len(data_train) // BATCH_SIZE\n",
    "        ):\n",
    "        pred = model_CNN_modified(batch)\n",
    "        loss = criterion(pred, batch[TARGET_COLUMN])\n",
    "        optimizer.zero_grad()\n",
    "        loss.backward()\n",
    "        optimizer.step()\n",
    "\n",
    "    mse, mae = print_metrics(model_CNN_modified, data_val, device=device)\n",
    "    mse_loss_cnn_modified.append(mse)\n",
    "    mae_loss_cnn_modified.append(mae)\n"
   ]
  },
  {
   "cell_type": "code",
   "execution_count": 30,
   "metadata": {
    "execution": {
     "iopub.execute_input": "2024-10-02T10:36:00.528047Z",
     "iopub.status.busy": "2024-10-02T10:36:00.527162Z",
     "iopub.status.idle": "2024-10-02T10:36:00.736327Z",
     "shell.execute_reply": "2024-10-02T10:36:00.735482Z",
     "shell.execute_reply.started": "2024-10-02T10:36:00.528011Z"
    },
    "tags": []
   },
   "outputs": [
    {
     "data": {
      "image/png": "[encoded data removed]",
      "text/plain": [
       "<Figure size 640x480 with 1 Axes>"
      ]
     },
     "metadata": {},
     "output_type": "display_data"
    }
   ],
   "source": [
    "plt.plot(np.array(mse_loss_cnn_modified), color='r', label='mse loss modified')\n",
    "plt.plot(np.array(mae_loss_cnn_modified), color='b', label='mae loss modified')\n",
    "plt.legend()\n",
    "plt.title('BatchNorm')\n",
    "plt.show()"
   ]
  },
  {
   "cell_type": "code",
   "execution_count": 31,
   "metadata": {
    "execution": {
     "iopub.execute_input": "2024-10-02T10:36:00.738726Z",
     "iopub.status.busy": "2024-10-02T10:36:00.737575Z",
     "iopub.status.idle": "2024-10-02T10:36:00.764023Z",
     "shell.execute_reply": "2024-10-02T10:36:00.763108Z",
     "shell.execute_reply.started": "2024-10-02T10:36:00.738695Z"
    },
    "tags": []
   },
   "outputs": [],
   "source": [
    "class SalaryPredictorCNNwithDropout(nn.Module):\n",
    "    def __init__(self, n_tokens=len(tokens), n_cat_features=len(categorical_vectorizer.vocabulary_), hid_size=64):\n",
    "        super().__init__()\n",
    "\n",
    "        self.title_enc = EncoderCNN(n_tokens, hid_size)\n",
    "        self.description_enc = EncoderCNN(n_tokens, hid_size)\n",
    "        self.cat_enc = nn.Sequential(\n",
    "            nn.Linear(n_cat_features, 32),\n",
    "            nn.ReLU(),\n",
    "            nn.Linear(32, hid_size)\n",
    "        )\n",
    "        self.model = nn.Sequential(\n",
    "            nn.Linear(5 * hid_size, 64),\n",
    "            nn.BatchNorm1d(64),\n",
    "            nn.ReLU(),\n",
    "            nn.Dropout(p=0.2),\n",
    "            nn.Linear(64, 32),\n",
    "            nn.BatchNorm1d(32),\n",
    "            nn.ReLU(),\n",
    "            nn.Linear(32, 1)\n",
    "        )\n",
    "\n",
    "    def forward(self, batch):\n",
    "        title = self.title_enc(batch['Title'])\n",
    "        description = self.description_enc(batch['FullDescription'])\n",
    "        cat = self.cat_enc(batch['Categorical'])\n",
    "        x = torch.cat((title, description, cat), 1)\n",
    "\n",
    "        x = self.model(x)\n",
    "\n",
    "        return torch.squeeze(x)"
   ]
  },
  {
   "cell_type": "code",
   "execution_count": 32,
   "metadata": {
    "execution": {
     "iopub.execute_input": "2024-10-02T10:36:00.767043Z",
     "iopub.status.busy": "2024-10-02T10:36:00.765157Z",
     "iopub.status.idle": "2024-10-02T10:56:31.898520Z",
     "shell.execute_reply": "2024-10-02T10:56:31.897617Z",
     "shell.execute_reply.started": "2024-10-02T10:36:00.767000Z"
    },
    "tags": []
   },
   "outputs": [
    {
     "name": "stdout",
     "output_type": "stream",
     "text": [
      "epoch: 0\n"
     ]
    },
    {
     "name": "stderr",
     "output_type": "stream",
     "text": [
      "9791it [01:50, 88.78it/s]                          \n"
     ]
    },
    {
     "name": "stdout",
     "output_type": "stream",
     "text": [
      " results:\n",
      "Mean square error: 0.20753\n",
      "Mean absolute error: 0.35579\n",
      "epoch: 1\n"
     ]
    },
    {
     "name": "stderr",
     "output_type": "stream",
     "text": [
      "9791it [01:51, 88.21it/s]                          \n"
     ]
    },
    {
     "name": "stdout",
     "output_type": "stream",
     "text": [
      " results:\n",
      "Mean square error: 0.15986\n",
      "Mean absolute error: 0.31103\n",
      "epoch: 2\n"
     ]
    },
    {
     "name": "stderr",
     "output_type": "stream",
     "text": [
      "9791it [01:48, 89.84it/s]                          \n"
     ]
    },
    {
     "name": "stdout",
     "output_type": "stream",
     "text": [
      " results:\n",
      "Mean square error: 0.13962\n",
      "Mean absolute error: 0.28865\n",
      "epoch: 3\n"
     ]
    },
    {
     "name": "stderr",
     "output_type": "stream",
     "text": [
      "9791it [01:50, 88.66it/s]                          \n"
     ]
    },
    {
     "name": "stdout",
     "output_type": "stream",
     "text": [
      " results:\n",
      "Mean square error: 0.11787\n",
      "Mean absolute error: 0.26208\n",
      "epoch: 4\n"
     ]
    },
    {
     "name": "stderr",
     "output_type": "stream",
     "text": [
      "9791it [01:53, 85.91it/s]                          \n"
     ]
    },
    {
     "name": "stdout",
     "output_type": "stream",
     "text": [
      " results:\n",
      "Mean square error: 0.09462\n",
      "Mean absolute error: 0.22995\n",
      "epoch: 5\n"
     ]
    },
    {
     "name": "stderr",
     "output_type": "stream",
     "text": [
      "9791it [01:51, 87.80it/s]                          \n"
     ]
    },
    {
     "name": "stdout",
     "output_type": "stream",
     "text": [
      " results:\n",
      "Mean square error: 0.09470\n",
      "Mean absolute error: 0.23070\n",
      "epoch: 6\n"
     ]
    },
    {
     "name": "stderr",
     "output_type": "stream",
     "text": [
      "9791it [01:51, 87.91it/s]                          \n"
     ]
    },
    {
     "name": "stdout",
     "output_type": "stream",
     "text": [
      " results:\n",
      "Mean square error: 0.08851\n",
      "Mean absolute error: 0.22207\n",
      "epoch: 7\n"
     ]
    },
    {
     "name": "stderr",
     "output_type": "stream",
     "text": [
      "9791it [01:49, 89.36it/s]                          \n"
     ]
    },
    {
     "name": "stdout",
     "output_type": "stream",
     "text": [
      " results:\n",
      "Mean square error: 0.07865\n",
      "Mean absolute error: 0.20772\n",
      "epoch: 8\n"
     ]
    },
    {
     "name": "stderr",
     "output_type": "stream",
     "text": [
      "9791it [01:47, 91.47it/s]                          \n"
     ]
    },
    {
     "name": "stdout",
     "output_type": "stream",
     "text": [
      " results:\n",
      "Mean square error: 0.08109\n",
      "Mean absolute error: 0.21156\n",
      "epoch: 9\n"
     ]
    },
    {
     "name": "stderr",
     "output_type": "stream",
     "text": [
      "9791it [01:48, 90.05it/s]                          \n"
     ]
    },
    {
     "name": "stdout",
     "output_type": "stream",
     "text": [
      " results:\n",
      "Mean square error: 0.07513\n",
      "Mean absolute error: 0.20233\n"
     ]
    }
   ],
   "source": [
    "BATCH_SIZE = 20\n",
    "EPOCHS = 10\n",
    "\n",
    "device = torch.device(\"cuda\" if torch.cuda.is_available() else \"cpu\")\n",
    "model_CNN_with_dropout= SalaryPredictorCNNwithDropout().to(device)\n",
    "criterion = nn.MSELoss(reduction='sum')\n",
    "optimizer = torch.optim.SGD(model_CNN_with_dropout.parameters(), lr=1e-4)\n",
    "\n",
    "mse_loss_cnn_with_dropout = []\n",
    "mae_loss_cnn_with_dropout = []\n",
    "\n",
    "for epoch in range(EPOCHS):\n",
    "    print(f\"epoch: {epoch}\")\n",
    "    model_CNN_with_dropout.train()\n",
    "    for i, batch in tqdm(enumerate(\n",
    "            iterate_minibatches(data_train, batch_size=BATCH_SIZE, device=device)),\n",
    "            total=len(data_train) // BATCH_SIZE\n",
    "        ):\n",
    "        pred = model_CNN_with_dropout(batch)\n",
    "        loss = criterion(pred, batch[TARGET_COLUMN])\n",
    "        optimizer.zero_grad()\n",
    "        loss.backward()\n",
    "        optimizer.step()\n",
    "\n",
    "    mse, mae = print_metrics(model_CNN_with_dropout, data_val, device=device)\n",
    "    mse_loss_cnn_with_dropout.append(mse)\n",
    "    mae_loss_cnn_with_dropout.append(mae)\n"
   ]
  },
  {
   "cell_type": "code",
   "execution_count": 33,
   "metadata": {
    "execution": {
     "iopub.execute_input": "2024-10-02T10:56:31.900829Z",
     "iopub.status.busy": "2024-10-02T10:56:31.899641Z",
     "iopub.status.idle": "2024-10-02T10:56:32.130852Z",
     "shell.execute_reply": "2024-10-02T10:56:32.129963Z",
     "shell.execute_reply.started": "2024-10-02T10:56:31.900791Z"
    },
    "tags": []
   },
   "outputs": [
    {
     "data": {
      "image/png": "[encoded data removed]",
      "text/plain": [
       "<Figure size 640x480 with 1 Axes>"
      ]
     },
     "metadata": {},
     "output_type": "display_data"
    }
   ],
   "source": [
    "plt.plot(np.array(mse_loss_cnn_with_dropout), color='r', label='mse loss with dropout')\n",
    "plt.plot(np.array(mae_loss_cnn_with_dropout), color='b', label='mae loss with dropout')\n",
    "plt.legend()\n",
    "plt.title('BatchNorm + Dropout')\n",
    "plt.show()"
   ]
  },
  {
   "cell_type": "markdown",
   "metadata": {
    "tags": []
   },
   "source": [
    "## Вывод пункта А\n",
    "Какой эксперимент: Добавление Батчнорма и/или Дропаута\n",
    "\n",
    "Бейзлайн: моедль с 3 линейными слоями, с двумя параллельными свертками, с нуля обучающиеся эмбеды размера 300\n",
    "\n",
    "Итог: Лучше всего показала себя бейзлайн модель с Mean square error: 0.06764, Mean absolute error: 0.19327. В модели с Батчнормом Mean square error: 0.10677, Mean absolute error: 0.25489. Батчнорм + Дропаут Mean square error: 0.07513, Mean absolute error: 0.20233\n",
    "\n",
    "Обучение: 10 эпох, 20 размер батча, с сгд оптимайзером"
   ]
  },
  {
   "cell_type": "markdown",
   "metadata": {
    "jp-MarkdownHeadingCollapsed": true,
    "tags": []
   },
   "source": [
    "#### B) Play with pooling\n",
    "\n",
    "There's more than one way to perform pooling:\n",
    "* Max over time (independently for each feature)\n",
    "* Average over time (excluding PAD)\n",
    "* Softmax-pooling:\n",
    "$$ out_{i, t} = \\sum_t {h_{i,t} \\cdot {{e ^ {h_{i, t}}} \\over \\sum_\\tau e ^ {h_{j, \\tau}} } }$$\n",
    "\n",
    "* Attentive pooling\n",
    "$$ out_{i, t} = \\sum_t {h_{i,t} \\cdot Attn(h_t)}$$\n",
    "\n",
    ", where $$ Attn(h_t) = {{e ^ {NN_{attn}(h_t)}} \\over \\sum_\\tau e ^ {NN_{attn}(h_\\tau)}}  $$\n",
    "and $NN_{attn}$ is a dense layer.\n",
    "\n",
    "The optimal score is usually achieved by concatenating several different poolings, including several attentive pooling with different $NN_{attn}$ (aka multi-headed attention).\n",
    "\n",
    "The catch is that keras layers do not inlude those toys. You will have to [write your own keras layer](https://keras.io/layers/writing-your-own-keras-layers/). Or use pure tensorflow, it might even be easier :)"
   ]
  },
  {
   "cell_type": "code",
   "execution_count": 34,
   "metadata": {
    "execution": {
     "iopub.execute_input": "2024-10-02T10:56:32.133546Z",
     "iopub.status.busy": "2024-10-02T10:56:32.132200Z",
     "iopub.status.idle": "2024-10-02T10:56:32.176723Z",
     "shell.execute_reply": "2024-10-02T10:56:32.175877Z",
     "shell.execute_reply.started": "2024-10-02T10:56:32.133511Z"
    },
    "tags": []
   },
   "outputs": [],
   "source": [
    "embed_len = 300\n",
    "\n",
    "\n",
    "class EncoderModifiedPooling(nn.Module):\n",
    "    def __init__(self, n_tokens=len(tokens), hid_size=64):\n",
    "        super().__init__()\n",
    "        self.emb = nn.Embedding(n_tokens, embed_len)\n",
    "        self.conv1 = nn.Conv1d(embed_len, hid_size, kernel_size=(3,))\n",
    "        self.attn = nn.Linear(hid_size, 1)\n",
    "\n",
    "    def forward(self, matrix):\n",
    "        matrix = self.conv1(self.emb(matrix).swapaxes(1, 2))\n",
    "        emb_max_pool = torch.max(matrix, dim=-1).values\n",
    "        emb_avg_pool = torch.mean(matrix, dim=-1)\n",
    "        emb_softmax_pool = torch.sum(matrix * torch.softmax(matrix, dim=-1), dim=-1)\n",
    "        \n",
    "        matrix = matrix.swapaxes(1, 2)\n",
    "        attn_weights = self.attn(matrix)\n",
    "        emb_attn_pool = torch.sum(matrix * torch.softmax(attn_weights, dim=1), dim=1)\n",
    "\n",
    "        return torch.cat((emb_max_pool, emb_avg_pool, emb_softmax_pool, emb_attn_pool), 1)\n",
    "        #return emb1"
   ]
  },
  {
   "cell_type": "code",
   "execution_count": 35,
   "metadata": {
    "execution": {
     "iopub.execute_input": "2024-10-02T10:56:32.180672Z",
     "iopub.status.busy": "2024-10-02T10:56:32.179780Z",
     "iopub.status.idle": "2024-10-02T10:56:32.222834Z",
     "shell.execute_reply": "2024-10-02T10:56:32.221896Z",
     "shell.execute_reply.started": "2024-10-02T10:56:32.180633Z"
    },
    "tags": []
   },
   "outputs": [],
   "source": [
    "class SalaryPredictorModifiedPooling(nn.Module):\n",
    "    def __init__(self, n_tokens=len(tokens), n_cat_features=len(categorical_vectorizer.vocabulary_), hid_size=64):\n",
    "        super().__init__()\n",
    "\n",
    "        self.title_enc = EncoderModifiedPooling(n_tokens, hid_size)\n",
    "        self.description_enc = EncoderModifiedPooling(n_tokens, hid_size)\n",
    "        self.cat_enc = nn.Sequential(\n",
    "            nn.Linear(n_cat_features, 32),\n",
    "            nn.ReLU(),\n",
    "            nn.Linear(32, hid_size)\n",
    "        )\n",
    "        self.fc1 = nn.Linear(9 * hid_size, 64)\n",
    "        self.act1 = nn.ReLU()\n",
    "        self.fc2 = nn.Linear(64, 32)\n",
    "        self.act2 = nn.ReLU()\n",
    "        self.fc3 = nn.Linear(32, 1)\n",
    "\n",
    "    def forward(self, batch):\n",
    "        title = self.title_enc(batch['Title'])\n",
    "        description = self.description_enc(batch['FullDescription'])\n",
    "        cat = self.cat_enc(batch['Categorical'])\n",
    "        x = torch.cat((title, description, cat), 1)\n",
    "\n",
    "        x = self.fc1(x)\n",
    "        x = self.act1(x)\n",
    "        x = self.fc2(x)\n",
    "        x = self.act2(x)\n",
    "        x = self.fc3(x)\n",
    "\n",
    "        return torch.squeeze(x)"
   ]
  },
  {
   "cell_type": "code",
   "execution_count": 36,
   "metadata": {
    "_kg_hide-input": false,
    "execution": {
     "iopub.execute_input": "2024-10-02T10:56:32.225609Z",
     "iopub.status.busy": "2024-10-02T10:56:32.224216Z",
     "iopub.status.idle": "2024-10-02T11:14:58.887642Z",
     "shell.execute_reply": "2024-10-02T11:14:58.886849Z",
     "shell.execute_reply.started": "2024-10-02T10:56:32.225576Z"
    },
    "tags": []
   },
   "outputs": [
    {
     "name": "stdout",
     "output_type": "stream",
     "text": [
      "epoch: 0\n"
     ]
    },
    {
     "name": "stderr",
     "output_type": "stream",
     "text": [
      "9791it [01:38, 99.54it/s]                           \n"
     ]
    },
    {
     "name": "stdout",
     "output_type": "stream",
     "text": [
      " results:\n",
      "Mean square error: 0.30296\n",
      "Mean absolute error: 0.47087\n",
      "epoch: 1\n"
     ]
    },
    {
     "name": "stderr",
     "output_type": "stream",
     "text": [
      "9791it [01:35, 102.17it/s]                          \n"
     ]
    },
    {
     "name": "stdout",
     "output_type": "stream",
     "text": [
      " results:\n",
      "Mean square error: 0.11122\n",
      "Mean absolute error: 0.25774\n",
      "epoch: 2\n"
     ]
    },
    {
     "name": "stderr",
     "output_type": "stream",
     "text": [
      "9791it [01:39, 98.20it/s]                           \n"
     ]
    },
    {
     "name": "stdout",
     "output_type": "stream",
     "text": [
      " results:\n",
      "Mean square error: 0.09273\n",
      "Mean absolute error: 0.22973\n",
      "epoch: 3\n"
     ]
    },
    {
     "name": "stderr",
     "output_type": "stream",
     "text": [
      "9791it [01:40, 97.46it/s]                           \n"
     ]
    },
    {
     "name": "stdout",
     "output_type": "stream",
     "text": [
      " results:\n",
      "Mean square error: 0.08596\n",
      "Mean absolute error: 0.21956\n",
      "epoch: 4\n"
     ]
    },
    {
     "name": "stderr",
     "output_type": "stream",
     "text": [
      "9791it [01:39, 98.03it/s]                           \n"
     ]
    },
    {
     "name": "stdout",
     "output_type": "stream",
     "text": [
      " results:\n",
      "Mean square error: 0.15841\n",
      "Mean absolute error: 0.32278\n",
      "epoch: 5\n"
     ]
    },
    {
     "name": "stderr",
     "output_type": "stream",
     "text": [
      "9791it [01:38, 99.12it/s]                           \n"
     ]
    },
    {
     "name": "stdout",
     "output_type": "stream",
     "text": [
      " results:\n",
      "Mean square error: 0.08424\n",
      "Mean absolute error: 0.21902\n",
      "epoch: 6\n"
     ]
    },
    {
     "name": "stderr",
     "output_type": "stream",
     "text": [
      "9791it [01:36, 101.48it/s]                          \n"
     ]
    },
    {
     "name": "stdout",
     "output_type": "stream",
     "text": [
      " results:\n",
      "Mean square error: 0.07686\n",
      "Mean absolute error: 0.20583\n",
      "epoch: 7\n"
     ]
    },
    {
     "name": "stderr",
     "output_type": "stream",
     "text": [
      "9791it [01:37, 100.56it/s]                          \n"
     ]
    },
    {
     "name": "stdout",
     "output_type": "stream",
     "text": [
      " results:\n",
      "Mean square error: 0.07546\n",
      "Mean absolute error: 0.20375\n",
      "epoch: 8\n"
     ]
    },
    {
     "name": "stderr",
     "output_type": "stream",
     "text": [
      "9791it [01:38, 99.73it/s]                           \n"
     ]
    },
    {
     "name": "stdout",
     "output_type": "stream",
     "text": [
      " results:\n",
      "Mean square error: 0.07467\n",
      "Mean absolute error: 0.20342\n",
      "epoch: 9\n"
     ]
    },
    {
     "name": "stderr",
     "output_type": "stream",
     "text": [
      "9791it [01:35, 102.50it/s]                          \n"
     ]
    },
    {
     "name": "stdout",
     "output_type": "stream",
     "text": [
      " results:\n",
      "Mean square error: 0.07296\n",
      "Mean absolute error: 0.20078\n"
     ]
    }
   ],
   "source": [
    "BATCH_SIZE = 20\n",
    "EPOCHS = 10\n",
    "\n",
    "device = torch.device(\"cuda\" if torch.cuda.is_available() else \"cpu\")\n",
    "model_modified_pooling= SalaryPredictorModifiedPooling().to(device)\n",
    "criterion = nn.MSELoss(reduction='sum')\n",
    "optimizer = torch.optim.SGD(model_modified_pooling.parameters(), lr=1e-4)\n",
    "\n",
    "mse_loss_modified_pooling = []\n",
    "mae_loss_modified_pooling = []\n",
    "\n",
    "for epoch in range(EPOCHS):\n",
    "    print(f\"epoch: {epoch}\")\n",
    "    model_modified_pooling.train()\n",
    "    for i, batch in tqdm(enumerate(\n",
    "            iterate_minibatches(data_train, batch_size=BATCH_SIZE, device=device)),\n",
    "            total=len(data_train) // BATCH_SIZE\n",
    "        ):\n",
    "        pred = model_modified_pooling(batch)\n",
    "        loss = criterion(pred, batch[TARGET_COLUMN])\n",
    "        optimizer.zero_grad()\n",
    "        loss.backward()\n",
    "        optimizer.step()\n",
    "\n",
    "    mse, mae = print_metrics(model_modified_pooling, data_val, device=device)\n",
    "    mse_loss_modified_pooling.append(mse)\n",
    "    mae_loss_modified_pooling.append(mae)\n"
   ]
  },
  {
   "cell_type": "code",
   "execution_count": 37,
   "metadata": {
    "execution": {
     "iopub.execute_input": "2024-10-02T11:14:58.889672Z",
     "iopub.status.busy": "2024-10-02T11:14:58.888675Z",
     "iopub.status.idle": "2024-10-02T11:14:59.104696Z",
     "shell.execute_reply": "2024-10-02T11:14:59.103861Z",
     "shell.execute_reply.started": "2024-10-02T11:14:58.889632Z"
    }
   },
   "outputs": [
    {
     "data": {
      "image/png": "[encoded data removed]",
      "text/plain": [
       "<Figure size 640x480 with 1 Axes>"
      ]
     },
     "metadata": {},
     "output_type": "display_data"
    }
   ],
   "source": [
    "plt.plot(np.array(mse_loss_modified_pooling), color='r', label='mse loss with modified pooling')\n",
    "plt.plot(np.array(mae_loss_modified_pooling), color='b', label='mae loss with modified pooling')\n",
    "plt.legend()\n",
    "plt.title('Modified Pooling')\n",
    "plt.show()"
   ]
  },
  {
   "cell_type": "code",
   "execution_count": 40,
   "metadata": {
    "execution": {
     "iopub.execute_input": "2024-10-02T11:19:10.788205Z",
     "iopub.status.busy": "2024-10-02T11:19:10.787107Z",
     "iopub.status.idle": "2024-10-02T11:19:10.812411Z",
     "shell.execute_reply": "2024-10-02T11:19:10.811594Z",
     "shell.execute_reply.started": "2024-10-02T11:19:10.788161Z"
    },
    "tags": []
   },
   "outputs": [],
   "source": [
    "embed_len = 300\n",
    "\n",
    "\n",
    "class EncoderMoreAttentive(nn.Module):\n",
    "    def __init__(self, n_tokens=len(tokens), hid_size=64):\n",
    "        super().__init__()\n",
    "        self.emb = nn.Embedding(n_tokens, embed_len)\n",
    "        self.conv1 = nn.Conv1d(embed_len, hid_size, kernel_size=(3,))\n",
    "        self.attn1 = nn.Linear(hid_size, 1)\n",
    "        self.attn2 = nn.Linear(hid_size, 1)\n",
    "        self.attn3 = nn.Linear(hid_size, 1)\n",
    "\n",
    "    def forward(self, matrix):\n",
    "        matrix = self.conv1(self.emb(matrix).swapaxes(1, 2))\n",
    "        emb_max_pool = torch.max(matrix, dim=-1).values\n",
    "        emb_avg_pool = torch.mean(matrix, dim=-1)\n",
    "        emb_softmax_pool = torch.sum(matrix * torch.softmax(matrix, dim=-1), dim=-1)\n",
    "        \n",
    "        matrix = matrix.swapaxes(1, 2)\n",
    "        \n",
    "        attn_weights1 = self.attn1(matrix)\n",
    "        emb_attn_pool1 = torch.sum(matrix * torch.softmax(attn_weights1, dim=1), dim=1)\n",
    "        \n",
    "        attn_weights2 = self.attn2(matrix)\n",
    "        emb_attn_pool2 = torch.sum(matrix * torch.softmax(attn_weights2, dim=1), dim=1)\n",
    "        \n",
    "        attn_weights3 = self.attn3(matrix)\n",
    "        emb_attn_pool3 = torch.sum(matrix * torch.softmax(attn_weights3, dim=1), dim=1)\n",
    "\n",
    "        return torch.cat((emb_max_pool, emb_avg_pool, emb_softmax_pool, emb_attn_pool1, emb_attn_pool2, emb_attn_pool3), 1)\n",
    "        #return emb1\n",
    "        \n",
    "        \n",
    "class SalaryPredictorMoreAttentive(nn.Module):\n",
    "    def __init__(self, n_tokens=len(tokens), n_cat_features=len(categorical_vectorizer.vocabulary_), hid_size=64):\n",
    "        super().__init__()\n",
    "\n",
    "        self.title_enc = EncoderMoreAttentive(n_tokens, hid_size)\n",
    "        self.description_enc = EncoderMoreAttentive(n_tokens, hid_size)\n",
    "        self.cat_enc = nn.Sequential(\n",
    "            nn.Linear(n_cat_features, 32),\n",
    "            nn.ReLU(),\n",
    "            nn.Linear(32, hid_size)\n",
    "        )\n",
    "        self.fc1 = nn.Linear(13 * hid_size, 64)\n",
    "        self.act1 = nn.ReLU()\n",
    "        self.fc2 = nn.Linear(64, 32)\n",
    "        self.act2 = nn.ReLU()\n",
    "        self.fc3 = nn.Linear(32, 1)\n",
    "\n",
    "    def forward(self, batch):\n",
    "        title = self.title_enc(batch['Title'])\n",
    "        description = self.description_enc(batch['FullDescription'])\n",
    "        cat = self.cat_enc(batch['Categorical'])\n",
    "        x = torch.cat((title, description, cat), 1)\n",
    "\n",
    "        x = self.fc1(x)\n",
    "        x = self.act1(x)\n",
    "        x = self.fc2(x)\n",
    "        x = self.act2(x)\n",
    "        x = self.fc3(x)\n",
    "\n",
    "        return torch.squeeze(x)"
   ]
  },
  {
   "cell_type": "code",
   "execution_count": 41,
   "metadata": {
    "execution": {
     "iopub.execute_input": "2024-10-02T11:19:11.619791Z",
     "iopub.status.busy": "2024-10-02T11:19:11.618724Z",
     "iopub.status.idle": "2024-10-02T11:39:38.287174Z",
     "shell.execute_reply": "2024-10-02T11:39:38.286307Z",
     "shell.execute_reply.started": "2024-10-02T11:19:11.619742Z"
    },
    "tags": []
   },
   "outputs": [
    {
     "name": "stdout",
     "output_type": "stream",
     "text": [
      "epoch: 0\n"
     ]
    },
    {
     "name": "stderr",
     "output_type": "stream",
     "text": [
      "9791it [01:51, 87.88it/s]                          \n"
     ]
    },
    {
     "name": "stdout",
     "output_type": "stream",
     "text": [
      " results:\n",
      "Mean square error: 0.13044\n",
      "Mean absolute error: 0.28086\n",
      "epoch: 1\n"
     ]
    },
    {
     "name": "stderr",
     "output_type": "stream",
     "text": [
      "9791it [01:52, 87.42it/s]                          \n"
     ]
    },
    {
     "name": "stdout",
     "output_type": "stream",
     "text": [
      " results:\n",
      "Mean square error: 0.11960\n",
      "Mean absolute error: 0.26990\n",
      "epoch: 2\n"
     ]
    },
    {
     "name": "stderr",
     "output_type": "stream",
     "text": [
      "9791it [01:50, 88.24it/s]                          \n"
     ]
    },
    {
     "name": "stdout",
     "output_type": "stream",
     "text": [
      " results:\n",
      "Mean square error: 0.09286\n",
      "Mean absolute error: 0.22864\n",
      "epoch: 3\n"
     ]
    },
    {
     "name": "stderr",
     "output_type": "stream",
     "text": [
      "9791it [01:49, 89.65it/s]                          \n"
     ]
    },
    {
     "name": "stdout",
     "output_type": "stream",
     "text": [
      " results:\n",
      "Mean square error: 0.09046\n",
      "Mean absolute error: 0.22568\n",
      "epoch: 4\n"
     ]
    },
    {
     "name": "stderr",
     "output_type": "stream",
     "text": [
      "9791it [01:49, 89.12it/s]                          \n"
     ]
    },
    {
     "name": "stdout",
     "output_type": "stream",
     "text": [
      " results:\n",
      "Mean square error: 0.12572\n",
      "Mean absolute error: 0.27869\n",
      "epoch: 5\n"
     ]
    },
    {
     "name": "stderr",
     "output_type": "stream",
     "text": [
      "9791it [01:47, 91.49it/s]                          \n"
     ]
    },
    {
     "name": "stdout",
     "output_type": "stream",
     "text": [
      " results:\n",
      "Mean square error: 0.08036\n",
      "Mean absolute error: 0.21386\n",
      "epoch: 6\n"
     ]
    },
    {
     "name": "stderr",
     "output_type": "stream",
     "text": [
      "9791it [01:50, 88.89it/s]                          \n"
     ]
    },
    {
     "name": "stdout",
     "output_type": "stream",
     "text": [
      " results:\n",
      "Mean square error: 0.07507\n",
      "Mean absolute error: 0.20509\n",
      "epoch: 7\n"
     ]
    },
    {
     "name": "stderr",
     "output_type": "stream",
     "text": [
      "9791it [01:49, 89.35it/s]                          \n"
     ]
    },
    {
     "name": "stdout",
     "output_type": "stream",
     "text": [
      " results:\n",
      "Mean square error: 0.07608\n",
      "Mean absolute error: 0.20768\n",
      "epoch: 8\n"
     ]
    },
    {
     "name": "stderr",
     "output_type": "stream",
     "text": [
      "9791it [01:49, 89.65it/s]                          \n"
     ]
    },
    {
     "name": "stdout",
     "output_type": "stream",
     "text": [
      " results:\n",
      "Mean square error: 0.07236\n",
      "Mean absolute error: 0.19963\n",
      "epoch: 9\n"
     ]
    },
    {
     "name": "stderr",
     "output_type": "stream",
     "text": [
      "9791it [01:48, 90.35it/s]                          \n"
     ]
    },
    {
     "name": "stdout",
     "output_type": "stream",
     "text": [
      " results:\n",
      "Mean square error: 0.06922\n",
      "Mean absolute error: 0.19447\n"
     ]
    }
   ],
   "source": [
    "BATCH_SIZE = 20\n",
    "EPOCHS = 10\n",
    "\n",
    "device = torch.device(\"cuda\" if torch.cuda.is_available() else \"cpu\")\n",
    "model_more_attentive = SalaryPredictorMoreAttentive().to(device)\n",
    "criterion = nn.MSELoss(reduction='sum')\n",
    "optimizer = torch.optim.SGD(model_more_attentive.parameters(), lr=1e-4)\n",
    "\n",
    "mse_loss_more_attentive = []\n",
    "mae_loss_more_attentive = []\n",
    "\n",
    "for epoch in range(EPOCHS):\n",
    "    print(f\"epoch: {epoch}\")\n",
    "    model_more_attentive.train()\n",
    "    for i, batch in tqdm(enumerate(\n",
    "            iterate_minibatches(data_train, batch_size=BATCH_SIZE, device=device)),\n",
    "            total=len(data_train) // BATCH_SIZE\n",
    "        ):\n",
    "        pred = model_more_attentive(batch)\n",
    "        loss = criterion(pred, batch[TARGET_COLUMN])\n",
    "        optimizer.zero_grad()\n",
    "        loss.backward()\n",
    "        optimizer.step()\n",
    "\n",
    "    mse, mae = print_metrics(model_more_attentive, data_val, device=device)\n",
    "    mse_loss_more_attentive.append(mse)\n",
    "    mae_loss_more_attentive.append(mae)\n"
   ]
  },
  {
   "cell_type": "code",
   "execution_count": 43,
   "metadata": {
    "execution": {
     "iopub.execute_input": "2024-10-02T11:39:44.712415Z",
     "iopub.status.busy": "2024-10-02T11:39:44.711452Z",
     "iopub.status.idle": "2024-10-02T11:39:44.915388Z",
     "shell.execute_reply": "2024-10-02T11:39:44.914502Z",
     "shell.execute_reply.started": "2024-10-02T11:39:44.712372Z"
    },
    "tags": []
   },
   "outputs": [
    {
     "data": {
      "image/png": "[encoded data removed]",
      "text/plain": [
       "<Figure size 640x480 with 1 Axes>"
      ]
     },
     "metadata": {},
     "output_type": "display_data"
    }
   ],
   "source": [
    "plt.plot(np.array(mse_loss_more_attentive), color='r', label='mse loss with more attentive pooling')\n",
    "plt.plot(np.array(mae_loss_more_attentive), color='b', label='mae loss with more attentive pooling')\n",
    "plt.legend()\n",
    "plt.title('More Attentive Pooling')\n",
    "plt.show()"
   ]
  },
  {
   "cell_type": "markdown",
   "metadata": {
    "tags": []
   },
   "source": [
    "## Вывод пункта В\n",
    "Какой эксперимент: Добавление нескольких attentive пуллингов\n",
    "\n",
    "Бейзлайн: модель с 3 линейными слоями, с одной свертками, с нуля обучающиеся эмбеды размера 300, макс пуллинг, mean пуллинг, софтмакс пуллинг и attentive пуллинг\n",
    "\n",
    "Итог: Бейзлайн модель Mean square error: 0.07296, Mean absolute error: 0.20078. В модели, где в бейзлайн добавил еще 2 attentive пуллинга: Mean square error: 0.06922, Mean absolute error: 0.19447\n",
    "\n",
    "Обучение: 10 эпох, 20 размер батча, с сгд оптимайзером"
   ]
  },
  {
   "cell_type": "markdown",
   "metadata": {
    "jp-MarkdownHeadingCollapsed": true,
    "tags": []
   },
   "source": [
    "#### C) Fun with words\n",
    "\n",
    "It's not always a good idea to train embeddings from scratch. Here's a few tricks:\n",
    "\n",
    "* Use a pre-trained embeddings from `gensim.downloader.load`. See last lecture.\n",
    "* Start with pre-trained embeddings, then fine-tune them with gradient descent. You may or may not download pre-trained embeddings from [here](http://nlp.stanford.edu/data/glove.6B.zip) and follow this [manual](https://keras.io/examples/nlp/pretrained_word_embeddings/) to initialize your Keras embedding layer with downloaded weights.\n",
    "* Use the same embedding matrix in title and desc vectorizer"
   ]
  },
  {
   "cell_type": "code",
   "execution_count": 20,
   "metadata": {
    "execution": {
     "iopub.execute_input": "2024-10-02T13:30:19.288771Z",
     "iopub.status.busy": "2024-10-02T13:30:19.288249Z",
     "iopub.status.idle": "2024-10-02T13:33:23.199410Z",
     "shell.execute_reply": "2024-10-02T13:33:23.198647Z",
     "shell.execute_reply.started": "2024-10-02T13:30:19.288734Z"
    },
    "tags": []
   },
   "outputs": [],
   "source": [
    "import gensim.downloader\n",
    "embeddings = gensim.downloader.load(\"fasttext-wiki-news-subwords-300\")"
   ]
  },
  {
   "cell_type": "code",
   "execution_count": 21,
   "metadata": {
    "execution": {
     "iopub.execute_input": "2024-10-02T13:33:23.201133Z",
     "iopub.status.busy": "2024-10-02T13:33:23.200389Z",
     "iopub.status.idle": "2024-10-02T13:33:23.734393Z",
     "shell.execute_reply": "2024-10-02T13:33:23.733571Z",
     "shell.execute_reply.started": "2024-10-02T13:33:23.201094Z"
    },
    "tags": []
   },
   "outputs": [],
   "source": [
    "token_embeds = []\n",
    "embed_len = 300\n",
    "\n",
    "for token in tokens:\n",
    "    try:\n",
    "        token_embeds.append(embeddings.get_vector(token))\n",
    "    except Exception:\n",
    "        token_embeds.append(np.random.normal(size=embed_len))\n",
    "\n",
    "token_embeds_np = np.array(token_embeds)\n",
    "embed_weights = torch.tensor(token_embeds_np, device=device, dtype=torch.float)"
   ]
  },
  {
   "cell_type": "code",
   "execution_count": 28,
   "metadata": {
    "execution": {
     "iopub.execute_input": "2024-10-02T15:00:27.959290Z",
     "iopub.status.busy": "2024-10-02T15:00:27.958361Z",
     "iopub.status.idle": "2024-10-02T15:00:27.976574Z",
     "shell.execute_reply": "2024-10-02T15:00:27.975854Z",
     "shell.execute_reply.started": "2024-10-02T15:00:27.959249Z"
    },
    "tags": []
   },
   "outputs": [],
   "source": [
    "embed_len = 300\n",
    "\n",
    "\n",
    "class EncoderWV(nn.Module):\n",
    "    def __init__(self, n_tokens=len(tokens), hid_size=64):\n",
    "        super().__init__()\n",
    "        self.emb = nn.Embedding(n_tokens, embed_len)\n",
    "        self.emb.weight = nn.Parameter(embed_weights, requires_grad=True)\n",
    "        self.conv1 = nn.Conv1d(embed_len, hid_size, kernel_size=(3,))\n",
    "        self.conv2 = nn.Conv1d(embed_len, hid_size, kernel_size=(2,))\n",
    "\n",
    "    def forward(self, matrix):\n",
    "        emb1 = self.conv1(self.emb(matrix).swapaxes(1, 2)).max(dim=-1).values\n",
    "        emb2 = self.conv2(self.emb(matrix).swapaxes(1, 2)).max(dim=-1).values\n",
    "\n",
    "        return torch.cat((emb1, emb2), 1)\n",
    "\n",
    "    \n",
    "class SalaryPredictorWV(nn.Module):\n",
    "    def __init__(self, n_tokens=len(tokens), n_cat_features=len(categorical_vectorizer.vocabulary_), hid_size=64):\n",
    "        super().__init__()\n",
    "\n",
    "        self.title_enc = EncoderWV(n_tokens, embed_len)\n",
    "        self.description_enc = EncoderWV(n_tokens, embed_len)\n",
    "        \n",
    "        self.cat_enc = nn.Sequential(\n",
    "            nn.Linear(n_cat_features, 32),\n",
    "            nn.ReLU(),\n",
    "            nn.Linear(32, hid_size)\n",
    "        )\n",
    "        self.fc1 = nn.Linear(hid_size + 4 * embed_len, 64)\n",
    "        self.act1 = nn.ReLU()\n",
    "        self.fc2 = nn.Linear(64, 32)\n",
    "        self.act2 = nn.ReLU()\n",
    "        self.fc3 = nn.Linear(32, 1)\n",
    "\n",
    "    def forward(self, batch):\n",
    "        title = self.title_enc(batch['Title'])\n",
    "        description = self.description_enc(batch['FullDescription'])\n",
    "        cat = self.cat_enc(batch['Categorical'])\n",
    "        x = torch.cat((title, description, cat), 1)\n",
    "\n",
    "        x = self.fc1(x)\n",
    "        x = self.act1(x)\n",
    "        x = self.fc2(x)\n",
    "        x = self.act2(x)\n",
    "        x = self.fc3(x)\n",
    "\n",
    "        return torch.squeeze(x)"
   ]
  },
  {
   "cell_type": "code",
   "execution_count": 29,
   "metadata": {
    "execution": {
     "iopub.execute_input": "2024-10-02T15:00:29.305935Z",
     "iopub.status.busy": "2024-10-02T15:00:29.305034Z",
     "iopub.status.idle": "2024-10-02T15:36:49.529168Z",
     "shell.execute_reply": "2024-10-02T15:36:49.528504Z",
     "shell.execute_reply.started": "2024-10-02T15:00:29.305895Z"
    },
    "tags": []
   },
   "outputs": [
    {
     "name": "stdout",
     "output_type": "stream",
     "text": [
      "epoch: 0\n"
     ]
    },
    {
     "name": "stderr",
     "output_type": "stream",
     "text": [
      "9791it [03:16, 49.80it/s]                          \n"
     ]
    },
    {
     "name": "stdout",
     "output_type": "stream",
     "text": [
      " results:\n",
      "Mean square error: 0.14909\n",
      "Mean absolute error: 0.30546\n",
      "epoch: 1\n"
     ]
    },
    {
     "name": "stderr",
     "output_type": "stream",
     "text": [
      "9791it [03:21, 48.61it/s]                          \n"
     ]
    },
    {
     "name": "stdout",
     "output_type": "stream",
     "text": [
      " results:\n",
      "Mean square error: 0.11088\n",
      "Mean absolute error: 0.25547\n",
      "epoch: 2\n"
     ]
    },
    {
     "name": "stderr",
     "output_type": "stream",
     "text": [
      "9791it [03:21, 48.70it/s]                          \n"
     ]
    },
    {
     "name": "stdout",
     "output_type": "stream",
     "text": [
      " results:\n",
      "Mean square error: 0.10182\n",
      "Mean absolute error: 0.24339\n",
      "epoch: 3\n"
     ]
    },
    {
     "name": "stderr",
     "output_type": "stream",
     "text": [
      "9791it [03:21, 48.48it/s]                          \n"
     ]
    },
    {
     "name": "stdout",
     "output_type": "stream",
     "text": [
      " results:\n",
      "Mean square error: 0.09187\n",
      "Mean absolute error: 0.22669\n",
      "epoch: 4\n"
     ]
    },
    {
     "name": "stderr",
     "output_type": "stream",
     "text": [
      "9791it [03:21, 48.70it/s]                          \n"
     ]
    },
    {
     "name": "stdout",
     "output_type": "stream",
     "text": [
      " results:\n",
      "Mean square error: 0.08860\n",
      "Mean absolute error: 0.22179\n",
      "epoch: 5\n"
     ]
    },
    {
     "name": "stderr",
     "output_type": "stream",
     "text": [
      "9791it [03:20, 48.91it/s]                          \n"
     ]
    },
    {
     "name": "stdout",
     "output_type": "stream",
     "text": [
      " results:\n",
      "Mean square error: 0.08582\n",
      "Mean absolute error: 0.21868\n",
      "epoch: 6\n"
     ]
    },
    {
     "name": "stderr",
     "output_type": "stream",
     "text": [
      "9791it [03:18, 49.28it/s]                          \n"
     ]
    },
    {
     "name": "stdout",
     "output_type": "stream",
     "text": [
      " results:\n",
      "Mean square error: 0.08488\n",
      "Mean absolute error: 0.21641\n",
      "epoch: 7\n"
     ]
    },
    {
     "name": "stderr",
     "output_type": "stream",
     "text": [
      "9791it [03:20, 48.94it/s]                          \n"
     ]
    },
    {
     "name": "stdout",
     "output_type": "stream",
     "text": [
      " results:\n",
      "Mean square error: 0.08620\n",
      "Mean absolute error: 0.22076\n",
      "epoch: 8\n"
     ]
    },
    {
     "name": "stderr",
     "output_type": "stream",
     "text": [
      "9791it [03:19, 49.04it/s]                          \n"
     ]
    },
    {
     "name": "stdout",
     "output_type": "stream",
     "text": [
      " results:\n",
      "Mean square error: 0.08356\n",
      "Mean absolute error: 0.21474\n",
      "epoch: 9\n"
     ]
    },
    {
     "name": "stderr",
     "output_type": "stream",
     "text": [
      "9791it [03:19, 49.10it/s]                          \n"
     ]
    },
    {
     "name": "stdout",
     "output_type": "stream",
     "text": [
      " results:\n",
      "Mean square error: 0.08033\n",
      "Mean absolute error: 0.21032\n"
     ]
    }
   ],
   "source": [
    "BATCH_SIZE = 20\n",
    "EPOCHS = 10\n",
    "\n",
    "device = torch.device(\"cuda\" if torch.cuda.is_available() else \"cpu\")\n",
    "model_wv = SalaryPredictorWV().to(device)\n",
    "criterion = nn.MSELoss(reduction='sum')\n",
    "optimizer = torch.optim.SGD(model_wv.parameters(), lr=1e-4)\n",
    "\n",
    "mse_loss_wv = []\n",
    "mae_loss_wv = []\n",
    "\n",
    "for epoch in range(EPOCHS):\n",
    "    print(f\"epoch: {epoch}\")\n",
    "    model_wv.train()\n",
    "    for i, batch in tqdm(enumerate(\n",
    "            iterate_minibatches(data_train, batch_size=BATCH_SIZE, device=device)),\n",
    "            total=len(data_train) // BATCH_SIZE\n",
    "        ):\n",
    "        pred = model_wv(batch)\n",
    "        loss = criterion(pred, batch[TARGET_COLUMN])\n",
    "        optimizer.zero_grad()\n",
    "        loss.backward()\n",
    "        optimizer.step()\n",
    "\n",
    "    mse, mae = print_metrics(model_wv, data_val, device=device)\n",
    "    mse_loss_wv.append(mse)\n",
    "    mae_loss_wv.append(mae)\n"
   ]
  },
  {
   "cell_type": "code",
   "execution_count": 30,
   "metadata": {
    "execution": {
     "iopub.execute_input": "2024-10-02T15:53:41.519581Z",
     "iopub.status.busy": "2024-10-02T15:53:41.518473Z",
     "iopub.status.idle": "2024-10-02T15:53:41.710888Z",
     "shell.execute_reply": "2024-10-02T15:53:41.710117Z",
     "shell.execute_reply.started": "2024-10-02T15:53:41.519523Z"
    },
    "tags": []
   },
   "outputs": [
    {
     "data": {
      "image/png": "[encoded data removed]",
      "text/plain": [
       "<Figure size 640x480 with 1 Axes>"
      ]
     },
     "metadata": {},
     "output_type": "display_data"
    }
   ],
   "source": [
    "plt.plot(np.array(mse_loss_wv), color='r', label='mse loss with pre-trained embeddings')\n",
    "plt.plot(np.array(mae_loss_wv), color='b', label='mae loss with pre-trained embeddings')\n",
    "plt.legend()\n",
    "plt.title('Pre-trained Embedding')\n",
    "plt.show()"
   ]
  },
  {
   "cell_type": "markdown",
   "metadata": {},
   "source": [
    "## Вывод пункта C\n",
    "Какой эксперимент: Добавление предобученных эмбеддингов\n",
    "\n",
    "Бейзлайн: такая же как в пункте А\n",
    "\n",
    "Итог: Бейзлайн модель Mean square error: 0.06764, Mean absolute error: 0.19327. В модели, где добавил фасттекст: Mean square error: 0.08033\n",
    "Mean absolute error: 0.21032\n",
    "\n",
    "Обучение: 10 эпох, 20 размер батча, с сгд оптимайзером"
   ]
  },
  {
   "cell_type": "markdown",
   "metadata": {
    "id": "dX76IShsR-i-"
   },
   "source": [
    "### A short report\n",
    "\n",
    "Please tell us what you did and how did it work.\n",
    "\n",
    "По итогу по эксперементировал с добавлением Батчнорм/Дропаут, с пуллингами и предобученными эмбеддингами. Лучше всего показала себя модель с двумя параллельными свертками"
   ]
  },
  {
   "cell_type": "markdown",
   "metadata": {
    "id": "qRtg5AjTXvXv"
   },
   "source": []
  },
  {
   "cell_type": "markdown",
   "metadata": {
    "id": "W4PuuBdrR-i-"
   },
   "source": [
    "## Recommended options\n",
    "\n",
    "#### A) CNN architecture\n",
    "\n",
    "All the tricks you know about dense and convolutional neural networks apply here as well.\n",
    "* Dropout. Nuff said.\n",
    "* Batch Norm. This time it's `nn.BatchNorm*`/`L.BatchNormalization`\n",
    "* Parallel convolution layers. The idea is that you apply several nn.Conv1d to the same embeddings and concatenate output channels.\n",
    "* More layers, more neurons, ya know...\n",
    "\n",
    "\n",
    "#### B) Play with pooling\n",
    "\n",
    "There's more than one way to perform pooling:\n",
    "* Max over time (independently for each feature)\n",
    "* Average over time (excluding PAD)\n",
    "* Softmax-pooling:\n",
    "$$ out_{i, t} = \\sum_t {h_{i,t} \\cdot {{e ^ {h_{i, t}}} \\over \\sum_\\tau e ^ {h_{j, \\tau}} } }$$\n",
    "\n",
    "* Attentive pooling\n",
    "$$ out_{i, t} = \\sum_t {h_{i,t} \\cdot Attn(h_t)}$$\n",
    "\n",
    ", where $$ Attn(h_t) = {{e ^ {NN_{attn}(h_t)}} \\over \\sum_\\tau e ^ {NN_{attn}(h_\\tau)}}  $$\n",
    "and $NN_{attn}$ is a dense layer.\n",
    "\n",
    "The optimal score is usually achieved by concatenating several different poolings, including several attentive pooling with different $NN_{attn}$ (aka multi-headed attention).\n",
    "\n",
    "The catch is that keras layers do not inlude those toys. You will have to [write your own keras layer](https://keras.io/layers/writing-your-own-keras-layers/). Or use pure tensorflow, it might even be easier :)\n",
    "\n",
    "#### C) Fun with words\n",
    "\n",
    "It's not always a good idea to train embeddings from scratch. Here's a few tricks:\n",
    "\n",
    "* Use a pre-trained embeddings from `gensim.downloader.load`. See last lecture.\n",
    "* Start with pre-trained embeddings, then fine-tune them with gradient descent. You may or may not download pre-trained embeddings from [here](http://nlp.stanford.edu/data/glove.6B.zip) and follow this [manual](https://keras.io/examples/nlp/pretrained_word_embeddings/) to initialize your Keras embedding layer with downloaded weights.\n",
    "* Use the same embedding matrix in title and desc vectorizer\n",
    "\n",
    "\n",
    "#### D) Going recurrent\n",
    "\n",
    "We've already learned that recurrent networks can do cool stuff in sequence modelling. Turns out, they're not useless for classification as well. With some tricks of course..\n",
    "\n",
    "* Like convolutional layers, LSTM should be pooled into a fixed-size vector with some of the poolings.\n",
    "* Since you know all the text in advance, use bidirectional RNN\n",
    "  * Run one LSTM from left to right\n",
    "  * Run another in parallel from right to left\n",
    "  * Concatenate their output sequences along unit axis (dim=-1)\n",
    "\n",
    "* It might be good idea to mix convolutions and recurrent layers differently for title and description\n",
    "\n",
    "\n",
    "#### E) Optimizing seriously\n",
    "\n",
    "* You don't necessarily need 100 epochs. Use early stopping. If you've never done this before, take a look at [early stopping callback(keras)](https://keras.io/callbacks/#earlystopping) or in [pytorch(lightning)](https://pytorch-lightning.readthedocs.io/en/latest/common/early_stopping.html).\n",
    "  * In short, train until you notice that validation\n",
    "  * Maintain the best-on-validation snapshot via `model.save(file_name)`\n",
    "  * Plotting learning curves is usually a good idea\n",
    "  \n",
    "Good luck! And may the force be with you!"
   ]
  },
  {
   "cell_type": "code",
   "execution_count": null,
   "metadata": {
    "id": "x0gCKC9NR-i_"
   },
   "outputs": [],
   "source": []
  }
 ],
 "metadata": {
  "accelerator": "GPU",
  "colab": {
   "gpuType": "T4",
   "provenance": []
  },
  "kaggle": {
   "accelerator": "gpu",
   "dataSources": [
    {
     "datasetId": 5777035,
     "sourceId": 9494194,
     "sourceType": "datasetVersion"
    }
   ],
   "dockerImageVersionId": 30776,
   "isGpuEnabled": true,
   "isInternetEnabled": true,
   "language": "python",
   "sourceType": "notebook"
  },
  "kernelspec": {
   "display_name": "DataSphere Kernel",
   "language": "python",
   "name": "python3"
  },
  "language_info": {
   "codemirror_mode": {
    "name": "ipython",
    "version": 3
   },
   "file_extension": ".py",
   "mimetype": "text/x-python",
   "name": "python",
   "nbconvert_exporter": "python",
   "pygments_lexer": "ipython3",
   "version": "3.10.12"
  },
  "widgets": {
   "application/vnd.jupyter.widget-state+json": {
    "06b2b57451d94ab88866d4cf0a43518f": {
     "model_module": "@jupyter-widgets/controls",
     "model_module_version": "1.5.0",
     "model_name": "DescriptionStyleModel",
     "state": {
      "_model_module": "@jupyter-widgets/controls",
      "_model_module_version": "1.5.0",
      "_model_name": "DescriptionStyleModel",
      "_view_count": null,
      "_view_module": "@jupyter-widgets/base",
      "_view_module_version": "1.2.0",
      "_view_name": "StyleView",
      "description_width": ""
     }
    },
    "078b42b76b304ddf8a18be04641e90af": {
     "model_module": "@jupyter-widgets/controls",
     "model_module_version": "1.5.0",
     "model_name": "HBoxModel",
     "state": {
      "_dom_classes": [],
      "_model_module": "@jupyter-widgets/controls",
      "_model_module_version": "1.5.0",
      "_model_name": "HBoxModel",
      "_view_count": null,
      "_view_module": "@jupyter-widgets/controls",
      "_view_module_version": "1.5.0",
      "_view_name": "HBoxView",
      "box_style": "",
      "children": [
       "IPY_MODEL_a9a7315c29cd4ef79cd89e9597e5c3fe",
       "IPY_MODEL_a0f6f3a0b7b34ce6a264d8885fa7e3eb",
       "IPY_MODEL_8cf6c59bbf404fa793fc5128eb276d0f"
      ],
      "layout": "IPY_MODEL_e3ffe5c4234a41399d43390a279dfea2"
     }
    },
    "092162a44f9e437baa6e877111c8bfb6": {
     "model_module": "@jupyter-widgets/controls",
     "model_module_version": "1.5.0",
     "model_name": "FloatProgressModel",
     "state": {
      "_dom_classes": [],
      "_model_module": "@jupyter-widgets/controls",
      "_model_module_version": "1.5.0",
      "_model_name": "FloatProgressModel",
      "_view_count": null,
      "_view_module": "@jupyter-widgets/controls",
      "_view_module_version": "1.5.0",
      "_view_name": "ProgressView",
      "bar_style": "success",
      "description": "",
      "description_tooltip": null,
      "layout": "IPY_MODEL_48b3c938dd7140e19ae7128dcc97c695",
      "max": 9790,
      "min": 0,
      "orientation": "horizontal",
      "style": "IPY_MODEL_3a5eba535f814a38a2ef249aa170c78a",
      "value": 9790
     }
    },
    "0accc6f6f7af46f4a11caaca9c94b0ea": {
     "model_module": "@jupyter-widgets/base",
     "model_module_version": "1.2.0",
     "model_name": "LayoutModel",
     "state": {
      "_model_module": "@jupyter-widgets/base",
      "_model_module_version": "1.2.0",
      "_model_name": "LayoutModel",
      "_view_count": null,
      "_view_module": "@jupyter-widgets/base",
      "_view_module_version": "1.2.0",
      "_view_name": "LayoutView",
      "align_content": null,
      "align_items": null,
      "align_self": null,
      "border": null,
      "bottom": null,
      "display": null,
      "flex": null,
      "flex_flow": null,
      "grid_area": null,
      "grid_auto_columns": null,
      "grid_auto_flow": null,
      "grid_auto_rows": null,
      "grid_column": null,
      "grid_gap": null,
      "grid_row": null,
      "grid_template_areas": null,
      "grid_template_columns": null,
      "grid_template_rows": null,
      "height": null,
      "justify_content": null,
      "justify_items": null,
      "left": null,
      "margin": null,
      "max_height": null,
      "max_width": null,
      "min_height": null,
      "min_width": null,
      "object_fit": null,
      "object_position": null,
      "order": null,
      "overflow": null,
      "overflow_x": null,
      "overflow_y": null,
      "padding": null,
      "right": null,
      "top": null,
      "visibility": null,
      "width": null
     }
    },
    "20191c6bcca8419aa622191380875842": {
     "model_module": "@jupyter-widgets/controls",
     "model_module_version": "1.5.0",
     "model_name": "HBoxModel",
     "state": {
      "_dom_classes": [],
      "_model_module": "@jupyter-widgets/controls",
      "_model_module_version": "1.5.0",
      "_model_name": "HBoxModel",
      "_view_count": null,
      "_view_module": "@jupyter-widgets/controls",
      "_view_module_version": "1.5.0",
      "_view_name": "HBoxView",
      "box_style": "",
      "children": [
       "IPY_MODEL_d3cdea47c5a847119ccf2fef70d8d99f",
       "IPY_MODEL_092162a44f9e437baa6e877111c8bfb6",
       "IPY_MODEL_f222f311de934c22bf0601fc55c74d19"
      ],
      "layout": "IPY_MODEL_c5b5f1b9af5543af97823b8af7123379"
     }
    },
    "284e94a19fbf4a3c8536bc15f6dfea87": {
     "model_module": "@jupyter-widgets/base",
     "model_module_version": "1.2.0",
     "model_name": "LayoutModel",
     "state": {
      "_model_module": "@jupyter-widgets/base",
      "_model_module_version": "1.2.0",
      "_model_name": "LayoutModel",
      "_view_count": null,
      "_view_module": "@jupyter-widgets/base",
      "_view_module_version": "1.2.0",
      "_view_name": "LayoutView",
      "align_content": null,
      "align_items": null,
      "align_self": null,
      "border": null,
      "bottom": null,
      "display": null,
      "flex": null,
      "flex_flow": null,
      "grid_area": null,
      "grid_auto_columns": null,
      "grid_auto_flow": null,
      "grid_auto_rows": null,
      "grid_column": null,
      "grid_gap": null,
      "grid_row": null,
      "grid_template_areas": null,
      "grid_template_columns": null,
      "grid_template_rows": null,
      "height": null,
      "justify_content": null,
      "justify_items": null,
      "left": null,
      "margin": null,
      "max_height": null,
      "max_width": null,
      "min_height": null,
      "min_width": null,
      "object_fit": null,
      "object_position": null,
      "order": null,
      "overflow": null,
      "overflow_x": null,
      "overflow_y": null,
      "padding": null,
      "right": null,
      "top": null,
      "visibility": null,
      "width": null
     }
    },
    "2a41b737b3fe4570b3c74269de866cf1": {
     "model_module": "@jupyter-widgets/controls",
     "model_module_version": "1.5.0",
     "model_name": "DescriptionStyleModel",
     "state": {
      "_model_module": "@jupyter-widgets/controls",
      "_model_module_version": "1.5.0",
      "_model_name": "DescriptionStyleModel",
      "_view_count": null,
      "_view_module": "@jupyter-widgets/base",
      "_view_module_version": "1.2.0",
      "_view_name": "StyleView",
      "description_width": ""
     }
    },
    "36203aaae0e9449b9853f960cc6e5336": {
     "model_module": "@jupyter-widgets/controls",
     "model_module_version": "1.5.0",
     "model_name": "HBoxModel",
     "state": {
      "_dom_classes": [],
      "_model_module": "@jupyter-widgets/controls",
      "_model_module_version": "1.5.0",
      "_model_name": "HBoxModel",
      "_view_count": null,
      "_view_module": "@jupyter-widgets/controls",
      "_view_module_version": "1.5.0",
      "_view_name": "HBoxView",
      "box_style": "",
      "children": [
       "IPY_MODEL_7436741ce09b4985a88428fdde08a298",
       "IPY_MODEL_87bad18a077e445d94fdcf658ab92233",
       "IPY_MODEL_b267ced34e9449419d8af624860f3b10"
      ],
      "layout": "IPY_MODEL_88cf6eac65be4339b8ad910d38246330"
     }
    },
    "374ae915201446bebc0a4f0fa80a69f3": {
     "model_module": "@jupyter-widgets/controls",
     "model_module_version": "1.5.0",
     "model_name": "DescriptionStyleModel",
     "state": {
      "_model_module": "@jupyter-widgets/controls",
      "_model_module_version": "1.5.0",
      "_model_name": "DescriptionStyleModel",
      "_view_count": null,
      "_view_module": "@jupyter-widgets/base",
      "_view_module_version": "1.2.0",
      "_view_name": "StyleView",
      "description_width": ""
     }
    },
    "382eac7e6ccd467c9eaeb743f7573f91": {
     "model_module": "@jupyter-widgets/controls",
     "model_module_version": "1.5.0",
     "model_name": "ProgressStyleModel",
     "state": {
      "_model_module": "@jupyter-widgets/controls",
      "_model_module_version": "1.5.0",
      "_model_name": "ProgressStyleModel",
      "_view_count": null,
      "_view_module": "@jupyter-widgets/base",
      "_view_module_version": "1.2.0",
      "_view_name": "StyleView",
      "bar_color": null,
      "description_width": ""
     }
    },
    "3a5eba535f814a38a2ef249aa170c78a": {
     "model_module": "@jupyter-widgets/controls",
     "model_module_version": "1.5.0",
     "model_name": "ProgressStyleModel",
     "state": {
      "_model_module": "@jupyter-widgets/controls",
      "_model_module_version": "1.5.0",
      "_model_name": "ProgressStyleModel",
      "_view_count": null,
      "_view_module": "@jupyter-widgets/base",
      "_view_module_version": "1.2.0",
      "_view_name": "StyleView",
      "bar_color": null,
      "description_width": ""
     }
    },
    "3c2e54d4b5964d54ac04c4d66fea83e4": {
     "model_module": "@jupyter-widgets/base",
     "model_module_version": "1.2.0",
     "model_name": "LayoutModel",
     "state": {
      "_model_module": "@jupyter-widgets/base",
      "_model_module_version": "1.2.0",
      "_model_name": "LayoutModel",
      "_view_count": null,
      "_view_module": "@jupyter-widgets/base",
      "_view_module_version": "1.2.0",
      "_view_name": "LayoutView",
      "align_content": null,
      "align_items": null,
      "align_self": null,
      "border": null,
      "bottom": null,
      "display": null,
      "flex": null,
      "flex_flow": null,
      "grid_area": null,
      "grid_auto_columns": null,
      "grid_auto_flow": null,
      "grid_auto_rows": null,
      "grid_column": null,
      "grid_gap": null,
      "grid_row": null,
      "grid_template_areas": null,
      "grid_template_columns": null,
      "grid_template_rows": null,
      "height": null,
      "justify_content": null,
      "justify_items": null,
      "left": null,
      "margin": null,
      "max_height": null,
      "max_width": null,
      "min_height": null,
      "min_width": null,
      "object_fit": null,
      "object_position": null,
      "order": null,
      "overflow": null,
      "overflow_x": null,
      "overflow_y": null,
      "padding": null,
      "right": null,
      "top": null,
      "visibility": null,
      "width": null
     }
    },
    "48b3c938dd7140e19ae7128dcc97c695": {
     "model_module": "@jupyter-widgets/base",
     "model_module_version": "1.2.0",
     "model_name": "LayoutModel",
     "state": {
      "_model_module": "@jupyter-widgets/base",
      "_model_module_version": "1.2.0",
      "_model_name": "LayoutModel",
      "_view_count": null,
      "_view_module": "@jupyter-widgets/base",
      "_view_module_version": "1.2.0",
      "_view_name": "LayoutView",
      "align_content": null,
      "align_items": null,
      "align_self": null,
      "border": null,
      "bottom": null,
      "display": null,
      "flex": null,
      "flex_flow": null,
      "grid_area": null,
      "grid_auto_columns": null,
      "grid_auto_flow": null,
      "grid_auto_rows": null,
      "grid_column": null,
      "grid_gap": null,
      "grid_row": null,
      "grid_template_areas": null,
      "grid_template_columns": null,
      "grid_template_rows": null,
      "height": null,
      "justify_content": null,
      "justify_items": null,
      "left": null,
      "margin": null,
      "max_height": null,
      "max_width": null,
      "min_height": null,
      "min_width": null,
      "object_fit": null,
      "object_position": null,
      "order": null,
      "overflow": null,
      "overflow_x": null,
      "overflow_y": null,
      "padding": null,
      "right": null,
      "top": null,
      "visibility": null,
      "width": null
     }
    },
    "66f6b36c70ec4cc6b1c96e10efd25dc0": {
     "model_module": "@jupyter-widgets/controls",
     "model_module_version": "1.5.0",
     "model_name": "HBoxModel",
     "state": {
      "_dom_classes": [],
      "_model_module": "@jupyter-widgets/controls",
      "_model_module_version": "1.5.0",
      "_model_name": "HBoxModel",
      "_view_count": null,
      "_view_module": "@jupyter-widgets/controls",
      "_view_module_version": "1.5.0",
      "_view_name": "HBoxView",
      "box_style": "",
      "children": [
       "IPY_MODEL_bfedb458b6344d0da43dee077fac8643",
       "IPY_MODEL_b155359aa9164cd0ad1143b38c40b824",
       "IPY_MODEL_97367e55c8624e10b8d69786dae488f1"
      ],
      "layout": "IPY_MODEL_ca3a3417cfcb4d8db40530cdf187d990"
     }
    },
    "73049e1319764eb6b4a6ab0f185e0043": {
     "model_module": "@jupyter-widgets/base",
     "model_module_version": "1.2.0",
     "model_name": "LayoutModel",
     "state": {
      "_model_module": "@jupyter-widgets/base",
      "_model_module_version": "1.2.0",
      "_model_name": "LayoutModel",
      "_view_count": null,
      "_view_module": "@jupyter-widgets/base",
      "_view_module_version": "1.2.0",
      "_view_name": "LayoutView",
      "align_content": null,
      "align_items": null,
      "align_self": null,
      "border": null,
      "bottom": null,
      "display": null,
      "flex": null,
      "flex_flow": null,
      "grid_area": null,
      "grid_auto_columns": null,
      "grid_auto_flow": null,
      "grid_auto_rows": null,
      "grid_column": null,
      "grid_gap": null,
      "grid_row": null,
      "grid_template_areas": null,
      "grid_template_columns": null,
      "grid_template_rows": null,
      "height": null,
      "justify_content": null,
      "justify_items": null,
      "left": null,
      "margin": null,
      "max_height": null,
      "max_width": null,
      "min_height": null,
      "min_width": null,
      "object_fit": null,
      "object_position": null,
      "order": null,
      "overflow": null,
      "overflow_x": null,
      "overflow_y": null,
      "padding": null,
      "right": null,
      "top": null,
      "visibility": null,
      "width": null
     }
    },
    "7436741ce09b4985a88428fdde08a298": {
     "model_module": "@jupyter-widgets/controls",
     "model_module_version": "1.5.0",
     "model_name": "HTMLModel",
     "state": {
      "_dom_classes": [],
      "_model_module": "@jupyter-widgets/controls",
      "_model_module_version": "1.5.0",
      "_model_name": "HTMLModel",
      "_view_count": null,
      "_view_module": "@jupyter-widgets/controls",
      "_view_module_version": "1.5.0",
      "_view_name": "HTMLView",
      "description": "",
      "description_tooltip": null,
      "layout": "IPY_MODEL_3c2e54d4b5964d54ac04c4d66fea83e4",
      "placeholder": "​",
      "style": "IPY_MODEL_8fc1e091543c4a18b80f2d48f0f5804c",
      "value": ""
     }
    },
    "749740b03da14f608c24da76a3f94578": {
     "model_module": "@jupyter-widgets/controls",
     "model_module_version": "1.5.0",
     "model_name": "DescriptionStyleModel",
     "state": {
      "_model_module": "@jupyter-widgets/controls",
      "_model_module_version": "1.5.0",
      "_model_name": "DescriptionStyleModel",
      "_view_count": null,
      "_view_module": "@jupyter-widgets/base",
      "_view_module_version": "1.2.0",
      "_view_name": "StyleView",
      "description_width": ""
     }
    },
    "7ec35ed304f3416087d4d714d119eef5": {
     "model_module": "@jupyter-widgets/base",
     "model_module_version": "1.2.0",
     "model_name": "LayoutModel",
     "state": {
      "_model_module": "@jupyter-widgets/base",
      "_model_module_version": "1.2.0",
      "_model_name": "LayoutModel",
      "_view_count": null,
      "_view_module": "@jupyter-widgets/base",
      "_view_module_version": "1.2.0",
      "_view_name": "LayoutView",
      "align_content": null,
      "align_items": null,
      "align_self": null,
      "border": null,
      "bottom": null,
      "display": null,
      "flex": null,
      "flex_flow": null,
      "grid_area": null,
      "grid_auto_columns": null,
      "grid_auto_flow": null,
      "grid_auto_rows": null,
      "grid_column": null,
      "grid_gap": null,
      "grid_row": null,
      "grid_template_areas": null,
      "grid_template_columns": null,
      "grid_template_rows": null,
      "height": null,
      "justify_content": null,
      "justify_items": null,
      "left": null,
      "margin": null,
      "max_height": null,
      "max_width": null,
      "min_height": null,
      "min_width": null,
      "object_fit": null,
      "object_position": null,
      "order": null,
      "overflow": null,
      "overflow_x": null,
      "overflow_y": null,
      "padding": null,
      "right": null,
      "top": null,
      "visibility": null,
      "width": null
     }
    },
    "87bad18a077e445d94fdcf658ab92233": {
     "model_module": "@jupyter-widgets/controls",
     "model_module_version": "1.5.0",
     "model_name": "FloatProgressModel",
     "state": {
      "_dom_classes": [],
      "_model_module": "@jupyter-widgets/controls",
      "_model_module_version": "1.5.0",
      "_model_name": "FloatProgressModel",
      "_view_count": null,
      "_view_module": "@jupyter-widgets/controls",
      "_view_module_version": "1.5.0",
      "_view_name": "ProgressView",
      "bar_style": "success",
      "description": "",
      "description_tooltip": null,
      "layout": "IPY_MODEL_0accc6f6f7af46f4a11caaca9c94b0ea",
      "max": 9790,
      "min": 0,
      "orientation": "horizontal",
      "style": "IPY_MODEL_382eac7e6ccd467c9eaeb743f7573f91",
      "value": 9790
     }
    },
    "88cf6eac65be4339b8ad910d38246330": {
     "model_module": "@jupyter-widgets/base",
     "model_module_version": "1.2.0",
     "model_name": "LayoutModel",
     "state": {
      "_model_module": "@jupyter-widgets/base",
      "_model_module_version": "1.2.0",
      "_model_name": "LayoutModel",
      "_view_count": null,
      "_view_module": "@jupyter-widgets/base",
      "_view_module_version": "1.2.0",
      "_view_name": "LayoutView",
      "align_content": null,
      "align_items": null,
      "align_self": null,
      "border": null,
      "bottom": null,
      "display": null,
      "flex": null,
      "flex_flow": null,
      "grid_area": null,
      "grid_auto_columns": null,
      "grid_auto_flow": null,
      "grid_auto_rows": null,
      "grid_column": null,
      "grid_gap": null,
      "grid_row": null,
      "grid_template_areas": null,
      "grid_template_columns": null,
      "grid_template_rows": null,
      "height": null,
      "justify_content": null,
      "justify_items": null,
      "left": null,
      "margin": null,
      "max_height": null,
      "max_width": null,
      "min_height": null,
      "min_width": null,
      "object_fit": null,
      "object_position": null,
      "order": null,
      "overflow": null,
      "overflow_x": null,
      "overflow_y": null,
      "padding": null,
      "right": null,
      "top": null,
      "visibility": null,
      "width": null
     }
    },
    "8cf6c59bbf404fa793fc5128eb276d0f": {
     "model_module": "@jupyter-widgets/controls",
     "model_module_version": "1.5.0",
     "model_name": "HTMLModel",
     "state": {
      "_dom_classes": [],
      "_model_module": "@jupyter-widgets/controls",
      "_model_module_version": "1.5.0",
      "_model_name": "HTMLModel",
      "_view_count": null,
      "_view_module": "@jupyter-widgets/controls",
      "_view_module_version": "1.5.0",
      "_view_name": "HTMLView",
      "description": "",
      "description_tooltip": null,
      "layout": "IPY_MODEL_c4bd695bb3c348e1aff3a50f0724394d",
      "placeholder": "​",
      "style": "IPY_MODEL_749740b03da14f608c24da76a3f94578",
      "value": " 9791/? [01:43&lt;00:00, 107.35it/s]"
     }
    },
    "8dadcb2ee68645b18eeb57f4ac5eecb3": {
     "model_module": "@jupyter-widgets/controls",
     "model_module_version": "1.5.0",
     "model_name": "DescriptionStyleModel",
     "state": {
      "_model_module": "@jupyter-widgets/controls",
      "_model_module_version": "1.5.0",
      "_model_name": "DescriptionStyleModel",
      "_view_count": null,
      "_view_module": "@jupyter-widgets/base",
      "_view_module_version": "1.2.0",
      "_view_name": "StyleView",
      "description_width": ""
     }
    },
    "8fc1e091543c4a18b80f2d48f0f5804c": {
     "model_module": "@jupyter-widgets/controls",
     "model_module_version": "1.5.0",
     "model_name": "DescriptionStyleModel",
     "state": {
      "_model_module": "@jupyter-widgets/controls",
      "_model_module_version": "1.5.0",
      "_model_name": "DescriptionStyleModel",
      "_view_count": null,
      "_view_module": "@jupyter-widgets/base",
      "_view_module_version": "1.2.0",
      "_view_name": "StyleView",
      "description_width": ""
     }
    },
    "96217998f54e4a399ea344a764491af4": {
     "model_module": "@jupyter-widgets/base",
     "model_module_version": "1.2.0",
     "model_name": "LayoutModel",
     "state": {
      "_model_module": "@jupyter-widgets/base",
      "_model_module_version": "1.2.0",
      "_model_name": "LayoutModel",
      "_view_count": null,
      "_view_module": "@jupyter-widgets/base",
      "_view_module_version": "1.2.0",
      "_view_name": "LayoutView",
      "align_content": null,
      "align_items": null,
      "align_self": null,
      "border": null,
      "bottom": null,
      "display": null,
      "flex": null,
      "flex_flow": null,
      "grid_area": null,
      "grid_auto_columns": null,
      "grid_auto_flow": null,
      "grid_auto_rows": null,
      "grid_column": null,
      "grid_gap": null,
      "grid_row": null,
      "grid_template_areas": null,
      "grid_template_columns": null,
      "grid_template_rows": null,
      "height": null,
      "justify_content": null,
      "justify_items": null,
      "left": null,
      "margin": null,
      "max_height": null,
      "max_width": null,
      "min_height": null,
      "min_width": null,
      "object_fit": null,
      "object_position": null,
      "order": null,
      "overflow": null,
      "overflow_x": null,
      "overflow_y": null,
      "padding": null,
      "right": null,
      "top": null,
      "visibility": null,
      "width": null
     }
    },
    "97367e55c8624e10b8d69786dae488f1": {
     "model_module": "@jupyter-widgets/controls",
     "model_module_version": "1.5.0",
     "model_name": "HTMLModel",
     "state": {
      "_dom_classes": [],
      "_model_module": "@jupyter-widgets/controls",
      "_model_module_version": "1.5.0",
      "_model_name": "HTMLModel",
      "_view_count": null,
      "_view_module": "@jupyter-widgets/controls",
      "_view_module_version": "1.5.0",
      "_view_name": "HTMLView",
      "description": "",
      "description_tooltip": null,
      "layout": "IPY_MODEL_7ec35ed304f3416087d4d714d119eef5",
      "placeholder": "​",
      "style": "IPY_MODEL_f82cef869cf9442eadc50faccd81d4e0",
      "value": " 2342/9790 [00:25&lt;01:07, 109.81it/s]"
     }
    },
    "a0f6f3a0b7b34ce6a264d8885fa7e3eb": {
     "model_module": "@jupyter-widgets/controls",
     "model_module_version": "1.5.0",
     "model_name": "FloatProgressModel",
     "state": {
      "_dom_classes": [],
      "_model_module": "@jupyter-widgets/controls",
      "_model_module_version": "1.5.0",
      "_model_name": "FloatProgressModel",
      "_view_count": null,
      "_view_module": "@jupyter-widgets/controls",
      "_view_module_version": "1.5.0",
      "_view_name": "ProgressView",
      "bar_style": "success",
      "description": "",
      "description_tooltip": null,
      "layout": "IPY_MODEL_edf52ea3f6e4435184c4700a6af903c1",
      "max": 9790,
      "min": 0,
      "orientation": "horizontal",
      "style": "IPY_MODEL_da02dfe52d1b4b649d662cf9ae74ce78",
      "value": 9790
     }
    },
    "a9a7315c29cd4ef79cd89e9597e5c3fe": {
     "model_module": "@jupyter-widgets/controls",
     "model_module_version": "1.5.0",
     "model_name": "HTMLModel",
     "state": {
      "_dom_classes": [],
      "_model_module": "@jupyter-widgets/controls",
      "_model_module_version": "1.5.0",
      "_model_name": "HTMLModel",
      "_view_count": null,
      "_view_module": "@jupyter-widgets/controls",
      "_view_module_version": "1.5.0",
      "_view_name": "HTMLView",
      "description": "",
      "description_tooltip": null,
      "layout": "IPY_MODEL_96217998f54e4a399ea344a764491af4",
      "placeholder": "​",
      "style": "IPY_MODEL_e0e9b9c235ba4908926085402fd238cd",
      "value": ""
     }
    },
    "b155359aa9164cd0ad1143b38c40b824": {
     "model_module": "@jupyter-widgets/controls",
     "model_module_version": "1.5.0",
     "model_name": "FloatProgressModel",
     "state": {
      "_dom_classes": [],
      "_model_module": "@jupyter-widgets/controls",
      "_model_module_version": "1.5.0",
      "_model_name": "FloatProgressModel",
      "_view_count": null,
      "_view_module": "@jupyter-widgets/controls",
      "_view_module_version": "1.5.0",
      "_view_name": "ProgressView",
      "bar_style": "",
      "description": "",
      "description_tooltip": null,
      "layout": "IPY_MODEL_284e94a19fbf4a3c8536bc15f6dfea87",
      "max": 9790,
      "min": 0,
      "orientation": "horizontal",
      "style": "IPY_MODEL_e927bfd6315a4caa96d4376170dacd4c",
      "value": 2342
     }
    },
    "b267ced34e9449419d8af624860f3b10": {
     "model_module": "@jupyter-widgets/controls",
     "model_module_version": "1.5.0",
     "model_name": "HTMLModel",
     "state": {
      "_dom_classes": [],
      "_model_module": "@jupyter-widgets/controls",
      "_model_module_version": "1.5.0",
      "_model_name": "HTMLModel",
      "_view_count": null,
      "_view_module": "@jupyter-widgets/controls",
      "_view_module_version": "1.5.0",
      "_view_name": "HTMLView",
      "description": "",
      "description_tooltip": null,
      "layout": "IPY_MODEL_df43e19bab2c4c68823532ca04a52b60",
      "placeholder": "​",
      "style": "IPY_MODEL_06b2b57451d94ab88866d4cf0a43518f",
      "value": " 9791/? [01:45&lt;00:00, 101.38it/s]"
     }
    },
    "bfedb458b6344d0da43dee077fac8643": {
     "model_module": "@jupyter-widgets/controls",
     "model_module_version": "1.5.0",
     "model_name": "HTMLModel",
     "state": {
      "_dom_classes": [],
      "_model_module": "@jupyter-widgets/controls",
      "_model_module_version": "1.5.0",
      "_model_name": "HTMLModel",
      "_view_count": null,
      "_view_module": "@jupyter-widgets/controls",
      "_view_module_version": "1.5.0",
      "_view_name": "HTMLView",
      "description": "",
      "description_tooltip": null,
      "layout": "IPY_MODEL_73049e1319764eb6b4a6ab0f185e0043",
      "placeholder": "​",
      "style": "IPY_MODEL_374ae915201446bebc0a4f0fa80a69f3",
      "value": " 24%"
     }
    },
    "c4bd695bb3c348e1aff3a50f0724394d": {
     "model_module": "@jupyter-widgets/base",
     "model_module_version": "1.2.0",
     "model_name": "LayoutModel",
     "state": {
      "_model_module": "@jupyter-widgets/base",
      "_model_module_version": "1.2.0",
      "_model_name": "LayoutModel",
      "_view_count": null,
      "_view_module": "@jupyter-widgets/base",
      "_view_module_version": "1.2.0",
      "_view_name": "LayoutView",
      "align_content": null,
      "align_items": null,
      "align_self": null,
      "border": null,
      "bottom": null,
      "display": null,
      "flex": null,
      "flex_flow": null,
      "grid_area": null,
      "grid_auto_columns": null,
      "grid_auto_flow": null,
      "grid_auto_rows": null,
      "grid_column": null,
      "grid_gap": null,
      "grid_row": null,
      "grid_template_areas": null,
      "grid_template_columns": null,
      "grid_template_rows": null,
      "height": null,
      "justify_content": null,
      "justify_items": null,
      "left": null,
      "margin": null,
      "max_height": null,
      "max_width": null,
      "min_height": null,
      "min_width": null,
      "object_fit": null,
      "object_position": null,
      "order": null,
      "overflow": null,
      "overflow_x": null,
      "overflow_y": null,
      "padding": null,
      "right": null,
      "top": null,
      "visibility": null,
      "width": null
     }
    },
    "c5b5f1b9af5543af97823b8af7123379": {
     "model_module": "@jupyter-widgets/base",
     "model_module_version": "1.2.0",
     "model_name": "LayoutModel",
     "state": {
      "_model_module": "@jupyter-widgets/base",
      "_model_module_version": "1.2.0",
      "_model_name": "LayoutModel",
      "_view_count": null,
      "_view_module": "@jupyter-widgets/base",
      "_view_module_version": "1.2.0",
      "_view_name": "LayoutView",
      "align_content": null,
      "align_items": null,
      "align_self": null,
      "border": null,
      "bottom": null,
      "display": null,
      "flex": null,
      "flex_flow": null,
      "grid_area": null,
      "grid_auto_columns": null,
      "grid_auto_flow": null,
      "grid_auto_rows": null,
      "grid_column": null,
      "grid_gap": null,
      "grid_row": null,
      "grid_template_areas": null,
      "grid_template_columns": null,
      "grid_template_rows": null,
      "height": null,
      "justify_content": null,
      "justify_items": null,
      "left": null,
      "margin": null,
      "max_height": null,
      "max_width": null,
      "min_height": null,
      "min_width": null,
      "object_fit": null,
      "object_position": null,
      "order": null,
      "overflow": null,
      "overflow_x": null,
      "overflow_y": null,
      "padding": null,
      "right": null,
      "top": null,
      "visibility": null,
      "width": null
     }
    },
    "ca3a3417cfcb4d8db40530cdf187d990": {
     "model_module": "@jupyter-widgets/base",
     "model_module_version": "1.2.0",
     "model_name": "LayoutModel",
     "state": {
      "_model_module": "@jupyter-widgets/base",
      "_model_module_version": "1.2.0",
      "_model_name": "LayoutModel",
      "_view_count": null,
      "_view_module": "@jupyter-widgets/base",
      "_view_module_version": "1.2.0",
      "_view_name": "LayoutView",
      "align_content": null,
      "align_items": null,
      "align_self": null,
      "border": null,
      "bottom": null,
      "display": null,
      "flex": null,
      "flex_flow": null,
      "grid_area": null,
      "grid_auto_columns": null,
      "grid_auto_flow": null,
      "grid_auto_rows": null,
      "grid_column": null,
      "grid_gap": null,
      "grid_row": null,
      "grid_template_areas": null,
      "grid_template_columns": null,
      "grid_template_rows": null,
      "height": null,
      "justify_content": null,
      "justify_items": null,
      "left": null,
      "margin": null,
      "max_height": null,
      "max_width": null,
      "min_height": null,
      "min_width": null,
      "object_fit": null,
      "object_position": null,
      "order": null,
      "overflow": null,
      "overflow_x": null,
      "overflow_y": null,
      "padding": null,
      "right": null,
      "top": null,
      "visibility": null,
      "width": null
     }
    },
    "d1fa17d46269412d9c8d40d1ecf0def2": {
     "model_module": "@jupyter-widgets/base",
     "model_module_version": "1.2.0",
     "model_name": "LayoutModel",
     "state": {
      "_model_module": "@jupyter-widgets/base",
      "_model_module_version": "1.2.0",
      "_model_name": "LayoutModel",
      "_view_count": null,
      "_view_module": "@jupyter-widgets/base",
      "_view_module_version": "1.2.0",
      "_view_name": "LayoutView",
      "align_content": null,
      "align_items": null,
      "align_self": null,
      "border": null,
      "bottom": null,
      "display": null,
      "flex": null,
      "flex_flow": null,
      "grid_area": null,
      "grid_auto_columns": null,
      "grid_auto_flow": null,
      "grid_auto_rows": null,
      "grid_column": null,
      "grid_gap": null,
      "grid_row": null,
      "grid_template_areas": null,
      "grid_template_columns": null,
      "grid_template_rows": null,
      "height": null,
      "justify_content": null,
      "justify_items": null,
      "left": null,
      "margin": null,
      "max_height": null,
      "max_width": null,
      "min_height": null,
      "min_width": null,
      "object_fit": null,
      "object_position": null,
      "order": null,
      "overflow": null,
      "overflow_x": null,
      "overflow_y": null,
      "padding": null,
      "right": null,
      "top": null,
      "visibility": null,
      "width": null
     }
    },
    "d3cdea47c5a847119ccf2fef70d8d99f": {
     "model_module": "@jupyter-widgets/controls",
     "model_module_version": "1.5.0",
     "model_name": "HTMLModel",
     "state": {
      "_dom_classes": [],
      "_model_module": "@jupyter-widgets/controls",
      "_model_module_version": "1.5.0",
      "_model_name": "HTMLModel",
      "_view_count": null,
      "_view_module": "@jupyter-widgets/controls",
      "_view_module_version": "1.5.0",
      "_view_name": "HTMLView",
      "description": "",
      "description_tooltip": null,
      "layout": "IPY_MODEL_d1fa17d46269412d9c8d40d1ecf0def2",
      "placeholder": "​",
      "style": "IPY_MODEL_8dadcb2ee68645b18eeb57f4ac5eecb3",
      "value": ""
     }
    },
    "da02dfe52d1b4b649d662cf9ae74ce78": {
     "model_module": "@jupyter-widgets/controls",
     "model_module_version": "1.5.0",
     "model_name": "ProgressStyleModel",
     "state": {
      "_model_module": "@jupyter-widgets/controls",
      "_model_module_version": "1.5.0",
      "_model_name": "ProgressStyleModel",
      "_view_count": null,
      "_view_module": "@jupyter-widgets/base",
      "_view_module_version": "1.2.0",
      "_view_name": "StyleView",
      "bar_color": null,
      "description_width": ""
     }
    },
    "df43e19bab2c4c68823532ca04a52b60": {
     "model_module": "@jupyter-widgets/base",
     "model_module_version": "1.2.0",
     "model_name": "LayoutModel",
     "state": {
      "_model_module": "@jupyter-widgets/base",
      "_model_module_version": "1.2.0",
      "_model_name": "LayoutModel",
      "_view_count": null,
      "_view_module": "@jupyter-widgets/base",
      "_view_module_version": "1.2.0",
      "_view_name": "LayoutView",
      "align_content": null,
      "align_items": null,
      "align_self": null,
      "border": null,
      "bottom": null,
      "display": null,
      "flex": null,
      "flex_flow": null,
      "grid_area": null,
      "grid_auto_columns": null,
      "grid_auto_flow": null,
      "grid_auto_rows": null,
      "grid_column": null,
      "grid_gap": null,
      "grid_row": null,
      "grid_template_areas": null,
      "grid_template_columns": null,
      "grid_template_rows": null,
      "height": null,
      "justify_content": null,
      "justify_items": null,
      "left": null,
      "margin": null,
      "max_height": null,
      "max_width": null,
      "min_height": null,
      "min_width": null,
      "object_fit": null,
      "object_position": null,
      "order": null,
      "overflow": null,
      "overflow_x": null,
      "overflow_y": null,
      "padding": null,
      "right": null,
      "top": null,
      "visibility": null,
      "width": null
     }
    },
    "e0e9b9c235ba4908926085402fd238cd": {
     "model_module": "@jupyter-widgets/controls",
     "model_module_version": "1.5.0",
     "model_name": "DescriptionStyleModel",
     "state": {
      "_model_module": "@jupyter-widgets/controls",
      "_model_module_version": "1.5.0",
      "_model_name": "DescriptionStyleModel",
      "_view_count": null,
      "_view_module": "@jupyter-widgets/base",
      "_view_module_version": "1.2.0",
      "_view_name": "StyleView",
      "description_width": ""
     }
    },
    "e3ffe5c4234a41399d43390a279dfea2": {
     "model_module": "@jupyter-widgets/base",
     "model_module_version": "1.2.0",
     "model_name": "LayoutModel",
     "state": {
      "_model_module": "@jupyter-widgets/base",
      "_model_module_version": "1.2.0",
      "_model_name": "LayoutModel",
      "_view_count": null,
      "_view_module": "@jupyter-widgets/base",
      "_view_module_version": "1.2.0",
      "_view_name": "LayoutView",
      "align_content": null,
      "align_items": null,
      "align_self": null,
      "border": null,
      "bottom": null,
      "display": null,
      "flex": null,
      "flex_flow": null,
      "grid_area": null,
      "grid_auto_columns": null,
      "grid_auto_flow": null,
      "grid_auto_rows": null,
      "grid_column": null,
      "grid_gap": null,
      "grid_row": null,
      "grid_template_areas": null,
      "grid_template_columns": null,
      "grid_template_rows": null,
      "height": null,
      "justify_content": null,
      "justify_items": null,
      "left": null,
      "margin": null,
      "max_height": null,
      "max_width": null,
      "min_height": null,
      "min_width": null,
      "object_fit": null,
      "object_position": null,
      "order": null,
      "overflow": null,
      "overflow_x": null,
      "overflow_y": null,
      "padding": null,
      "right": null,
      "top": null,
      "visibility": null,
      "width": null
     }
    },
    "e927bfd6315a4caa96d4376170dacd4c": {
     "model_module": "@jupyter-widgets/controls",
     "model_module_version": "1.5.0",
     "model_name": "ProgressStyleModel",
     "state": {
      "_model_module": "@jupyter-widgets/controls",
      "_model_module_version": "1.5.0",
      "_model_name": "ProgressStyleModel",
      "_view_count": null,
      "_view_module": "@jupyter-widgets/base",
      "_view_module_version": "1.2.0",
      "_view_name": "StyleView",
      "bar_color": null,
      "description_width": ""
     }
    },
    "edf52ea3f6e4435184c4700a6af903c1": {
     "model_module": "@jupyter-widgets/base",
     "model_module_version": "1.2.0",
     "model_name": "LayoutModel",
     "state": {
      "_model_module": "@jupyter-widgets/base",
      "_model_module_version": "1.2.0",
      "_model_name": "LayoutModel",
      "_view_count": null,
      "_view_module": "@jupyter-widgets/base",
      "_view_module_version": "1.2.0",
      "_view_name": "LayoutView",
      "align_content": null,
      "align_items": null,
      "align_self": null,
      "border": null,
      "bottom": null,
      "display": null,
      "flex": null,
      "flex_flow": null,
      "grid_area": null,
      "grid_auto_columns": null,
      "grid_auto_flow": null,
      "grid_auto_rows": null,
      "grid_column": null,
      "grid_gap": null,
      "grid_row": null,
      "grid_template_areas": null,
      "grid_template_columns": null,
      "grid_template_rows": null,
      "height": null,
      "justify_content": null,
      "justify_items": null,
      "left": null,
      "margin": null,
      "max_height": null,
      "max_width": null,
      "min_height": null,
      "min_width": null,
      "object_fit": null,
      "object_position": null,
      "order": null,
      "overflow": null,
      "overflow_x": null,
      "overflow_y": null,
      "padding": null,
      "right": null,
      "top": null,
      "visibility": null,
      "width": null
     }
    },
    "f222f311de934c22bf0601fc55c74d19": {
     "model_module": "@jupyter-widgets/controls",
     "model_module_version": "1.5.0",
     "model_name": "HTMLModel",
     "state": {
      "_dom_classes": [],
      "_model_module": "@jupyter-widgets/controls",
      "_model_module_version": "1.5.0",
      "_model_name": "HTMLModel",
      "_view_count": null,
      "_view_module": "@jupyter-widgets/controls",
      "_view_module_version": "1.5.0",
      "_view_name": "HTMLView",
      "description": "",
      "description_tooltip": null,
      "layout": "IPY_MODEL_ff75136c695b4361a659ccc3de9c25ad",
      "placeholder": "​",
      "style": "IPY_MODEL_2a41b737b3fe4570b3c74269de866cf1",
      "value": " 9791/? [01:50&lt;00:00, 102.09it/s]"
     }
    },
    "f82cef869cf9442eadc50faccd81d4e0": {
     "model_module": "@jupyter-widgets/controls",
     "model_module_version": "1.5.0",
     "model_name": "DescriptionStyleModel",
     "state": {
      "_model_module": "@jupyter-widgets/controls",
      "_model_module_version": "1.5.0",
      "_model_name": "DescriptionStyleModel",
      "_view_count": null,
      "_view_module": "@jupyter-widgets/base",
      "_view_module_version": "1.2.0",
      "_view_name": "StyleView",
      "description_width": ""
     }
    },
    "ff75136c695b4361a659ccc3de9c25ad": {
     "model_module": "@jupyter-widgets/base",
     "model_module_version": "1.2.0",
     "model_name": "LayoutModel",
     "state": {
      "_model_module": "@jupyter-widgets/base",
      "_model_module_version": "1.2.0",
      "_model_name": "LayoutModel",
      "_view_count": null,
      "_view_module": "@jupyter-widgets/base",
      "_view_module_version": "1.2.0",
      "_view_name": "LayoutView",
      "align_content": null,
      "align_items": null,
      "align_self": null,
      "border": null,
      "bottom": null,
      "display": null,
      "flex": null,
      "flex_flow": null,
      "grid_area": null,
      "grid_auto_columns": null,
      "grid_auto_flow": null,
      "grid_auto_rows": null,
      "grid_column": null,
      "grid_gap": null,
      "grid_row": null,
      "grid_template_areas": null,
      "grid_template_columns": null,
      "grid_template_rows": null,
      "height": null,
      "justify_content": null,
      "justify_items": null,
      "left": null,
      "margin": null,
      "max_height": null,
      "max_width": null,
      "min_height": null,
      "min_width": null,
      "object_fit": null,
      "object_position": null,
      "order": null,
      "overflow": null,
      "overflow_x": null,
      "overflow_y": null,
      "padding": null,
      "right": null,
      "top": null,
      "visibility": null,
      "width": null
     }
    }
   }
  }
 },
 "nbformat": 4,
 "nbformat_minor": 4
}
