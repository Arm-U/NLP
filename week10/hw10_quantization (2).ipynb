{
 "cells": [
  {
   "cell_type": "markdown",
   "metadata": {
    "id": "npIrOYmGWU7b"
   },
   "source": [
    "# Model Quantization\n",
    "\n",
    "\n",
    "\n",
    "<a target=\"_blank\" href=\"https://colab.research.google.com/github/yandexdataschool/nlp_course/blob/2024/week10_efficiency/hw_quantization.ipynb\">\n",
    "\n",
    "  <img src=\"https://colab.research.google.com/assets/colab-badge.svg\" alt=\"Open In Colab\"/>\n",
    "\n",
    "</a>\n",
    "\n",
    "\n",
    "\n",
    "In this session, you're going to implement post-training quantization approaches for _Large Language Models_, ranging from naive ones to State of The Art techniques. The main goal is to implement [GPTQ](https://arxiv.org/abs/2210.17323), with some of it's newer extension left as bonus exercises.\n",
    "\n",
    "\n",
    "\n",
    "<font color='red'>Important note:</font>\n",
    "\n",
    "This homework is designed to run on colab with T4 gpu. It requires at least 15Gb of *VRAM*, 12Gb of *RAM*. If your machine meets those criteria, you should be good to go too.\n",
    "\n",
    "\n"
   ]
  },
  {
   "cell_type": "markdown",
   "metadata": {
    "id": "Ld5GgOmT2WE1"
   },
   "source": [
    "# Installing the Dependencies"
   ]
  },
  {
   "cell_type": "code",
   "execution_count": 1,
   "metadata": {
    "execution": {
     "iopub.execute_input": "2024-12-02T21:54:11.777239Z",
     "iopub.status.busy": "2024-12-02T21:54:11.776978Z",
     "iopub.status.idle": "2024-12-02T21:55:05.829196Z",
     "shell.execute_reply": "2024-12-02T21:55:05.828176Z",
     "shell.execute_reply.started": "2024-12-02T21:54:11.777213Z"
    },
    "id": "2v6kSVkV2cSS",
    "trusted": true
   },
   "outputs": [],
   "source": [
    "%%capture\n",
    "\n",
    "%pip install transformers==4.35.0\n",
    "\n",
    "%pip install sentencepiece==0.1.99\n",
    "\n",
    "%pip install datasets==2.14.6\n",
    "\n",
    "%pip install accelerate==0.24.1\n",
    "\n",
    "%pip install Ninja==1.11.1.1"
   ]
  },
  {
   "cell_type": "markdown",
   "metadata": {
    "id": "Xtpmhiksi62J"
   },
   "source": [
    "### Imports"
   ]
  },
  {
   "cell_type": "code",
   "execution_count": 2,
   "metadata": {
    "colab": {
     "base_uri": "https://localhost:8080/"
    },
    "execution": {
     "iopub.execute_input": "2024-12-02T21:55:05.831387Z",
     "iopub.status.busy": "2024-12-02T21:55:05.831096Z",
     "iopub.status.idle": "2024-12-02T21:55:12.277358Z",
     "shell.execute_reply": "2024-12-02T21:55:12.276521Z",
     "shell.execute_reply.started": "2024-12-02T21:55:05.831358Z"
    },
    "executionInfo": {
     "elapsed": 12,
     "status": "ok",
     "timestamp": 1733138169740,
     "user": {
      "displayName": "",
      "userId": ""
     },
     "user_tz": -180
    },
    "id": "cBpuR3vpi62J",
    "outputId": "ea229bf6-c8a7-4dcf-dbf5-33524d2646ca",
    "trusted": true
   },
   "outputs": [
    {
     "name": "stdout",
     "output_type": "stream",
     "text": [
      "env: CUDA_DEVICE_ORDER=PCI_BUS_ID\n",
      "env: CUDA_VISIBLE_DEVICES=0 # Change it if you're on a multy-GPU machine\n"
     ]
    },
    {
     "name": "stderr",
     "output_type": "stream",
     "text": [
      "/opt/conda/lib/python3.10/site-packages/transformers/utils/generic.py:441: FutureWarning: `torch.utils._pytree._register_pytree_node` is deprecated. Please use `torch.utils._pytree.register_pytree_node` instead.\n",
      "  _torch_pytree._register_pytree_node(\n",
      "/opt/conda/lib/python3.10/site-packages/transformers/utils/generic.py:309: FutureWarning: `torch.utils._pytree._register_pytree_node` is deprecated. Please use `torch.utils._pytree.register_pytree_node` instead.\n",
      "  _torch_pytree._register_pytree_node(\n",
      "/opt/conda/lib/python3.10/site-packages/transformers/utils/generic.py:309: FutureWarning: `torch.utils._pytree._register_pytree_node` is deprecated. Please use `torch.utils._pytree.register_pytree_node` instead.\n",
      "  _torch_pytree._register_pytree_node(\n"
     ]
    }
   ],
   "source": [
    "%env CUDA_DEVICE_ORDER=PCI_BUS_ID\n",
    "\n",
    "%env CUDA_VISIBLE_DEVICES=0 # Change it if you're on a multy-GPU machine\n",
    "\n",
    "\n",
    "\n",
    "import os\n",
    "\n",
    "import math\n",
    "\n",
    "import random\n",
    "\n",
    "from tqdm.notebook import tqdm, trange\n",
    "\n",
    "from typing import Mapping\n",
    "\n",
    "import matplotlib.pyplot as plt\n",
    "\n",
    "\n",
    "\n",
    "import torch\n",
    "\n",
    "from torch import Tensor\n",
    "\n",
    "import torch.nn as nn\n",
    "\n",
    "import torch.nn.functional as F\n",
    "\n",
    "\n",
    "\n",
    "import transformers\n",
    "\n",
    "from transformers.models.llama.modeling_llama import LlamaDecoderLayer, LlamaForCausalLM\n",
    "\n",
    "from transformers.models.llama.configuration_llama import LlamaConfig\n",
    "\n",
    "from transformers import AutoTokenizer\n",
    "\n",
    "from datasets import load_dataset"
   ]
  },
  {
   "cell_type": "markdown",
   "metadata": {
    "id": "uQkjY8Jp1OpH"
   },
   "source": [
    "# Quantizing Matrices Row-Wise"
   ]
  },
  {
   "cell_type": "markdown",
   "metadata": {
    "id": "HzEoWTNMi62K"
   },
   "source": [
    "### Basic Quantization"
   ]
  },
  {
   "cell_type": "markdown",
   "metadata": {
    "id": "OFG1FDsVi62L"
   },
   "source": [
    "**Mapping the values to the allowed range**\n",
    "\n",
    "\n",
    "\n",
    "Quantization is the process of mapping input values from a large set to output values in a smaller set. For instance, if we consider 4-bit\n",
    "\n",
    "quantization, our values are represented by $4$ bits, meaning we can represent values between 0 and $2^4-1=15$.\n",
    "\n",
    "\n",
    "\n",
    " * To produce the quantized representation, we need to be able to map the matrix values to and from this range.\n",
    "\n",
    " * For reasons that become important later, we will perform this mapping independently for each matrix row.\n",
    "\n",
    " * We will parametrize the mapping like this: $out = \\frac{in}{scale} + zero$, where $scale$ and $zero$ are row-wise constants.\n",
    "\n",
    " * For a matrix of size `(m, k)` ($m$ rows, $k$ columns) we will aggregate those parameters into two vectors `scale` and `zero` of size `(m, 1)`.\n",
    "\n",
    "\n",
    "\n",
    "**Task (0.5pt):** Complete the function below to perform this mapping:"
   ]
  },
  {
   "cell_type": "code",
   "execution_count": 4,
   "metadata": {
    "execution": {
     "iopub.execute_input": "2024-12-02T21:55:12.288397Z",
     "iopub.status.busy": "2024-12-02T21:55:12.288078Z",
     "iopub.status.idle": "2024-12-02T21:55:12.297179Z",
     "shell.execute_reply": "2024-12-02T21:55:12.296339Z",
     "shell.execute_reply.started": "2024-12-02T21:55:12.288361Z"
    },
    "id": "z1xDv2d12hw9",
    "trusted": true
   },
   "outputs": [],
   "source": [
    "def get_scale_and_zero(x: Tensor, max_abs: float) -> tuple[Tensor, Tensor]:\n",
    "\n",
    "    \"\"\" Given a tensor x of shape (m, k) and max_abs > 0 produce tensors scale and zero of shape (m, 1)\n",
    "\n",
    "        such that 0 < x / scale + zero < max_abs\"\"\"\n",
    "\n",
    "    # YOUR CODE HERE>>>>>>>>>\n",
    "\n",
    "    min_val = torch.min(x, dim=-1).values\n",
    "\n",
    "    max_val = torch.max(x, dim=-1).values\n",
    "\n",
    "\n",
    "\n",
    "    scale = (max_val - min_val) / max_abs\n",
    "\n",
    "    scale[scale == 0] = 1\n",
    "\n",
    "    zero = -min_val / scale\n",
    "\n",
    "\n",
    "\n",
    "    # <<<<<<<<<<<<<<<<<<<<<<<\n",
    "\n",
    "    return scale.unsqueeze(-1), zero.unsqueeze(-1)\n"
   ]
  },
  {
   "cell_type": "code",
   "execution_count": 5,
   "metadata": {
    "colab": {
     "base_uri": "https://localhost:8080/"
    },
    "execution": {
     "iopub.execute_input": "2024-12-02T21:55:12.298490Z",
     "iopub.status.busy": "2024-12-02T21:55:12.298163Z",
     "iopub.status.idle": "2024-12-02T21:55:12.411156Z",
     "shell.execute_reply": "2024-12-02T21:55:12.410291Z",
     "shell.execute_reply.started": "2024-12-02T21:55:12.298436Z"
    },
    "executionInfo": {
     "elapsed": 11,
     "status": "ok",
     "timestamp": 1733138169740,
     "user": {
      "displayName": "",
      "userId": ""
     },
     "user_tz": -180
    },
    "id": "aZ8TZiGyi62M",
    "outputId": "8c09c4b0-170b-42dd-f091-fdb536e7b1dc",
    "trusted": true
   },
   "outputs": [
    {
     "name": "stdout",
     "output_type": "stream",
     "text": [
      "All tests passed!\n"
     ]
    }
   ],
   "source": [
    "# Testing your code\n",
    "\n",
    "\n",
    "\n",
    "x = torch.arange(512 * 1024).reshape(512, 1024).float()\n",
    "\n",
    "scale, zero = get_scale_and_zero(x, 15)\n",
    "\n",
    "assert scale.shape == (512, 1), \"scale is wrong shape\"\n",
    "\n",
    "assert zero.shape == (512, 1), \"zero is wrong shape\"\n",
    "\n",
    "assert torch.all(scale * 15 <= 1023.1), \"Scale can't be that large. The resulting interval is too wide\"\n",
    "\n",
    "assert torch.all(scale * 15 >= 1022.9), \"Scale shouldn't be that small. The resulting interval is too narrow\"\n",
    "\n",
    "assert torch.all(-0.001 <  x / scale + zero) and torch.all(x / scale + zero < 15 + 0.001)\n",
    "\n",
    "\n",
    "\n",
    "x = torch.zeros(128, 128)\n",
    "\n",
    "scale, zero = get_scale_and_zero(x, 15)\n",
    "\n",
    "assert torch.all(scale == 1) and torch.all(scale * 15 >= 0.99), \"If all the values in a row are identical, let us set scale to 1\"\n",
    "\n",
    "print(\"All tests passed!\")"
   ]
  },
  {
   "cell_type": "markdown",
   "metadata": {
    "id": "8E1DfQaSi62N"
   },
   "source": [
    "**Quantization**\n",
    "\n",
    "\n",
    "\n",
    "Having mapped the values into the allowed range, we can simply round them to obtain the quantized matrix. Complete the functions below to perform row-wise quantization. Note that:\n",
    "\n",
    " * You should `torch.clamp(...)` the quantized values to ensure that they are in the allowed range.\n",
    "\n",
    " * Some functions return the quantized matrix, as well as the quantization constants, because we'll need them to dequantize the matrix. Use `get_scale_and_zero` to obtain the them.\n",
    "\n",
    " * Note that we cast the quantized tensor to `uint8`, but the values themselves must be in the possibly narrower range, as determined by the number of bits. Obviously, we require the latter to be less or equal than 8.\n",
    "\n",
    "\n",
    "\n",
    "**Task (0.5pt):** Complete the function below to perform quantization:"
   ]
  },
  {
   "cell_type": "code",
   "execution_count": 6,
   "metadata": {
    "execution": {
     "iopub.execute_input": "2024-12-02T21:55:12.413096Z",
     "iopub.status.busy": "2024-12-02T21:55:12.412835Z",
     "iopub.status.idle": "2024-12-02T21:55:12.423043Z",
     "shell.execute_reply": "2024-12-02T21:55:12.421401Z",
     "shell.execute_reply.started": "2024-12-02T21:55:12.413067Z"
    },
    "id": "9ZR0OZ0ai62N",
    "trusted": true
   },
   "outputs": [],
   "source": [
    "def quantize(x: Tensor, scale: Tensor, zero: Tensor, bits: int) -> Tensor:\n",
    "\n",
    "    \"\"\"Quantizes a tensor\n",
    "\n",
    "    Args:\n",
    "\n",
    "        x (Tensor): tensor to quantize\n",
    "\n",
    "        scale (Tensor): values interval mapping scale\n",
    "\n",
    "        zero (Tensor): values interval mapping zero\n",
    "\n",
    "        bits (int): number of bits to quantize to\n",
    "\n",
    "\n",
    "\n",
    "    Returns:\n",
    "\n",
    "        Tensor: quantized tensor in uint8\n",
    "\n",
    "    \"\"\"\n",
    "\n",
    "    # YOUR CODE HERE>>>>>>>>>\n",
    "\n",
    "    max_abs = 2**bits - 1\n",
    "\n",
    "    quantized_x = torch.round(x / scale + zero)\n",
    "\n",
    "    quantized_x = torch.clamp(quantized_x, 0, max_abs)\n",
    "\n",
    "    # <<<<<<<<<<<<<<<<<<<<<<<\n",
    "\n",
    "    return quantized_x.to(torch.uint8)\n",
    "\n",
    "\n",
    "\n",
    "\n",
    "\n",
    "def dequantize(quantized_x: Tensor, scale: Tensor, zero: Tensor) -> Tensor:\n",
    "\n",
    "    \"\"\"Dequantize a tensor\n",
    "\n",
    "    Args:\n",
    "\n",
    "        quantized_x (Tensor): quantized tensor in uint8\n",
    "\n",
    "        scale (Tensor): values interval mapping scale\n",
    "\n",
    "        zero (Tensor): values interval mapping zero\n",
    "\n",
    "\n",
    "\n",
    "    Returns:\n",
    "\n",
    "        Tensor: dequantized tensor\n",
    "\n",
    "    \"\"\"\n",
    "\n",
    "    # YOUR CODE HERE>>>>>>>>>\n",
    "\n",
    "    return quantized_x * scale - zero * scale\n",
    "\n",
    "    # <<<<<<<<<<<<<<<<<<<<<<<\n",
    "\n",
    "\n",
    "\n",
    "\n",
    "\n",
    "def measure_and_quantize(x: Tensor, bits: float) -> tuple[Tensor, Tensor, Tensor]:\n",
    "\n",
    "    \"\"\"Determine the values interval mapping parameters and quantize a tensor\n",
    "\n",
    "    Args:\n",
    "\n",
    "        x (Tensor): tensor to quantize\n",
    "\n",
    "        bits (float): number of bits to quantize to\n",
    "\n",
    "\n",
    "\n",
    "    Returns:\n",
    "\n",
    "        tuple[Tensor, Tensor, Tensor]: quantized tensor, scale, zero\n",
    "\n",
    "    \"\"\"\n",
    "\n",
    "    # YOUR CODE HERE>>>>>>>>>\n",
    "\n",
    "    max_abs = 2**bits - 1\n",
    "\n",
    "    scale, zero = get_scale_and_zero(x, max_abs)\n",
    "\n",
    "    x_quantized = quantize(x, scale, zero, bits)\n",
    "\n",
    "    # <<<<<<<<<<<<<<<<<<<<<<<\n",
    "\n",
    "    return x_quantized, scale, zero\n"
   ]
  },
  {
   "cell_type": "code",
   "execution_count": 7,
   "metadata": {
    "colab": {
     "base_uri": "https://localhost:8080/"
    },
    "execution": {
     "iopub.execute_input": "2024-12-02T21:55:12.425430Z",
     "iopub.status.busy": "2024-12-02T21:55:12.424932Z",
     "iopub.status.idle": "2024-12-02T21:55:12.466006Z",
     "shell.execute_reply": "2024-12-02T21:55:12.465140Z",
     "shell.execute_reply.started": "2024-12-02T21:55:12.425397Z"
    },
    "executionInfo": {
     "elapsed": 9,
     "status": "ok",
     "timestamp": 1733138169740,
     "user": {
      "displayName": "",
      "userId": ""
     },
     "user_tz": -180
    },
    "id": "WM8eIsR8i62O",
    "outputId": "6ac5b610-c7d0-40a2-befe-c6f8e26590e6",
    "trusted": true
   },
   "outputs": [
    {
     "name": "stdout",
     "output_type": "stream",
     "text": [
      "All tests passed!\n"
     ]
    }
   ],
   "source": [
    "# Testing your code\n",
    "\n",
    "\n",
    "\n",
    "x = torch.arange(512 * 1024).reshape(512, 1024).float()\n",
    "\n",
    "scale, zero = get_scale_and_zero(x, 15)\n",
    "\n",
    "quantized_x, scale, zero = measure_and_quantize(x, 4)\n",
    "\n",
    "\n",
    "\n",
    "assert quantized_x.shape == x.shape, \"Shape of quantized_x is incorrect\"\n",
    "\n",
    "assert scale.shape == (512, 1), \"Shape of scale is incorrect\"\n",
    "\n",
    "assert zero.shape == (512, 1), \"Shape of zero is incorrect\"\n",
    "\n",
    "assert torch.all(quantized_x >= 0) and torch.all(quantized_x <= 15) and torch.any(quantized_x == 15), \"wrong quantized_x values range\"\n",
    "\n",
    "assert torch.allclose(x, dequantize(quantized_x, scale, zero), atol=50), \"Dequantized values are too far from the original values\"\n",
    "\n",
    "print(\"All tests passed!\")"
   ]
  },
  {
   "cell_type": "markdown",
   "metadata": {
    "id": "sBDvbhJSi62O"
   },
   "source": [
    "**Using the quantized matrix**\n",
    "\n",
    "\n",
    "\n",
    "To actually use the matrix, we'll have to map it's values back into their original form."
   ]
  },
  {
   "cell_type": "code",
   "execution_count": 9,
   "metadata": {
    "execution": {
     "iopub.execute_input": "2024-12-02T20:13:23.691521Z",
     "iopub.status.busy": "2024-12-02T20:13:23.691256Z",
     "iopub.status.idle": "2024-12-02T20:13:23.696510Z",
     "shell.execute_reply": "2024-12-02T20:13:23.695607Z",
     "shell.execute_reply.started": "2024-12-02T20:13:23.691494Z"
    },
    "id": "NMzGxzt-i62P",
    "trusted": true
   },
   "outputs": [],
   "source": [
    "class QuantizedLinear(nn.Module):\n",
    "\n",
    "    def __init__(self, quantized_weight, scale, zero, bias):\n",
    "\n",
    "        super().__init__()\n",
    "\n",
    "        self.quantized_weight = nn.Parameter(quantized_weight, requires_grad=False)\n",
    "\n",
    "        self.scale = nn.Parameter(scale, requires_grad=False)\n",
    "\n",
    "        self.zero = nn.Parameter(zero, requires_grad=False)\n",
    "\n",
    "        self.bias = nn.Parameter(bias.data.clone().detach()) if bias is not None else None\n",
    "\n",
    "\n",
    "\n",
    "    def forward(self, input):\n",
    "\n",
    "        return F.linear(input, dequantize(self.quantized_weight, self.scale, self.zero), self.bias)"
   ]
  },
  {
   "cell_type": "markdown",
   "metadata": {
    "id": "ncM_JzOii62P"
   },
   "source": [
    "This class will be used as a replacement for `nn.Linear`. It holds the quantized weight and only dequantizes it during it's forward passes."
   ]
  },
  {
   "cell_type": "markdown",
   "metadata": {
    "id": "UPaMiUC91VYH"
   },
   "source": [
    "# LLM Quantization"
   ]
  },
  {
   "cell_type": "markdown",
   "metadata": {
    "id": "2HRqro7X1eoT"
   },
   "source": [
    "### Preparations\n",
    "\n",
    "\n",
    "\n",
    "Run all the cells in this subsection to download and prepare the model and the data"
   ]
  },
  {
   "cell_type": "markdown",
   "metadata": {
    "id": "ipghRjSA1jVN"
   },
   "source": [
    "**Downloading the model**\n",
    "\n",
    "\n",
    "\n",
    "Run the code below to download the model checkpoint."
   ]
  },
  {
   "cell_type": "code",
   "execution_count": 10,
   "metadata": {
    "colab": {
     "base_uri": "https://localhost:8080/"
    },
    "execution": {
     "iopub.execute_input": "2024-12-02T20:13:23.698001Z",
     "iopub.status.busy": "2024-12-02T20:13:23.697683Z",
     "iopub.status.idle": "2024-12-02T20:13:24.717302Z",
     "shell.execute_reply": "2024-12-02T20:13:24.716483Z",
     "shell.execute_reply.started": "2024-12-02T20:13:23.697967Z"
    },
    "executionInfo": {
     "elapsed": 7,
     "status": "ok",
     "timestamp": 1733138169740,
     "user": {
      "displayName": "",
      "userId": ""
     },
     "user_tz": -180
    },
    "id": "JIUbMToO3C9B",
    "outputId": "8695a2c7-73d4-44bd-cf3c-71bada55556e",
    "trusted": true
   },
   "outputs": [
    {
     "name": "stderr",
     "output_type": "stream",
     "text": [
      "/opt/conda/lib/python3.10/pty.py:89: RuntimeWarning: os.fork() was called. os.fork() is incompatible with multithreaded code, and JAX is multithreaded, so this will likely lead to a deadlock.\n",
      "  pid, fd = os.forkpty()\n"
     ]
    }
   ],
   "source": [
    "!mkdir model"
   ]
  },
  {
   "cell_type": "code",
   "execution_count": 11,
   "metadata": {
    "colab": {
     "base_uri": "https://localhost:8080/",
     "height": 68,
     "referenced_widgets": [
      "94f33b8535614f56a54e53202a37a3ef",
      "1ac6675fb3854ef0bc1607b6167e462e",
      "3bea33b775e3401c8f25de8900e676b2",
      "d47c0944218b475987596d98f5429ee7",
      "7fed6d5bb2c14db3a21f58fe8144793d",
      "eb4f52a16c4b4e87b5ccacd91b2f845b",
      "21bea1ac2ea64f26bddcfe2352c2611c",
      "1677ae7bf5a647d9b493e278fc64beb6",
      "5ea0c12bf1f24a0b9c7e95b40c0ad46d",
      "0400feeffa5a4a438d225a6acc57d710",
      "bf243d3ca19240969b5ab79d5b45fb96"
     ]
    },
    "execution": {
     "iopub.execute_input": "2024-12-02T20:13:24.719751Z",
     "iopub.status.busy": "2024-12-02T20:13:24.718908Z",
     "iopub.status.idle": "2024-12-02T20:14:10.646516Z",
     "shell.execute_reply": "2024-12-02T20:14:10.645294Z",
     "shell.execute_reply.started": "2024-12-02T20:13:24.719704Z"
    },
    "executionInfo": {
     "elapsed": 672,
     "status": "ok",
     "timestamp": 1733138170408,
     "user": {
      "displayName": "",
      "userId": ""
     },
     "user_tz": -180
    },
    "id": "j9SnAHdc19ap",
    "outputId": "f54d75a2-6a4f-4e6d-abfc-e0287f747c47",
    "trusted": true
   },
   "outputs": [
    {
     "data": {
      "application/vnd.jupyter.widget-view+json": {
       "model_id": "b0790fc3c65e41b781f8e9c11f4bfaca",
       "version_major": 2,
       "version_minor": 0
      },
      "text/plain": [
       "Fetching 42 files:   0%|          | 0/42 [00:00<?, ?it/s]"
      ]
     },
     "metadata": {},
     "output_type": "display_data"
    },
    {
     "data": {
      "application/vnd.jupyter.widget-view+json": {
       "model_id": "48bc9f00bc09455e97ef106ad84995b3",
       "version_major": 2,
       "version_minor": 0
      },
      "text/plain": [
       "Downloading config.json:   0%|          | 0.00/511 [00:00<?, ?B/s]"
      ]
     },
     "metadata": {},
     "output_type": "display_data"
    },
    {
     "data": {
      "application/vnd.jupyter.widget-view+json": {
       "model_id": "576f2b7b086f4a7fa809a5b8a7914b7f",
       "version_major": 2,
       "version_minor": 0
      },
      "text/plain": [
       "Downloading README.md:   0%|          | 0.00/8.31k [00:00<?, ?B/s]"
      ]
     },
     "metadata": {},
     "output_type": "display_data"
    },
    {
     "data": {
      "application/vnd.jupyter.widget-view+json": {
       "model_id": "d3a3baa6f59840efa560a92f5042fe9d",
       "version_major": 2,
       "version_minor": 0
      },
      "text/plain": [
       "Downloading LICENSE:   0%|          | 0.00/10.6k [00:00<?, ?B/s]"
      ]
     },
     "metadata": {},
     "output_type": "display_data"
    },
    {
     "data": {
      "application/vnd.jupyter.widget-view+json": {
       "model_id": "653252aceea3469e83b752c838f329cf",
       "version_major": 2,
       "version_minor": 0
      },
      "text/plain": [
       "Downloading generation_config.json:   0%|          | 0.00/151 [00:00<?, ?B/s]"
      ]
     },
     "metadata": {},
     "output_type": "display_data"
    },
    {
     "data": {
      "application/vnd.jupyter.widget-view+json": {
       "model_id": "a773c68f58134931aac42ff61492cd2d",
       "version_major": 2,
       "version_minor": 0
      },
      "text/plain": [
       "Downloading (…)l-00002-of-00033.bin:   0%|          | 0.00/405M [00:00<?, ?B/s]"
      ]
     },
     "metadata": {},
     "output_type": "display_data"
    },
    {
     "data": {
      "application/vnd.jupyter.widget-view+json": {
       "model_id": "d60542c6c0bb4b818b5e34fdd8b0484f",
       "version_major": 2,
       "version_minor": 0
      },
      "text/plain": [
       "Downloading (…)l-00003-of-00033.bin:   0%|          | 0.00/405M [00:00<?, ?B/s]"
      ]
     },
     "metadata": {},
     "output_type": "display_data"
    },
    {
     "data": {
      "application/vnd.jupyter.widget-view+json": {
       "model_id": "996c5f846577488a80422082d1954675",
       "version_major": 2,
       "version_minor": 0
      },
      "text/plain": [
       "Downloading (…)l-00001-of-00033.bin:   0%|          | 0.00/405M [00:00<?, ?B/s]"
      ]
     },
     "metadata": {},
     "output_type": "display_data"
    },
    {
     "data": {
      "application/vnd.jupyter.widget-view+json": {
       "model_id": "5d97ee03e29445d58ca26a7dad5ace09",
       "version_major": 2,
       "version_minor": 0
      },
      "text/plain": [
       "Downloading .gitattributes:   0%|          | 0.00/1.48k [00:00<?, ?B/s]"
      ]
     },
     "metadata": {},
     "output_type": "display_data"
    },
    {
     "data": {
      "application/vnd.jupyter.widget-view+json": {
       "model_id": "8bfc8e83da434d54a7140ddca8e263e1",
       "version_major": 2,
       "version_minor": 0
      },
      "text/plain": [
       "Downloading (…)l-00007-of-00033.bin:   0%|          | 0.00/405M [00:00<?, ?B/s]"
      ]
     },
     "metadata": {},
     "output_type": "display_data"
    },
    {
     "data": {
      "application/vnd.jupyter.widget-view+json": {
       "model_id": "1097b60b6caf47a985f4e9c01086706e",
       "version_major": 2,
       "version_minor": 0
      },
      "text/plain": [
       "Downloading (…)l-00005-of-00033.bin:   0%|          | 0.00/405M [00:00<?, ?B/s]"
      ]
     },
     "metadata": {},
     "output_type": "display_data"
    },
    {
     "data": {
      "application/vnd.jupyter.widget-view+json": {
       "model_id": "1452091bbccd4a09954e122ecaefbce5",
       "version_major": 2,
       "version_minor": 0
      },
      "text/plain": [
       "Downloading (…)l-00006-of-00033.bin:   0%|          | 0.00/405M [00:00<?, ?B/s]"
      ]
     },
     "metadata": {},
     "output_type": "display_data"
    },
    {
     "data": {
      "application/vnd.jupyter.widget-view+json": {
       "model_id": "78831019092d4a889f35b968e3066bd2",
       "version_major": 2,
       "version_minor": 0
      },
      "text/plain": [
       "Downloading (…)l-00004-of-00033.bin:   0%|          | 0.00/405M [00:00<?, ?B/s]"
      ]
     },
     "metadata": {},
     "output_type": "display_data"
    },
    {
     "data": {
      "application/vnd.jupyter.widget-view+json": {
       "model_id": "471a6f69c0a44aa2904207572dd043dd",
       "version_major": 2,
       "version_minor": 0
      },
      "text/plain": [
       "Downloading (…)l-00008-of-00033.bin:   0%|          | 0.00/405M [00:00<?, ?B/s]"
      ]
     },
     "metadata": {},
     "output_type": "display_data"
    },
    {
     "data": {
      "application/vnd.jupyter.widget-view+json": {
       "model_id": "ac4dbbffd42a48249c90911f649cc62e",
       "version_major": 2,
       "version_minor": 0
      },
      "text/plain": [
       "Downloading (…)l-00009-of-00033.bin:   0%|          | 0.00/405M [00:00<?, ?B/s]"
      ]
     },
     "metadata": {},
     "output_type": "display_data"
    },
    {
     "data": {
      "application/vnd.jupyter.widget-view+json": {
       "model_id": "01c0241311374693a0b959d8c89e6e97",
       "version_major": 2,
       "version_minor": 0
      },
      "text/plain": [
       "Downloading (…)l-00010-of-00033.bin:   0%|          | 0.00/405M [00:00<?, ?B/s]"
      ]
     },
     "metadata": {},
     "output_type": "display_data"
    },
    {
     "data": {
      "application/vnd.jupyter.widget-view+json": {
       "model_id": "a789fa25e7ee432a8a7a70b386544c59",
       "version_major": 2,
       "version_minor": 0
      },
      "text/plain": [
       "Downloading (…)l-00011-of-00033.bin:   0%|          | 0.00/405M [00:00<?, ?B/s]"
      ]
     },
     "metadata": {},
     "output_type": "display_data"
    },
    {
     "data": {
      "application/vnd.jupyter.widget-view+json": {
       "model_id": "547655ba957345139bb64607db08a4a6",
       "version_major": 2,
       "version_minor": 0
      },
      "text/plain": [
       "Downloading (…)l-00012-of-00033.bin:   0%|          | 0.00/405M [00:00<?, ?B/s]"
      ]
     },
     "metadata": {},
     "output_type": "display_data"
    },
    {
     "data": {
      "application/vnd.jupyter.widget-view+json": {
       "model_id": "bf1e42401cdd4eb59d14d75c31b42919",
       "version_major": 2,
       "version_minor": 0
      },
      "text/plain": [
       "Downloading (…)l-00013-of-00033.bin:   0%|          | 0.00/405M [00:00<?, ?B/s]"
      ]
     },
     "metadata": {},
     "output_type": "display_data"
    },
    {
     "data": {
      "application/vnd.jupyter.widget-view+json": {
       "model_id": "e3b9d50b8e0d483bb2f8d596468c6cd3",
       "version_major": 2,
       "version_minor": 0
      },
      "text/plain": [
       "Downloading (…)l-00015-of-00033.bin:   0%|          | 0.00/405M [00:00<?, ?B/s]"
      ]
     },
     "metadata": {},
     "output_type": "display_data"
    },
    {
     "data": {
      "application/vnd.jupyter.widget-view+json": {
       "model_id": "4c8bfce3cd6445999cfe99c1628c256e",
       "version_major": 2,
       "version_minor": 0
      },
      "text/plain": [
       "Downloading (…)l-00014-of-00033.bin:   0%|          | 0.00/405M [00:00<?, ?B/s]"
      ]
     },
     "metadata": {},
     "output_type": "display_data"
    },
    {
     "data": {
      "application/vnd.jupyter.widget-view+json": {
       "model_id": "81c43948378e45dea6e2eee6a44c5be8",
       "version_major": 2,
       "version_minor": 0
      },
      "text/plain": [
       "Downloading (…)l-00016-of-00033.bin:   0%|          | 0.00/405M [00:00<?, ?B/s]"
      ]
     },
     "metadata": {},
     "output_type": "display_data"
    },
    {
     "data": {
      "application/vnd.jupyter.widget-view+json": {
       "model_id": "b9603d6d448a4538975307bad79ac447",
       "version_major": 2,
       "version_minor": 0
      },
      "text/plain": [
       "Downloading (…)l-00017-of-00033.bin:   0%|          | 0.00/405M [00:00<?, ?B/s]"
      ]
     },
     "metadata": {},
     "output_type": "display_data"
    },
    {
     "data": {
      "application/vnd.jupyter.widget-view+json": {
       "model_id": "dc12a70617894da29d0c3fa3e8713faf",
       "version_major": 2,
       "version_minor": 0
      },
      "text/plain": [
       "Downloading (…)l-00018-of-00033.bin:   0%|          | 0.00/405M [00:00<?, ?B/s]"
      ]
     },
     "metadata": {},
     "output_type": "display_data"
    },
    {
     "data": {
      "application/vnd.jupyter.widget-view+json": {
       "model_id": "5e0e3c7545244037ac9a18a3f1eee495",
       "version_major": 2,
       "version_minor": 0
      },
      "text/plain": [
       "Downloading (…)l-00019-of-00033.bin:   0%|          | 0.00/405M [00:00<?, ?B/s]"
      ]
     },
     "metadata": {},
     "output_type": "display_data"
    },
    {
     "data": {
      "application/vnd.jupyter.widget-view+json": {
       "model_id": "45f170f21678406ea5154d96c490cc61",
       "version_major": 2,
       "version_minor": 0
      },
      "text/plain": [
       "Downloading (…)l-00020-of-00033.bin:   0%|          | 0.00/405M [00:00<?, ?B/s]"
      ]
     },
     "metadata": {},
     "output_type": "display_data"
    },
    {
     "data": {
      "application/vnd.jupyter.widget-view+json": {
       "model_id": "92a7823dd8c247a3a3b0823262a8850d",
       "version_major": 2,
       "version_minor": 0
      },
      "text/plain": [
       "Downloading (…)l-00021-of-00033.bin:   0%|          | 0.00/405M [00:00<?, ?B/s]"
      ]
     },
     "metadata": {},
     "output_type": "display_data"
    },
    {
     "data": {
      "application/vnd.jupyter.widget-view+json": {
       "model_id": "5be680d71e2e451bb323cf7012286228",
       "version_major": 2,
       "version_minor": 0
      },
      "text/plain": [
       "Downloading (…)l-00022-of-00033.bin:   0%|          | 0.00/405M [00:00<?, ?B/s]"
      ]
     },
     "metadata": {},
     "output_type": "display_data"
    },
    {
     "data": {
      "application/vnd.jupyter.widget-view+json": {
       "model_id": "c8810aee4d3346ea8e601944ed0a9b3e",
       "version_major": 2,
       "version_minor": 0
      },
      "text/plain": [
       "Downloading (…)l-00023-of-00033.bin:   0%|          | 0.00/405M [00:00<?, ?B/s]"
      ]
     },
     "metadata": {},
     "output_type": "display_data"
    },
    {
     "data": {
      "application/vnd.jupyter.widget-view+json": {
       "model_id": "7415ba01bd2a4e82a487c109f7b92003",
       "version_major": 2,
       "version_minor": 0
      },
      "text/plain": [
       "Downloading (…)l-00024-of-00033.bin:   0%|          | 0.00/405M [00:00<?, ?B/s]"
      ]
     },
     "metadata": {},
     "output_type": "display_data"
    },
    {
     "data": {
      "application/vnd.jupyter.widget-view+json": {
       "model_id": "c429034d96d84631a21ecb7bd0f43650",
       "version_major": 2,
       "version_minor": 0
      },
      "text/plain": [
       "Downloading (…)l-00025-of-00033.bin:   0%|          | 0.00/405M [00:00<?, ?B/s]"
      ]
     },
     "metadata": {},
     "output_type": "display_data"
    },
    {
     "data": {
      "application/vnd.jupyter.widget-view+json": {
       "model_id": "8324925cdc254690b7f9d09e59809765",
       "version_major": 2,
       "version_minor": 0
      },
      "text/plain": [
       "Downloading (…)l-00026-of-00033.bin:   0%|          | 0.00/405M [00:00<?, ?B/s]"
      ]
     },
     "metadata": {},
     "output_type": "display_data"
    },
    {
     "data": {
      "application/vnd.jupyter.widget-view+json": {
       "model_id": "5658c618fdbc47ee9879393d28d40620",
       "version_major": 2,
       "version_minor": 0
      },
      "text/plain": [
       "Downloading (…)l-00027-of-00033.bin:   0%|          | 0.00/405M [00:00<?, ?B/s]"
      ]
     },
     "metadata": {},
     "output_type": "display_data"
    },
    {
     "data": {
      "application/vnd.jupyter.widget-view+json": {
       "model_id": "ba27af653bda474a821b633dda257552",
       "version_major": 2,
       "version_minor": 0
      },
      "text/plain": [
       "Downloading (…)l-00028-of-00033.bin:   0%|          | 0.00/405M [00:00<?, ?B/s]"
      ]
     },
     "metadata": {},
     "output_type": "display_data"
    },
    {
     "data": {
      "application/vnd.jupyter.widget-view+json": {
       "model_id": "57fc906d64ab41d6a3bf314c8f7dc572",
       "version_major": 2,
       "version_minor": 0
      },
      "text/plain": [
       "Downloading (…)l-00029-of-00033.bin:   0%|          | 0.00/405M [00:00<?, ?B/s]"
      ]
     },
     "metadata": {},
     "output_type": "display_data"
    },
    {
     "data": {
      "application/vnd.jupyter.widget-view+json": {
       "model_id": "ad3bd90640cc4a8cb022cddec09c1034",
       "version_major": 2,
       "version_minor": 0
      },
      "text/plain": [
       "Downloading (…)l-00030-of-00033.bin:   0%|          | 0.00/405M [00:00<?, ?B/s]"
      ]
     },
     "metadata": {},
     "output_type": "display_data"
    },
    {
     "data": {
      "application/vnd.jupyter.widget-view+json": {
       "model_id": "b62b31552281412eaea354b96812d77a",
       "version_major": 2,
       "version_minor": 0
      },
      "text/plain": [
       "Downloading (…)l-00031-of-00033.bin:   0%|          | 0.00/405M [00:00<?, ?B/s]"
      ]
     },
     "metadata": {},
     "output_type": "display_data"
    },
    {
     "data": {
      "application/vnd.jupyter.widget-view+json": {
       "model_id": "b5e18c216a65456b8fc0cf71e27c9013",
       "version_major": 2,
       "version_minor": 0
      },
      "text/plain": [
       "Downloading (…)l-00032-of-00033.bin:   0%|          | 0.00/405M [00:00<?, ?B/s]"
      ]
     },
     "metadata": {},
     "output_type": "display_data"
    },
    {
     "data": {
      "application/vnd.jupyter.widget-view+json": {
       "model_id": "7c384146822f4c2481e7c53992099d92",
       "version_major": 2,
       "version_minor": 0
      },
      "text/plain": [
       "Downloading (…)l-00033-of-00033.bin:   0%|          | 0.00/524M [00:00<?, ?B/s]"
      ]
     },
     "metadata": {},
     "output_type": "display_data"
    },
    {
     "data": {
      "application/vnd.jupyter.widget-view+json": {
       "model_id": "51e9f93854d24f86924a5bc52bf53174",
       "version_major": 2,
       "version_minor": 0
      },
      "text/plain": [
       "Downloading (…)model.bin.index.json:   0%|          | 0.00/25.5k [00:00<?, ?B/s]"
      ]
     },
     "metadata": {},
     "output_type": "display_data"
    },
    {
     "data": {
      "application/vnd.jupyter.widget-view+json": {
       "model_id": "1f7144c530974148ba1a60c64ef6a7ab",
       "version_major": 2,
       "version_minor": 0
      },
      "text/plain": [
       "Downloading (…)cial_tokens_map.json:   0%|          | 0.00/2.00 [00:00<?, ?B/s]"
      ]
     },
     "metadata": {},
     "output_type": "display_data"
    },
    {
     "data": {
      "application/vnd.jupyter.widget-view+json": {
       "model_id": "3a03345d33f74f2aade1cf5487416332",
       "version_major": 2,
       "version_minor": 0
      },
      "text/plain": [
       "Downloading tokenizer.model:   0%|          | 0.00/500k [00:00<?, ?B/s]"
      ]
     },
     "metadata": {},
     "output_type": "display_data"
    },
    {
     "data": {
      "application/vnd.jupyter.widget-view+json": {
       "model_id": "a3ba7761a0364e9a917db9b398588ed4",
       "version_major": 2,
       "version_minor": 0
      },
      "text/plain": [
       "Downloading tokenizer_config.json:   0%|          | 0.00/218 [00:00<?, ?B/s]"
      ]
     },
     "metadata": {},
     "output_type": "display_data"
    },
    {
     "data": {
      "text/plain": [
       "'/kaggle/working/model'"
      ]
     },
     "execution_count": 11,
     "metadata": {},
     "output_type": "execute_result"
    }
   ],
   "source": [
    "from huggingface_hub import snapshot_download\n",
    "\n",
    "\n",
    "\n",
    "LLAMA_REPO = \"Enoch/llama-7b-hf\"\n",
    "\n",
    "snapshot_download(repo_id=LLAMA_REPO, local_dir=\"./model\")\n"
   ]
  },
  {
   "cell_type": "markdown",
   "metadata": {
    "id": "MKQSag7f1nJC"
   },
   "source": [
    "**Dispatching the model**"
   ]
  },
  {
   "cell_type": "markdown",
   "metadata": {
    "id": "HrNGVHZhi62T"
   },
   "source": [
    "To properly quantize the model we'll need two functions.\n",
    "\n",
    " 1. `initialize_layerless_llama` creates a llama model without any layers, but correct weights otherwise\n",
    "\n",
    " 2. `load_and_dispatch_a_layer` loads a layer inserts it into the model after the last layer"
   ]
  },
  {
   "cell_type": "code",
   "execution_count": 12,
   "metadata": {
    "execution": {
     "iopub.execute_input": "2024-12-02T20:14:10.652792Z",
     "iopub.status.busy": "2024-12-02T20:14:10.651992Z",
     "iopub.status.idle": "2024-12-02T20:14:10.666534Z",
     "shell.execute_reply": "2024-12-02T20:14:10.665688Z",
     "shell.execute_reply.started": "2024-12-02T20:14:10.652739Z"
    },
    "id": "ls5meN1c4No-",
    "trusted": true
   },
   "outputs": [],
   "source": [
    "# Disable fancy model initialization since we'll override those values anyway\n",
    "\n",
    "def skip(*args, **kwargs):\n",
    "\n",
    "    pass\n",
    "\n",
    "torch.nn.init.kaiming_uniform_ = skip\n",
    "\n",
    "torch.nn.init.uniform_ = skip\n",
    "\n",
    "torch.nn.init.normal_ = skip\n",
    "\n",
    "\n",
    "\n",
    "\n",
    "\n",
    "def initialize_layerless_llama(checkpoint_path):\n",
    "\n",
    "    config = LlamaConfig.from_pretrained(LLAMA_REPO)\n",
    "\n",
    "    config.num_hidden_layers=0\n",
    "\n",
    "\n",
    "\n",
    "    model = LlamaForCausalLM(config)\n",
    "\n",
    "    model.load_state_dict(torch.load(os.path.join(checkpoint_path, \"pytorch_model-00033-of-00033.bin\")))\n",
    "\n",
    "    model.seqlen = 2048\n",
    "\n",
    "    model.config.use_cache = False\n",
    "\n",
    "\n",
    "\n",
    "    return model.to(torch.float16)\n",
    "\n",
    "\n",
    "\n",
    "\n",
    "\n",
    "def load_and_dispatch_a_layer(layer_idx, checkpoint_path, model: LlamaForCausalLM):\n",
    "\n",
    "    if checkpoint_path == \"TEST\":\n",
    "\n",
    "        linear = nn.Linear(16, 16)\n",
    "\n",
    "        linear.weight.data = torch.arange(16 * 16).reshape(16, 16).float()\n",
    "\n",
    "        model.model.layers.append(nn.ModuleDict({\"submodule\": linear}))\n",
    "\n",
    "        return\n",
    "\n",
    "\n",
    "\n",
    "    config = transformers.AutoConfig.from_pretrained(LLAMA_REPO)\n",
    "\n",
    "\n",
    "\n",
    "    layer = LlamaDecoderLayer(config)\n",
    "\n",
    "    layer_state_dict = torch.load(os.path.join(checkpoint_path, f\"pytorch_model-{layer_idx + 1:05}-of-00033.bin\"))\n",
    "\n",
    "    layer_state_dict = {name[len(f\"model.layers.{layer_idx}.\"):]: tensor for name, tensor in layer_state_dict.items()}\n",
    "\n",
    "    layer.load_state_dict(layer_state_dict, strict=False)\n",
    "\n",
    "    del layer_state_dict\n",
    "\n",
    "\n",
    "\n",
    "    model.model.layers.append(layer.to(torch.float16))\n"
   ]
  },
  {
   "cell_type": "markdown",
   "metadata": {
    "id": "xsOwpAvbi62U"
   },
   "source": [
    "Calling `initialize_layerless_llama` and then calling `load_and_dispatch_a_layer` for each layer in order would fully load the model, but we'll also quantize the layes as we go."
   ]
  },
  {
   "cell_type": "markdown",
   "metadata": {
    "id": "agCFfP7x2Au6"
   },
   "source": [
    "### RTN Quantization for LLaMA"
   ]
  },
  {
   "cell_type": "markdown",
   "metadata": {
    "id": "zwS6bTIwi62V"
   },
   "source": [
    "**Auxiliary functions:**\n",
    "\n",
    " * `find_layers` takes a module and returns a dictionary containing all of it's *Linear* submodules with their path-names as the keys.\n",
    "\n",
    " * `replace_submodule` takes a module, a path-name and a submodule and replaces the module's submodule at path-name with the new submodule."
   ]
  },
  {
   "cell_type": "code",
   "execution_count": 13,
   "metadata": {
    "execution": {
     "iopub.execute_input": "2024-12-02T20:14:10.667909Z",
     "iopub.status.busy": "2024-12-02T20:14:10.667535Z",
     "iopub.status.idle": "2024-12-02T20:14:24.757230Z",
     "shell.execute_reply": "2024-12-02T20:14:24.756249Z",
     "shell.execute_reply.started": "2024-12-02T20:14:10.667865Z"
    },
    "id": "8vo0UYKvi62V",
    "trusted": true
   },
   "outputs": [],
   "source": [
    "def find_layers(module: nn.Module, name='') -> dict[str, nn.Module]:\n",
    "\n",
    "    if type(module) == nn.Linear:\n",
    "\n",
    "        return {name: module}\n",
    "\n",
    "    res = {}\n",
    "\n",
    "    for name1, child in module.named_children():\n",
    "\n",
    "        res.update(find_layers(\n",
    "\n",
    "            child, name=name + '.' + name1 if name != '' else name1\n",
    "\n",
    "        ))\n",
    "\n",
    "    return res\n",
    "\n",
    "\n",
    "\n",
    "\n",
    "\n",
    "def replace_submodule(module, submodule_path, new_submodule):\n",
    "\n",
    "    submodule_names = submodule_path.split(\".\")\n",
    "\n",
    "    for submodule in submodule_names[:-1]:\n",
    "\n",
    "        module = getattr(module, submodule)\n",
    "\n",
    "    setattr(module, submodule_names[-1], new_submodule)"
   ]
  },
  {
   "cell_type": "markdown",
   "metadata": {
    "id": "oJALPHCSi62W"
   },
   "source": [
    "**Load-Quantize cycle**\n",
    "\n",
    "\n",
    "\n",
    "First, take a look at the function below. It uses the functions above to load the layers one by one and iterate over their `Linear` submodules replacing them with `QuantizedLinear`. A few things to keep in mind:\n",
    "\n",
    " * Note that the quantization happens on `.cuda()`, because we'll load *LLaMA* in `float16` which is not supported on `cpu`.\n",
    "\n",
    " * We call `torch.cuda.empty_cache()` after processing each layer because we'll have just enough *VRAM* for this to work.\n",
    "\n",
    " * The loaded model is placed in RAM.\n",
    "\n",
    "\n",
    "\n",
    "**Task (0.5pt):** implement RTN quantization for *LLaMA*"
   ]
  },
  {
   "cell_type": "code",
   "execution_count": 14,
   "metadata": {
    "execution": {
     "iopub.execute_input": "2024-12-02T20:14:24.758695Z",
     "iopub.status.busy": "2024-12-02T20:14:24.758383Z",
     "iopub.status.idle": "2024-12-02T20:14:25.424144Z",
     "shell.execute_reply": "2024-12-02T20:14:25.423446Z",
     "shell.execute_reply.started": "2024-12-02T20:14:24.758668Z"
    },
    "id": "2TRwggs3Lb2F",
    "trusted": true
   },
   "outputs": [],
   "source": [
    "@torch.no_grad()\n",
    "\n",
    "def llama_rtn(checkpoint_path: os.PathLike, model: LlamaForCausalLM, bits: int):\n",
    "\n",
    "    \"\"\"Loads LLaMA layers one by one and quantizes them with RTN\n",
    "\n",
    "    Args:\n",
    "\n",
    "        checkpoint_path (os.PathLike): folder containing LLaMA weights\n",
    "\n",
    "        model (LlamaForCausalLM): model to dispatch layers into\n",
    "\n",
    "        bits (int): number of bits to quantize to\n",
    "\n",
    "    \"\"\"\n",
    "\n",
    "    # Load and quantize all the layers\n",
    "\n",
    "    layers = model.model.layers\n",
    "\n",
    "    assert len(layers) == 0\n",
    "\n",
    "    for i in trange(32):\n",
    "\n",
    "        load_and_dispatch_a_layer(i, checkpoint_path, model)\n",
    "\n",
    "        layer = layers[i].cuda()\n",
    "\n",
    "\n",
    "\n",
    "        linear_submodules = find_layers(layer)\n",
    "\n",
    "        # Quantize the linear layers and replace the original ones with them\n",
    "\n",
    "        for name, linear in linear_submodules.items():\n",
    "\n",
    "            # YOUR CODE HERE>>>>>>>>>\n",
    "\n",
    "            q, scale, zero = measure_and_quantize(linear.weight.data, bits)\n",
    "\n",
    "            q_layer = QuantizedLinear(q, scale, zero, linear.bias)\n",
    "\n",
    "            replace_submodule(layer, name, q_layer)\n",
    "\n",
    "            # <<<<<<<<<<<<<<<<<<<<<<<\n",
    "\n",
    "\n",
    "\n",
    "        layers[i] = layer.cpu()\n",
    "\n",
    "        torch.cuda.empty_cache()\n"
   ]
  },
  {
   "cell_type": "code",
   "execution_count": 15,
   "metadata": {
    "colab": {
     "base_uri": "https://localhost:8080/",
     "height": 66,
     "referenced_widgets": [
      "301c7f0b30e542ff8f223ddb20ba0764",
      "2c5e3ba0bdf14bc29145361d78e5485e",
      "6d340edf9c4d4a0bbb991a5322ee22fc",
      "72df94b1fd884ea2ada6e7eb8cea008a",
      "14bcdf677cd340d3b33832b109ea8587",
      "9e8e2319e3cd41f58c78b399c69b24bb",
      "95f6a3495a3e41f6b263a4dbb3eb2dd3",
      "f7b875c479db4f83ae8a8561bcb94ed6",
      "d13ddad23e5447f5917041b84be58e93",
      "36366b9baf5a4dbaae6ddc5356498b45",
      "ee871faf1cbd4c63bac0e600ef136afe"
     ]
    },
    "execution": {
     "iopub.execute_input": "2024-12-02T20:14:25.425418Z",
     "iopub.status.busy": "2024-12-02T20:14:25.425150Z",
     "iopub.status.idle": "2024-12-02T20:14:26.294314Z",
     "shell.execute_reply": "2024-12-02T20:14:26.293640Z",
     "shell.execute_reply.started": "2024-12-02T20:14:25.425393Z"
    },
    "executionInfo": {
     "elapsed": 469,
     "status": "ok",
     "timestamp": 1733138239972,
     "user": {
      "displayName": "",
      "userId": ""
     },
     "user_tz": -180
    },
    "id": "wj8FBs1ji62W",
    "outputId": "197211cc-98fb-4696-ad11-4cdbf29b8d2f",
    "trusted": true
   },
   "outputs": [
    {
     "data": {
      "application/vnd.jupyter.widget-view+json": {
       "model_id": "5d8f5becc4e6451f8402ce7a66b4f31c",
       "version_major": 2,
       "version_minor": 0
      },
      "text/plain": [
       "  0%|          | 0/32 [00:00<?, ?it/s]"
      ]
     },
     "metadata": {},
     "output_type": "display_data"
    },
    {
     "name": "stdout",
     "output_type": "stream",
     "text": [
      "All tests passed!\n"
     ]
    }
   ],
   "source": [
    "# Testing your code\n",
    "\n",
    "\n",
    "\n",
    "model = nn.ModuleDict({\"model\": nn.ModuleDict({\"layers\": nn.ModuleList([])})})\n",
    "\n",
    "llama_rtn(\"TEST\", model, 4)\n",
    "\n",
    "\n",
    "\n",
    "assert len(model.model.layers) == 32, \"You didn't load all the layers\"\n",
    "\n",
    "assert all(isinstance(layer.submodule, QuantizedLinear) for layer in model.model.layers), \"Some Linears weren't properly replaced\"\n",
    "\n",
    "assert torch.all(model.model.layers[0].submodule.quantized_weight == torch.arange(16).unsqueeze(0).repeat(16, 1)), \"Quantized weights are weird\"\n",
    "\n",
    "assert torch.all(model.model.layers[0].submodule.scale == 1), \"Quantized scales are weird\"\n",
    "\n",
    "print(\"All tests passed!\")"
   ]
  },
  {
   "cell_type": "markdown",
   "metadata": {
    "id": "E4OlcGF2aEts"
   },
   "source": [
    "### Testing the Quantized Model\n",
    "\n",
    "\n",
    "\n",
    "Now we have everything we need to quantize the _LLaMA-7B_ model to 4 bits. Let us do that."
   ]
  },
  {
   "cell_type": "code",
   "execution_count": 16,
   "metadata": {
    "execution": {
     "iopub.execute_input": "2024-12-02T20:14:26.295510Z",
     "iopub.status.busy": "2024-12-02T20:14:26.295209Z",
     "iopub.status.idle": "2024-12-02T20:14:26.299274Z",
     "shell.execute_reply": "2024-12-02T20:14:26.298500Z",
     "shell.execute_reply.started": "2024-12-02T20:14:26.295449Z"
    },
    "id": "luUgnOhxaFcw",
    "trusted": true
   },
   "outputs": [],
   "source": [
    "MODEL = \"./model/\"\n",
    "\n",
    "SEED = 0\n",
    "\n",
    "BITS = 4"
   ]
  },
  {
   "cell_type": "code",
   "execution_count": 17,
   "metadata": {
    "colab": {
     "base_uri": "https://localhost:8080/",
     "height": 156,
     "referenced_widgets": [
      "a477c0eab2f94012a7fcf15fe60033da",
      "d0c924a630cc47c6892064a4b421c1b6",
      "d7026a14ab46452aac9bd936461d231f",
      "b6021af31fe04010983051079237f2e9",
      "b2f430bd4e6f40d2b6ef41a630ab707c",
      "2018b2e987274c75b957625b9318843a",
      "ea2b919355d44b3ebb665f037b9e0cfc",
      "c7eec52eaaa146c3bef0716ffd8d62dc",
      "7fe61606b56e4d95bd10a723de4ebe11",
      "3d225e065d5b4cc6b97c1f86dec53bcb",
      "38cb52cd71f74ec2963e473ccee3f5af"
     ]
    },
    "execution": {
     "iopub.execute_input": "2024-12-02T20:14:26.300679Z",
     "iopub.status.busy": "2024-12-02T20:14:26.300400Z",
     "iopub.status.idle": "2024-12-02T20:15:30.342912Z",
     "shell.execute_reply": "2024-12-02T20:15:30.341794Z",
     "shell.execute_reply.started": "2024-12-02T20:14:26.300656Z"
    },
    "executionInfo": {
     "elapsed": 118728,
     "status": "ok",
     "timestamp": 1733138398715,
     "user": {
      "displayName": "",
      "userId": ""
     },
     "user_tz": -180
    },
    "id": "tUD4z4t7a7z8",
    "outputId": "01b14231-245e-483b-9847-f2c0b5b6d9b0",
    "trusted": true
   },
   "outputs": [
    {
     "name": "stderr",
     "output_type": "stream",
     "text": [
      "You are using the default legacy behaviour of the <class 'transformers.models.llama.tokenization_llama.LlamaTokenizer'>. This is expected, and simply means that the `legacy` (previous) behavior will be used so nothing changes for you. If you want to use the new behaviour, set `legacy=False`. This should only be set if you understand what it means, and thouroughly read the reason why this was added as explained in https://github.com/huggingface/transformers/pull/24565\n",
      "/tmp/ipykernel_30/854928763.py:27: FutureWarning: You are using `torch.load` with `weights_only=False` (the current default value), which uses the default pickle module implicitly. It is possible to construct malicious pickle data which will execute arbitrary code during unpickling (See https://github.com/pytorch/pytorch/blob/main/SECURITY.md#untrusted-models for more details). In a future release, the default value for `weights_only` will be flipped to `True`. This limits the functions that could be executed during unpickling. Arbitrary objects will no longer be allowed to be loaded via this mode unless they are explicitly allowlisted by the user via `torch.serialization.add_safe_globals`. We recommend you start setting `weights_only=True` for any use case where you don't have full control of the loaded file. Please open an issue on GitHub for any issues related to this experimental feature.\n",
      "  model.load_state_dict(torch.load(os.path.join(checkpoint_path, \"pytorch_model-00033-of-00033.bin\")))\n"
     ]
    },
    {
     "data": {
      "application/vnd.jupyter.widget-view+json": {
       "model_id": "b3bc2da20d2b4c4ca6c459c5f364afde",
       "version_major": 2,
       "version_minor": 0
      },
      "text/plain": [
       "  0%|          | 0/32 [00:00<?, ?it/s]"
      ]
     },
     "metadata": {},
     "output_type": "display_data"
    },
    {
     "name": "stderr",
     "output_type": "stream",
     "text": [
      "/tmp/ipykernel_30/854928763.py:61: FutureWarning: You are using `torch.load` with `weights_only=False` (the current default value), which uses the default pickle module implicitly. It is possible to construct malicious pickle data which will execute arbitrary code during unpickling (See https://github.com/pytorch/pytorch/blob/main/SECURITY.md#untrusted-models for more details). In a future release, the default value for `weights_only` will be flipped to `True`. This limits the functions that could be executed during unpickling. Arbitrary objects will no longer be allowed to be loaded via this mode unless they are explicitly allowlisted by the user via `torch.serialization.add_safe_globals`. We recommend you start setting `weights_only=True` for any use case where you don't have full control of the loaded file. Please open an issue on GitHub for any issues related to this experimental feature.\n",
      "  layer_state_dict = torch.load(os.path.join(checkpoint_path, f\"pytorch_model-{layer_idx + 1:05}-of-00033.bin\"))\n"
     ]
    }
   ],
   "source": [
    "tokenizer = AutoTokenizer.from_pretrained(LLAMA_REPO, use_fast=False)\n",
    "\n",
    "\n",
    "\n",
    "model = initialize_layerless_llama(MODEL)\n",
    "\n",
    "llama_rtn(MODEL, model, BITS)\n",
    "\n",
    "model = model.cuda()"
   ]
  },
  {
   "cell_type": "code",
   "execution_count": 18,
   "metadata": {
    "execution": {
     "iopub.execute_input": "2024-12-02T20:15:30.344439Z",
     "iopub.status.busy": "2024-12-02T20:15:30.344132Z",
     "iopub.status.idle": "2024-12-02T20:16:49.141394Z",
     "shell.execute_reply": "2024-12-02T20:16:49.140602Z",
     "shell.execute_reply.started": "2024-12-02T20:15:30.344410Z"
    },
    "id": "8EN9tVawbUfG",
    "trusted": true
   },
   "outputs": [
    {
     "data": {
      "application/vnd.jupyter.widget-view+json": {
       "model_id": "11f1ed9575634c9fa7d25b4aed4ce3d3",
       "version_major": 2,
       "version_minor": 0
      },
      "text/plain": [
       "  0%|          | 0/6 [00:00<?, ?it/s]"
      ]
     },
     "metadata": {},
     "output_type": "display_data"
    },
    {
     "name": "stderr",
     "output_type": "stream",
     "text": [
      "/opt/conda/lib/python3.10/site-packages/transformers/generation/utils.py:1473: UserWarning: You have modified the pretrained model configuration to control generation. This is a deprecated strategy to control generation and will be removed soon, in a future version. Please use and modify the model generation configuration (see https://huggingface.co/docs/transformers/generation_strategies#default-text-generation-configuration )\n",
      "  warnings.warn(\n"
     ]
    }
   ],
   "source": [
    "questions = [\n",
    "\n",
    "    \"What is the capital of France?\",\n",
    "\n",
    "    \"Can you explain the Pythagorean theorem?\",\n",
    "\n",
    "    \"What is photosynthesis?\",\n",
    "\n",
    "    \"Give me a summary of 'Romeo and Juliet'\",\n",
    "\n",
    "    \"How far is the moon from the Earth?\",\n",
    "\n",
    "    \"What is a haiku?\",\n",
    "\n",
    "]\n",
    "\n",
    "answers = []\n",
    "\n",
    "\n",
    "\n",
    "for question in tqdm(questions):\n",
    "\n",
    "    tokenized_input = tokenizer(\n",
    "\n",
    "        f\"QUESTION: {question}\\n ANSWER:\",\n",
    "\n",
    "        return_tensors=\"pt\"\n",
    "\n",
    "    )\n",
    "\n",
    "    with torch.no_grad():\n",
    "\n",
    "        output = model.generate(\n",
    "\n",
    "            tokenized_input[\"input_ids\"].cuda(),\n",
    "\n",
    "            max_length=50, num_beams=3, early_stopping=True,\n",
    "\n",
    "        )[0]\n",
    "\n",
    "    answer = tokenizer.decode(output, skip_special_tokens=True)\n",
    "\n",
    "    answers.append(answer[:answer.find(\".\")] + \".\")\n"
   ]
  },
  {
   "cell_type": "code",
   "execution_count": 19,
   "metadata": {
    "colab": {
     "base_uri": "https://localhost:8080/"
    },
    "execution": {
     "iopub.execute_input": "2024-12-02T20:16:49.143013Z",
     "iopub.status.busy": "2024-12-02T20:16:49.142654Z",
     "iopub.status.idle": "2024-12-02T20:16:49.148317Z",
     "shell.execute_reply": "2024-12-02T20:16:49.147520Z",
     "shell.execute_reply.started": "2024-12-02T20:16:49.142974Z"
    },
    "id": "m-QFd87GjNvd",
    "outputId": "fb107ca1-050f-48d1-e36c-ae68a1183e1c",
    "trusted": true
   },
   "outputs": [
    {
     "name": "stdout",
     "output_type": "stream",
     "text": [
      "QUESTION: What is the capital of France?\n",
      " ANSWER: Paris.\n",
      "\n",
      "QUESTION: Can you explain the Pythagorean theorem?\n",
      " ANSWER: The Pythagorean theorem states that the sum of the squares of the sides of a right triangle is equal to the square o.\n",
      "\n",
      "QUESTION: What is photosynthesis?\n",
      " ANSWER: Photosynthesis is the process by which plants use the energy of sunlight to convert carbon dioxide and water into carbohydrates an.\n",
      "\n",
      "QUESTION: Give me a summary of 'Romeo and Juliet'\n",
      " ANSWER: Romeo and Juliet is a tragedy written by William Shakespeare about two young star-crossed lovers, Rom.\n",
      "\n",
      "QUESTION: How far is the moon from the Earth?\n",
      " ANSWER: About 240,000 miles.\n",
      "\n",
      "QUESTION: What is a haiku?\n",
      " ANSWER: A haiku is a form of Japanese poetry that consists of three unrhymed lines of 5, 7, and 5 syllables.\n"
     ]
    }
   ],
   "source": [
    "print(*answers, sep=\"\\n\\n\")"
   ]
  },
  {
   "cell_type": "code",
   "execution_count": 20,
   "metadata": {
    "execution": {
     "iopub.execute_input": "2024-12-02T20:16:49.149561Z",
     "iopub.status.busy": "2024-12-02T20:16:49.149270Z",
     "iopub.status.idle": "2024-12-02T20:16:55.745653Z",
     "shell.execute_reply": "2024-12-02T20:16:55.744945Z",
     "shell.execute_reply.started": "2024-12-02T20:16:49.149527Z"
    },
    "id": "Fn-Vko3urrM0",
    "trusted": true
   },
   "outputs": [],
   "source": [
    "model = model.cpu()\n",
    "\n",
    "torch.cuda.empty_cache()"
   ]
  },
  {
   "cell_type": "markdown",
   "metadata": {
    "id": "EOFpjGxX2H-J"
   },
   "source": [
    "### Evaluating the model\n",
    "\n",
    "\n",
    "\n",
    "Before we start quantizing the model itself, let us create a way to evaluate it's performance.\n"
   ]
  },
  {
   "cell_type": "markdown",
   "metadata": {
    "id": "_G6Muc5ZyupZ"
   },
   "source": [
    "**Downloading the data**\n",
    "\n",
    "\n",
    "\n",
    "As a metric of the models' performance, we'll use it's PPL on the [wikitext2](https://paperswithcode.com/dataset/wikitext-2) dataset. Let us download and tokenize it. We'll need two subsets of it:\n",
    "\n",
    " * Test set of size ... to evaluate the models.\n",
    "\n",
    " * A train subset of size ... that we'll use later for GPTQ."
   ]
  },
  {
   "cell_type": "code",
   "execution_count": 21,
   "metadata": {
    "execution": {
     "iopub.execute_input": "2024-12-02T20:16:55.747004Z",
     "iopub.status.busy": "2024-12-02T20:16:55.746770Z",
     "iopub.status.idle": "2024-12-02T20:17:29.911327Z",
     "shell.execute_reply": "2024-12-02T20:17:29.910618Z",
     "shell.execute_reply.started": "2024-12-02T20:16:55.746980Z"
    },
    "id": "CUSNnguPysaD",
    "trusted": true
   },
   "outputs": [
    {
     "data": {
      "application/vnd.jupyter.widget-view+json": {
       "model_id": "dcd8559c27094ee7b19dc3934a79dd46",
       "version_major": 2,
       "version_minor": 0
      },
      "text/plain": [
       "Downloading readme:   0%|          | 0.00/10.5k [00:00<?, ?B/s]"
      ]
     },
     "metadata": {},
     "output_type": "display_data"
    },
    {
     "data": {
      "application/vnd.jupyter.widget-view+json": {
       "model_id": "d2bdd3127ab04e388e978aec23e2a166",
       "version_major": 2,
       "version_minor": 0
      },
      "text/plain": [
       "Downloading data files:   0%|          | 0/3 [00:00<?, ?it/s]"
      ]
     },
     "metadata": {},
     "output_type": "display_data"
    },
    {
     "data": {
      "application/vnd.jupyter.widget-view+json": {
       "model_id": "fdc7b00dbd4d45eaa5de10c69f0ac29e",
       "version_major": 2,
       "version_minor": 0
      },
      "text/plain": [
       "Downloading data:   0%|          | 0.00/733k [00:00<?, ?B/s]"
      ]
     },
     "metadata": {},
     "output_type": "display_data"
    },
    {
     "data": {
      "application/vnd.jupyter.widget-view+json": {
       "model_id": "9cfab930c6324a80a737a9d408b95afd",
       "version_major": 2,
       "version_minor": 0
      },
      "text/plain": [
       "Downloading data:   0%|          | 0.00/6.36M [00:00<?, ?B/s]"
      ]
     },
     "metadata": {},
     "output_type": "display_data"
    },
    {
     "data": {
      "application/vnd.jupyter.widget-view+json": {
       "model_id": "9b8446ecb82944cd8583ee64dc0679f1",
       "version_major": 2,
       "version_minor": 0
      },
      "text/plain": [
       "Downloading data:   0%|          | 0.00/657k [00:00<?, ?B/s]"
      ]
     },
     "metadata": {},
     "output_type": "display_data"
    },
    {
     "data": {
      "application/vnd.jupyter.widget-view+json": {
       "model_id": "bc27cb3f190d41a2b41872bf4164e4b0",
       "version_major": 2,
       "version_minor": 0
      },
      "text/plain": [
       "Extracting data files:   0%|          | 0/3 [00:00<?, ?it/s]"
      ]
     },
     "metadata": {},
     "output_type": "display_data"
    },
    {
     "data": {
      "application/vnd.jupyter.widget-view+json": {
       "model_id": "0eaff24f6c0948ac8e50cef03ce58412",
       "version_major": 2,
       "version_minor": 0
      },
      "text/plain": [
       "Generating test split:   0%|          | 0/4358 [00:00<?, ? examples/s]"
      ]
     },
     "metadata": {},
     "output_type": "display_data"
    },
    {
     "data": {
      "application/vnd.jupyter.widget-view+json": {
       "model_id": "d2f673fa3c3947d8814c60471a6b96e6",
       "version_major": 2,
       "version_minor": 0
      },
      "text/plain": [
       "Generating train split:   0%|          | 0/36718 [00:00<?, ? examples/s]"
      ]
     },
     "metadata": {},
     "output_type": "display_data"
    },
    {
     "data": {
      "application/vnd.jupyter.widget-view+json": {
       "model_id": "3cbffc261bd94e71824dfb4f5b9c7478",
       "version_major": 2,
       "version_minor": 0
      },
      "text/plain": [
       "Generating validation split:   0%|          | 0/3760 [00:00<?, ? examples/s]"
      ]
     },
     "metadata": {},
     "output_type": "display_data"
    }
   ],
   "source": [
    "SEED = 0\n",
    "\n",
    "\n",
    "\n",
    "def get_wikitext2(seed, seqlen, nsamples=128):\n",
    "\n",
    "    traindata = load_dataset('wikitext', 'wikitext-2-raw-v1', split='train')\n",
    "\n",
    "    testdata = load_dataset('wikitext', 'wikitext-2-raw-v1', split='test')\n",
    "\n",
    "\n",
    "\n",
    "    tokenizer = AutoTokenizer.from_pretrained(LLAMA_REPO, use_fast=False)\n",
    "\n",
    "\n",
    "\n",
    "    train_input_ids = tokenizer(\"\\n\\n\".join(traindata['text']), return_tensors='pt').input_ids\n",
    "\n",
    "    random.seed(seed)\n",
    "\n",
    "    train_batch = []\n",
    "\n",
    "    for _ in range(nsamples):\n",
    "\n",
    "        i = random.randint(0, train_input_ids.shape[1] - seqlen - 1)\n",
    "\n",
    "        j = i + seqlen\n",
    "\n",
    "        inp = train_input_ids[:, i:j]\n",
    "\n",
    "        tar = inp.clone()\n",
    "\n",
    "        tar[:, :-1] = -100\n",
    "\n",
    "        train_batch.append(inp[0])\n",
    "\n",
    "\n",
    "\n",
    "    test_input_ids = tokenizer(\"\\n\\n\".join(testdata['text']), return_tensors='pt').input_ids\n",
    "\n",
    "    test_input_ids = test_input_ids[:, :(test_input_ids.shape[1] // seqlen) *  seqlen]\n",
    "\n",
    "    test_input_ids = test_input_ids.reshape(test_input_ids.shape[1] // seqlen, seqlen)\n",
    "\n",
    "\n",
    "\n",
    "    return torch.stack(train_batch), test_input_ids\n",
    "\n",
    "\n",
    "\n",
    "train_batch, test_input_ids = get_wikitext2(SEED, 2048)"
   ]
  },
  {
   "cell_type": "markdown",
   "metadata": {
    "id": "A77M_WBTuOLh"
   },
   "source": [
    "**Model offloading**\n",
    "\n",
    "\n",
    "\n",
    "We want to evaluate the model's performance on a large dataset. The model barely fits on the *GPU*, and we'll have to infer in on long text sequences. We don't have enought *VRAM* to do that.\n",
    "\n",
    "\n",
    "\n",
    "Instead, we'll keep most of the model in *RAM*, only transferring the layers to *GPU* as we go through them one by one, and putting them back when we're done.\n",
    "\n",
    "\n",
    "\n",
    "**Obtaining the first layer inputs**\n",
    "\n",
    "\n",
    "\n",
    "To start iterating over the layers, we'll first have to obtain the fist layer inputs. We use the function below to do it."
   ]
  },
  {
   "cell_type": "code",
   "execution_count": 22,
   "metadata": {
    "execution": {
     "iopub.execute_input": "2024-12-02T20:17:29.912770Z",
     "iopub.status.busy": "2024-12-02T20:17:29.912309Z",
     "iopub.status.idle": "2024-12-02T20:17:31.409346Z",
     "shell.execute_reply": "2024-12-02T20:17:31.408322Z",
     "shell.execute_reply.started": "2024-12-02T20:17:29.912742Z"
    },
    "id": "QbxZfwj8ipPF",
    "trusted": true
   },
   "outputs": [
    {
     "name": "stderr",
     "output_type": "stream",
     "text": [
      "/opt/conda/lib/python3.10/pty.py:89: RuntimeWarning: os.fork() was called. os.fork() is incompatible with multithreaded code, and JAX is multithreaded, so this will likely lead to a deadlock.\n",
      "  pid, fd = os.forkpty()\n"
     ]
    },
    {
     "name": "stdout",
     "output_type": "stream",
     "text": [
      "--2024-12-02 20:17:31--  https://raw.githubusercontent.com/yandexdataschool/nlp_course/2023/week10_efficiency/utils.py\n",
      "Resolving raw.githubusercontent.com (raw.githubusercontent.com)... 185.199.108.133, 185.199.109.133, 185.199.110.133, ...\n",
      "Connecting to raw.githubusercontent.com (raw.githubusercontent.com)|185.199.108.133|:443... connected.\n",
      "HTTP request sent, awaiting response... 200 OK\n",
      "Length: 1334 (1.3K) [text/plain]\n",
      "Saving to: 'utils.py'\n",
      "\n",
      "utils.py            100%[===================>]   1.30K  --.-KB/s    in 0s      \n",
      "\n",
      "2024-12-02 20:17:31 (71.2 MB/s) - 'utils.py' saved [1334/1334]\n",
      "\n"
     ]
    }
   ],
   "source": [
    "!wget -nc https://raw.githubusercontent.com/yandexdataschool/nlp_course/2023/week10_efficiency/utils.py --no-check-certificate"
   ]
  },
  {
   "cell_type": "code",
   "execution_count": 23,
   "metadata": {
    "execution": {
     "iopub.execute_input": "2024-12-02T20:17:31.411446Z",
     "iopub.status.busy": "2024-12-02T20:17:31.411076Z",
     "iopub.status.idle": "2024-12-02T20:17:31.419087Z",
     "shell.execute_reply": "2024-12-02T20:17:31.418215Z",
     "shell.execute_reply.started": "2024-12-02T20:17:31.411406Z"
    },
    "id": "7W50rdH0i62Y",
    "trusted": true
   },
   "outputs": [],
   "source": [
    "from utils import get_first_layer_inputs"
   ]
  },
  {
   "cell_type": "code",
   "execution_count": 24,
   "metadata": {
    "execution": {
     "iopub.execute_input": "2024-12-02T20:17:31.420586Z",
     "iopub.status.busy": "2024-12-02T20:17:31.420053Z",
     "iopub.status.idle": "2024-12-02T20:17:31.488383Z",
     "shell.execute_reply": "2024-12-02T20:17:31.487602Z",
     "shell.execute_reply.started": "2024-12-02T20:17:31.420557Z"
    },
    "id": "hN2TrGEBi62Y",
    "trusted": true
   },
   "outputs": [
    {
     "data": {
      "application/vnd.jupyter.widget-view+json": {
       "model_id": "3cdff4eedbeb48ff8ba6cdb0af6f30eb",
       "version_major": 2,
       "version_minor": 0
      },
      "text/plain": [
       "  0%|          | 0/32 [00:00<?, ?it/s]"
      ]
     },
     "metadata": {},
     "output_type": "display_data"
    },
    {
     "name": "stdout",
     "output_type": "stream",
     "text": [
      "All tests passed!\n"
     ]
    }
   ],
   "source": [
    "class TestModule(nn.Module):\n",
    "\n",
    "    def __init__(self):\n",
    "\n",
    "        super().__init__()\n",
    "\n",
    "        self.model = nn.ModuleDict({\"layers\": nn.ModuleList([])})\n",
    "\n",
    "\n",
    "\n",
    "    def forward(self, inp):\n",
    "\n",
    "        self.model.layers[0](2 * inp, attention_mask=\"Some Mask\", position_ids=\"Some Ids\")\n",
    "\n",
    "\n",
    "\n",
    "\n",
    "\n",
    "test_model = TestModule()\n",
    "\n",
    "llama_rtn(\"TEST\", test_model, 4)\n",
    "\n",
    "test_inputs = torch.arange(16 * 32).reshape(16, 32).float()\n",
    "\n",
    "hidden_states, attention_mask, position_ids = get_first_layer_inputs(test_model, test_inputs)\n",
    "\n",
    "assert torch.all(2 * test_inputs == hidden_states)\n",
    "\n",
    "assert attention_mask == \"Some Mask\"\n",
    "\n",
    "assert position_ids == \"Some Ids\"\n",
    "\n",
    "assert len(test_model.model.layers) == 32, \"The function doesn't put back the original layers\"\n",
    "\n",
    "print(\"All tests passed!\")"
   ]
  },
  {
   "cell_type": "markdown",
   "metadata": {
    "id": "HFI_nTCXi62Y"
   },
   "source": [
    "**Forward passing layer-by-layer**"
   ]
  },
  {
   "cell_type": "code",
   "execution_count": 25,
   "metadata": {
    "execution": {
     "iopub.execute_input": "2024-12-02T20:17:31.489895Z",
     "iopub.status.busy": "2024-12-02T20:17:31.489650Z",
     "iopub.status.idle": "2024-12-02T20:17:31.500933Z",
     "shell.execute_reply": "2024-12-02T20:17:31.500124Z",
     "shell.execute_reply.started": "2024-12-02T20:17:31.489871Z"
    },
    "id": "zzEPMSsEi62Y",
    "trusted": true
   },
   "outputs": [],
   "source": [
    "def forward_pass_layer(layer: nn.Module, inps: torch.Tensor, outs: torch.Tensor, attention_mask: Tensor, position_ids: Tensor):\n",
    "\n",
    "    \"\"\"Forward pass inps through the layer ONE INP AT A TIME saving the outputs into the corresponding elements of outs\"\"\"\n",
    "\n",
    "    for j in range(inps.shape[0]):\n",
    "\n",
    "        outs[j] = layer(inps[j].unsqueeze(0), attention_mask=attention_mask, position_ids=position_ids)[0]\n",
    "\n",
    "\n",
    "\n",
    "\n",
    "\n",
    "def get_batch_nll(model: nn.Module, batch: Tensor):\n",
    "\n",
    "    # Collect the first layer inputs, put them on .cuda()\n",
    "\n",
    "    inps, attention_mask, position_ids = get_first_layer_inputs(model, batch)\n",
    "\n",
    "    inps = inps.cuda()\n",
    "\n",
    "    attention_mask = attention_mask.cuda()\n",
    "\n",
    "    position_ids = position_ids.cuda()\n",
    "\n",
    "\n",
    "\n",
    "    # Create a buffer for layer outputs\n",
    "\n",
    "    outs = torch.zeros_like(inps)\n",
    "\n",
    "\n",
    "\n",
    "    # Forward pass through the layers\n",
    "\n",
    "    layers = model.model.layers\n",
    "\n",
    "    assert len(layers) == 32\n",
    "\n",
    "    for i in trange(32, leave=False):\n",
    "\n",
    "        layer = layers[i].cuda() # Take a layer and put in on .cuda()\n",
    "\n",
    "\n",
    "\n",
    "        forward_pass_layer(layer, inps, outs, attention_mask, position_ids) # Forward pass a layer\n",
    "\n",
    "        inps, outs = outs, inps # Prepare the inputs and the output buffer for the next layer. Reuse the existing buffers\n",
    "\n",
    "\n",
    "\n",
    "        layers[i] = layer.cpu() # Put layer back on .cpu()\n",
    "\n",
    "        del layer\n",
    "\n",
    "        torch.cuda.empty_cache()\n",
    "\n",
    "\n",
    "\n",
    "\n",
    "\n",
    "    # Calculate NLL\n",
    "\n",
    "    nll = 0\n",
    "\n",
    "    model.model.norm = model.model.norm.cuda()\n",
    "\n",
    "    model.lm_head = model.lm_head.cuda()\n",
    "\n",
    "    for i in range(inps.shape[0]):\n",
    "\n",
    "        lm_logits = model.lm_head(model.model.norm(inps[i].unsqueeze(0)))\n",
    "\n",
    "        labels = batch[i]\n",
    "\n",
    "        # Calculate the language modeling Negative Log Likelyhood\n",
    "\n",
    "        shift_logits = lm_logits[:, :-1, :]\n",
    "\n",
    "        shift_labels = labels[1:]\n",
    "\n",
    "        loss_fct = nn.CrossEntropyLoss()\n",
    "\n",
    "        loss = loss_fct(shift_logits.view(-1, shift_logits.size(-1)), shift_labels.view(-1).cuda())\n",
    "\n",
    "        nll += float(loss) * model.seqlen\n",
    "\n",
    "    model.model.norm = model.model.norm.cpu()\n",
    "\n",
    "    model.lm_head = model.lm_head.cpu()\n",
    "\n",
    "    return nll\n",
    "\n",
    "\n",
    "\n",
    "\n",
    "\n",
    "@torch.no_grad()\n",
    "\n",
    "def llama_eval(model, test_input_ids):\n",
    "\n",
    "    print('Evaluating ...')\n",
    "\n",
    "\n",
    "\n",
    "    total_nll = 0\n",
    "\n",
    "    for batch in tqdm(torch.tensor_split(test_input_ids, 4)):\n",
    "\n",
    "        total_nll += get_batch_nll(model, batch)\n",
    "\n",
    "\n",
    "\n",
    "    # Calculate PPL\n",
    "\n",
    "    ppl = math.exp(total_nll / test_input_ids.numel())\n",
    "\n",
    "    print(f\"PPL: {ppl}\")\n",
    "\n",
    "    return ppl\n"
   ]
  },
  {
   "cell_type": "markdown",
   "metadata": {
    "id": "pHq3Z8RlLpuc"
   },
   "source": [
    "**Calculating PPL**\n",
    "\n",
    "\n",
    "\n",
    "We've already loaded and quantized the model. All that's left is to evaluate it."
   ]
  },
  {
   "cell_type": "code",
   "execution_count": 26,
   "metadata": {
    "execution": {
     "iopub.execute_input": "2024-12-02T20:17:31.502664Z",
     "iopub.status.busy": "2024-12-02T20:17:31.502102Z",
     "iopub.status.idle": "2024-12-02T20:25:00.359082Z",
     "shell.execute_reply": "2024-12-02T20:25:00.358324Z",
     "shell.execute_reply.started": "2024-12-02T20:17:31.502628Z"
    },
    "id": "ybS4iAjsq67Z",
    "trusted": true
   },
   "outputs": [
    {
     "name": "stdout",
     "output_type": "stream",
     "text": [
      "Evaluating ...\n"
     ]
    },
    {
     "data": {
      "application/vnd.jupyter.widget-view+json": {
       "model_id": "03f10348cef649428cb7ec8cc7ba5483",
       "version_major": 2,
       "version_minor": 0
      },
      "text/plain": [
       "  0%|          | 0/4 [00:00<?, ?it/s]"
      ]
     },
     "metadata": {},
     "output_type": "display_data"
    },
    {
     "data": {
      "application/vnd.jupyter.widget-view+json": {
       "model_id": "814a7c6ac5cb4ef4a3fc7680e9a3d109",
       "version_major": 2,
       "version_minor": 0
      },
      "text/plain": [
       "  0%|          | 0/32 [00:00<?, ?it/s]"
      ]
     },
     "metadata": {},
     "output_type": "display_data"
    },
    {
     "data": {
      "application/vnd.jupyter.widget-view+json": {
       "model_id": "b64fe7dab4b54f999e6156a18a86275b",
       "version_major": 2,
       "version_minor": 0
      },
      "text/plain": [
       "  0%|          | 0/32 [00:00<?, ?it/s]"
      ]
     },
     "metadata": {},
     "output_type": "display_data"
    },
    {
     "data": {
      "application/vnd.jupyter.widget-view+json": {
       "model_id": "bf16b6f0cd024f00a3bf159ffec8f2cb",
       "version_major": 2,
       "version_minor": 0
      },
      "text/plain": [
       "  0%|          | 0/32 [00:00<?, ?it/s]"
      ]
     },
     "metadata": {},
     "output_type": "display_data"
    },
    {
     "data": {
      "application/vnd.jupyter.widget-view+json": {
       "model_id": "13d9ec18592b41b6960ef2b7a340bc0d",
       "version_major": 2,
       "version_minor": 0
      },
      "text/plain": [
       "  0%|          | 0/32 [00:00<?, ?it/s]"
      ]
     },
     "metadata": {},
     "output_type": "display_data"
    },
    {
     "name": "stdout",
     "output_type": "stream",
     "text": [
      "PPL: 6.429625677428965\n"
     ]
    }
   ],
   "source": [
    "rtn_ppl = llama_eval(model, test_input_ids)"
   ]
  },
  {
   "cell_type": "code",
   "execution_count": 27,
   "metadata": {
    "execution": {
     "iopub.execute_input": "2024-12-02T20:25:00.361415Z",
     "iopub.status.busy": "2024-12-02T20:25:00.360746Z",
     "iopub.status.idle": "2024-12-02T20:25:00.366336Z",
     "shell.execute_reply": "2024-12-02T20:25:00.365531Z",
     "shell.execute_reply.started": "2024-12-02T20:25:00.361373Z"
    },
    "id": "722oBDnwq_1x",
    "trusted": true
   },
   "outputs": [
    {
     "name": "stdout",
     "output_type": "stream",
     "text": [
      "All tests passed!\n"
     ]
    }
   ],
   "source": [
    "# Testing your code\n",
    "\n",
    "\n",
    "\n",
    "assert rtn_ppl > 6.3 and rtn_ppl < 6.6\n",
    "\n",
    "print(\"All tests passed!\")"
   ]
  },
  {
   "cell_type": "code",
   "execution_count": 28,
   "metadata": {
    "execution": {
     "iopub.execute_input": "2024-12-02T20:25:00.368194Z",
     "iopub.status.busy": "2024-12-02T20:25:00.367611Z",
     "iopub.status.idle": "2024-12-02T20:25:00.829173Z",
     "shell.execute_reply": "2024-12-02T20:25:00.828474Z",
     "shell.execute_reply.started": "2024-12-02T20:25:00.368154Z"
    },
    "id": "urb_7OhSq_zA",
    "trusted": true
   },
   "outputs": [],
   "source": [
    "del model\n",
    "\n",
    "torch.cuda.empty_cache()"
   ]
  },
  {
   "cell_type": "markdown",
   "metadata": {
    "id": "-CQIk33arN6A"
   },
   "source": [
    "### GPTQ"
   ]
  },
  {
   "cell_type": "markdown",
   "metadata": {
    "id": "t16SaWf3rQt7"
   },
   "source": [
    "GPTQ is the State Of The Art quantization algorithm for post-training DL model quantization. It works by sequentially quantizing the model's linear layer weights.\n",
    "\n",
    "\n",
    "\n",
    "Although in outputs results similar to what one would get with Round To Nearest quantization, it makes a key observations to boost it's end performance:\n",
    "\n",
    " * It is layer input aware (also referred to as \"1-Shot\" method), meaning int optimizes the quantized matrix to show best performance on inputs typically encountered in that layer.\n",
    "\n",
    "More formally, the problem can be formulated as:\n",
    "\n",
    "$$\n",
    "\n",
    "W_q = argmin_{\\widehat{W}}\\|XW^T - X\\widehat{W}^T\\|_2^2\n",
    "\n",
    "$$\n",
    "\n",
    ", where\n",
    "\n",
    " * $X$ is the input matrix of shape `(..., IN)`.\n",
    "\n",
    " * $XW^T$ is the unquantized output of shape `(..., OUT)`. We think of the norm above as taking a sum over those (...) dimensions.\n",
    "\n",
    " * $W$ is the unquantized weight of shape `(OUT, IN)`.\n",
    "\n",
    " * $\\widehat{W}$ is the quantized weight taken from some quantization grid.\n",
    "\n",
    "\n",
    "\n",
    "One can notice that the expression above is independent with regard to the rows of $W$ and $\\widehat{W}$, meaning we can solve it for each row in parallel. This is the reason why we're working with row-wise quantization in the first place. Notice that the quantization grid only depends on min/max values withing the row and not the quantization process, so we can think of it as fixed.\n",
    "\n",
    "\n",
    "\n",
    "and the dimension of the optimization problem is `IN`, which is too much to solve exactly. The algorithm proposes to solve it iteratively.\n",
    "\n",
    "\n",
    "\n",
    "Less us consider a vector of full precision weights $F$ and corresponding sent of inputs $X_F$. The corresponding objective is quadratic with Hessian\n",
    "\n",
    "$$\n",
    "\n",
    "H_F = 2X_F^TX_F^.\n",
    "\n",
    "$$\n",
    "\n",
    "The algorithm can be described like this:\n",
    "\n",
    " * Do the following steps until $F$ is fully quantized:\n",
    "\n",
    "    1. Given the next index to quantize $i$, and corresponding unquantized element $F_i$.\n",
    "\n",
    "    2. Quantize the coordinate by prjecting in onto the quantization grid $Q_i = quant(F_i)$.\n",
    "\n",
    "    3. Update all of the remaining weights $F_: = F_: - \\frac{F_i - quant(F_i)}{\\left[H_F^{-1}\\right]_{ii}}\\cdot\\left[H_F^{-1}\\right]_{i,:}$.\n",
    "\n",
    "    4. Exclude $i$ from $F$.\n",
    "\n",
    "\n",
    "\n",
    "It uses the inverse Hessian to slightly tune the remaining unquantized weights to mitigate the quantization error.\n",
    "\n",
    "\n",
    "\n",
    "As for how $i$ is chosen, an observation was made that iterating over indices in order of **decreasing diagonal Hessian elements** provides the best performance.\n",
    "\n",
    "\n",
    "\n",
    "There are a few more ideas that make this algorithm much faster:\n",
    "\n",
    " 1. We can represent the order of quantization (selection of $i$) by permuting the row in advance, and then iterating over the row element in order.\n",
    "\n",
    " $$\n",
    "\n",
    "   F_{i:} = F_{i:} - \\frac{F_{i} - quant(F_{i})}{\\left[H_F^{-1}\\right]_{ii}}\\cdot\\left[H_F^{-1}\\right]_{i,i:}\n",
    "\n",
    " $$\n",
    "\n",
    " 2. The problem is row-wise independent, meaning that we use the same permutation each row and perform those operations in a vector fashion for all the rows at the same time.\n",
    "\n",
    " $$\n",
    "\n",
    "   F_{:,i:} = F_{:,i:} - \\frac{F_{:,i} - quant(F_{:,i})}{\\left[H_F^{-1}\\right]_{ii}}\\odot\\left[H_F^{-1}\\right]_{i,i:}\\leftarrow\\text{\\textbf{ you'll have to code this}}\n",
    "\n",
    " $$\n",
    "\n",
    " 3. We don't actually need to recompute the inverse Hessian. At $i$-th step we only need its $t$-th row, and we can use fancy math to precompute the matrix containing all of those rows in advance.\n",
    "\n",
    " $$\n",
    "\n",
    "  H^{-1} = Cholesky(H^{-1})^T    \n",
    "\n",
    " $$\n",
    "\n",
    "\n",
    "\n",
    " 4. We don't need to tune all the remaining unquantized values right away. We can only apply the updates for the closest elements right away and accumulate all the other updates to apply them only once in a while.\n",
    "\n",
    "\n",
    "\n",
    "    We'll do this in block of fixed size, applying the updates inside of those blocks and updating the weights outside only when we're done with the block. To accumulate those updates, we'll collect the scaled quantization error\n",
    "\n",
    "    $$\n",
    "\n",
    "      Err_{:,i} =\\frac{F_{:,i} - quant(F_{:,i})}{\\left[H_F^{-1}\\right]_{ii}}\\text{ for all }i\\text{ in block}.\n",
    "\n",
    "    $$"
   ]
  },
  {
   "cell_type": "markdown",
   "metadata": {
    "id": "ogTj9Op5raaD"
   },
   "source": [
    "**GPTQ within blocks**\n",
    "\n",
    "\n",
    "\n",
    "Implement GPTQ within the block. Iterate over the columns in ordered vector fashion, quantizing them one by one and updating all the remaining colums within the block.\n",
    "\n",
    "\n",
    "\n",
    "Return the quantized weight as well as the matrix of quantization errors that we'll need to tune the unquantized weights outside of the block.\n",
    "\n",
    "\n",
    "\n",
    "**Task (2pt):** Implement GPTQ block:"
   ]
  },
  {
   "cell_type": "code",
   "execution_count": 59,
   "metadata": {
    "execution": {
     "iopub.execute_input": "2024-12-02T20:49:27.211306Z",
     "iopub.status.busy": "2024-12-02T20:49:27.210950Z",
     "iopub.status.idle": "2024-12-02T20:49:27.218925Z",
     "shell.execute_reply": "2024-12-02T20:49:27.218040Z",
     "shell.execute_reply.started": "2024-12-02T20:49:27.211276Z"
    },
    "id": "t8GwQU5CrNv_",
    "trusted": true
   },
   "outputs": [],
   "source": [
    "@torch.no_grad()\n",
    "\n",
    "def gptq_block(block_weight: Tensor, block_hessian_inverse: Tensor, scale: Tensor, zero: Tensor, bits: int) -> tuple[Tensor, Tensor]:\n",
    "\n",
    "    \"\"\"Perform GPTQ within block\n",
    "\n",
    "    Args:\n",
    "\n",
    "        block_weight (Tensor): weight to quantize of shape (OUT, BLOCK_SIZE)\n",
    "\n",
    "        block_hessian_inverse (Tensor): Cholesky inverse Hessian. Upper triangular of shape (BLOCK_SIZE, BLOCK_SIZE)\n",
    "\n",
    "        scale (Tensor): row-wise quantization constats of shape (OUT, 1)\n",
    "\n",
    "        zero (Tensor): row-wise quantization constats of shape (OUT, 1)\n",
    "\n",
    "        bits (int): number of bits to quantize() to\n",
    "\n",
    "\n",
    "\n",
    "    Returns:\n",
    "\n",
    "        tuple[Tensor, Tensor]: quantized weight and scaled quantization error\n",
    "\n",
    "    \"\"\"\n",
    "\n",
    "    block_weight = block_weight.clone()\n",
    "\n",
    "    quantized_block_weight = torch.zeros(block_weight.shape, dtype=torch.uint8, device=block_weight.device)\n",
    "\n",
    "    scaled_block_error = torch.zeros_like(block_weight)\n",
    "\n",
    "\n",
    "\n",
    "    # Interate over the block's columns\n",
    "\n",
    "    for i in range(block_weight.shape[1]):\n",
    "\n",
    "        # Get the column and the corresponding inverse Hessian\n",
    "\n",
    "        column_weight = block_weight[:, [i]]\n",
    "\n",
    "        # YOUR CODE HERE>>>>>>>>>\n",
    "        q_column_weight = quantize(column_weight, scale, zero, bits)\n",
    "        quantized_block_weight[:, i] = q_column_weight.squeeze(1)\n",
    "        deq_column_weight = dequantize(q_column_weight, scale, zero)\n",
    "        block_weight[:, i:] -= (column_weight - deq_column_weight) * block_hessian_inverse[i, i:] / block_hessian_inverse[i, i]\n",
    "        scaled_block_error[:, i:] = (column_weight - deq_column_weight) / block_hessian_inverse[i, i]\n",
    "        # <<<<<<<<<<<<<<<<<<<<<<<\n",
    "\n",
    "\n",
    "\n",
    "    return quantized_block_weight, scaled_block_error\n"
   ]
  },
  {
   "cell_type": "code",
   "execution_count": 60,
   "metadata": {
    "execution": {
     "iopub.execute_input": "2024-12-02T20:49:34.613242Z",
     "iopub.status.busy": "2024-12-02T20:49:34.612907Z",
     "iopub.status.idle": "2024-12-02T20:49:37.053353Z",
     "shell.execute_reply": "2024-12-02T20:49:37.052275Z",
     "shell.execute_reply.started": "2024-12-02T20:49:34.613213Z"
    },
    "id": "LgRy6B_didyY",
    "trusted": true
   },
   "outputs": [
    {
     "name": "stdout",
     "output_type": "stream",
     "text": [
      "--2024-12-02 20:49:35--  https://raw.githubusercontent.com/yandexdataschool/nlp_course/2023/week10_efficiency/gptq_block_weight_reference.pt\n",
      "Resolving raw.githubusercontent.com (raw.githubusercontent.com)... 185.199.108.133, 185.199.110.133, 185.199.111.133, ...\n",
      "Connecting to raw.githubusercontent.com (raw.githubusercontent.com)|185.199.108.133|:443... connected.\n",
      "HTTP request sent, awaiting response... 200 OK\n",
      "Length: 3392 (3.3K) [application/octet-stream]\n",
      "Saving to: 'gptq_block_weight_reference.pt'\n",
      "\n",
      "gptq_block_weight_r 100%[===================>]   3.31K  --.-KB/s    in 0s      \n",
      "\n",
      "2024-12-02 20:49:35 (27.2 MB/s) - 'gptq_block_weight_reference.pt' saved [3392/3392]\n",
      "\n",
      "--2024-12-02 20:49:36--  https://raw.githubusercontent.com/yandexdataschool/nlp_course/2023/week10_efficiency/gptq_block_error_reference.pt\n",
      "Resolving raw.githubusercontent.com (raw.githubusercontent.com)... 185.199.111.133, 185.199.110.133, 185.199.109.133, ...\n",
      "Connecting to raw.githubusercontent.com (raw.githubusercontent.com)|185.199.111.133|:443... connected.\n",
      "HTTP request sent, awaiting response... 200 OK\n",
      "Length: 9531 (9.3K) [application/octet-stream]\n",
      "Saving to: 'gptq_block_error_reference.pt'\n",
      "\n",
      "gptq_block_error_re 100%[===================>]   9.31K  --.-KB/s    in 0s      \n",
      "\n",
      "2024-12-02 20:49:36 (80.2 MB/s) - 'gptq_block_error_reference.pt' saved [9531/9531]\n",
      "\n",
      "All tests passed!\n"
     ]
    },
    {
     "name": "stderr",
     "output_type": "stream",
     "text": [
      "/tmp/ipykernel_30/1917903715.py:31: FutureWarning: You are using `torch.load` with `weights_only=False` (the current default value), which uses the default pickle module implicitly. It is possible to construct malicious pickle data which will execute arbitrary code during unpickling (See https://github.com/pytorch/pytorch/blob/main/SECURITY.md#untrusted-models for more details). In a future release, the default value for `weights_only` will be flipped to `True`. This limits the functions that could be executed during unpickling. Arbitrary objects will no longer be allowed to be loaded via this mode unless they are explicitly allowlisted by the user via `torch.serialization.add_safe_globals`. We recommend you start setting `weights_only=True` for any use case where you don't have full control of the loaded file. Please open an issue on GitHub for any issues related to this experimental feature.\n",
      "  assert torch.all(quantized_block_weight == torch.load(\"gptq_block_weight_reference.pt\"))\n",
      "/tmp/ipykernel_30/1917903715.py:33: FutureWarning: You are using `torch.load` with `weights_only=False` (the current default value), which uses the default pickle module implicitly. It is possible to construct malicious pickle data which will execute arbitrary code during unpickling (See https://github.com/pytorch/pytorch/blob/main/SECURITY.md#untrusted-models for more details). In a future release, the default value for `weights_only` will be flipped to `True`. This limits the functions that could be executed during unpickling. Arbitrary objects will no longer be allowed to be loaded via this mode unless they are explicitly allowlisted by the user via `torch.serialization.add_safe_globals`. We recommend you start setting `weights_only=True` for any use case where you don't have full control of the loaded file. Please open an issue on GitHub for any issues related to this experimental feature.\n",
      "  assert torch.allclose(scaled_block_error, torch.load(\"gptq_block_error_reference.pt\"), rtol=1e-5, atol=1e-06)\n"
     ]
    }
   ],
   "source": [
    "# Testing your code\n",
    "\n",
    "!wget -O gptq_block_weight_reference.pt https://raw.githubusercontent.com/yandexdataschool/nlp_course/2023/week10_efficiency/gptq_block_weight_reference.pt --no-check-certificate\n",
    "\n",
    "!wget -O gptq_block_error_reference.pt https://raw.githubusercontent.com/yandexdataschool/nlp_course/2023/week10_efficiency/gptq_block_error_reference.pt --no-check-certificate\n",
    "\n",
    "\n",
    "\n",
    "generator = torch.Generator()\n",
    "\n",
    "generator.manual_seed(0)\n",
    "\n",
    "\n",
    "\n",
    "weight = torch.rand((128, 128), generator=generator).cuda()\n",
    "\n",
    "scale, zero = get_scale_and_zero(weight, 15)\n",
    "\n",
    "\n",
    "\n",
    "block_weight = weight[:,:16]\n",
    "\n",
    "\n",
    "\n",
    "block_hessian_inverse = (torch.triu(torch.rand((16, 16), generator=generator), diagonal=1) + torch.diag(torch.rand(16, generator=generator) + 1)).cuda()\n",
    "\n",
    "quantized_block_weight, scaled_block_error = gptq_block(block_weight, block_hessian_inverse, scale, zero, 4)\n",
    "\n",
    "\n",
    "\n",
    "assert torch.all(quantized_block_weight == torch.load(\"gptq_block_weight_reference.pt\"))\n",
    "\n",
    "assert torch.allclose(scaled_block_error, torch.load(\"gptq_block_error_reference.pt\"), rtol=1e-5, atol=1e-06)\n",
    "\n",
    "\n",
    "\n",
    "print(\"All tests passed!\")"
   ]
  },
  {
   "cell_type": "markdown",
   "metadata": {
    "id": "RpXmzbg8y18R"
   },
   "source": [
    "**Now we can implement the full algorithm:**\n",
    "\n",
    " * Get row-wise quantization constants.\n",
    "\n",
    " * Sort the columns by decreasing Hessian diagonal values. Think about how you'd have to permute the Hessian as well.\n",
    "\n",
    " * Process the Hessian to obtain the precomputed inverse Hessian.\n",
    "\n",
    " * Iterate over the columns in blocks:\n",
    "\n",
    "    * Get the next block and quantize it.\n",
    "\n",
    "    * Tune all the following blocks to mitigate the quantization error.\n",
    "\n",
    "      $$\n",
    "\n",
    "         F_{:,block\\_end:} = F_{:,block\\_end:} - Err_{:,block\\_start:block\\_end}\\odot\\left[H_F^{-1}\\right]_{block\\_start:block\\_end,block\\_end:}\n",
    "\n",
    "      $$\n",
    "\n",
    " * Restore the original order for quantized columns.\n",
    "\n",
    "\n",
    "\n",
    "**Task (2pt):** implement the full algorithms:"
   ]
  },
  {
   "cell_type": "code",
   "execution_count": 68,
   "metadata": {
    "execution": {
     "iopub.execute_input": "2024-12-02T20:54:22.516325Z",
     "iopub.status.busy": "2024-12-02T20:54:22.515291Z",
     "iopub.status.idle": "2024-12-02T20:54:22.532996Z",
     "shell.execute_reply": "2024-12-02T20:54:22.532132Z",
     "shell.execute_reply.started": "2024-12-02T20:54:22.516271Z"
    },
    "id": "iqI4FamprFPE",
    "trusted": true
   },
   "outputs": [],
   "source": [
    "def prepare_inverse_hessian(hessian: Tensor, percdamp: float) -> Tensor:\n",
    "\n",
    "    \"\"\"Precomputes inverse Hessian\n",
    "\n",
    "    Args:\n",
    "\n",
    "        hessian (Tensor): problem hessian\n",
    "\n",
    "        percdamp (float): diagonal damping constant for numerical stability\n",
    "\n",
    "    Returns:\n",
    "\n",
    "        Tensor: precomputed inverse Hessian\n",
    "\n",
    "    \"\"\"\n",
    "\n",
    "    damp = percdamp * torch.mean(torch.diag(hessian))\n",
    "\n",
    "    diag = torch.arange(hessian.shape[0], device=weight.device)\n",
    "\n",
    "    hessian[diag, diag] += damp\n",
    "\n",
    "    hessian = torch.linalg.cholesky(hessian)\n",
    "\n",
    "    hessian = torch.cholesky_inverse(hessian)\n",
    "\n",
    "    hessian = torch.linalg.cholesky(hessian, upper=True)\n",
    "\n",
    "    return hessian\n",
    "\n",
    "\n",
    "\n",
    "\n",
    "\n",
    "@torch.no_grad()\n",
    "\n",
    "def gptq(weight: torch.Tensor, bits: int, hessian: torch.Tensor, blocksize:int=128, percdamp:float=.01) -> tuple[Tensor, Tensor, Tensor]:\n",
    "\n",
    "    \"\"\"Quantizes weight with GPTQ\n",
    "\n",
    "    Args:\n",
    "\n",
    "        weight (torch.Tensor): weight to quantize\n",
    "\n",
    "        bits (int): number of bits to quantize to\n",
    "\n",
    "        hessian (torch.Tensor): problem Hessian\n",
    "\n",
    "        blocksize (int, optional): Defaults to 128.\n",
    "\n",
    "        percdamp (float, optional): Hessian damping constant for numerical stability. Defaults to .01.\n",
    "\n",
    "\n",
    "\n",
    "    Returns:\n",
    "\n",
    "        tuple[Tensor, Tensor, Tensor]: quantized_weight, row-wise quantization scales, row-wise quantization zeroes\n",
    "\n",
    "    \"\"\"\n",
    "\n",
    "    dtype = weight.dtype\n",
    "\n",
    "    weight = weight.clone().detach()\n",
    "\n",
    "    weight = weight.float()\n",
    "\n",
    "    num_columns = weight.shape[1]\n",
    "\n",
    "    hessian = hessian.float()\n",
    "\n",
    "\n",
    "\n",
    "    # Identify and patch always-zero input coordinates\n",
    "\n",
    "    dead = torch.diag(hessian) == 0\n",
    "\n",
    "    hessian[dead, dead] = 1\n",
    "\n",
    "    weight[:, dead] = 0\n",
    "\n",
    "\n",
    "\n",
    "    # Get row-wise quantization constants\n",
    "\n",
    "    scale, zero = get_scale_and_zero(weight, 2 ** bits - 1)\n",
    "\n",
    "\n",
    "\n",
    "    # Sort the columns by decreasing Hessian diagonal values.\n",
    "\n",
    "    # Transform the hessian accordingly.\n",
    "\n",
    "    # YOUR CODE HERE>>>>>>>>>\n",
    "\n",
    "    perm = torch.argsort(torch.diag(hessian), descending=True)\n",
    "\n",
    "    invperm = torch.argsort(perm)\n",
    "\n",
    "    weight = weight[:, perm]\n",
    "    \n",
    "    hessian = hessian[perm][:, perm]\n",
    "\n",
    "    # <<<<<<<<<<<<<<<<<<<<<<<\n",
    "\n",
    "\n",
    "\n",
    "    # Process the Hessian to obtain the precomputed inverse Hessian\n",
    "\n",
    "    hessian_inverse = prepare_inverse_hessian(hessian, percdamp)\n",
    "\n",
    "\n",
    "\n",
    "    # Iterate over the columns in blocks\n",
    "\n",
    "    quantized_weight = torch.zeros(weight.shape, dtype=torch.uint8, device=weight.device)\n",
    "\n",
    "    for block_start in range(0, num_columns, blocksize):\n",
    "\n",
    "\n",
    "\n",
    "        block_end = min(block_start + blocksize, num_columns)\n",
    "\n",
    "\n",
    "\n",
    "        # Get the next block and quantize it\n",
    "\n",
    "        # YOUR CODE HERE>>>>>>>>>\n",
    "\n",
    "        block_weight = weight[:, block_start:block_end]\n",
    "        block_hessian_inverse = hessian_inverse[block_start:block_end, block_start:block_end]\n",
    "        \n",
    "        quantized_block, scaled_error = gptq_block(\n",
    "            block_weight,\n",
    "            block_hessian_inverse,\n",
    "            scale,\n",
    "            zero,\n",
    "            bits\n",
    "        )\n",
    "        quantized_weight[:, block_start:block_end] = quantized_block\n",
    "\n",
    "        # Tune all the following blocks to mitigate the quantization error\n",
    "\n",
    "        weight[:, block_end:] -= scaled_error @ hessian_inverse[block_start:block_end, block_end:]\n",
    "\n",
    "        # <<<<<<<<<<<<<<<<<<<<<<<\n",
    "\n",
    "\n",
    "\n",
    "    # Reverse the permutation of the quantized weight\n",
    "\n",
    "    quantized_weight = quantized_weight[:, invperm]\n",
    "\n",
    "\n",
    "\n",
    "    return quantized_weight, scale.to(dtype), zero.to(dtype)\n"
   ]
  },
  {
   "cell_type": "code",
   "execution_count": 69,
   "metadata": {
    "execution": {
     "iopub.execute_input": "2024-12-02T20:54:23.477670Z",
     "iopub.status.busy": "2024-12-02T20:54:23.477023Z",
     "iopub.status.idle": "2024-12-02T20:54:24.730897Z",
     "shell.execute_reply": "2024-12-02T20:54:24.729733Z",
     "shell.execute_reply.started": "2024-12-02T20:54:23.477637Z"
    },
    "id": "KI1R_stdrFMk",
    "trusted": true
   },
   "outputs": [
    {
     "name": "stdout",
     "output_type": "stream",
     "text": [
      "--2024-12-02 20:54:24--  https://raw.githubusercontent.com/yandexdataschool/nlp_course/2023/week10_efficiency/gptq_weight_reference.pt\n",
      "Resolving raw.githubusercontent.com (raw.githubusercontent.com)... 185.199.111.133, 185.199.110.133, 185.199.109.133, ...\n",
      "Connecting to raw.githubusercontent.com (raw.githubusercontent.com)|185.199.111.133|:443... connected.\n",
      "HTTP request sent, awaiting response... 200 OK\n",
      "Length: 17634 (17K) [application/octet-stream]\n",
      "Saving to: 'gptq_weight_reference.pt'\n",
      "\n",
      "gptq_weight_referen 100%[===================>]  17.22K  --.-KB/s    in 0.001s  \n",
      "\n",
      "2024-12-02 20:54:24 (20.8 MB/s) - 'gptq_weight_reference.pt' saved [17634/17634]\n",
      "\n",
      "All tests passed!\n"
     ]
    },
    {
     "name": "stderr",
     "output_type": "stream",
     "text": [
      "/tmp/ipykernel_30/783193630.py:21: FutureWarning: You are using `torch.load` with `weights_only=False` (the current default value), which uses the default pickle module implicitly. It is possible to construct malicious pickle data which will execute arbitrary code during unpickling (See https://github.com/pytorch/pytorch/blob/main/SECURITY.md#untrusted-models for more details). In a future release, the default value for `weights_only` will be flipped to `True`. This limits the functions that could be executed during unpickling. Arbitrary objects will no longer be allowed to be loaded via this mode unless they are explicitly allowlisted by the user via `torch.serialization.add_safe_globals`. We recommend you start setting `weights_only=True` for any use case where you don't have full control of the loaded file. Please open an issue on GitHub for any issues related to this experimental feature.\n",
      "  assert torch.all(quantized_weight == torch.load(\"gptq_weight_reference.pt\"))\n"
     ]
    }
   ],
   "source": [
    "# Testing your code\n",
    "\n",
    "!wget -O gptq_weight_reference.pt https://raw.githubusercontent.com/yandexdataschool/nlp_course/2023/week10_efficiency/gptq_weight_reference.pt --no-check-certificate\n",
    "\n",
    "\n",
    "\n",
    "generator = torch.Generator()\n",
    "\n",
    "generator.manual_seed(0)\n",
    "\n",
    "\n",
    "\n",
    "hessian = torch.triu(torch.rand((128, 128), generator=generator) + 4 * torch.eye(128)).cuda().half()\n",
    "\n",
    "hessian += hessian.clone().T\n",
    "\n",
    "quantized_weight, _, _ = gptq(weight, 4, hessian, 32)\n",
    "\n",
    "\n",
    "\n",
    "assert torch.all(quantized_weight == torch.load(\"gptq_weight_reference.pt\"))\n",
    "\n",
    "\n",
    "\n",
    "print(\"All tests passed!\")"
   ]
  },
  {
   "cell_type": "markdown",
   "metadata": {
    "id": "cHAnRizBy8HC"
   },
   "source": [
    "**Sequential Model Quantization**\n",
    "\n",
    "\n",
    "\n",
    "The GPT quantization approach implemented here requires an ordered approach due to its input-dependent nature. For each `Linear` submodule within the GPT model, we need to ensure that the input data is representative of the actual operating conditions post-quantization. This involves propagating a batch of input samples through the model sequentially, with each layer's input being the output of the preceding **quantized** layers.\n",
    "\n",
    "\n",
    "\n",
    "The quantization process must follow a strict sequence both across and within layers. Within each layer, there is a predetermined order in which the submodules must be quantized, which is dictated by the dependencies between them. This order is defined by the \"sequential groups\".\n",
    "\n",
    "\n",
    "\n",
    "The steps of the algorithm are as follows:\n",
    "\n",
    "- Retrieve and prepare inputs for the first layer.\n",
    "\n",
    "- Iterate through each layer in the model:\n",
    "\n",
    "  - Load the current layer for processing.\n",
    "\n",
    "  - Within each layer, process the sequential groups of submodules:\n",
    "\n",
    "    - Attach forward hooks to collect input data to each submodule.\n",
    "\n",
    "    - Execute a forward pass through the layer to accumulate the necessary input data for quantization.\n",
    "\n",
    "    - Remove the hooks after data collection.\n",
    "\n",
    "    - Apply GPTQ to quantize the submodule weights using the accumulated input data.\n",
    "\n",
    "  - Perform another forward pass through the quantized layer to generate the inputs for the next layer."
   ]
  },
  {
   "cell_type": "code",
   "execution_count": 70,
   "metadata": {
    "execution": {
     "iopub.execute_input": "2024-12-02T20:54:49.721281Z",
     "iopub.status.busy": "2024-12-02T20:54:49.720948Z",
     "iopub.status.idle": "2024-12-02T20:54:49.732929Z",
     "shell.execute_reply": "2024-12-02T20:54:49.731995Z",
     "shell.execute_reply.started": "2024-12-02T20:54:49.721251Z"
    },
    "id": "fMyrGkHqy-xg",
    "trusted": true
   },
   "outputs": [],
   "source": [
    "def get_accumulate_input_fn(name: str, hessians: Mapping[str, Tensor], num_samples: Mapping[str, int]):\n",
    "\n",
    "    \"\"\"Generate a callback that updates the corresponding hessians and counts when given input\n",
    "\n",
    "    Args:\n",
    "\n",
    "        name (str): module name\n",
    "\n",
    "        hessians (Mapping[str, Tensor]): a dict of modules' hessians, accessible by module name\n",
    "\n",
    "        num_samples (Mapping[str, int]): a dict of callback call counters\n",
    "\n",
    "    \"\"\"\n",
    "\n",
    "    def tmp(_, inp, out):\n",
    "\n",
    "        inp = inp[0].data # ... x hidden_size\n",
    "\n",
    "        inp = inp.reshape((-1, inp.shape[-1])) # inputs x hidden_size\n",
    "\n",
    "        inp = inp.t().float() # hidden_size x inputs\n",
    "\n",
    "        num_samples[name] += 1\n",
    "\n",
    "        if hessians[name] is None:\n",
    "\n",
    "            hessians[name] = inp.matmul(inp.t())\n",
    "\n",
    "        else:\n",
    "\n",
    "            hessians[name] += inp.matmul(inp.t())\n",
    "\n",
    "    return tmp\n",
    "\n",
    "\n",
    "\n",
    "\n",
    "\n",
    "@torch.no_grad()\n",
    "\n",
    "def llama_gptq(checkpoint_path: os.PathLike, model: LlamaForCausalLM, batch: Tensor, bits: int):\n",
    "\n",
    "    \"\"\"Loads LLaMA layers one by one and quantizes them with GPTQ\n",
    "\n",
    "    Args:\n",
    "\n",
    "        checkpoint_path (os.PathLike): folder containing LLaMA weights\n",
    "\n",
    "        model (LlamaForCausalLM): model to dispatch layers into\n",
    "\n",
    "        batch (Tensor): sample model inputs\n",
    "\n",
    "        bits (int): number of bits to quantize to\n",
    "\n",
    "    \"\"\"\n",
    "\n",
    "    # Collect the first layer inputs, put them on .cuda() (the same as in get_batch_nll)\n",
    "\n",
    "    inps, attention_mask, position_ids = get_first_layer_inputs(model, batch)\n",
    "\n",
    "    inps = inps.cuda()\n",
    "\n",
    "    attention_mask = attention_mask.cuda()\n",
    "\n",
    "    position_ids = position_ids.cuda()\n",
    "\n",
    "\n",
    "\n",
    "    # Create a buffer for layer outputs\n",
    "\n",
    "    outs = torch.zeros_like(inps)\n",
    "\n",
    "\n",
    "\n",
    "    # Forward pass through the layers\n",
    "\n",
    "    layers = model.model.layers\n",
    "\n",
    "    assert len(layers) == 0\n",
    "\n",
    "    for i in trange(32):\n",
    "\n",
    "        # Load and dispatch the next layer\n",
    "\n",
    "        load_and_dispatch_a_layer(i, checkpoint_path, model)\n",
    "\n",
    "        layer = layers[i].cuda()\n",
    "\n",
    "        linear_layers = find_layers(layer)\n",
    "\n",
    "\n",
    "\n",
    "        hessians = {name: None for name in linear_layers}\n",
    "\n",
    "        num_samples = {name: 0 for name in linear_layers}\n",
    "\n",
    "        handles = [\n",
    "\n",
    "            linear_layers[name].register_forward_hook(\n",
    "\n",
    "                get_accumulate_input_fn(name, hessians, num_samples)\n",
    "\n",
    "            ) for name in linear_layers\n",
    "\n",
    "        ]\n",
    "\n",
    "        forward_pass_layer(layer, inps, outs, attention_mask, position_ids)\n",
    "\n",
    "        for h in handles:\n",
    "\n",
    "            h.remove()\n",
    "\n",
    "\n",
    "\n",
    "        for name, linear in linear_layers.items():\n",
    "\n",
    "            q, scale, zero = gptq(linear.weight.data, bits, 2 * hessians[name] / num_samples[name])\n",
    "\n",
    "            quantized_linear = QuantizedLinear(q, scale, zero, linear.bias)\n",
    "\n",
    "            replace_submodule(layer, name, quantized_linear)\n",
    "\n",
    "\n",
    "\n",
    "        forward_pass_layer(layer, inps, outs, attention_mask, position_ids)\n",
    "\n",
    "        inps, outs = outs, inps\n",
    "\n",
    "        layers[i] = layer.cpu()\n",
    "\n",
    "        del layer\n",
    "\n",
    "        torch.cuda.empty_cache()\n"
   ]
  },
  {
   "cell_type": "markdown",
   "metadata": {
    "id": "p6lN_q-0zFej"
   },
   "source": [
    "**Evaluating the model with GPTQ**"
   ]
  },
  {
   "cell_type": "code",
   "execution_count": 71,
   "metadata": {
    "execution": {
     "iopub.execute_input": "2024-12-02T20:54:54.898543Z",
     "iopub.status.busy": "2024-12-02T20:54:54.898162Z",
     "iopub.status.idle": "2024-12-02T21:25:47.218095Z",
     "shell.execute_reply": "2024-12-02T21:25:47.217220Z",
     "shell.execute_reply.started": "2024-12-02T20:54:54.898509Z"
    },
    "id": "GKRuiX7Vza96",
    "trusted": true
   },
   "outputs": [
    {
     "name": "stderr",
     "output_type": "stream",
     "text": [
      "/tmp/ipykernel_30/854928763.py:27: FutureWarning: You are using `torch.load` with `weights_only=False` (the current default value), which uses the default pickle module implicitly. It is possible to construct malicious pickle data which will execute arbitrary code during unpickling (See https://github.com/pytorch/pytorch/blob/main/SECURITY.md#untrusted-models for more details). In a future release, the default value for `weights_only` will be flipped to `True`. This limits the functions that could be executed during unpickling. Arbitrary objects will no longer be allowed to be loaded via this mode unless they are explicitly allowlisted by the user via `torch.serialization.add_safe_globals`. We recommend you start setting `weights_only=True` for any use case where you don't have full control of the loaded file. Please open an issue on GitHub for any issues related to this experimental feature.\n",
      "  model.load_state_dict(torch.load(os.path.join(checkpoint_path, \"pytorch_model-00033-of-00033.bin\")))\n"
     ]
    },
    {
     "data": {
      "application/vnd.jupyter.widget-view+json": {
       "model_id": "a17cfa24dce444738711dbb005a03267",
       "version_major": 2,
       "version_minor": 0
      },
      "text/plain": [
       "  0%|          | 0/32 [00:00<?, ?it/s]"
      ]
     },
     "metadata": {},
     "output_type": "display_data"
    },
    {
     "name": "stderr",
     "output_type": "stream",
     "text": [
      "/tmp/ipykernel_30/854928763.py:61: FutureWarning: You are using `torch.load` with `weights_only=False` (the current default value), which uses the default pickle module implicitly. It is possible to construct malicious pickle data which will execute arbitrary code during unpickling (See https://github.com/pytorch/pytorch/blob/main/SECURITY.md#untrusted-models for more details). In a future release, the default value for `weights_only` will be flipped to `True`. This limits the functions that could be executed during unpickling. Arbitrary objects will no longer be allowed to be loaded via this mode unless they are explicitly allowlisted by the user via `torch.serialization.add_safe_globals`. We recommend you start setting `weights_only=True` for any use case where you don't have full control of the loaded file. Please open an issue on GitHub for any issues related to this experimental feature.\n",
      "  layer_state_dict = torch.load(os.path.join(checkpoint_path, f\"pytorch_model-{layer_idx + 1:05}-of-00033.bin\"))\n"
     ]
    }
   ],
   "source": [
    "model = initialize_layerless_llama(MODEL)\n",
    "\n",
    "llama_gptq(MODEL, model, train_batch, BITS)"
   ]
  },
  {
   "cell_type": "code",
   "execution_count": 72,
   "metadata": {
    "execution": {
     "iopub.execute_input": "2024-12-02T21:25:47.220810Z",
     "iopub.status.busy": "2024-12-02T21:25:47.220122Z",
     "iopub.status.idle": "2024-12-02T21:33:13.833363Z",
     "shell.execute_reply": "2024-12-02T21:33:13.832662Z",
     "shell.execute_reply.started": "2024-12-02T21:25:47.220769Z"
    },
    "id": "53ARPLErza7N",
    "trusted": true
   },
   "outputs": [
    {
     "name": "stdout",
     "output_type": "stream",
     "text": [
      "Evaluating ...\n"
     ]
    },
    {
     "data": {
      "application/vnd.jupyter.widget-view+json": {
       "model_id": "fde4dcd100214a40bca53e94dca29f89",
       "version_major": 2,
       "version_minor": 0
      },
      "text/plain": [
       "  0%|          | 0/4 [00:00<?, ?it/s]"
      ]
     },
     "metadata": {},
     "output_type": "display_data"
    },
    {
     "data": {
      "application/vnd.jupyter.widget-view+json": {
       "model_id": "63f43ac9a8fd4a3784d8ffaaf88386d2",
       "version_major": 2,
       "version_minor": 0
      },
      "text/plain": [
       "  0%|          | 0/32 [00:00<?, ?it/s]"
      ]
     },
     "metadata": {},
     "output_type": "display_data"
    },
    {
     "data": {
      "application/vnd.jupyter.widget-view+json": {
       "model_id": "28bc5e52e79d443ca1e557ef637ec3c8",
       "version_major": 2,
       "version_minor": 0
      },
      "text/plain": [
       "  0%|          | 0/32 [00:00<?, ?it/s]"
      ]
     },
     "metadata": {},
     "output_type": "display_data"
    },
    {
     "data": {
      "application/vnd.jupyter.widget-view+json": {
       "model_id": "abb59be1e6c94899aa6dc8ff7fe15db3",
       "version_major": 2,
       "version_minor": 0
      },
      "text/plain": [
       "  0%|          | 0/32 [00:00<?, ?it/s]"
      ]
     },
     "metadata": {},
     "output_type": "display_data"
    },
    {
     "data": {
      "application/vnd.jupyter.widget-view+json": {
       "model_id": "b240c575bb1546529138ab115143a40b",
       "version_major": 2,
       "version_minor": 0
      },
      "text/plain": [
       "  0%|          | 0/32 [00:00<?, ?it/s]"
      ]
     },
     "metadata": {},
     "output_type": "display_data"
    },
    {
     "name": "stdout",
     "output_type": "stream",
     "text": [
      "PPL: 5.9420604968047455\n"
     ]
    }
   ],
   "source": [
    "gptq_ppl = llama_eval(model, test_input_ids)"
   ]
  },
  {
   "cell_type": "code",
   "execution_count": 73,
   "metadata": {
    "execution": {
     "iopub.execute_input": "2024-12-02T21:33:13.835214Z",
     "iopub.status.busy": "2024-12-02T21:33:13.834850Z",
     "iopub.status.idle": "2024-12-02T21:33:13.840209Z",
     "shell.execute_reply": "2024-12-02T21:33:13.839421Z",
     "shell.execute_reply.started": "2024-12-02T21:33:13.835174Z"
    },
    "id": "9QwMLEqUza43",
    "trusted": true
   },
   "outputs": [
    {
     "name": "stdout",
     "output_type": "stream",
     "text": [
      "All tests passed!\n"
     ]
    }
   ],
   "source": [
    "# Testing your code\n",
    "\n",
    "\n",
    "\n",
    "assert gptq_ppl < 6.2\n",
    "\n",
    "print(\"All tests passed!\")"
   ]
  },
  {
   "cell_type": "code",
   "execution_count": 74,
   "metadata": {
    "execution": {
     "iopub.execute_input": "2024-12-02T21:33:50.713447Z",
     "iopub.status.busy": "2024-12-02T21:33:50.713103Z",
     "iopub.status.idle": "2024-12-02T21:33:50.993889Z",
     "shell.execute_reply": "2024-12-02T21:33:50.992957Z",
     "shell.execute_reply.started": "2024-12-02T21:33:50.713415Z"
    },
    "id": "18BHd4Nnza2T",
    "trusted": true
   },
   "outputs": [],
   "source": [
    "del model\n",
    "\n",
    "torch.cuda.empty_cache()"
   ]
  },
  {
   "cell_type": "markdown",
   "metadata": {
    "id": "KggEz3g37B1g"
   },
   "source": [
    "# Dense Integer Packing\n",
    "\n",
    "\n",
    "\n",
    "For the most part, we used `torch.uint8` to represent tensors quantized to *4 bits*. We encoded each *4-bit* value with an *8-bit* value, using twice as much memory as we really needed. We did this because `torch` lacks support for 4-bit tensors. However, we never performed any native operations in *8 bits*; we always converted it to `torch.float16` first. That means we can design a more efficient way to encode *4-bit* tensors and convert to and from it.\n",
    "\n",
    "\n",
    "\n",
    "Your task is to implement these conversions, converting *8-bit* tensors containing *4-bit* values (the way we used to store quantized weights) to and from smaller *8-bit* tensor, utilizing the whole range of values. Moreover, you'll have to do it in a way such that memory representation of contiguous arrays wouldn't change. That is, adjacent columns get squashed together.\n",
    "\n",
    "\n",
    "\n",
    "**Task (0.5pt):** Implement dense *int4*:"
   ]
  },
  {
   "cell_type": "code",
   "execution_count": 43,
   "metadata": {
    "execution": {
     "iopub.execute_input": "2024-12-02T22:06:07.476098Z",
     "iopub.status.busy": "2024-12-02T22:06:07.475289Z",
     "iopub.status.idle": "2024-12-02T22:06:07.481870Z",
     "shell.execute_reply": "2024-12-02T22:06:07.481061Z",
     "shell.execute_reply.started": "2024-12-02T22:06:07.476063Z"
    },
    "id": "p-jaEhv57MC9",
    "trusted": true
   },
   "outputs": [],
   "source": [
    "def dense_pack_4_8(x: Tensor) -> Tensor:\n",
    "\n",
    "    \"\"\"Constructs a densely packed int tensor\n",
    "\n",
    "    Args:\n",
    "\n",
    "        x (Tensor): uint8 with uint4 values range\n",
    "\n",
    "        real_bits (int): real values range of the tensor\n",
    "\n",
    "\n",
    "\n",
    "    Returns:\n",
    "\n",
    "        Tensor: twice as small uint8 tensor with uint8 values range\n",
    "\n",
    "    \"\"\"\n",
    "\n",
    "    x = x.clone().detach()\n",
    "\n",
    "    # YOUR CODE HERE>>>>>>>>>\n",
    "    x = x.view(x.shape[0], x.shape[1] // 2, 2)\n",
    "    packed = (x[:, :, 0] << 4) | x[:, :, 1]\n",
    "    return packed\n",
    "    # <<<<<<<<<<<<<<<<<<<<<<<\n",
    "\n",
    "\n",
    "\n",
    "def dense_unpack_4_8(x: Tensor) -> Tensor:\n",
    "\n",
    "    \"\"\"Deconstructs a densely packed int tensor\n",
    "\n",
    "    Args:\n",
    "\n",
    "        x (Tensor): uint8 tensor with uint8 values range\n",
    "\n",
    "\n",
    "\n",
    "    Returns:\n",
    "\n",
    "        Tensor: twice as large int8 tensor with uint4 values range\n",
    "\n",
    "    \"\"\"\n",
    "\n",
    "    x = x.clone().detach()\n",
    "\n",
    "    # YOUR CODE HERE>>>>>>>>>\n",
    "    first = (x >> 4) & 0x0F\n",
    "    second = x & 0x0F\n",
    "    unpacked = torch.stack((first, second), dim=-1).view(x.shape[0], 2 * x.shape[1])\n",
    "    return unpacked\n",
    "    # <<<<<<<<<<<<<<<<<<<<<<<\n"
   ]
  },
  {
   "cell_type": "code",
   "execution_count": 44,
   "metadata": {
    "execution": {
     "iopub.execute_input": "2024-12-02T22:06:08.054085Z",
     "iopub.status.busy": "2024-12-02T22:06:08.053269Z",
     "iopub.status.idle": "2024-12-02T22:06:08.065516Z",
     "shell.execute_reply": "2024-12-02T22:06:08.064517Z",
     "shell.execute_reply.started": "2024-12-02T22:06:08.054047Z"
    },
    "id": "4sM4tAOU7Oez",
    "trusted": true
   },
   "outputs": [
    {
     "name": "stdout",
     "output_type": "stream",
     "text": [
      "All tests passed!\n"
     ]
    }
   ],
   "source": [
    "# Testing your code\n",
    "\n",
    "\n",
    "\n",
    "x = torch.arange(512 * 1024).reshape(512, 1024).float()\n",
    "\n",
    "quantized_x, scale, zero = measure_and_quantize(x, 4)\n",
    "\n",
    "dense_quantized_x = dense_pack_4_8(quantized_x)\n",
    "\n",
    "undense_quantized_x = dense_unpack_4_8(dense_quantized_x)\n",
    "\n",
    "\n",
    "\n",
    "assert dense_quantized_x.shape == (512, 512)\n",
    "\n",
    "assert torch.all(undense_quantized_x == quantized_x)\n",
    "\n",
    "assert (dense_quantized_x // 16 == dense_quantized_x % 16).float().mean() > 0.95, \"close values are supposed to be packed together\"\n",
    "\n",
    "print(\"All tests passed!\")"
   ]
  },
  {
   "cell_type": "markdown",
   "metadata": {
    "id": "E14awThL68JM"
   },
   "source": [
    "# Bonus: QUIK\n",
    "\n",
    "\n",
    "\n",
    "[QUIK](https://arxiv.org/abs/2310.09259) is an extension of GPTQ. It's main feature is that, in addition to model quantization, it also quantizes activations. That way, multiplication can be performed in `int`, leading to 2x-3x improvement in inference speed over GPTQ, which dequantizes the weights and performs multiplication in `float`."
   ]
  },
  {
   "cell_type": "markdown",
   "metadata": {
    "id": "JipC2pi-idyg"
   },
   "source": [
    "### Different Range, Different Scales and Zeros\n",
    "\n",
    "\n",
    "\n",
    "At basic quantization level, QUIK already has a number of differences compared to GPTQ:\n",
    "\n",
    " 1. QUIK quantizes the weights to **signed** integer values for better stability of matrix multiplication.\n",
    "\n",
    " 2. QUIK enforces `zero` to be integer, to be able to perform `int` multiplication with it as well.\n",
    "\n",
    " 3. QUIK changes the sign of `zero` (compare `quik_dequantize` with `dequantize`) for simplicity."
   ]
  },
  {
   "cell_type": "code",
   "execution_count": 45,
   "metadata": {
    "execution": {
     "iopub.execute_input": "2024-12-02T22:09:57.931746Z",
     "iopub.status.busy": "2024-12-02T22:09:57.931381Z",
     "iopub.status.idle": "2024-12-02T22:09:57.941099Z",
     "shell.execute_reply": "2024-12-02T22:09:57.940259Z",
     "shell.execute_reply.started": "2024-12-02T22:09:57.931715Z"
    },
    "id": "XEtnoIS5R8Z8",
    "trusted": true
   },
   "outputs": [],
   "source": [
    "def quik_get_scale_and_zero(x: Tensor, max_abs: float) -> tuple[Tensor, Tensor]:\n",
    "\n",
    "    \"\"\" Given a tensor x of shape (m, k) and max_abs > 0 produce tensors scale and zero of shape (m, 1)\n",
    "\n",
    "        such that 0 < x / scale + zero < max_abs\"\"\"\n",
    "\n",
    "    if x.shape[-1] == 0:\n",
    "\n",
    "        return torch.ones(x.shape[:-1], dtype=x.dtype, device=x.device), torch.zeros(x.shape[:-1], dtype=torch.int, device=x.device)\n",
    "\n",
    "    xmin = x.min(-1)[0]\n",
    "\n",
    "    xmax = x.max(-1)[0]\n",
    "\n",
    "\n",
    "\n",
    "    scale = (xmax - xmin) / max_abs / 2\n",
    "\n",
    "    scale[scale == 0] = 1\n",
    "\n",
    "    zero = torch.round((xmax + xmin) / 2 / scale) # zero is int, since we want to use it in int operations\n",
    "\n",
    "\n",
    "\n",
    "    return scale.unsqueeze(-1), zero.unsqueeze(-1).to(torch.int)\n",
    "\n",
    "\n",
    "\n",
    "\n",
    "\n",
    "def quik_quantize(x: Tensor, scale: Tensor, zero: Tensor, bits: int) -> Tensor:\n",
    "\n",
    "    \"\"\"Given a tensor x quantize it, producing tensors quantized_x of torch.int8 dtype\n",
    "\n",
    "    Args:\n",
    "\n",
    "        x (Tensor): tensor to quantize\n",
    "\n",
    "        scale (Tensor): values interval mapping scale\n",
    "\n",
    "        zero (Tensor): values interval mapping zero\n",
    "\n",
    "        bits (int): number of bits to quantize to\n",
    "\n",
    "\n",
    "\n",
    "    Returns:\n",
    "\n",
    "        Tensor: quantized tensor in int8\n",
    "\n",
    "    \"\"\"\n",
    "\n",
    "    if x.shape[-1] == 0:\n",
    "\n",
    "        return torch.zeros(x.shape, dtype=torch.int8, device=x.device)\n",
    "\n",
    "    max_abs = 2 ** (bits - 1) - 1\n",
    "\n",
    "    quantized_x = torch.round(x / scale) - zero\n",
    "\n",
    "    quantized_x = torch.clamp(quantized_x, -max_abs, max_abs) # what are the allowed values for int8?\n",
    "\n",
    "    return quantized_x.to(torch.int8)\n",
    "\n",
    "\n",
    "\n",
    "\n",
    "\n",
    "def quik_dequantize(x: Tensor, scale: Tensor, zero: Tensor) -> Tensor:\n",
    "\n",
    "    \"\"\"Dequantize a tensor\n",
    "\n",
    "    Args:\n",
    "\n",
    "        quantized_x (Tensor): quantized tensor in int8\n",
    "\n",
    "        scale (Tensor): values interval mapping scale\n",
    "\n",
    "        zero (Tensor): values interval mapping zero\n",
    "\n",
    "\n",
    "\n",
    "    Returns:\n",
    "\n",
    "        Tensor: dequantized tensor\n",
    "\n",
    "    \"\"\"\n",
    "\n",
    "    return scale * x + scale * zero\n",
    "\n",
    "\n",
    "\n",
    "\n",
    "\n",
    "def quik_measure_and_quantize(x: Tensor, bits: float) -> tuple[Tensor, Tensor, Tensor]:\n",
    "\n",
    "    \"\"\"Determine the values interval mapping parameters and quantize a tensor\n",
    "\n",
    "    Args:\n",
    "\n",
    "        x (Tensor): tensor to quantize\n",
    "\n",
    "        bits (float): number of bits to quantize to\n",
    "\n",
    "\n",
    "\n",
    "    Returns:\n",
    "\n",
    "        tuple[Tensor, Tensor, Tensor]: quantized tensor, scale, zero\n",
    "\n",
    "    \"\"\"\n",
    "\n",
    "    max_abs = 2 ** (bits - 1) - 1\n",
    "\n",
    "    scale, zero = quik_get_scale_and_zero(x, max_abs)\n",
    "\n",
    "    x_quantized = quik_quantize(x, scale, zero, bits)\n",
    "\n",
    "    return x_quantized, scale, zero\n"
   ]
  },
  {
   "cell_type": "code",
   "execution_count": 46,
   "metadata": {
    "colab": {
     "base_uri": "https://localhost:8080/"
    },
    "execution": {
     "iopub.execute_input": "2024-12-02T22:09:59.625876Z",
     "iopub.status.busy": "2024-12-02T22:09:59.625516Z",
     "iopub.status.idle": "2024-12-02T22:09:59.643369Z",
     "shell.execute_reply": "2024-12-02T22:09:59.642510Z",
     "shell.execute_reply.started": "2024-12-02T22:09:59.625847Z"
    },
    "id": "-4zWRo8tidyh",
    "outputId": "4e9d9a1b-4cd1-4b7d-8685-b4d09706448a",
    "trusted": true
   },
   "outputs": [
    {
     "name": "stdout",
     "output_type": "stream",
     "text": [
      "All tests passed!\n"
     ]
    }
   ],
   "source": [
    "# Testing my code\n",
    "\n",
    "\n",
    "\n",
    "x = torch.arange(512 * 1024).reshape(512, 1024).float()\n",
    "\n",
    "scale, zero = quik_get_scale_and_zero(x, 15)\n",
    "\n",
    "quantized_x, scale, zero = quik_measure_and_quantize(x, 4)\n",
    "\n",
    "\n",
    "\n",
    "assert scale.shape == (512, 1), \"Shape of scale is incorrect\"\n",
    "\n",
    "assert zero.shape == (512, 1), \"Shape of zero is incorrect\"\n",
    "\n",
    "assert torch.allclose(x, quik_dequantize(quantized_x, scale, zero), atol=50), \"Dequantized values are too far from the original values\"\n",
    "\n",
    "print(\"All tests passed!\")"
   ]
  },
  {
   "cell_type": "markdown",
   "metadata": {
    "id": "nSqZunEhR-_Y"
   },
   "source": [
    "### Weight Quantization"
   ]
  },
  {
   "cell_type": "markdown",
   "metadata": {
    "id": "xa5TnPD1idyi"
   },
   "source": [
    "**Block quantization**\n",
    "\n",
    "\n",
    "\n",
    "On block level, QUIK is identical to GPTQ. Paste your `gptq_block` solution here and simply replace `quantize` with `quik_quantize` and `dequantize` with `quik_dequantize`.\n",
    "\n",
    "\n",
    "\n",
    "**Task (1pt):** Paste GPTQ code into QUIK:"
   ]
  },
  {
   "cell_type": "code",
   "execution_count": null,
   "metadata": {
    "id": "VaVrG9jDSFZj",
    "trusted": true
   },
   "outputs": [],
   "source": [
    "@torch.no_grad()\n",
    "def quik_block(block_weight: Tensor, block_hessian_inverse: Tensor, scale: Tensor, zero: Tensor, bits: int) -> tuple[Tensor, Tensor]:\n",
    "\n",
    "    \"\"\"NOTE: This function is allowed to alter the block_weight as we won't need those weights anymore\n",
    "\n",
    "\n",
    "\n",
    "    Args:\n",
    "\n",
    "        block_weight (Tensor): weight to quantize of shape (OUT, BLOCK_SIZE)\n",
    "\n",
    "        block_hessian_inverse (Tensor): Cholesky inverse Hessian. Upper triangular of shape (BLOCK_SIZE, BLOCK_SIZE)\n",
    "\n",
    "        scale (Tensor): row-wise quantization constants of shape (OUT, 1)\n",
    "\n",
    "        zero (Tensor): row-wise quantization constants of shape (OUT, 1)\n",
    "\n",
    "        bits (int): number of bits to quantize() to\n",
    "\n",
    "\n",
    "\n",
    "    Returns:\n",
    "\n",
    "        tuple[Tensor, Tensor]: quantized weight and scaled quantization error\n",
    "\n",
    "    \"\"\"\n",
    "\n",
    "    block_weight = block_weight.clone()\n",
    "\n",
    "    quantized_block_weight = torch.zeros(block_weight.shape, dtype=torch.int8, device=block_weight.device)\n",
    "\n",
    "    scaled_block_error = torch.zeros_like(block_weight)\n",
    "\n",
    "\n",
    "\n",
    "    # Iterate over the block's columns\n",
    "\n",
    "    for i in range(block_weight.shape[1]):\n",
    "\n",
    "        # Get the column and the corresponding inverse Hessian\n",
    "\n",
    "        column_weight = block_weight[:, [i]]\n",
    "\n",
    "        # YOUR CODE HERE>>>>>>>>>\n",
    "        q_column_weight = quik_quantize(column_weight, scale, zero, bits)\n",
    "        quantized_block_weight[:, i] = q_column_weight.squeeze(1)\n",
    "        deq_column_weight = quik_dequantize(q_column_weight, scale, zero)\n",
    "        block_weight[:, i:] -= (column_weight - deq_column_weight) * block_hessian_inverse[i, i:] / block_hessian_inverse[i, i]\n",
    "        scaled_block_error[:, i:] = (column_weight - deq_column_weight) / block_hessian_inverse[i, i]\n",
    "        # <<<<<<<<<<<<<<<<<<<<<<<\n",
    "\n",
    "\n",
    "\n",
    "    return quantized_block_weight, scaled_block_error\n"
   ]
  },
  {
   "cell_type": "markdown",
   "metadata": {
    "id": "A-Vrjo7qidyj"
   },
   "source": [
    "**Full quantization**\n",
    "\n",
    "\n",
    "\n",
    "To determine the outliers, QUIK needs additional information about layer inputs. Namely, `l_inf_norms` - max module values for each input coordinate in a minibatch. We can see how it's used to extract outliers.\n",
    "\n",
    "\n",
    "\n",
    "The rest of the function, again, is copy-paste from `gptq(...)`. Feel free to reuse your code, but don't forget to replace `gptq_block` with `quik_block`.\n",
    "\n",
    "\n",
    "\n",
    "**Task (0pt):** Paste GPTQ code into QUIK:"
   ]
  },
  {
   "cell_type": "code",
   "execution_count": null,
   "metadata": {
    "id": "e7TGlfLgidyj",
    "trusted": true
   },
   "outputs": [],
   "source": [
    "def quik(weight: torch.Tensor, bits: int, hessian: torch.Tensor, l_inf_norms: torch.Tensor, blocksize:int=128, percdamp:float=.01, n_outliers=128):\n",
    "\n",
    "    dtype = weight.dtype\n",
    "\n",
    "    weight = weight.clone().detach()\n",
    "\n",
    "    weight = weight.float()\n",
    "\n",
    "\n",
    "\n",
    "    # Identify and patch always-zero input coordinates\n",
    "\n",
    "    dead = torch.diag(hessian) == 0\n",
    "\n",
    "    hessian[dead, dead] = 1\n",
    "\n",
    "    weight[:, dead] = 0\n",
    "\n",
    "\n",
    "\n",
    "    # Identify outliers by decreasing l_inf_norms. Sort the remained by decrasing hessian values\n",
    "\n",
    "    perm = torch.argsort(l_inf_norms, descending=True)\n",
    "\n",
    "    perm[n_outliers:] = perm[n_outliers:][torch.argsort(torch.diag(hessian)[perm][n_outliers:], descending=True)]\n",
    "\n",
    "    weight = weight[:, perm]\n",
    "\n",
    "    hessian = hessian[perm, :][:, perm]\n",
    "\n",
    "\n",
    "\n",
    "    # Process outliers\n",
    "\n",
    "    outlier_weight = weight[:,:n_outliers]\n",
    "\n",
    "    weight = weight[:,n_outliers:]\n",
    "\n",
    "    num_columns = weight.shape[1]\n",
    "\n",
    "    hessian = hessian[n_outliers:,:][:,n_outliers:]\n",
    "\n",
    "\n",
    "\n",
    "    max_abs = 2 ** (bits - 1) - 1\n",
    "\n",
    "    scale, zero = quik_get_scale_and_zero(weight, max_abs)\n",
    "\n",
    "\n",
    "\n",
    "    # Process the Hessian to obtain the precomputed inverse Hessian\n",
    "\n",
    "    damp = percdamp * torch.mean(torch.diag(hessian))\n",
    "\n",
    "    diag = torch.arange(num_columns, device=weight.device)\n",
    "\n",
    "    hessian[diag, diag] += damp\n",
    "\n",
    "    hessian = torch.linalg.cholesky(hessian)\n",
    "\n",
    "    hessian = torch.cholesky_inverse(hessian)\n",
    "\n",
    "    hessian = torch.linalg.cholesky(hessian, upper=True)\n",
    "\n",
    "    hessian_inverse = hessian\n",
    "\n",
    "\n",
    "\n",
    "    # Iterate over the columns in blocks\n",
    "\n",
    "    quantized_weight = torch.zeros(weight.shape, dtype=torch.int8, device=weight.device)\n",
    "\n",
    "    for block_start  in range(0, num_columns, blocksize):\n",
    "\n",
    "        block_end = min(block_start + blocksize, num_columns)\n",
    "\n",
    "\n",
    "\n",
    "        # YOUR CODE HERE>>>>>>>>>\n",
    "\n",
    "        # Get the next block and quantize it\n",
    "\n",
    "        block_weight = weight[:, block_start:block_end]\n",
    "        block_hessian_inverse = hessian_inverse[block_start:block_end, block_start:block_end]\n",
    "        \n",
    "        quantized_block, scaled_error = quik_block(\n",
    "            block_weight,\n",
    "            block_hessian_inverse,\n",
    "            scale,\n",
    "            zero,\n",
    "            bits\n",
    "        )\n",
    "        quantized_weight[:, block_start:block_end] = quantized_block\n",
    "\n",
    "        # Tune all the following blocks to mitigate the quantization error\n",
    "\n",
    "        weight[:, block_end:] -= scaled_error @ hessian_inverse[block_start:block_end, block_end:]\n",
    "\n",
    "        # <<<<<<<<<<<<<<<<<<<<<<<\n",
    "\n",
    "\n",
    "\n",
    "    return quantized_weight, scale.to(dtype), zero, outlier_weight.to(dtype), perm"
   ]
  },
  {
   "cell_type": "markdown",
   "metadata": {
    "id": "1GAoLdmOSF6-"
   },
   "source": [
    "### QUIK Linear Layer"
   ]
  },
  {
   "cell_type": "markdown",
   "metadata": {
    "id": "JbaTV0rpidyk"
   },
   "source": [
    "**Install CUDA 12.3 and cutlass**"
   ]
  },
  {
   "cell_type": "code",
   "execution_count": null,
   "metadata": {
    "id": "LceebQnjidyk"
   },
   "outputs": [],
   "source": [
    "%%capture\n",
    "\n",
    "!wget https://developer.download.nvidia.com/compute/cuda/repos/ubuntu2204/x86_64/cuda-ubuntu2204.pin\n",
    "\n",
    "!sudo mv cuda-ubuntu2204.pin /etc/apt/preferences.d/cuda-repository-pin-600\n",
    "\n",
    "!wget https://developer.download.nvidia.com/compute/cuda/12.3.0/local_installers/cuda-repo-ubuntu2204-12-3-local_12.3.0-545.23.06-1_amd64.deb\n",
    "\n",
    "!sudo dpkg -i cuda-repo-ubuntu2204-12-3-local_12.3.0-545.23.06-1_amd64.deb\n",
    "\n",
    "!sudo cp /var/cuda-repo-ubuntu2204-12-3-local/cuda-*-keyring.gpg /usr/share/keyrings/\n",
    "\n",
    "!sudo apt-get update\n",
    "\n",
    "!sudo apt-get -y install cuda-toolkit-12-3\n",
    "\n",
    "!pip install --upgrade pip\n",
    "\n",
    "\n",
    "\n",
    "!git clone https://github.com/NVIDIA/cutlass.git\n",
    "\n",
    "!export CUDACXX=/usr/local/cuda/bin/nvcc\n",
    "\n",
    "!cd cutlass && mkdir build && cd build && cmake .. -DCUTLASS_NVCC_ARCHS=75"
   ]
  },
  {
   "cell_type": "markdown",
   "metadata": {
    "id": "B3l9KCjuidyl"
   },
   "source": [
    "**Loading custom CUDA kernels**\n",
    "\n",
    "\n",
    "\n",
    "Along with this jupyter notebook, two `CUDA` files are provided, implementing efficient matrix multiplication for `int4` and `int8`."
   ]
  },
  {
   "cell_type": "code",
   "execution_count": null,
   "metadata": {
    "id": "qF1ZAk6Didyl"
   },
   "outputs": [],
   "source": [
    "!wget -nc https://raw.githubusercontent.com/yandexdataschool/nlp_course/2023/week10_efficiency/kernel.cpp --no-check-certificate\n",
    "\n",
    "!wget -nc https://raw.githubusercontent.com/yandexdataschool/nlp_course/2023/week10_efficiency/kernel.cu --no-check-certificate"
   ]
  },
  {
   "cell_type": "code",
   "execution_count": null,
   "metadata": {
    "id": "YXqhFBw1idym"
   },
   "outputs": [],
   "source": [
    "from torch.utils.cpp_extension import load\n",
    "\n",
    "\n",
    "\n",
    "custom_kernel = load(name='custom_kernel', sources=['kernel.cpp', 'kernel.cu'], extra_include_paths=[r\"cutlass/include\"])"
   ]
  },
  {
   "cell_type": "markdown",
   "metadata": {
    "id": "6RIy26cHidym"
   },
   "source": [
    "Usage: `output = custom_kernel.int8_matmul(X, Y)` and `output = custom_kernel.int4_matmul(X, Y)` compute $XY^T$ (same as `nn.functional.linear`).\n",
    "\n",
    "\n",
    "\n",
    "Notice that `int8_matmul` takes the normal `torch.int8` tensors, but int4_matmul expects `int4` values densely packed into `torch.uint8` tensors. This is exactly what we wrote **Dense Integer Packing** for. They have a <font color='red'>severe limitation</font>: the dimension of multiplication must be divisible by 16.\n",
    "\n",
    "\n",
    "\n",
    "Now you have to implement the quantized forward pass:\n",
    "\n",
    "\n",
    "\n",
    " $$\n",
    "\n",
    " \\begin{align}\n",
    "\n",
    "    XW^T &= (Q_x \\cdot scale_x + zero_x \\cdot scale_x)(Q_w \\cdot scale_w + zero_w \\cdot scale_w)^T =\\\\\n",
    "\n",
    "    &= (Q_x  + zero_x)(Q_w + zero_w)^T \\cdot (scale_x \\odot scale_w^T) =\\\\\n",
    "\n",
    "    &= (Q_xQ_w^T + Q_x zero_w^T + zero_x Q_w^T + zero_x zero_w^T) \\cdot (scale_x \\odot scale_w^T)\n",
    "\n",
    " \\end{align}\n",
    "\n",
    " $$\n",
    "\n",
    "\n",
    "\n",
    "because of the kernel limitations mentioned above, only the largest integer multiplication ($Q_xQ_w^T$) can be done in `int`. Perform the other ones in `float`.\n",
    "\n",
    "\n",
    "\n",
    "**Task (3pt)**: implement QUIK forward pass and measure it's performance:"
   ]
  },
  {
   "cell_type": "code",
   "execution_count": null,
   "metadata": {
    "id": "WG8Y2aP4wDMK"
   },
   "outputs": [],
   "source": [
    "class QuikLinear(nn.Module):\n",
    "\n",
    "    def __init__(self, quantized_weight, weight_scale, weight_zero, outlier_weight, bias, bits: int, perm):\n",
    "\n",
    "        super().__init__()\n",
    "\n",
    "        self.bits = bits\n",
    "\n",
    "        self.perm = perm\n",
    "\n",
    "        self.n_outliers = outlier_weight.shape[1]\n",
    "\n",
    "\n",
    "\n",
    "        self.quantized_weight = nn.Parameter(quantized_weight, requires_grad=False)\n",
    "\n",
    "        self.weight_scale = nn.Parameter(weight_scale, requires_grad=False)\n",
    "\n",
    "        self.weight_zero = nn.Parameter(weight_zero, requires_grad=False)\n",
    "\n",
    "\n",
    "\n",
    "        self.outlier_weight = nn.Parameter(outlier_weight, requires_grad=False)\n",
    "\n",
    "        self.weights_reduced = self.quantized_weight.to(torch.int32).sum(dim=1).float()\n",
    "\n",
    "\n",
    "\n",
    "        if bias is not None:\n",
    "\n",
    "            self.bias = nn.Parameter(bias.data.clone().detach())\n",
    "\n",
    "        else:\n",
    "\n",
    "            self.bias = None\n",
    "\n",
    "\n",
    "\n",
    "    def forward(self, input):\n",
    "\n",
    "        out_size, in_size = self.quantized_weight.shape\n",
    "\n",
    "        input = input[...,self.perm]\n",
    "\n",
    "        input_quantized, input_scale, input_zero = quik_measure_and_quantize(input[...,self.n_outliers:], self.bits)\n",
    "\n",
    "\n",
    "\n",
    "        outliers_result = F.linear(input[...,:self.n_outliers], self.outlier_weight, self.bias)\n",
    "\n",
    "        if input_quantized.shape[-1] == 0:\n",
    "\n",
    "            return outliers_result\n",
    "\n",
    "\n",
    "\n",
    "        # Convert necessary components to float\n",
    "\n",
    "        inputs_reduced = input_quantized.to(torch.int32).sum(dim=-1).float()\n",
    "\n",
    "        input_zero = input_zero.float()\n",
    "\n",
    "        weight_zero = self.weight_zero.data.float()\n",
    "\n",
    "\n",
    "\n",
    "        # Fully int operations\n",
    "\n",
    "        # YOUR CODE HERE>>>>>>>>>\n",
    "\n",
    "        quantized_result =\n",
    "\n",
    "        quantized_result = quantized_result.float()\n",
    "\n",
    "        # <<<<<<<<<<<<<<<<<<<<<<<\n",
    "\n",
    "\n",
    "\n",
    "        # I wish those were int, but float operations\n",
    "\n",
    "        # YOUR CODE HERE>>>>>>>>>\n",
    "\n",
    "        quantized_result +=\n",
    "\n",
    "        quantized_result +=\n",
    "\n",
    "        quantized_result +=\n",
    "\n",
    "        quantized_result =\n",
    "\n",
    "        # <<<<<<<<<<<<<<<<<<<<<<<\n",
    "\n",
    "\n",
    "\n",
    "        quantized_result = quantized_result.to(torch.float16)\n",
    "\n",
    "        results = quantized_result + outliers_result\n",
    "\n",
    "        return results"
   ]
  },
  {
   "cell_type": "markdown",
   "metadata": {
    "id": "_utgjShwiegz"
   },
   "source": [
    "### Loading the First LLaMA Layer Attention Q Projection"
   ]
  },
  {
   "cell_type": "code",
   "execution_count": null,
   "metadata": {
    "id": "_CU8tqdd0z0h"
   },
   "outputs": [],
   "source": [
    "model = initialize_layerless_llama(MODEL)\n",
    "\n",
    "inps, _, _ = get_first_layer_inputs(model, train_batch)\n",
    "\n",
    "inps = inps.cuda()\n",
    "\n",
    "model.model.layers = nn.ModuleList()\n",
    "\n",
    "load_and_dispatch_a_layer(0, \"./model\", model)\n",
    "\n",
    "layer = model.model.layers[0].self_attn.q_proj.cuda()\n",
    "\n",
    "del model\n",
    "\n",
    "torch.cuda.empty_cache()"
   ]
  },
  {
   "cell_type": "markdown",
   "metadata": {
    "id": "Vgy4HyTOiegz"
   },
   "source": [
    "### Gathering the Layer Inputs"
   ]
  },
  {
   "cell_type": "code",
   "execution_count": null,
   "metadata": {
    "id": "7hsx8WPe1Kek"
   },
   "outputs": [],
   "source": [
    "class AccumulatedInput:\n",
    "\n",
    "    hessians = None\n",
    "\n",
    "    num_samples = 0\n",
    "\n",
    "    actnorms = None\n",
    "\n",
    "\n",
    "\n",
    "@torch.no_grad()\n",
    "\n",
    "def accumulate_layer_input(_, inp, out):\n",
    "\n",
    "    inp = inp.reshape((-1, inp.shape[-1])) # inputs x hidden_size\n",
    "\n",
    "    inp = inp.t().float() # hidden_size x inputs\n",
    "\n",
    "    AccumulatedInput.num_samples += 1\n",
    "\n",
    "    if AccumulatedInput.hessians is None:\n",
    "\n",
    "        AccumulatedInput.hessians = inp.matmul(inp.t())\n",
    "\n",
    "        AccumulatedInput.actnorms = inp.abs().amax(dim=1)\n",
    "\n",
    "    else:\n",
    "\n",
    "        AccumulatedInput.hessians += inp.matmul(inp.t())\n",
    "\n",
    "        AccumulatedInput.actnorms = torch.maximum(AccumulatedInput.actnorms, inp.abs().amax(dim=1))\n",
    "\n",
    "\n",
    "\n",
    "\n",
    "\n",
    "for inp in inps:\n",
    "\n",
    "    accumulate_layer_input(None, inp, None)"
   ]
  },
  {
   "cell_type": "code",
   "execution_count": null,
   "metadata": {
    "id": "frvUz5b51Of3"
   },
   "outputs": [],
   "source": [
    "OUT = layer.weight.shape[0]"
   ]
  },
  {
   "cell_type": "code",
   "execution_count": null,
   "metadata": {
    "id": "PWC3HT2D1Pu0"
   },
   "outputs": [],
   "source": [
    "with torch.no_grad():\n",
    "\n",
    "    reference = torch.stack(tuple(layer(inp).float() for inp in inps)).reshape(-1, OUT).mean(dim=0)"
   ]
  },
  {
   "cell_type": "markdown",
   "metadata": {
    "id": "Kxq7wurZieg0"
   },
   "source": [
    "### Benchmarking MSE"
   ]
  },
  {
   "cell_type": "code",
   "execution_count": null,
   "metadata": {
    "colab": {
     "base_uri": "https://localhost:8080/"
    },
    "id": "WI6ShN5gZby9",
    "outputId": "8fe0aed9-1ccb-4f84-b39e-319b3ba5d087"
   },
   "outputs": [
    {
     "name": "stdout",
     "output_type": "stream",
     "text": [
      "MSE: 7.630504842381924e-05\n"
     ]
    }
   ],
   "source": [
    "with torch.no_grad():\n",
    "\n",
    "    quantized_weight, scale, zero = measure_and_quantize(layer.weight.data, 8)\n",
    "\n",
    "    shit = QuantizedLinear(quantized_weight, scale, zero, layer.bias)\n",
    "\n",
    "\n",
    "\n",
    "    result = torch.stack(tuple(shit(inp).float() for inp in inps)).reshape(-1, OUT).mean(dim=0)\n",
    "\n",
    "\n",
    "\n",
    "    rtn_mse = float(torch.pow(result - reference, 2).mean() ** (1/2))\n",
    "\n",
    "    print(\"MSE:\", rtn_mse)\n",
    "\n",
    "\n",
    "\n",
    "assert rtn_mse < 8e-5 and rtn_mse > 7e-5"
   ]
  },
  {
   "cell_type": "code",
   "execution_count": null,
   "metadata": {
    "id": "AifKxdLHZhii"
   },
   "outputs": [],
   "source": [
    "with torch.no_grad():\n",
    "\n",
    "    quantized_weight, scale, zero = gptq(layer.weight.data, 8, 2 * AccumulatedInput.hessians / AccumulatedInput.num_samples)\n",
    "\n",
    "    shit = QuantizedLinear(quantized_weight, scale, zero, layer.bias)\n",
    "\n",
    "\n",
    "\n",
    "    result = torch.stack(tuple(shit(inp).float() for inp in inps)).reshape(-1, OUT).mean(dim=0)\n",
    "\n",
    "\n",
    "\n",
    "    gptq_mse = float(torch.pow(result - reference, 2).mean() ** (1/2))\n",
    "\n",
    "    print(\"MSE:\", gptq_mse)\n",
    "\n",
    "\n",
    "\n",
    "assert gptq_mse < 3e-5 and gptq_mse > 1.5e-5"
   ]
  },
  {
   "cell_type": "code",
   "execution_count": null,
   "metadata": {
    "id": "WBAhlxPcF0Mv"
   },
   "outputs": [],
   "source": [
    "torch.cuda.empty_cache()\n",
    "\n",
    "with torch.no_grad():\n",
    "\n",
    "    quantized_weight, scale, zero, outlier_weight, perm = quik(layer.weight.data, 8, 2 * AccumulatedInput.hessians / AccumulatedInput.num_samples, AccumulatedInput.actnorms, n_outliers=0)\n",
    "\n",
    "    shit = QuikLinear(quantized_weight, scale, zero, outlier_weight, layer.bias, 8, perm)\n",
    "\n",
    "\n",
    "\n",
    "    result = torch.stack(tuple(shit(inp).float() for inp in inps)).reshape(-1, OUT).mean(dim=0)\n",
    "\n",
    "\n",
    "\n",
    "    quik_0_mse = float(torch.pow(result - reference, 2).mean() ** (1/2))\n",
    "\n",
    "    print(\"MSE:\", quik_0_mse)\n",
    "\n",
    "\n",
    "\n",
    "assert quik_0_mse < 6e-5 and quik_0_mse > 5e-5"
   ]
  },
  {
   "cell_type": "code",
   "execution_count": null,
   "metadata": {
    "id": "euq4H-VwZj9Q"
   },
   "outputs": [],
   "source": [
    "torch.cuda.empty_cache()\n",
    "\n",
    "with torch.no_grad():\n",
    "\n",
    "    quantized_weight, scale, zero, outlier_weight, perm = quik(layer.weight.data, 8, 2 * AccumulatedInput.hessians / AccumulatedInput.num_samples, AccumulatedInput.actnorms, n_outliers=256)\n",
    "\n",
    "    shit = QuikLinear(quantized_weight, scale, zero, outlier_weight, layer.bias, 8, perm)\n",
    "\n",
    "\n",
    "\n",
    "    result = torch.stack(tuple(shit(inp).float() for inp in inps)).reshape(-1, OUT).mean(dim=0)\n",
    "\n",
    "\n",
    "\n",
    "    quik_256_mse = float(torch.pow(result - reference, 2).mean() ** (1/2))\n",
    "\n",
    "    print(\"MSE:\", quik_256_mse)\n",
    "\n",
    "\n",
    "\n",
    "assert quik_256_mse < 4.25e-5 and quik_256_mse > 3.25e-5"
   ]
  },
  {
   "cell_type": "code",
   "execution_count": null,
   "metadata": {
    "colab": {
     "base_uri": "https://localhost:8080/",
     "height": 445
    },
    "id": "-J0ychH4GDUk",
    "outputId": "f991312d-b3b3-4f6a-ea15-997f2839f430"
   },
   "outputs": [
    {
     "data": {
      "image/png": "[encoded data removed]",
      "text/plain": [
       "<Figure size 640x480 with 1 Axes>"
      ]
     },
     "metadata": {},
     "output_type": "display_data"
    }
   ],
   "source": [
    "fruits = ['GPTQ', 'QUIK 256 outliers', 'QUIK 0 outliers', 'RNT']\n",
    "\n",
    "counts = [gptq_mse, quik_256_mse, quik_0_mse, rtn_mse]\n",
    "\n",
    "bar_labels = ['green', 'blue', 'blue', 'red']\n",
    "\n",
    "bar_colors = ['green', 'blue', 'blue', 'red']\n",
    "\n",
    "\n",
    "\n",
    "plt.bar(fruits, counts, label=bar_labels, color=bar_colors)\n",
    "\n",
    "plt.ylabel(\"Layer MSE\")\n",
    "\n",
    "plt.show()"
   ]
  },
  {
   "cell_type": "markdown",
   "metadata": {
    "id": "sF78dQBVIASz"
   },
   "source": [
    "As we can see, QUIK allows for errors smaller than RTN despite utilizing quantized activations, and addition of outliesr further decreases the error, bringing it closer to GPTQ. As we have seen in `benchmark.ipynb`, `int` matmul can lead to 2x-3x speedup over `float16`."
   ]
  },
  {
   "cell_type": "code",
   "execution_count": null,
   "metadata": {
    "id": "SFp2mztPGYY4"
   },
   "outputs": [],
   "source": []
  }
 ],
 "metadata": {
  "accelerator": "GPU",
  "colab": {
   "gpuType": "T4",
   "provenance": [
    {
     "file_id": "https://github.com/yandexdataschool/nlp_course/blob/2024/week10_efficiency/hw_quantization.ipynb",
     "timestamp": 1733155724186
    }
   ]
  },
  "kaggle": {
   "accelerator": "nvidiaTeslaT4",
   "dataSources": [],
   "isGpuEnabled": true,
   "isInternetEnabled": true,
   "language": "python",
   "sourceType": "notebook"
  },
  "kernelspec": {
   "display_name": "Python 3",
   "language": "python",
   "name": "python3"
  },
  "language_info": {
   "codemirror_mode": {
    "name": "ipython",
    "version": 3
   },
   "file_extension": ".py",
   "mimetype": "text/x-python",
   "name": "python",
   "nbconvert_exporter": "python",
   "pygments_lexer": "ipython3",
   "version": "3.10.14"
  },
  "widgets": {
   "application/vnd.jupyter.widget-state+json": {
    "0400feeffa5a4a438d225a6acc57d710": {
     "model_module": "@jupyter-widgets/base",
     "model_module_version": "1.2.0",
     "model_name": "LayoutModel",
     "state": {
      "_model_module": "@jupyter-widgets/base",
      "_model_module_version": "1.2.0",
      "_model_name": "LayoutModel",
      "_view_count": null,
      "_view_module": "@jupyter-widgets/base",
      "_view_module_version": "1.2.0",
      "_view_name": "LayoutView",
      "align_content": null,
      "align_items": null,
      "align_self": null,
      "border": null,
      "bottom": null,
      "display": null,
      "flex": null,
      "flex_flow": null,
      "grid_area": null,
      "grid_auto_columns": null,
      "grid_auto_flow": null,
      "grid_auto_rows": null,
      "grid_column": null,
      "grid_gap": null,
      "grid_row": null,
      "grid_template_areas": null,
      "grid_template_columns": null,
      "grid_template_rows": null,
      "height": null,
      "justify_content": null,
      "justify_items": null,
      "left": null,
      "margin": null,
      "max_height": null,
      "max_width": null,
      "min_height": null,
      "min_width": null,
      "object_fit": null,
      "object_position": null,
      "order": null,
      "overflow": null,
      "overflow_x": null,
      "overflow_y": null,
      "padding": null,
      "right": null,
      "top": null,
      "visibility": null,
      "width": null
     }
    },
    "14bcdf677cd340d3b33832b109ea8587": {
     "model_module": "@jupyter-widgets/base",
     "model_module_version": "1.2.0",
     "model_name": "LayoutModel",
     "state": {
      "_model_module": "@jupyter-widgets/base",
      "_model_module_version": "1.2.0",
      "_model_name": "LayoutModel",
      "_view_count": null,
      "_view_module": "@jupyter-widgets/base",
      "_view_module_version": "1.2.0",
      "_view_name": "LayoutView",
      "align_content": null,
      "align_items": null,
      "align_self": null,
      "border": null,
      "bottom": null,
      "display": null,
      "flex": null,
      "flex_flow": null,
      "grid_area": null,
      "grid_auto_columns": null,
      "grid_auto_flow": null,
      "grid_auto_rows": null,
      "grid_column": null,
      "grid_gap": null,
      "grid_row": null,
      "grid_template_areas": null,
      "grid_template_columns": null,
      "grid_template_rows": null,
      "height": null,
      "justify_content": null,
      "justify_items": null,
      "left": null,
      "margin": null,
      "max_height": null,
      "max_width": null,
      "min_height": null,
      "min_width": null,
      "object_fit": null,
      "object_position": null,
      "order": null,
      "overflow": null,
      "overflow_x": null,
      "overflow_y": null,
      "padding": null,
      "right": null,
      "top": null,
      "visibility": null,
      "width": null
     }
    },
    "1677ae7bf5a647d9b493e278fc64beb6": {
     "model_module": "@jupyter-widgets/base",
     "model_module_version": "1.2.0",
     "model_name": "LayoutModel",
     "state": {
      "_model_module": "@jupyter-widgets/base",
      "_model_module_version": "1.2.0",
      "_model_name": "LayoutModel",
      "_view_count": null,
      "_view_module": "@jupyter-widgets/base",
      "_view_module_version": "1.2.0",
      "_view_name": "LayoutView",
      "align_content": null,
      "align_items": null,
      "align_self": null,
      "border": null,
      "bottom": null,
      "display": null,
      "flex": null,
      "flex_flow": null,
      "grid_area": null,
      "grid_auto_columns": null,
      "grid_auto_flow": null,
      "grid_auto_rows": null,
      "grid_column": null,
      "grid_gap": null,
      "grid_row": null,
      "grid_template_areas": null,
      "grid_template_columns": null,
      "grid_template_rows": null,
      "height": null,
      "justify_content": null,
      "justify_items": null,
      "left": null,
      "margin": null,
      "max_height": null,
      "max_width": null,
      "min_height": null,
      "min_width": null,
      "object_fit": null,
      "object_position": null,
      "order": null,
      "overflow": null,
      "overflow_x": null,
      "overflow_y": null,
      "padding": null,
      "right": null,
      "top": null,
      "visibility": null,
      "width": null
     }
    },
    "1ac6675fb3854ef0bc1607b6167e462e": {
     "model_module": "@jupyter-widgets/controls",
     "model_module_version": "1.5.0",
     "model_name": "HTMLModel",
     "state": {
      "_dom_classes": [],
      "_model_module": "@jupyter-widgets/controls",
      "_model_module_version": "1.5.0",
      "_model_name": "HTMLModel",
      "_view_count": null,
      "_view_module": "@jupyter-widgets/controls",
      "_view_module_version": "1.5.0",
      "_view_name": "HTMLView",
      "description": "",
      "description_tooltip": null,
      "layout": "IPY_MODEL_eb4f52a16c4b4e87b5ccacd91b2f845b",
      "placeholder": "​",
      "style": "IPY_MODEL_21bea1ac2ea64f26bddcfe2352c2611c",
      "value": "Fetching 42 files: 100%"
     }
    },
    "2018b2e987274c75b957625b9318843a": {
     "model_module": "@jupyter-widgets/base",
     "model_module_version": "1.2.0",
     "model_name": "LayoutModel",
     "state": {
      "_model_module": "@jupyter-widgets/base",
      "_model_module_version": "1.2.0",
      "_model_name": "LayoutModel",
      "_view_count": null,
      "_view_module": "@jupyter-widgets/base",
      "_view_module_version": "1.2.0",
      "_view_name": "LayoutView",
      "align_content": null,
      "align_items": null,
      "align_self": null,
      "border": null,
      "bottom": null,
      "display": null,
      "flex": null,
      "flex_flow": null,
      "grid_area": null,
      "grid_auto_columns": null,
      "grid_auto_flow": null,
      "grid_auto_rows": null,
      "grid_column": null,
      "grid_gap": null,
      "grid_row": null,
      "grid_template_areas": null,
      "grid_template_columns": null,
      "grid_template_rows": null,
      "height": null,
      "justify_content": null,
      "justify_items": null,
      "left": null,
      "margin": null,
      "max_height": null,
      "max_width": null,
      "min_height": null,
      "min_width": null,
      "object_fit": null,
      "object_position": null,
      "order": null,
      "overflow": null,
      "overflow_x": null,
      "overflow_y": null,
      "padding": null,
      "right": null,
      "top": null,
      "visibility": null,
      "width": null
     }
    },
    "21bea1ac2ea64f26bddcfe2352c2611c": {
     "model_module": "@jupyter-widgets/controls",
     "model_module_version": "1.5.0",
     "model_name": "DescriptionStyleModel",
     "state": {
      "_model_module": "@jupyter-widgets/controls",
      "_model_module_version": "1.5.0",
      "_model_name": "DescriptionStyleModel",
      "_view_count": null,
      "_view_module": "@jupyter-widgets/base",
      "_view_module_version": "1.2.0",
      "_view_name": "StyleView",
      "description_width": ""
     }
    },
    "2c5e3ba0bdf14bc29145361d78e5485e": {
     "model_module": "@jupyter-widgets/controls",
     "model_module_version": "1.5.0",
     "model_name": "HTMLModel",
     "state": {
      "_dom_classes": [],
      "_model_module": "@jupyter-widgets/controls",
      "_model_module_version": "1.5.0",
      "_model_name": "HTMLModel",
      "_view_count": null,
      "_view_module": "@jupyter-widgets/controls",
      "_view_module_version": "1.5.0",
      "_view_name": "HTMLView",
      "description": "",
      "description_tooltip": null,
      "layout": "IPY_MODEL_9e8e2319e3cd41f58c78b399c69b24bb",
      "placeholder": "​",
      "style": "IPY_MODEL_95f6a3495a3e41f6b263a4dbb3eb2dd3",
      "value": "100%"
     }
    },
    "301c7f0b30e542ff8f223ddb20ba0764": {
     "model_module": "@jupyter-widgets/controls",
     "model_module_version": "1.5.0",
     "model_name": "HBoxModel",
     "state": {
      "_dom_classes": [],
      "_model_module": "@jupyter-widgets/controls",
      "_model_module_version": "1.5.0",
      "_model_name": "HBoxModel",
      "_view_count": null,
      "_view_module": "@jupyter-widgets/controls",
      "_view_module_version": "1.5.0",
      "_view_name": "HBoxView",
      "box_style": "",
      "children": [
       "IPY_MODEL_2c5e3ba0bdf14bc29145361d78e5485e",
       "IPY_MODEL_6d340edf9c4d4a0bbb991a5322ee22fc",
       "IPY_MODEL_72df94b1fd884ea2ada6e7eb8cea008a"
      ],
      "layout": "IPY_MODEL_14bcdf677cd340d3b33832b109ea8587"
     }
    },
    "36366b9baf5a4dbaae6ddc5356498b45": {
     "model_module": "@jupyter-widgets/base",
     "model_module_version": "1.2.0",
     "model_name": "LayoutModel",
     "state": {
      "_model_module": "@jupyter-widgets/base",
      "_model_module_version": "1.2.0",
      "_model_name": "LayoutModel",
      "_view_count": null,
      "_view_module": "@jupyter-widgets/base",
      "_view_module_version": "1.2.0",
      "_view_name": "LayoutView",
      "align_content": null,
      "align_items": null,
      "align_self": null,
      "border": null,
      "bottom": null,
      "display": null,
      "flex": null,
      "flex_flow": null,
      "grid_area": null,
      "grid_auto_columns": null,
      "grid_auto_flow": null,
      "grid_auto_rows": null,
      "grid_column": null,
      "grid_gap": null,
      "grid_row": null,
      "grid_template_areas": null,
      "grid_template_columns": null,
      "grid_template_rows": null,
      "height": null,
      "justify_content": null,
      "justify_items": null,
      "left": null,
      "margin": null,
      "max_height": null,
      "max_width": null,
      "min_height": null,
      "min_width": null,
      "object_fit": null,
      "object_position": null,
      "order": null,
      "overflow": null,
      "overflow_x": null,
      "overflow_y": null,
      "padding": null,
      "right": null,
      "top": null,
      "visibility": null,
      "width": null
     }
    },
    "38cb52cd71f74ec2963e473ccee3f5af": {
     "model_module": "@jupyter-widgets/controls",
     "model_module_version": "1.5.0",
     "model_name": "DescriptionStyleModel",
     "state": {
      "_model_module": "@jupyter-widgets/controls",
      "_model_module_version": "1.5.0",
      "_model_name": "DescriptionStyleModel",
      "_view_count": null,
      "_view_module": "@jupyter-widgets/base",
      "_view_module_version": "1.2.0",
      "_view_name": "StyleView",
      "description_width": ""
     }
    },
    "3bea33b775e3401c8f25de8900e676b2": {
     "model_module": "@jupyter-widgets/controls",
     "model_module_version": "1.5.0",
     "model_name": "FloatProgressModel",
     "state": {
      "_dom_classes": [],
      "_model_module": "@jupyter-widgets/controls",
      "_model_module_version": "1.5.0",
      "_model_name": "FloatProgressModel",
      "_view_count": null,
      "_view_module": "@jupyter-widgets/controls",
      "_view_module_version": "1.5.0",
      "_view_name": "ProgressView",
      "bar_style": "success",
      "description": "",
      "description_tooltip": null,
      "layout": "IPY_MODEL_1677ae7bf5a647d9b493e278fc64beb6",
      "max": 42,
      "min": 0,
      "orientation": "horizontal",
      "style": "IPY_MODEL_5ea0c12bf1f24a0b9c7e95b40c0ad46d",
      "value": 42
     }
    },
    "3d225e065d5b4cc6b97c1f86dec53bcb": {
     "model_module": "@jupyter-widgets/base",
     "model_module_version": "1.2.0",
     "model_name": "LayoutModel",
     "state": {
      "_model_module": "@jupyter-widgets/base",
      "_model_module_version": "1.2.0",
      "_model_name": "LayoutModel",
      "_view_count": null,
      "_view_module": "@jupyter-widgets/base",
      "_view_module_version": "1.2.0",
      "_view_name": "LayoutView",
      "align_content": null,
      "align_items": null,
      "align_self": null,
      "border": null,
      "bottom": null,
      "display": null,
      "flex": null,
      "flex_flow": null,
      "grid_area": null,
      "grid_auto_columns": null,
      "grid_auto_flow": null,
      "grid_auto_rows": null,
      "grid_column": null,
      "grid_gap": null,
      "grid_row": null,
      "grid_template_areas": null,
      "grid_template_columns": null,
      "grid_template_rows": null,
      "height": null,
      "justify_content": null,
      "justify_items": null,
      "left": null,
      "margin": null,
      "max_height": null,
      "max_width": null,
      "min_height": null,
      "min_width": null,
      "object_fit": null,
      "object_position": null,
      "order": null,
      "overflow": null,
      "overflow_x": null,
      "overflow_y": null,
      "padding": null,
      "right": null,
      "top": null,
      "visibility": null,
      "width": null
     }
    },
    "5ea0c12bf1f24a0b9c7e95b40c0ad46d": {
     "model_module": "@jupyter-widgets/controls",
     "model_module_version": "1.5.0",
     "model_name": "ProgressStyleModel",
     "state": {
      "_model_module": "@jupyter-widgets/controls",
      "_model_module_version": "1.5.0",
      "_model_name": "ProgressStyleModel",
      "_view_count": null,
      "_view_module": "@jupyter-widgets/base",
      "_view_module_version": "1.2.0",
      "_view_name": "StyleView",
      "bar_color": null,
      "description_width": ""
     }
    },
    "6d340edf9c4d4a0bbb991a5322ee22fc": {
     "model_module": "@jupyter-widgets/controls",
     "model_module_version": "1.5.0",
     "model_name": "FloatProgressModel",
     "state": {
      "_dom_classes": [],
      "_model_module": "@jupyter-widgets/controls",
      "_model_module_version": "1.5.0",
      "_model_name": "FloatProgressModel",
      "_view_count": null,
      "_view_module": "@jupyter-widgets/controls",
      "_view_module_version": "1.5.0",
      "_view_name": "ProgressView",
      "bar_style": "success",
      "description": "",
      "description_tooltip": null,
      "layout": "IPY_MODEL_f7b875c479db4f83ae8a8561bcb94ed6",
      "max": 32,
      "min": 0,
      "orientation": "horizontal",
      "style": "IPY_MODEL_d13ddad23e5447f5917041b84be58e93",
      "value": 32
     }
    },
    "72df94b1fd884ea2ada6e7eb8cea008a": {
     "model_module": "@jupyter-widgets/controls",
     "model_module_version": "1.5.0",
     "model_name": "HTMLModel",
     "state": {
      "_dom_classes": [],
      "_model_module": "@jupyter-widgets/controls",
      "_model_module_version": "1.5.0",
      "_model_name": "HTMLModel",
      "_view_count": null,
      "_view_module": "@jupyter-widgets/controls",
      "_view_module_version": "1.5.0",
      "_view_name": "HTMLView",
      "description": "",
      "description_tooltip": null,
      "layout": "IPY_MODEL_36366b9baf5a4dbaae6ddc5356498b45",
      "placeholder": "​",
      "style": "IPY_MODEL_ee871faf1cbd4c63bac0e600ef136afe",
      "value": " 32/32 [00:00&lt;00:00, 116.67it/s]"
     }
    },
    "7fe61606b56e4d95bd10a723de4ebe11": {
     "model_module": "@jupyter-widgets/controls",
     "model_module_version": "1.5.0",
     "model_name": "ProgressStyleModel",
     "state": {
      "_model_module": "@jupyter-widgets/controls",
      "_model_module_version": "1.5.0",
      "_model_name": "ProgressStyleModel",
      "_view_count": null,
      "_view_module": "@jupyter-widgets/base",
      "_view_module_version": "1.2.0",
      "_view_name": "StyleView",
      "bar_color": null,
      "description_width": ""
     }
    },
    "7fed6d5bb2c14db3a21f58fe8144793d": {
     "model_module": "@jupyter-widgets/base",
     "model_module_version": "1.2.0",
     "model_name": "LayoutModel",
     "state": {
      "_model_module": "@jupyter-widgets/base",
      "_model_module_version": "1.2.0",
      "_model_name": "LayoutModel",
      "_view_count": null,
      "_view_module": "@jupyter-widgets/base",
      "_view_module_version": "1.2.0",
      "_view_name": "LayoutView",
      "align_content": null,
      "align_items": null,
      "align_self": null,
      "border": null,
      "bottom": null,
      "display": null,
      "flex": null,
      "flex_flow": null,
      "grid_area": null,
      "grid_auto_columns": null,
      "grid_auto_flow": null,
      "grid_auto_rows": null,
      "grid_column": null,
      "grid_gap": null,
      "grid_row": null,
      "grid_template_areas": null,
      "grid_template_columns": null,
      "grid_template_rows": null,
      "height": null,
      "justify_content": null,
      "justify_items": null,
      "left": null,
      "margin": null,
      "max_height": null,
      "max_width": null,
      "min_height": null,
      "min_width": null,
      "object_fit": null,
      "object_position": null,
      "order": null,
      "overflow": null,
      "overflow_x": null,
      "overflow_y": null,
      "padding": null,
      "right": null,
      "top": null,
      "visibility": null,
      "width": null
     }
    },
    "94f33b8535614f56a54e53202a37a3ef": {
     "model_module": "@jupyter-widgets/controls",
     "model_module_version": "1.5.0",
     "model_name": "HBoxModel",
     "state": {
      "_dom_classes": [],
      "_model_module": "@jupyter-widgets/controls",
      "_model_module_version": "1.5.0",
      "_model_name": "HBoxModel",
      "_view_count": null,
      "_view_module": "@jupyter-widgets/controls",
      "_view_module_version": "1.5.0",
      "_view_name": "HBoxView",
      "box_style": "",
      "children": [
       "IPY_MODEL_1ac6675fb3854ef0bc1607b6167e462e",
       "IPY_MODEL_3bea33b775e3401c8f25de8900e676b2",
       "IPY_MODEL_d47c0944218b475987596d98f5429ee7"
      ],
      "layout": "IPY_MODEL_7fed6d5bb2c14db3a21f58fe8144793d"
     }
    },
    "95f6a3495a3e41f6b263a4dbb3eb2dd3": {
     "model_module": "@jupyter-widgets/controls",
     "model_module_version": "1.5.0",
     "model_name": "DescriptionStyleModel",
     "state": {
      "_model_module": "@jupyter-widgets/controls",
      "_model_module_version": "1.5.0",
      "_model_name": "DescriptionStyleModel",
      "_view_count": null,
      "_view_module": "@jupyter-widgets/base",
      "_view_module_version": "1.2.0",
      "_view_name": "StyleView",
      "description_width": ""
     }
    },
    "9e8e2319e3cd41f58c78b399c69b24bb": {
     "model_module": "@jupyter-widgets/base",
     "model_module_version": "1.2.0",
     "model_name": "LayoutModel",
     "state": {
      "_model_module": "@jupyter-widgets/base",
      "_model_module_version": "1.2.0",
      "_model_name": "LayoutModel",
      "_view_count": null,
      "_view_module": "@jupyter-widgets/base",
      "_view_module_version": "1.2.0",
      "_view_name": "LayoutView",
      "align_content": null,
      "align_items": null,
      "align_self": null,
      "border": null,
      "bottom": null,
      "display": null,
      "flex": null,
      "flex_flow": null,
      "grid_area": null,
      "grid_auto_columns": null,
      "grid_auto_flow": null,
      "grid_auto_rows": null,
      "grid_column": null,
      "grid_gap": null,
      "grid_row": null,
      "grid_template_areas": null,
      "grid_template_columns": null,
      "grid_template_rows": null,
      "height": null,
      "justify_content": null,
      "justify_items": null,
      "left": null,
      "margin": null,
      "max_height": null,
      "max_width": null,
      "min_height": null,
      "min_width": null,
      "object_fit": null,
      "object_position": null,
      "order": null,
      "overflow": null,
      "overflow_x": null,
      "overflow_y": null,
      "padding": null,
      "right": null,
      "top": null,
      "visibility": null,
      "width": null
     }
    },
    "a477c0eab2f94012a7fcf15fe60033da": {
     "model_module": "@jupyter-widgets/controls",
     "model_module_version": "1.5.0",
     "model_name": "HBoxModel",
     "state": {
      "_dom_classes": [],
      "_model_module": "@jupyter-widgets/controls",
      "_model_module_version": "1.5.0",
      "_model_name": "HBoxModel",
      "_view_count": null,
      "_view_module": "@jupyter-widgets/controls",
      "_view_module_version": "1.5.0",
      "_view_name": "HBoxView",
      "box_style": "",
      "children": [
       "IPY_MODEL_d0c924a630cc47c6892064a4b421c1b6",
       "IPY_MODEL_d7026a14ab46452aac9bd936461d231f",
       "IPY_MODEL_b6021af31fe04010983051079237f2e9"
      ],
      "layout": "IPY_MODEL_b2f430bd4e6f40d2b6ef41a630ab707c"
     }
    },
    "b2f430bd4e6f40d2b6ef41a630ab707c": {
     "model_module": "@jupyter-widgets/base",
     "model_module_version": "1.2.0",
     "model_name": "LayoutModel",
     "state": {
      "_model_module": "@jupyter-widgets/base",
      "_model_module_version": "1.2.0",
      "_model_name": "LayoutModel",
      "_view_count": null,
      "_view_module": "@jupyter-widgets/base",
      "_view_module_version": "1.2.0",
      "_view_name": "LayoutView",
      "align_content": null,
      "align_items": null,
      "align_self": null,
      "border": null,
      "bottom": null,
      "display": null,
      "flex": null,
      "flex_flow": null,
      "grid_area": null,
      "grid_auto_columns": null,
      "grid_auto_flow": null,
      "grid_auto_rows": null,
      "grid_column": null,
      "grid_gap": null,
      "grid_row": null,
      "grid_template_areas": null,
      "grid_template_columns": null,
      "grid_template_rows": null,
      "height": null,
      "justify_content": null,
      "justify_items": null,
      "left": null,
      "margin": null,
      "max_height": null,
      "max_width": null,
      "min_height": null,
      "min_width": null,
      "object_fit": null,
      "object_position": null,
      "order": null,
      "overflow": null,
      "overflow_x": null,
      "overflow_y": null,
      "padding": null,
      "right": null,
      "top": null,
      "visibility": null,
      "width": null
     }
    },
    "b6021af31fe04010983051079237f2e9": {
     "model_module": "@jupyter-widgets/controls",
     "model_module_version": "1.5.0",
     "model_name": "HTMLModel",
     "state": {
      "_dom_classes": [],
      "_model_module": "@jupyter-widgets/controls",
      "_model_module_version": "1.5.0",
      "_model_name": "HTMLModel",
      "_view_count": null,
      "_view_module": "@jupyter-widgets/controls",
      "_view_module_version": "1.5.0",
      "_view_name": "HTMLView",
      "description": "",
      "description_tooltip": null,
      "layout": "IPY_MODEL_3d225e065d5b4cc6b97c1f86dec53bcb",
      "placeholder": "​",
      "style": "IPY_MODEL_38cb52cd71f74ec2963e473ccee3f5af",
      "value": " 32/32 [01:52&lt;00:00,  3.73s/it]"
     }
    },
    "bf243d3ca19240969b5ab79d5b45fb96": {
     "model_module": "@jupyter-widgets/controls",
     "model_module_version": "1.5.0",
     "model_name": "DescriptionStyleModel",
     "state": {
      "_model_module": "@jupyter-widgets/controls",
      "_model_module_version": "1.5.0",
      "_model_name": "DescriptionStyleModel",
      "_view_count": null,
      "_view_module": "@jupyter-widgets/base",
      "_view_module_version": "1.2.0",
      "_view_name": "StyleView",
      "description_width": ""
     }
    },
    "c7eec52eaaa146c3bef0716ffd8d62dc": {
     "model_module": "@jupyter-widgets/base",
     "model_module_version": "1.2.0",
     "model_name": "LayoutModel",
     "state": {
      "_model_module": "@jupyter-widgets/base",
      "_model_module_version": "1.2.0",
      "_model_name": "LayoutModel",
      "_view_count": null,
      "_view_module": "@jupyter-widgets/base",
      "_view_module_version": "1.2.0",
      "_view_name": "LayoutView",
      "align_content": null,
      "align_items": null,
      "align_self": null,
      "border": null,
      "bottom": null,
      "display": null,
      "flex": null,
      "flex_flow": null,
      "grid_area": null,
      "grid_auto_columns": null,
      "grid_auto_flow": null,
      "grid_auto_rows": null,
      "grid_column": null,
      "grid_gap": null,
      "grid_row": null,
      "grid_template_areas": null,
      "grid_template_columns": null,
      "grid_template_rows": null,
      "height": null,
      "justify_content": null,
      "justify_items": null,
      "left": null,
      "margin": null,
      "max_height": null,
      "max_width": null,
      "min_height": null,
      "min_width": null,
      "object_fit": null,
      "object_position": null,
      "order": null,
      "overflow": null,
      "overflow_x": null,
      "overflow_y": null,
      "padding": null,
      "right": null,
      "top": null,
      "visibility": null,
      "width": null
     }
    },
    "d0c924a630cc47c6892064a4b421c1b6": {
     "model_module": "@jupyter-widgets/controls",
     "model_module_version": "1.5.0",
     "model_name": "HTMLModel",
     "state": {
      "_dom_classes": [],
      "_model_module": "@jupyter-widgets/controls",
      "_model_module_version": "1.5.0",
      "_model_name": "HTMLModel",
      "_view_count": null,
      "_view_module": "@jupyter-widgets/controls",
      "_view_module_version": "1.5.0",
      "_view_name": "HTMLView",
      "description": "",
      "description_tooltip": null,
      "layout": "IPY_MODEL_2018b2e987274c75b957625b9318843a",
      "placeholder": "​",
      "style": "IPY_MODEL_ea2b919355d44b3ebb665f037b9e0cfc",
      "value": "100%"
     }
    },
    "d13ddad23e5447f5917041b84be58e93": {
     "model_module": "@jupyter-widgets/controls",
     "model_module_version": "1.5.0",
     "model_name": "ProgressStyleModel",
     "state": {
      "_model_module": "@jupyter-widgets/controls",
      "_model_module_version": "1.5.0",
      "_model_name": "ProgressStyleModel",
      "_view_count": null,
      "_view_module": "@jupyter-widgets/base",
      "_view_module_version": "1.2.0",
      "_view_name": "StyleView",
      "bar_color": null,
      "description_width": ""
     }
    },
    "d47c0944218b475987596d98f5429ee7": {
     "model_module": "@jupyter-widgets/controls",
     "model_module_version": "1.5.0",
     "model_name": "HTMLModel",
     "state": {
      "_dom_classes": [],
      "_model_module": "@jupyter-widgets/controls",
      "_model_module_version": "1.5.0",
      "_model_name": "HTMLModel",
      "_view_count": null,
      "_view_module": "@jupyter-widgets/controls",
      "_view_module_version": "1.5.0",
      "_view_name": "HTMLView",
      "description": "",
      "description_tooltip": null,
      "layout": "IPY_MODEL_0400feeffa5a4a438d225a6acc57d710",
      "placeholder": "​",
      "style": "IPY_MODEL_bf243d3ca19240969b5ab79d5b45fb96",
      "value": " 42/42 [00:00&lt;00:00, 115.71it/s]"
     }
    },
    "d7026a14ab46452aac9bd936461d231f": {
     "model_module": "@jupyter-widgets/controls",
     "model_module_version": "1.5.0",
     "model_name": "FloatProgressModel",
     "state": {
      "_dom_classes": [],
      "_model_module": "@jupyter-widgets/controls",
      "_model_module_version": "1.5.0",
      "_model_name": "FloatProgressModel",
      "_view_count": null,
      "_view_module": "@jupyter-widgets/controls",
      "_view_module_version": "1.5.0",
      "_view_name": "ProgressView",
      "bar_style": "success",
      "description": "",
      "description_tooltip": null,
      "layout": "IPY_MODEL_c7eec52eaaa146c3bef0716ffd8d62dc",
      "max": 32,
      "min": 0,
      "orientation": "horizontal",
      "style": "IPY_MODEL_7fe61606b56e4d95bd10a723de4ebe11",
      "value": 32
     }
    },
    "ea2b919355d44b3ebb665f037b9e0cfc": {
     "model_module": "@jupyter-widgets/controls",
     "model_module_version": "1.5.0",
     "model_name": "DescriptionStyleModel",
     "state": {
      "_model_module": "@jupyter-widgets/controls",
      "_model_module_version": "1.5.0",
      "_model_name": "DescriptionStyleModel",
      "_view_count": null,
      "_view_module": "@jupyter-widgets/base",
      "_view_module_version": "1.2.0",
      "_view_name": "StyleView",
      "description_width": ""
     }
    },
    "eb4f52a16c4b4e87b5ccacd91b2f845b": {
     "model_module": "@jupyter-widgets/base",
     "model_module_version": "1.2.0",
     "model_name": "LayoutModel",
     "state": {
      "_model_module": "@jupyter-widgets/base",
      "_model_module_version": "1.2.0",
      "_model_name": "LayoutModel",
      "_view_count": null,
      "_view_module": "@jupyter-widgets/base",
      "_view_module_version": "1.2.0",
      "_view_name": "LayoutView",
      "align_content": null,
      "align_items": null,
      "align_self": null,
      "border": null,
      "bottom": null,
      "display": null,
      "flex": null,
      "flex_flow": null,
      "grid_area": null,
      "grid_auto_columns": null,
      "grid_auto_flow": null,
      "grid_auto_rows": null,
      "grid_column": null,
      "grid_gap": null,
      "grid_row": null,
      "grid_template_areas": null,
      "grid_template_columns": null,
      "grid_template_rows": null,
      "height": null,
      "justify_content": null,
      "justify_items": null,
      "left": null,
      "margin": null,
      "max_height": null,
      "max_width": null,
      "min_height": null,
      "min_width": null,
      "object_fit": null,
      "object_position": null,
      "order": null,
      "overflow": null,
      "overflow_x": null,
      "overflow_y": null,
      "padding": null,
      "right": null,
      "top": null,
      "visibility": null,
      "width": null
     }
    },
    "ee871faf1cbd4c63bac0e600ef136afe": {
     "model_module": "@jupyter-widgets/controls",
     "model_module_version": "1.5.0",
     "model_name": "DescriptionStyleModel",
     "state": {
      "_model_module": "@jupyter-widgets/controls",
      "_model_module_version": "1.5.0",
      "_model_name": "DescriptionStyleModel",
      "_view_count": null,
      "_view_module": "@jupyter-widgets/base",
      "_view_module_version": "1.2.0",
      "_view_name": "StyleView",
      "description_width": ""
     }
    },
    "f7b875c479db4f83ae8a8561bcb94ed6": {
     "model_module": "@jupyter-widgets/base",
     "model_module_version": "1.2.0",
     "model_name": "LayoutModel",
     "state": {
      "_model_module": "@jupyter-widgets/base",
      "_model_module_version": "1.2.0",
      "_model_name": "LayoutModel",
      "_view_count": null,
      "_view_module": "@jupyter-widgets/base",
      "_view_module_version": "1.2.0",
      "_view_name": "LayoutView",
      "align_content": null,
      "align_items": null,
      "align_self": null,
      "border": null,
      "bottom": null,
      "display": null,
      "flex": null,
      "flex_flow": null,
      "grid_area": null,
      "grid_auto_columns": null,
      "grid_auto_flow": null,
      "grid_auto_rows": null,
      "grid_column": null,
      "grid_gap": null,
      "grid_row": null,
      "grid_template_areas": null,
      "grid_template_columns": null,
      "grid_template_rows": null,
      "height": null,
      "justify_content": null,
      "justify_items": null,
      "left": null,
      "margin": null,
      "max_height": null,
      "max_width": null,
      "min_height": null,
      "min_width": null,
      "object_fit": null,
      "object_position": null,
      "order": null,
      "overflow": null,
      "overflow_x": null,
      "overflow_y": null,
      "padding": null,
      "right": null,
      "top": null,
      "visibility": null,
      "width": null
     }
    }
   }
  }
 },
 "nbformat": 4,
 "nbformat_minor": 4
}
