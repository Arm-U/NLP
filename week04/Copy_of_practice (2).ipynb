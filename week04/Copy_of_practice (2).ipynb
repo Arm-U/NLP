{
 "cells": [
  {
   "cell_type": "markdown",
   "metadata": {
    "id": "HmsFABwClrsS"
   },
   "source": [
    "## Seminar and homework (10 points total)\n",
    "\n",
    "Today we shall compose encoder-decoder neural networks and apply them to the task of machine translation.\n",
    "\n",
    "![img](https://esciencegroup.files.wordpress.com/2016/03/seq2seq.jpg)\n",
    "_(img: esciencegroup.files.wordpress.com)_\n",
    "\n",
    "\n",
    "Encoder-decoder architectures are about converting anything to anything, including\n",
    " * Machine translation and spoken dialogue systems\n",
    " * [Image captioning](http://mscoco.org/dataset/#captions-challenge2015) and [image2latex](https://openai.com/requests-for-research/#im2latex) (convolutional encoder, recurrent decoder)\n",
    " * Generating [images by captions](https://arxiv.org/abs/1511.02793) (recurrent encoder, convolutional decoder)\n",
    " * Grapheme2phoneme - convert words to transcripts"
   ]
  },
  {
   "cell_type": "markdown",
   "metadata": {
    "id": "R4N9AD2dlrsU"
   },
   "source": [
    "## Our task: machine translation\n",
    "\n",
    "We gonna try our encoder-decoder models on russian to english machine translation problem. More specifically, we'll translate hotel and hostel descriptions. This task shows the scale of machine translation while not requiring you to train your model for weeks if you don't use GPU.\n",
    "\n",
    "Before we get to the architecture, there's some preprocessing to be done. ~~Go tokenize~~ Alright, this time we've done preprocessing for you. As usual, the data will be tokenized with WordPunctTokenizer.\n",
    "\n",
    "However, there's one more thing to do. Our data lines contain unique rare words. If we operate on a word level, we will have to deal with large vocabulary size. If instead we use character-level models, it would take lots of iterations to process a sequence. This time we're gonna pick something inbetween.\n",
    "\n",
    "One popular approach is called [Byte Pair Encoding](https://github.com/rsennrich/subword-nmt) aka __BPE__. The algorithm starts with a character-level tokenization and then iteratively merges most frequent pairs for N iterations. This results in frequent words being merged into a single token and rare words split into syllables or even characters.\n",
    "\n"
   ]
  },
  {
   "cell_type": "code",
   "execution_count": 1,
   "metadata": {
    "colab": {
     "base_uri": "https://localhost:8080/"
    },
    "execution": {
     "iopub.execute_input": "2024-10-17T12:07:06.542285Z",
     "iopub.status.busy": "2024-10-17T12:07:06.541052Z",
     "iopub.status.idle": "2024-10-17T12:07:18.256449Z",
     "shell.execute_reply": "2024-10-17T12:07:18.255485Z",
     "shell.execute_reply.started": "2024-10-17T12:07:06.542243Z"
    },
    "id": "CfvojjHQlrsU",
    "outputId": "5e315583-588a-40a4-82b3-b77ff9d815a3",
    "tags": []
   },
   "outputs": [
    {
     "name": "stdout",
     "output_type": "stream",
     "text": [
      "\n",
      "\u001b[1m[\u001b[0m\u001b[34;49mnotice\u001b[0m\u001b[1;39;49m]\u001b[0m\u001b[39;49m A new release of pip is available: \u001b[0m\u001b[31;49m23.0.1\u001b[0m\u001b[39;49m -> \u001b[0m\u001b[32;49m24.2\u001b[0m\n",
      "\u001b[1m[\u001b[0m\u001b[34;49mnotice\u001b[0m\u001b[1;39;49m]\u001b[0m\u001b[39;49m To update, run: \u001b[0m\u001b[32;49mpython3 -m pip install --upgrade pip\u001b[0m\n",
      "Defaulting to user installation because normal site-packages is not writeable\n",
      "Requirement already satisfied: subword-nmt in /home/jupyter/.local/lib/python3.10/site-packages (0.3.8)\n",
      "Requirement already satisfied: mock in /home/jupyter/.local/lib/python3.10/site-packages (from subword-nmt) (5.1.0)\n",
      "Requirement already satisfied: tqdm in /usr/local/lib/python3.10/dist-packages (from subword-nmt) (4.65.0)\n",
      "\n",
      "\u001b[1m[\u001b[0m\u001b[34;49mnotice\u001b[0m\u001b[1;39;49m]\u001b[0m\u001b[39;49m A new release of pip is available: \u001b[0m\u001b[31;49m23.0.1\u001b[0m\u001b[39;49m -> \u001b[0m\u001b[32;49m24.2\u001b[0m\n",
      "\u001b[1m[\u001b[0m\u001b[34;49mnotice\u001b[0m\u001b[1;39;49m]\u001b[0m\u001b[39;49m To update, run: \u001b[0m\u001b[32;49mpython3 -m pip install --upgrade pip\u001b[0m\n"
     ]
    },
    {
     "name": "stderr",
     "output_type": "stream",
     "text": [
      "--2024-10-17 12:07:14--  https://www.dropbox.com/s/yy2zqh34dyhv07i/data.txt?dl=1\n",
      "Resolving www.dropbox.com (www.dropbox.com)... 162.125.70.18, 2620:100:6024:18::a27d:4412\n",
      "Connecting to www.dropbox.com (www.dropbox.com)|162.125.70.18|:443... connected.\n",
      "HTTP request sent, awaiting response... 302 Found\n",
      "Location: https://www.dropbox.com/scl/fi/mw8tdyetqboqwkn5ma886/data.txt?rlkey=t9fmsizx27ikh0vak0ir265a6&dl=1 [following]\n",
      "--2024-10-17 12:07:14--  https://www.dropbox.com/scl/fi/mw8tdyetqboqwkn5ma886/data.txt?rlkey=t9fmsizx27ikh0vak0ir265a6&dl=1\n",
      "Reusing existing connection to www.dropbox.com:443.\n",
      "HTTP request sent, awaiting response... 302 Found\n",
      "Location: https://ucd43ef54d5a3c38ecc4b81b579e.dl.dropboxusercontent.com/cd/0/inline/CcmrGHzNI1sICh0ZM1gEFmWQdWQrJA_a5XeR_NBzZk81UShgdP1WX9iHGAxb9THr2IIkYDUtjh6h_FLZkk3DOpoU0_ddCKm8fZvbEpoKsTSDg7EbVS_5CW0B9wJ0zNYBRRo/file?dl=1# [following]\n",
      "--2024-10-17 12:07:15--  https://ucd43ef54d5a3c38ecc4b81b579e.dl.dropboxusercontent.com/cd/0/inline/CcmrGHzNI1sICh0ZM1gEFmWQdWQrJA_a5XeR_NBzZk81UShgdP1WX9iHGAxb9THr2IIkYDUtjh6h_FLZkk3DOpoU0_ddCKm8fZvbEpoKsTSDg7EbVS_5CW0B9wJ0zNYBRRo/file?dl=1\n",
      "Resolving ucd43ef54d5a3c38ecc4b81b579e.dl.dropboxusercontent.com (ucd43ef54d5a3c38ecc4b81b579e.dl.dropboxusercontent.com)... 162.125.70.15, 2620:100:6022:15::a27d:420f\n",
      "Connecting to ucd43ef54d5a3c38ecc4b81b579e.dl.dropboxusercontent.com (ucd43ef54d5a3c38ecc4b81b579e.dl.dropboxusercontent.com)|162.125.70.15|:443... connected.\n",
      "HTTP request sent, awaiting response... 200 OK\n",
      "Length: 12905335 (12M) [application/binary]\n",
      "Saving to: ‘data.txt’\n",
      "\n",
      "     0K .......... .......... .......... .......... ..........  0%  191K 66s\n",
      "    50K .......... .......... .......... .......... ..........  0%  635K 43s\n",
      "   100K .......... .......... .......... .......... ..........  1% 1.07M 32s\n",
      "   150K .......... .......... .......... .......... ..........  1% 1.22M 26s\n",
      "   200K .......... .......... .......... .......... ..........  1% 1.52M 23s\n",
      "   250K .......... .......... .......... .......... ..........  2% 2.00M 20s\n",
      "   300K .......... .......... .......... .......... ..........  2% 2.40M 18s\n",
      "   350K .......... .......... .......... .......... ..........  3% 2.54M 16s\n",
      "   400K .......... .......... .......... .......... ..........  3% 2.23M 15s\n",
      "   450K .......... .......... .......... .......... ..........  3% 4.06M 13s\n",
      "   500K .......... .......... .......... .......... ..........  4% 2.91M 13s\n",
      "   550K .......... .......... .......... .......... ..........  4% 3.71M 12s\n",
      "   600K .......... .......... .......... .......... ..........  5% 4.06M 11s\n",
      "   650K .......... .......... .......... .......... ..........  5% 4.72M 10s\n",
      "   700K .......... .......... .......... .......... ..........  5% 4.60M 10s\n",
      "   750K .......... .......... .......... .......... ..........  6% 4.90M 9s\n",
      "   800K .......... .......... .......... .......... ..........  6% 4.20M 9s\n",
      "   850K .......... .......... .......... .......... ..........  7% 6.05M 8s\n",
      "   900K .......... .......... .......... .......... ..........  7% 6.10M 8s\n",
      "   950K .......... .......... .......... .......... ..........  7% 6.75M 8s\n",
      "  1000K .......... .......... .......... .......... ..........  8% 6.46M 7s\n",
      "  1050K .......... .......... .......... .......... ..........  8% 7.29M 7s\n",
      "  1100K .......... .......... .......... .......... ..........  9% 7.71M 7s\n",
      "  1150K .......... .......... .......... .......... ..........  9% 7.48M 7s\n",
      "  1200K .......... .......... .......... .......... ..........  9% 5.77M 6s\n",
      "  1250K .......... .......... .......... .......... .......... 10% 8.36M 6s\n",
      "  1300K .......... .......... .......... .......... .......... 10% 8.87M 6s\n",
      "  1350K .......... .......... .......... .......... .......... 11% 11.4M 6s\n",
      "  1400K .......... .......... .......... .......... .......... 11% 7.62M 6s\n",
      "  1450K .......... .......... .......... .......... .......... 11% 8.08M 5s\n",
      "  1500K .......... .......... .......... .......... .......... 12% 9.32M 5s\n",
      "  1550K .......... .......... .......... .......... .......... 12% 11.6M 5s\n",
      "  1600K .......... .......... .......... .......... .......... 13% 7.57M 5s\n",
      "  1650K .......... .......... .......... .......... .......... 13% 10.5M 5s\n",
      "  1700K .......... .......... .......... .......... .......... 13% 12.5M 5s\n",
      "  1750K .......... .......... .......... .......... .......... 14% 9.91M 5s\n",
      "  1800K .......... .......... .......... .......... .......... 14% 15.5M 4s\n",
      "  1850K .......... .......... .......... .......... .......... 15% 10.8M 4s\n",
      "  1900K .......... .......... .......... .......... .......... 15% 13.9M 4s\n",
      "  1950K .......... .......... .......... .......... .......... 15% 12.6M 4s\n",
      "  2000K .......... .......... .......... .......... .......... 16% 10.0M 4s\n",
      "  2050K .......... .......... .......... .......... .......... 16% 13.0M 4s\n",
      "  2100K .......... .......... .......... .......... .......... 17% 13.5M 4s\n",
      "  2150K .......... .......... .......... .......... .......... 17% 17.3M 4s\n",
      "  2200K .......... .......... .......... .......... .......... 17% 13.2M 4s\n",
      "  2250K .......... .......... .......... .......... .......... 18% 13.6M 4s\n",
      "  2300K .......... .......... .......... .......... .......... 18% 16.9M 3s\n",
      "  2350K .......... .......... .......... .......... .......... 19% 17.3M 3s\n",
      "  2400K .......... .......... .......... .......... .......... 19% 11.6M 3s\n",
      "  2450K .......... .......... .......... .......... .......... 19% 12.0M 3s\n",
      "  2500K .......... .......... .......... .......... .......... 20% 17.0M 3s\n",
      "  2550K .......... .......... .......... .......... .......... 20% 20.7M 3s\n",
      "  2600K .......... .......... .......... .......... .......... 21% 14.1M 3s\n",
      "  2650K .......... .......... .......... .......... .......... 21% 14.6M 3s\n",
      "  2700K .......... .......... .......... .......... .......... 21% 22.3M 3s\n",
      "  2750K .......... .......... .......... .......... .......... 22% 15.7M 3s\n",
      "  2800K .......... .......... .......... .......... .......... 22% 16.3M 3s\n",
      "  2850K .......... .......... .......... .......... .......... 23% 13.4M 3s\n",
      "  2900K .......... .......... .......... .......... .......... 23% 27.2M 3s\n",
      "  2950K .......... .......... .......... .......... .......... 23% 18.8M 3s\n",
      "  3000K .......... .......... .......... .......... .......... 24% 13.7M 3s\n",
      "  3050K .......... .......... .......... .......... .......... 24% 11.3M 3s\n",
      "  3100K .......... .......... .......... .......... .......... 24% 55.6M 3s\n",
      "  3150K .......... .......... .......... .......... .......... 25% 30.9M 2s\n",
      "  3200K .......... .......... .......... .......... .......... 25% 11.3M 2s\n",
      "  3250K .......... .......... .......... .......... .......... 26% 18.5M 2s\n",
      "  3300K .......... .......... .......... .......... .......... 26% 40.9M 2s\n",
      "  3350K .......... .......... .......... .......... .......... 26% 21.3M 2s\n",
      "  3400K .......... .......... .......... .......... .......... 27% 16.8M 2s\n",
      "  3450K .......... .......... .......... .......... .......... 27% 28.0M 2s\n",
      "  3500K .......... .......... .......... .......... .......... 28% 21.9M 2s\n",
      "  3550K .......... .......... .......... .......... .......... 28% 20.5M 2s\n",
      "  3600K .......... .......... .......... .......... .......... 28% 16.5M 2s\n",
      "  3650K .......... .......... .......... .......... .......... 29% 29.8M 2s\n",
      "  3700K .......... .......... .......... .......... .......... 29% 30.3M 2s\n",
      "  3750K .......... .......... .......... .......... .......... 30% 26.9M 2s\n",
      "  3800K .......... .......... .......... .......... .......... 30% 19.8M 2s\n",
      "  3850K .......... .......... .......... .......... .......... 30% 27.3M 2s\n",
      "  3900K .......... .......... .......... .......... .......... 31% 29.1M 2s\n",
      "  3950K .......... .......... .......... .......... .......... 31% 12.8M 2s\n",
      "  4000K .......... .......... .......... .......... .......... 32% 24.3M 2s\n",
      "  4050K .......... .......... .......... .......... .......... 32% 16.2M 2s\n",
      "  4100K .......... .......... .......... .......... .......... 32% 25.9M 2s\n",
      "  4150K .......... .......... .......... .......... .......... 33% 43.8M 2s\n",
      "  4200K .......... .......... .......... .......... .......... 33% 17.7M 2s\n",
      "  4250K .......... .......... .......... .......... .......... 34% 60.8M 2s\n",
      "  4300K .......... .......... .......... .......... .......... 34% 15.5M 2s\n",
      "  4350K .......... .......... .......... .......... .......... 34%  234M 2s\n",
      "  4400K .......... .......... .......... .......... .......... 35% 16.8M 2s\n",
      "  4450K .......... .......... .......... .......... .......... 35% 18.4M 2s\n",
      "  4500K .......... .......... .......... .......... .......... 36%  131M 2s\n",
      "  4550K .......... .......... .......... .......... .......... 36% 32.2M 2s\n",
      "  4600K .......... .......... .......... .......... .......... 36% 27.0M 2s\n",
      "  4650K .......... .......... .......... .......... .......... 37% 42.0M 2s\n",
      "  4700K .......... .......... .......... .......... .......... 37% 23.8M 2s\n",
      "  4750K .......... .......... .......... .......... .......... 38% 43.1M 1s\n",
      "  4800K .......... .......... .......... .......... .......... 38% 22.3M 1s\n",
      "  4850K .......... .......... .......... .......... .......... 38% 26.6M 1s\n",
      "  4900K .......... .......... .......... .......... .......... 39% 56.8M 1s\n",
      "  4950K .......... .......... .......... .......... .......... 39% 26.7M 1s\n",
      "  5000K .......... .......... .......... .......... .......... 40% 36.7M 1s\n",
      "  5050K .......... .......... .......... .......... .......... 40% 28.5M 1s\n",
      "  5100K .......... .......... .......... .......... .......... 40% 45.6M 1s\n",
      "  5150K .......... .......... .......... .......... .......... 41% 27.0M 1s\n",
      "  5200K .......... .......... .......... .......... .......... 41% 24.0M 1s\n",
      "  5250K .......... .......... .......... .......... .......... 42% 55.7M 1s\n",
      "  5300K .......... .......... .......... .......... .......... 42% 27.7M 1s\n",
      "  5350K .......... .......... .......... .......... .......... 42% 45.1M 1s\n",
      "  5400K .......... .......... .......... .......... .......... 43% 14.8M 1s\n",
      "  5450K .......... .......... .......... .......... .......... 43% 72.3M 1s\n",
      "  5500K .......... .......... .......... .......... .......... 44%  113M 1s\n",
      "  5550K .......... .......... .......... .......... .......... 44% 34.2M 1s\n",
      "  5600K .......... .......... .......... .......... .......... 44% 27.3M 1s\n",
      "  5650K .......... .......... .......... .......... .......... 45% 48.5M 1s\n",
      "  5700K .......... .......... .......... .......... .......... 45% 30.0M 1s\n",
      "  5750K .......... .......... .......... .......... .......... 46% 29.9M 1s\n",
      "  5800K .......... .......... .......... .......... .......... 46% 23.1M 1s\n",
      "  5850K .......... .......... .......... .......... .......... 46%  347M 1s\n",
      "  5900K .......... .......... .......... .......... .......... 47% 32.1M 1s\n",
      "  5950K .......... .......... .......... .......... .......... 47% 86.1M 1s\n",
      "  6000K .......... .......... .......... .......... .......... 48% 14.9M 1s\n",
      "  6050K .......... .......... .......... .......... .......... 48%  114M 1s\n",
      "  6100K .......... .......... .......... .......... .......... 48% 1.01M 1s\n",
      "  6150K .......... .......... .......... .......... .......... 49% 73.0M 1s\n",
      "  6200K .......... .......... .......... .......... .......... 49%  142M 1s\n",
      "  6250K .......... .......... .......... .......... .......... 49% 48.8M 1s\n",
      "  6300K .......... .......... .......... .......... .......... 50% 41.8M 1s\n",
      "  6350K .......... .......... .......... .......... .......... 50% 43.2M 1s\n",
      "  6400K .......... .......... .......... .......... .......... 51% 42.6M 1s\n",
      "  6450K .......... .......... .......... .......... .......... 51% 58.3M 1s\n",
      "  6500K .......... .......... .......... .......... .......... 51%  102M 1s\n",
      "  6550K .......... .......... .......... .......... .......... 52% 19.7M 1s\n",
      "  6600K .......... .......... .......... .......... .......... 52%  442M 1s\n",
      "  6650K .......... .......... .......... .......... .......... 53% 81.5M 1s\n",
      "  6700K .......... .......... .......... .......... .......... 53%  135M 1s\n",
      "  6750K .......... .......... .......... .......... .......... 53% 48.3M 1s\n",
      "  6800K .......... .......... .......... .......... .......... 54% 39.2M 1s\n",
      "  6850K .......... .......... .......... .......... .......... 54% 62.2M 1s\n",
      "  6900K .......... .......... .......... .......... .......... 55% 38.2M 1s\n",
      "  6950K .......... .......... .......... .......... .......... 55%  274M 1s\n",
      "  7000K .......... .......... .......... .......... .......... 55% 47.5M 1s\n",
      "  7050K .......... .......... .......... .......... .......... 56% 41.9M 1s\n",
      "  7100K .......... .......... .......... .......... .......... 56%  264M 1s\n",
      "  7150K .......... .......... .......... .......... .......... 57% 49.2M 1s\n",
      "  7200K .......... .......... .......... .......... .......... 57% 54.8M 1s\n",
      "  7250K .......... .......... .......... .......... .......... 57% 47.2M 1s\n",
      "  7300K .......... .......... .......... .......... .......... 58% 41.5M 1s\n",
      "  7350K .......... .......... .......... .......... .......... 58% 62.5M 1s\n",
      "  7400K .......... .......... .......... .......... .......... 59% 59.4M 1s\n",
      "  7450K .......... .......... .......... .......... .......... 59%  110M 1s\n",
      "  7500K .......... .......... .......... .......... .......... 59% 58.5M 1s\n",
      "  7550K .......... .......... .......... .......... .......... 60% 45.8M 1s\n",
      "  7600K .......... .......... .......... .......... .......... 60% 40.6M 1s\n",
      "  7650K .......... .......... .......... .......... .......... 61%  203M 1s\n",
      "  7700K .......... .......... .......... .......... .......... 61% 54.8M 1s\n",
      "  7750K .......... .......... .......... .......... .......... 61% 55.5M 1s\n",
      "  7800K .......... .......... .......... .......... .......... 62% 56.2M 1s\n",
      "  7850K .......... .......... .......... .......... .......... 62%  189M 1s\n",
      "  7900K .......... .......... .......... .......... .......... 63% 58.2M 1s\n",
      "  7950K .......... .......... .......... .......... .......... 63% 41.7M 1s\n",
      "  8000K .......... .......... .......... .......... .......... 63% 66.2M 1s\n",
      "  8050K .......... .......... .......... .......... .......... 64% 52.6M 1s\n",
      "  8100K .......... .......... .......... .......... .......... 64%  143M 1s\n",
      "  8150K .......... .......... .......... .......... .......... 65% 1.56M 1s\n",
      "  8200K .......... .......... .......... .......... .......... 65%  258M 1s\n",
      "  8250K .......... .......... .......... .......... .......... 65%  390M 1s\n",
      "  8300K .......... .......... .......... .......... .......... 66% 92.8M 1s\n",
      "  8350K .......... .......... .......... .......... .......... 66% 59.4M 1s\n",
      "  8400K .......... .......... .......... .......... .......... 67% 49.7M 1s\n",
      "  8450K .......... .......... .......... .......... .......... 67% 61.4M 1s\n",
      "  8500K .......... .......... .......... .......... .......... 67%  400M 1s\n",
      "  8550K .......... .......... .......... .......... .......... 68% 52.6M 0s\n",
      "  8600K .......... .......... .......... .......... .......... 68%  109M 0s\n",
      "  8650K .......... .......... .......... .......... .......... 69%  343M 0s\n",
      "  8700K .......... .......... .......... .......... .......... 69% 60.3M 0s\n",
      "  8750K .......... .......... .......... .......... .......... 69% 65.9M 0s\n",
      "  8800K .......... .......... .......... .......... .......... 70% 38.7M 0s\n",
      "  8850K .......... .......... .......... .......... .......... 70%  305M 0s\n",
      "  8900K .......... .......... .......... .......... .......... 71% 35.0M 0s\n",
      "  8950K .......... .......... .......... .......... .......... 71%  270M 0s\n",
      "  9000K .......... .......... .......... .......... .......... 71%  153M 0s\n",
      "  9050K .......... .......... .......... .......... .......... 72% 60.5M 0s\n",
      "  9100K .......... .......... .......... .......... .......... 72%  117M 0s\n",
      "  9150K .......... .......... .......... .......... .......... 72% 63.9M 0s\n",
      "  9200K .......... .......... .......... .......... .......... 73%  171M 0s\n",
      "  9250K .......... .......... .......... .......... .......... 73% 61.4M 0s\n",
      "  9300K .......... .......... .......... .......... .......... 74% 85.2M 0s\n",
      "  9350K .......... .......... .......... .......... .......... 74% 65.2M 0s\n",
      "  9400K .......... .......... .......... .......... .......... 74%  254M 0s\n",
      "  9450K .......... .......... .......... .......... .......... 75% 63.1M 0s\n",
      "  9500K .......... .......... .......... .......... .......... 75% 63.6M 0s\n",
      "  9550K .......... .......... .......... .......... .......... 76% 68.2M 0s\n",
      "  9600K .......... .......... .......... .......... .......... 76% 55.5M 0s\n",
      "  9650K .......... .......... .......... .......... .......... 76% 79.7M 0s\n",
      "  9700K .......... .......... .......... .......... .......... 77% 70.4M 0s\n",
      "  9750K .......... .......... .......... .......... .......... 77%  195M 0s\n",
      "  9800K .......... .......... .......... .......... .......... 78% 65.4M 0s\n",
      "  9850K .......... .......... .......... .......... .......... 78% 60.8M 0s\n",
      "  9900K .......... .......... .......... .......... .......... 78%  226M 0s\n",
      "  9950K .......... .......... .......... .......... .......... 79% 74.7M 0s\n",
      " 10000K .......... .......... .......... .......... .......... 79% 62.7M 0s\n",
      " 10050K .......... .......... .......... .......... .......... 80% 64.5M 0s\n",
      " 10100K .......... .......... .......... .......... .......... 80% 57.9M 0s\n",
      " 10150K .......... .......... .......... .......... .......... 80%  247M 0s\n",
      " 10200K .......... .......... .......... .......... .......... 81%  856K 0s\n",
      " 10250K .......... .......... .......... .......... .......... 81%  260M 0s\n",
      " 10300K .......... .......... .......... .......... .......... 82%  272M 0s\n",
      " 10350K .......... .......... .......... .......... .......... 82% 67.6M 0s\n",
      " 10400K .......... .......... .......... .......... .......... 82% 64.9M 0s\n",
      " 10450K .......... .......... .......... .......... .......... 83% 59.3M 0s\n",
      " 10500K .......... .......... .......... .......... .......... 83%  238M 0s\n",
      " 10550K .......... .......... .......... .......... .......... 84% 75.6M 0s\n",
      " 10600K .......... .......... .......... .......... .......... 84% 57.6M 0s\n",
      " 10650K .......... .......... .......... .......... .......... 84% 72.2M 0s\n",
      " 10700K .......... .......... .......... .......... .......... 85% 61.6M 0s\n",
      " 10750K .......... .......... .......... .......... .......... 85%  243M 0s\n",
      " 10800K .......... .......... .......... .......... .......... 86% 69.4M 0s\n",
      " 10850K .......... .......... .......... .......... .......... 86% 64.8M 0s\n",
      " 10900K .......... .......... .......... .......... .......... 86% 65.6M 0s\n",
      " 10950K .......... .......... .......... .......... .......... 87% 64.0M 0s\n",
      " 11000K .......... .......... .......... .......... .......... 87% 67.5M 0s\n",
      " 11050K .......... .......... .......... .......... .......... 88%  223M 0s\n",
      " 11100K .......... .......... .......... .......... .......... 88% 47.1M 0s\n",
      " 11150K .......... .......... .......... .......... .......... 88%  104M 0s\n",
      " 11200K .......... .......... .......... .......... .......... 89% 55.5M 0s\n",
      " 11250K .......... .......... .......... .......... .......... 89%  301M 0s\n",
      " 11300K .......... .......... .......... .......... .......... 90% 61.7M 0s\n",
      " 11350K .......... .......... .......... .......... .......... 90% 69.8M 0s\n",
      " 11400K .......... .......... .......... .......... .......... 90% 65.8M 0s\n",
      " 11450K .......... .......... .......... .......... .......... 91%  342M 0s\n",
      " 11500K .......... .......... .......... .......... .......... 91% 55.5M 0s\n",
      " 11550K .......... .......... .......... .......... .......... 92% 70.4M 0s\n",
      " 11600K .......... .......... .......... .......... .......... 92% 57.4M 0s\n",
      " 11650K .......... .......... .......... .......... .......... 92% 74.7M 0s\n",
      " 11700K .......... .......... .......... .......... .......... 93% 62.9M 0s\n",
      " 11750K .......... .......... .......... .......... .......... 93% 78.1M 0s\n",
      " 11800K .......... .......... .......... .......... .......... 94%  101M 0s\n",
      " 11850K .......... .......... .......... .......... .......... 94% 64.1M 0s\n",
      " 11900K .......... .......... .......... .......... .......... 94%  111M 0s\n",
      " 11950K .......... .......... .......... .......... .......... 95% 45.0M 0s\n",
      " 12000K .......... .......... .......... .......... .......... 95%  302M 0s\n",
      " 12050K .......... .......... .......... .......... .......... 96% 60.3M 0s\n",
      " 12100K .......... .......... .......... .......... .......... 96% 64.8M 0s\n",
      " 12150K .......... .......... .......... .......... .......... 96% 58.2M 0s\n",
      " 12200K .......... .......... .......... .......... .......... 97%  424M 0s\n",
      " 12250K .......... .......... .......... .......... .......... 97% 1.61M 0s\n",
      " 12300K .......... .......... .......... .......... .......... 97% 81.9M 0s\n",
      " 12350K .......... .......... .......... .......... .......... 98%  335M 0s\n",
      " 12400K .......... .......... .......... .......... .......... 98% 74.0M 0s\n",
      " 12450K .......... .......... .......... .......... .......... 99% 68.0M 0s\n",
      " 12500K .......... .......... .......... .......... .......... 99% 65.1M 0s\n",
      " 12550K .......... .......... .......... .......... .......... 99%  111M 0s\n",
      " 12600K ..                                                    100%  143M=1.2s\n",
      "\n",
      "2024-10-17 12:07:17 (10.2 MB/s) - ‘data.txt’ saved [12905335/12905335]\n",
      "\n",
      "--2024-10-17 12:07:17--  https://raw.githubusercontent.com/yandexdataschool/nlp_course/2020/week04_seq2seq/vocab.py\n",
      "Resolving raw.githubusercontent.com (raw.githubusercontent.com)... 185.199.110.133, 185.199.111.133, 185.199.108.133, ...\n",
      "Connecting to raw.githubusercontent.com (raw.githubusercontent.com)|185.199.110.133|:443... connected.\n",
      "HTTP request sent, awaiting response... 200 OK\n",
      "Length: 2879 (2.8K) [text/plain]\n",
      "Saving to: ‘vocab.py’\n",
      "\n",
      "     0K ..                                                    100% 71.2M=0s\n",
      "\n",
      "2024-10-17 12:07:18 (71.2 MB/s) - ‘vocab.py’ saved [2879/2879]\n",
      "\n"
     ]
    }
   ],
   "source": [
    "%pip install torch>=1.3.0\n",
    "%pip install subword-nmt\n",
    "!wget https://www.dropbox.com/s/yy2zqh34dyhv07i/data.txt?dl=1 -O data.txt\n",
    "!wget https://raw.githubusercontent.com/yandexdataschool/nlp_course/2020/week04_seq2seq/vocab.py -O vocab.py\n",
    "# thanks to tilda and deephack teams for the data, Dmitry Emelyanenko for the code :)"
   ]
  },
  {
   "cell_type": "code",
   "execution_count": 2,
   "metadata": {
    "colab": {
     "base_uri": "https://localhost:8080/"
    },
    "execution": {
     "iopub.execute_input": "2024-10-17T12:07:18.261032Z",
     "iopub.status.busy": "2024-10-17T12:07:18.258049Z",
     "iopub.status.idle": "2024-10-17T12:07:44.736217Z",
     "shell.execute_reply": "2024-10-17T12:07:44.735377Z",
     "shell.execute_reply.started": "2024-10-17T12:07:18.260990Z"
    },
    "id": "g9kP0SdxlrsY",
    "outputId": "3e169764-0dd7-4d30-ef20-b91934e8f90b",
    "tags": []
   },
   "outputs": [
    {
     "name": "stderr",
     "output_type": "stream",
     "text": [
      "100%|██████████| 8000/8000 [00:07<00:00, 1003.65it/s]\n",
      "100%|██████████| 8000/8000 [00:07<00:00, 1002.44it/s]\n"
     ]
    }
   ],
   "source": [
    "from nltk.tokenize import WordPunctTokenizer\n",
    "from subword_nmt.learn_bpe import learn_bpe\n",
    "from subword_nmt.apply_bpe import BPE\n",
    "tokenizer = WordPunctTokenizer()\n",
    "def tokenize(x):\n",
    "    return ' '.join(tokenizer.tokenize(x.lower()))\n",
    "\n",
    "# split and tokenize the data\n",
    "with open('train.en', 'w') as f_src,  open('train.ru', 'w') as f_dst:\n",
    "    for line in open('data.txt'):\n",
    "        src_line, dst_line = line.strip().split('\\t')\n",
    "        f_src.write(tokenize(src_line) + '\\n')\n",
    "        f_dst.write(tokenize(dst_line) + '\\n')\n",
    "\n",
    "# build and apply bpe vocs\n",
    "bpe = {}\n",
    "for lang in ['en', 'ru']:\n",
    "    learn_bpe(open('./train.' + lang), open('bpe_rules.' + lang, 'w'), num_symbols=8000)\n",
    "    bpe[lang] = BPE(open('./bpe_rules.' + lang))\n",
    "\n",
    "    with open('train.bpe.' + lang, 'w') as f_out:\n",
    "        for line in open('train.' + lang):\n",
    "            f_out.write(bpe[lang].process_line(line.strip()) + '\\n')"
   ]
  },
  {
   "cell_type": "markdown",
   "metadata": {
    "id": "0UPW3sV8lrsb"
   },
   "source": [
    "### Building vocabularies\n",
    "\n",
    "We now need to build vocabularies that map strings to token ids and vice versa. We're gonna need these fellas when we feed training data into model or convert output matrices into words."
   ]
  },
  {
   "cell_type": "code",
   "execution_count": 3,
   "metadata": {
    "execution": {
     "iopub.execute_input": "2024-10-17T12:07:44.737838Z",
     "iopub.status.busy": "2024-10-17T12:07:44.737176Z",
     "iopub.status.idle": "2024-10-17T12:07:44.760401Z",
     "shell.execute_reply": "2024-10-17T12:07:44.759591Z",
     "shell.execute_reply.started": "2024-10-17T12:07:44.737800Z"
    },
    "id": "CmTy_m_olrsb",
    "tags": []
   },
   "outputs": [],
   "source": [
    "import numpy as np\n",
    "import matplotlib.pyplot as plt\n",
    "%matplotlib inline"
   ]
  },
  {
   "cell_type": "code",
   "execution_count": 4,
   "metadata": {
    "colab": {
     "base_uri": "https://localhost:8080/"
    },
    "execution": {
     "iopub.execute_input": "2024-10-17T12:07:44.763032Z",
     "iopub.status.busy": "2024-10-17T12:07:44.762481Z",
     "iopub.status.idle": "2024-10-17T12:07:45.092427Z",
     "shell.execute_reply": "2024-10-17T12:07:45.091438Z",
     "shell.execute_reply.started": "2024-10-17T12:07:44.762993Z"
    },
    "id": "8PskgBSxlrsd",
    "outputId": "944c8410-c67c-4bb9-c1a2-2ce4fbcf7887",
    "tags": []
   },
   "outputs": [
    {
     "name": "stdout",
     "output_type": "stream",
     "text": [
      "inp: на территории обустроена бесплатная частная парковка .\n",
      "out: free private parking is available on site .\n",
      "\n",
      "inp: кроме того , в 5 минутах ходьбы работают многочисленные бары и рестораны .\n",
      "out: guests can find many bars and restaurants within a 5 - minute walk .\n",
      "\n",
      "inp: отель san mi@@ gu@@ el расположен в центре мор@@ ели@@ и , в 750 метрах от главной площади города и кафедрального собора .\n",
      "out: hotel san miguel is located in central more@@ lia , 750 metres from the city ’ s main square and cathedral .\n",
      "\n"
     ]
    }
   ],
   "source": [
    "data_inp = np.array(open('./train.bpe.ru').read().split('\\n'))\n",
    "data_out = np.array(open('./train.bpe.en').read().split('\\n'))\n",
    "\n",
    "from sklearn.model_selection import train_test_split\n",
    "train_inp, dev_inp, train_out, dev_out = train_test_split(data_inp, data_out, test_size=3000,\n",
    "                                                          random_state=42)\n",
    "for i in range(3):\n",
    "    print('inp:', train_inp[i])\n",
    "    print('out:', train_out[i], end='\\n\\n')"
   ]
  },
  {
   "cell_type": "code",
   "execution_count": 5,
   "metadata": {
    "execution": {
     "iopub.execute_input": "2024-10-17T12:07:45.094090Z",
     "iopub.status.busy": "2024-10-17T12:07:45.093502Z",
     "iopub.status.idle": "2024-10-17T12:07:53.995369Z",
     "shell.execute_reply": "2024-10-17T12:07:53.994575Z",
     "shell.execute_reply.started": "2024-10-17T12:07:45.094052Z"
    },
    "id": "vipg4O61lrsg",
    "tags": []
   },
   "outputs": [],
   "source": [
    "from vocab import Vocab\n",
    "inp_voc = Vocab.from_lines(train_inp)\n",
    "out_voc = Vocab.from_lines(train_out)"
   ]
  },
  {
   "cell_type": "code",
   "execution_count": 6,
   "metadata": {
    "colab": {
     "base_uri": "https://localhost:8080/"
    },
    "execution": {
     "iopub.execute_input": "2024-10-17T12:07:53.997448Z",
     "iopub.status.busy": "2024-10-17T12:07:53.996515Z",
     "iopub.status.idle": "2024-10-17T12:07:54.255091Z",
     "shell.execute_reply": "2024-10-17T12:07:54.254295Z",
     "shell.execute_reply.started": "2024-10-17T12:07:53.997406Z"
    },
    "id": "cwOoHfuhlrsi",
    "outputId": "030b704c-30df-46fa-ba89-e97eca0962b1",
    "tags": []
   },
   "outputs": [
    {
     "name": "stdout",
     "output_type": "stream",
     "text": [
      "lines\n",
      "['гостевой дом r .', 'до афин — 20 км .', 'работает боулинг .', 'оборудован балкон .', 'подключен wi - fi .']\n",
      "\n",
      "words to ids (0 = bos, 1 = eos):\n",
      "tensor([[   0, 2688, 2943, 1108,   29,    1,    1,    1],\n",
      "        [   0, 2922, 1834, 8035,   59, 3800,   29,    1],\n",
      "        [   0, 6030, 2083,   29,    1,    1,    1,    1],\n",
      "        [   0, 4927, 1870,   29,    1,    1,    1,    1],\n",
      "        [   0, 5549, 1453,   27,  592,   29,    1,    1]])\n",
      "\n",
      "back to words\n",
      "['гостевой дом r .', 'до афин — 20 км .', 'работает боулинг .', 'оборудован балкон .', 'подключен wi - fi .']\n"
     ]
    }
   ],
   "source": [
    "# Here's how you cast lines into ids and backwards.\n",
    "batch_lines = sorted(train_inp, key=len)[5:10]\n",
    "batch_ids = inp_voc.to_matrix(batch_lines)\n",
    "batch_lines_restored = inp_voc.to_lines(batch_ids)\n",
    "\n",
    "print(\"lines\")\n",
    "print(batch_lines)\n",
    "print(\"\\nwords to ids (0 = bos, 1 = eos):\")\n",
    "print(batch_ids)\n",
    "print(\"\\nback to words\")\n",
    "print(batch_lines_restored)"
   ]
  },
  {
   "cell_type": "markdown",
   "metadata": {
    "id": "gSYu-MkElrsk"
   },
   "source": [
    "Draw source and translation length distributions to estimate the scope of the task."
   ]
  },
  {
   "cell_type": "code",
   "execution_count": 7,
   "metadata": {
    "colab": {
     "base_uri": "https://localhost:8080/",
     "height": 391
    },
    "execution": {
     "iopub.execute_input": "2024-10-17T12:07:54.257473Z",
     "iopub.status.busy": "2024-10-17T12:07:54.256133Z",
     "iopub.status.idle": "2024-10-17T12:07:55.225743Z",
     "shell.execute_reply": "2024-10-17T12:07:55.224957Z",
     "shell.execute_reply.started": "2024-10-17T12:07:54.257437Z"
    },
    "id": "TLLl9cSNlrsl",
    "outputId": "3caa5411-ce03-410e-a16c-2895e79f95c4",
    "tags": []
   },
   "outputs": [
    {
     "data": {
      "image/png": "[encoded data removed]",
      "text/plain": [
       "<Figure size 800x400 with 2 Axes>"
      ]
     },
     "metadata": {},
     "output_type": "display_data"
    }
   ],
   "source": [
    "plt.figure(figsize=[8, 4])\n",
    "plt.subplot(1, 2, 1)\n",
    "plt.title(\"source length\")\n",
    "plt.hist(list(map(len, map(str.split, train_inp))), bins=20);\n",
    "\n",
    "plt.subplot(1, 2, 2)\n",
    "plt.title(\"translation length\")\n",
    "plt.hist(list(map(len, map(str.split, train_out))), bins=20);"
   ]
  },
  {
   "cell_type": "markdown",
   "metadata": {
    "id": "BHWgx34flrsn"
   },
   "source": [
    "### Encoder-decoder model\n",
    "\n",
    "The code below contains a template for a simple encoder-decoder model: single GRU encoder/decoder, no attention or anything. This model is implemented for you as a reference and a baseline for your homework assignment."
   ]
  },
  {
   "cell_type": "code",
   "execution_count": 8,
   "metadata": {
    "execution": {
     "iopub.execute_input": "2024-10-17T12:07:55.227274Z",
     "iopub.status.busy": "2024-10-17T12:07:55.226697Z",
     "iopub.status.idle": "2024-10-17T12:07:55.336524Z",
     "shell.execute_reply": "2024-10-17T12:07:55.335760Z",
     "shell.execute_reply.started": "2024-10-17T12:07:55.227240Z"
    },
    "id": "pd_rDRm9lrso",
    "tags": []
   },
   "outputs": [],
   "source": [
    "import torch\n",
    "import torch.nn as nn\n",
    "import torch.nn.functional as F\n",
    "device = 'cuda' if torch.cuda.is_available() else 'cpu'"
   ]
  },
  {
   "cell_type": "code",
   "execution_count": 9,
   "metadata": {
    "execution": {
     "iopub.execute_input": "2024-10-17T12:07:55.337992Z",
     "iopub.status.busy": "2024-10-17T12:07:55.337454Z",
     "iopub.status.idle": "2024-10-17T12:07:55.363869Z",
     "shell.execute_reply": "2024-10-17T12:07:55.362938Z",
     "shell.execute_reply.started": "2024-10-17T12:07:55.337959Z"
    },
    "id": "wgfN5-F7lrst",
    "tags": []
   },
   "outputs": [],
   "source": [
    "class BasicModel(nn.Module):\n",
    "    def __init__(self, inp_voc, out_voc, emb_size=64, hid_size=128):\n",
    "        \"\"\"\n",
    "        A simple encoder-decoder seq2seq model\n",
    "        \"\"\"\n",
    "        super().__init__() # initialize base class to track sub-layers, parameters, etc.\n",
    "\n",
    "        self.inp_voc, self.out_voc = inp_voc, out_voc\n",
    "        self.hid_size = hid_size\n",
    "\n",
    "        self.emb_inp = nn.Embedding(len(inp_voc), emb_size)\n",
    "        self.emb_out = nn.Embedding(len(out_voc), emb_size)\n",
    "        self.enc0 = nn.GRU(emb_size, hid_size, batch_first=True)\n",
    "\n",
    "        self.dec_start = nn.Linear(hid_size, hid_size)\n",
    "        self.dec0 = nn.GRUCell(emb_size, hid_size)\n",
    "        self.logits = nn.Linear(hid_size, len(out_voc))\n",
    "\n",
    "    def forward(self, inp, out):\n",
    "        \"\"\" Apply model in training mode \"\"\"\n",
    "        initial_state = self.encode(inp)\n",
    "        return self.decode(initial_state, out)\n",
    "\n",
    "\n",
    "    def encode(self, inp, **flags):\n",
    "        \"\"\"\n",
    "        Takes symbolic input sequence, computes initial state\n",
    "        :param inp: matrix of input tokens [batch, time]\n",
    "        :returns: initial decoder state tensors, one or many\n",
    "        \"\"\"\n",
    "        inp_emb = self.emb_inp(inp)\n",
    "        batch_size = inp.shape[0]\n",
    "\n",
    "        enc_seq, [last_state_but_not_really] = self.enc0(inp_emb)\n",
    "        # enc_seq: [batch, time, hid_size], last_state: [batch, hid_size]\n",
    "\n",
    "        # note: last_state is not _actually_ last because of padding, let's find the real last_state\n",
    "        lengths = (inp != self.inp_voc.eos_ix).to(torch.int64).sum(dim=1).clamp_max(inp.shape[1] - 1)\n",
    "        last_state = enc_seq[torch.arange(len(enc_seq)), lengths]\n",
    "        # ^-- shape: [batch_size, hid_size]\n",
    "\n",
    "        dec_start = self.dec_start(last_state)\n",
    "        return [dec_start]\n",
    "\n",
    "    def decode_step(self, prev_state, prev_tokens, **flags):\n",
    "        \"\"\"\n",
    "        Takes previous decoder state and tokens, returns new state and logits for next tokens\n",
    "        :param prev_state: a list of previous decoder state tensors, same as returned by encode(...)\n",
    "        :param prev_tokens: previous output tokens, an int vector of [batch_size]\n",
    "        :return: a list of next decoder state tensors, a tensor of logits [batch, len(out_voc)]\n",
    "        \"\"\"\n",
    "        prev_gru0_state = prev_state[0]\n",
    "\n",
    "        prev_tokens_emb = self.emb_out(prev_tokens)\n",
    "        new_dec_state = self.dec0(prev_tokens_emb, prev_gru0_state)\n",
    "        output_logits = self.logits(new_dec_state)\n",
    "\n",
    "        return [new_dec_state], output_logits\n",
    "\n",
    "    def decode(self, initial_state, out_tokens, **flags):\n",
    "        \"\"\" Iterate over reference tokens (out_tokens) with decode_step \"\"\"\n",
    "        batch_size = out_tokens.shape[0]\n",
    "        state = initial_state\n",
    "\n",
    "        # initial logits: always predict BOS\n",
    "        onehot_bos = F.one_hot(torch.full([batch_size], self.out_voc.bos_ix, dtype=torch.int64),\n",
    "                               num_classes=len(self.out_voc)).to(device=out_tokens.device)\n",
    "        first_logits = torch.log(onehot_bos.to(torch.float32) + 1e-9)\n",
    "\n",
    "        logits_sequence = [first_logits]\n",
    "        for i in range(out_tokens.shape[1] - 1):\n",
    "            state, logits = self.decode_step(state, out_tokens[:, i])\n",
    "            logits_sequence.append(logits)\n",
    "        return torch.stack(logits_sequence, dim=1)\n",
    "\n",
    "    def decode_inference(self, initial_state, max_len=100, **flags):\n",
    "        \"\"\" Generate translations from model (greedy version) \"\"\"\n",
    "        batch_size, device = len(initial_state[0]), initial_state[0].device\n",
    "        state = initial_state\n",
    "        outputs = [torch.full([batch_size], self.out_voc.bos_ix, dtype=torch.int64,\n",
    "                              device=device)]\n",
    "        all_states = [initial_state]\n",
    "\n",
    "        for i in range(max_len):\n",
    "            state, logits = self.decode_step(state, outputs[-1])\n",
    "            outputs.append(logits.argmax(dim=-1))\n",
    "            all_states.append(state)\n",
    "\n",
    "        return torch.stack(outputs, dim=1), all_states\n",
    "\n",
    "    def translate_lines(self, inp_lines, **kwargs):\n",
    "        inp = self.inp_voc.to_matrix(inp_lines).to(device)\n",
    "        initial_state = self.encode(inp)\n",
    "        out_ids, states = self.decode_inference(initial_state, **kwargs)\n",
    "        return self.out_voc.to_lines(out_ids.cpu().numpy()), states\n"
   ]
  },
  {
   "cell_type": "code",
   "execution_count": 10,
   "metadata": {
    "execution": {
     "iopub.execute_input": "2024-10-17T12:07:55.367493Z",
     "iopub.status.busy": "2024-10-17T12:07:55.366579Z",
     "iopub.status.idle": "2024-10-17T12:07:57.084811Z",
     "shell.execute_reply": "2024-10-17T12:07:57.084039Z",
     "shell.execute_reply.started": "2024-10-17T12:07:55.367456Z"
    },
    "id": "4PuIwBaUFFQ6",
    "tags": []
   },
   "outputs": [],
   "source": [
    "# debugging area\n",
    "model = BasicModel(inp_voc, out_voc).to(device)\n",
    "\n",
    "dummy_inp_tokens = inp_voc.to_matrix(sorted(train_inp, key=len)[5:10]).to(device)\n",
    "dummy_out_tokens = out_voc.to_matrix(sorted(train_out, key=len)[5:10]).to(device)\n",
    "\n",
    "h0 = model.encode(dummy_inp_tokens)\n",
    "h1, logits1 = model.decode_step(h0, torch.arange(len(dummy_inp_tokens), device=device))\n",
    "\n",
    "assert isinstance(h1, list) and len(h1) == len(h0)\n",
    "assert h1[0].shape == h0[0].shape and not torch.allclose(h1[0], h0[0])\n",
    "assert logits1.shape == (len(dummy_inp_tokens), len(out_voc))\n",
    "\n",
    "logits_seq = model.decode(h0, dummy_out_tokens)\n",
    "assert logits_seq.shape == (dummy_out_tokens.shape[0], dummy_out_tokens.shape[1], len(out_voc))\n",
    "\n",
    "# full forward\n",
    "logits_seq2 = model(dummy_inp_tokens, dummy_out_tokens)\n",
    "assert logits_seq2.shape == logits_seq.shape"
   ]
  },
  {
   "cell_type": "code",
   "execution_count": 11,
   "metadata": {
    "colab": {
     "base_uri": "https://localhost:8080/"
    },
    "execution": {
     "iopub.execute_input": "2024-10-17T12:07:57.087411Z",
     "iopub.status.busy": "2024-10-17T12:07:57.085728Z",
     "iopub.status.idle": "2024-10-17T12:07:57.211265Z",
     "shell.execute_reply": "2024-10-17T12:07:57.210365Z",
     "shell.execute_reply.started": "2024-10-17T12:07:57.087375Z"
    },
    "id": "qvJC5rFCFFQ6",
    "outputId": "8153516a-2b09-4f4f-dc8c-5483982a40f1",
    "tags": []
   },
   "outputs": [
    {
     "name": "stdout",
     "output_type": "stream",
     "text": [
      "Translations without training:\n",
      "nightlife novgorod super ré@@ ups sel@@ walking dover vienna very boast sugar tto chennai sim tumble raj@@ meer g jour@@ roman@@ ré@@ erc@@ botanical retta\n",
      "nightlife gor@@ ture nature wash@@ appartement hand tao ē@@ opera penh ści@@ scuba ju@@ ae@@ arena th@@ black jour@@ select designs iron wardrobe saturday ready\n",
      "nightlife novgorod super ré@@ ups sel@@ walking dover vienna very boast sugar tto chennai sim tumble raj@@ meer g jour@@ roman@@ ré@@ erc@@ botanical retta\n"
     ]
    }
   ],
   "source": [
    "dummy_translations, dummy_states = model.translate_lines(train_inp[:3], max_len=25)\n",
    "print(\"Translations without training:\")\n",
    "print('\\n'.join([line for line in dummy_translations]))"
   ]
  },
  {
   "cell_type": "markdown",
   "metadata": {
    "id": "_wuv1-aVlrs0"
   },
   "source": [
    "### Training loss (2 points)\n",
    "\n",
    "Our training objective is almost the same as it was for neural language models:\n",
    "$$ L = {\\frac1{|D|}} \\sum_{X, Y \\in D} \\sum_{y_t \\in Y} - \\log p(y_t \\mid y_1, \\dots, y_{t-1}, X, \\theta) $$\n",
    "\n",
    "where $|D|$ is the __total length of all sequences__, including BOS and first EOS, but excluding PAD."
   ]
  },
  {
   "cell_type": "code",
   "execution_count": 12,
   "metadata": {
    "execution": {
     "iopub.execute_input": "2024-10-17T12:07:57.213487Z",
     "iopub.status.busy": "2024-10-17T12:07:57.212424Z",
     "iopub.status.idle": "2024-10-17T12:07:57.250851Z",
     "shell.execute_reply": "2024-10-17T12:07:57.249988Z",
     "shell.execute_reply.started": "2024-10-17T12:07:57.213449Z"
    },
    "id": "c8XPV8sWlrs5",
    "scrolled": true,
    "tags": []
   },
   "outputs": [],
   "source": [
    "\n",
    "def compute_loss(model, inp, out, **flags):\n",
    "    \"\"\"\n",
    "    Compute loss (float32 scalar) as in the formula above\n",
    "    :param inp: input tokens matrix, int32[batch, time]\n",
    "    :param out: reference tokens matrix, int32[batch, time]\n",
    "\n",
    "    In order to pass the tests, your function should\n",
    "    * include loss at first EOS but not the subsequent ones\n",
    "    * divide sum of losses by a sum of input lengths (use voc.compute_mask)\n",
    "    \"\"\"\n",
    "    mask = model.out_voc.compute_mask(out) # [batch_size, out_len]\n",
    "    targets_1hot = F.one_hot(out, len(model.out_voc)).to(torch.float32)\n",
    "\n",
    "    # outputs of the model, [batch_size, out_len, num_tokens]\n",
    "    logits_seq = model.forward(inp, out)\n",
    "\n",
    "    # log-probabilities of all tokens at all steps, [batch_size, out_len, num_tokens]\n",
    "    logprobs_seq = torch.log_softmax(logits_seq, dim=-1)\n",
    "\n",
    "    # log-probabilities of correct outputs, [batch_size, out_len]\n",
    "    logp_out = (logprobs_seq * targets_1hot).sum(dim=-1)\n",
    "    # ^-- this will select the probability of the actual next token.\n",
    "    # Note: you can compute loss more efficiently using using F.cross_entropy\n",
    "\n",
    "    masked_logp_out = logp_out * mask\n",
    "\n",
    "    # average cross-entropy over tokens where mask == True\n",
    "    return -torch.sum(masked_logp_out) / torch.sum(mask) # average loss, scalar"
   ]
  },
  {
   "cell_type": "code",
   "execution_count": 13,
   "metadata": {
    "colab": {
     "base_uri": "https://localhost:8080/"
    },
    "execution": {
     "iopub.execute_input": "2024-10-17T12:07:57.252262Z",
     "iopub.status.busy": "2024-10-17T12:07:57.251807Z",
     "iopub.status.idle": "2024-10-17T12:07:58.027466Z",
     "shell.execute_reply": "2024-10-17T12:07:58.026668Z",
     "shell.execute_reply.started": "2024-10-17T12:07:57.252229Z"
    },
    "id": "ME_LWUeklrs7",
    "outputId": "45963b96-37c8-45ee-d778-debeb223af18",
    "tags": []
   },
   "outputs": [
    {
     "name": "stdout",
     "output_type": "stream",
     "text": [
      "Loss: tensor(7.5349, device='cuda:0', grad_fn=<DivBackward0>)\n"
     ]
    }
   ],
   "source": [
    "dummy_loss = compute_loss(model, dummy_inp_tokens, dummy_out_tokens)\n",
    "print(\"Loss:\", dummy_loss)\n",
    "assert np.allclose(dummy_loss.item(), 7.5, rtol=0.1, atol=0.1), \"We're sorry for your loss\"\n",
    "\n",
    "# test autograd\n",
    "dummy_loss.backward()\n",
    "for name, param in model.named_parameters():\n",
    "    assert param.grad is not None and abs(param.grad.max()) != 0, f\"Param {name} received no gradients\""
   ]
  },
  {
   "cell_type": "markdown",
   "metadata": {
    "id": "HpbaBpW7lrs-"
   },
   "source": [
    "### Evaluation: BLEU\n",
    "\n",
    "Machine translation is commonly evaluated with [BLEU](https://en.wikipedia.org/wiki/BLEU) score. This metric simply computes which fraction of predicted n-grams is actually present in the reference translation. It does so for n=1,2,3 and 4 and computes the geometric average with penalty if translation is shorter than reference.\n",
    "\n",
    "While BLEU [has many drawbacks](http://www.cs.jhu.edu/~ccb/publications/re-evaluating-the-role-of-bleu-in-mt-research.pdf), it still remains the most commonly used metric and one of the simplest to compute."
   ]
  },
  {
   "cell_type": "code",
   "execution_count": 14,
   "metadata": {
    "execution": {
     "iopub.execute_input": "2024-10-17T12:07:58.029716Z",
     "iopub.status.busy": "2024-10-17T12:07:58.029100Z",
     "iopub.status.idle": "2024-10-17T12:07:58.044054Z",
     "shell.execute_reply": "2024-10-17T12:07:58.043433Z",
     "shell.execute_reply.started": "2024-10-17T12:07:58.029679Z"
    },
    "id": "Gb1-PhKIlrs-",
    "tags": []
   },
   "outputs": [],
   "source": [
    "from nltk.translate.bleu_score import corpus_bleu\n",
    "def compute_bleu(model, inp_lines, out_lines, bpe_sep='@@ ', **flags):\n",
    "    \"\"\"\n",
    "    Estimates corpora-level BLEU score of model's translations given inp and reference out\n",
    "    Note: if you're serious about reporting your results, use https://pypi.org/project/sacrebleu\n",
    "    \"\"\"\n",
    "    with torch.no_grad():\n",
    "        translations, _ = model.translate_lines(inp_lines, **flags)\n",
    "        translations = [line.replace(bpe_sep, '') for line in translations]\n",
    "        actual = [line.replace(bpe_sep, '') for line in out_lines]\n",
    "        return corpus_bleu(\n",
    "            [[ref.split()] for ref in actual],\n",
    "            [trans.split() for trans in translations],\n",
    "            smoothing_function=lambda precisions, **kw: [p + 1.0 / p.denominator for p in precisions]\n",
    "            ) * 100"
   ]
  },
  {
   "cell_type": "code",
   "execution_count": 15,
   "metadata": {
    "colab": {
     "base_uri": "https://localhost:8080/"
    },
    "execution": {
     "iopub.execute_input": "2024-10-17T12:07:58.047201Z",
     "iopub.status.busy": "2024-10-17T12:07:58.046142Z",
     "iopub.status.idle": "2024-10-17T12:07:59.245084Z",
     "shell.execute_reply": "2024-10-17T12:07:59.244283Z",
     "shell.execute_reply.started": "2024-10-17T12:07:58.047165Z"
    },
    "id": "gZvfid1RlrtA",
    "outputId": "61f5302a-2bf0-4b8e-f312-773839adaf3e",
    "tags": []
   },
   "outputs": [
    {
     "data": {
      "text/plain": [
       "0.0020740790233406926"
      ]
     },
     "execution_count": 15,
     "metadata": {},
     "output_type": "execute_result"
    }
   ],
   "source": [
    "compute_bleu(model, dev_inp, dev_out)"
   ]
  },
  {
   "cell_type": "markdown",
   "metadata": {
    "id": "nQDhGwg4lrtC"
   },
   "source": [
    "### Training loop\n",
    "\n",
    "Training encoder-decoder models isn't that different from any other models: sample batches, compute loss, backprop and update"
   ]
  },
  {
   "cell_type": "code",
   "execution_count": 16,
   "metadata": {
    "execution": {
     "iopub.execute_input": "2024-10-17T12:07:59.248198Z",
     "iopub.status.busy": "2024-10-17T12:07:59.247535Z",
     "iopub.status.idle": "2024-10-17T12:07:59.280694Z",
     "shell.execute_reply": "2024-10-17T12:07:59.279922Z",
     "shell.execute_reply.started": "2024-10-17T12:07:59.248161Z"
    },
    "id": "yfwIaixHlrtI",
    "tags": []
   },
   "outputs": [],
   "source": [
    "from IPython.display import clear_output\n",
    "from tqdm import tqdm, trange\n",
    "metrics = {'train_loss': [], 'dev_bleu': [] }\n",
    "\n",
    "device = 'cuda' if torch.cuda.is_available() else 'cpu'\n",
    "model = BasicModel(inp_voc, out_voc).to(device)\n",
    "opt = torch.optim.Adam(model.parameters(), lr=1e-3)\n",
    "batch_size = 32"
   ]
  },
  {
   "cell_type": "code",
   "execution_count": 17,
   "metadata": {
    "colab": {
     "base_uri": "https://localhost:8080/",
     "height": 425
    },
    "execution": {
     "iopub.execute_input": "2024-10-17T12:07:59.283479Z",
     "iopub.status.busy": "2024-10-17T12:07:59.281816Z",
     "iopub.status.idle": "2024-10-17T12:22:30.459654Z",
     "shell.execute_reply": "2024-10-17T12:22:30.458737Z",
     "shell.execute_reply.started": "2024-10-17T12:07:59.283440Z"
    },
    "id": "LlDT6eDUlrtL",
    "outputId": "043cd77e-c60d-40d9-88d4-842b823c3180",
    "scrolled": true,
    "tags": []
   },
   "outputs": [
    {
     "data": {
      "image/png": "[encoded data removed]",
      "text/plain": [
       "<Figure size 1200x400 with 2 Axes>"
      ]
     },
     "metadata": {},
     "output_type": "display_data"
    },
    {
     "name": "stdout",
     "output_type": "stream",
     "text": [
      "Mean loss=1.775\n"
     ]
    },
    {
     "name": "stderr",
     "output_type": "stream",
     "text": [
      "100%|██████████| 25000/25000 [14:31<00:00, 28.70it/s]\n"
     ]
    }
   ],
   "source": [
    "for _ in trange(25000):\n",
    "    step = len(metrics['train_loss']) + 1\n",
    "    batch_ix = np.random.randint(len(train_inp), size=batch_size)\n",
    "    batch_inp = inp_voc.to_matrix(train_inp[batch_ix]).to(device)\n",
    "    batch_out = out_voc.to_matrix(train_out[batch_ix]).to(device)\n",
    "\n",
    "    #<YOUR CODE: training step using batch_inp and batch_out>\n",
    "    loss_t = compute_loss(model, batch_inp, batch_out)\n",
    "\n",
    "    opt.zero_grad()\n",
    "    loss_t.backward()\n",
    "    opt.step()\n",
    "\n",
    "    metrics['train_loss'].append((step, loss_t.item()))\n",
    "\n",
    "    if step % 100 == 0:\n",
    "        metrics['dev_bleu'].append((step, compute_bleu(model, dev_inp, dev_out)))\n",
    "\n",
    "        clear_output(True)\n",
    "        plt.figure(figsize=(12,4))\n",
    "        for i, (name, history) in enumerate(sorted(metrics.items())):\n",
    "            plt.subplot(1, len(metrics), i + 1)\n",
    "            plt.title(name)\n",
    "            plt.plot(*zip(*history))\n",
    "            plt.grid()\n",
    "        plt.show()\n",
    "        print(\"Mean loss=%.3f\" % np.mean(metrics['train_loss'][-10:], axis=0)[1], flush=True)\n",
    "\n",
    "# Note: it's okay if bleu oscillates up and down as long as it gets better on average over long term (e.g. 5k batches)"
   ]
  },
  {
   "cell_type": "code",
   "execution_count": 21,
   "metadata": {
    "execution": {
     "iopub.execute_input": "2024-10-17T12:23:08.390350Z",
     "iopub.status.busy": "2024-10-17T12:23:08.389368Z",
     "iopub.status.idle": "2024-10-17T12:23:09.167002Z",
     "shell.execute_reply": "2024-10-17T12:23:09.166140Z",
     "shell.execute_reply.started": "2024-10-17T12:23:08.390304Z"
    },
    "tags": []
   },
   "outputs": [
    {
     "data": {
      "text/plain": [
       "17.64929313593838"
      ]
     },
     "execution_count": 21,
     "metadata": {},
     "output_type": "execute_result"
    }
   ],
   "source": [
    "compute_bleu(model, dev_inp, dev_out)"
   ]
  },
  {
   "cell_type": "code",
   "execution_count": 22,
   "metadata": {
    "execution": {
     "iopub.execute_input": "2024-10-17T12:23:11.479482Z",
     "iopub.status.busy": "2024-10-17T12:23:11.478617Z",
     "iopub.status.idle": "2024-10-17T12:23:11.518883Z",
     "shell.execute_reply": "2024-10-17T12:23:11.518032Z",
     "shell.execute_reply.started": "2024-10-17T12:23:11.479443Z"
    },
    "id": "2ahuhKVhlrtP",
    "tags": []
   },
   "outputs": [],
   "source": [
    "assert np.mean(metrics['dev_bleu'][-10:], axis=0)[1] > 15, \"We kind of need a higher bleu BLEU from you. Kind of right now.\""
   ]
  },
  {
   "cell_type": "code",
   "execution_count": 23,
   "metadata": {
    "colab": {
     "base_uri": "https://localhost:8080/"
    },
    "execution": {
     "iopub.execute_input": "2024-10-17T12:23:11.945131Z",
     "iopub.status.busy": "2024-10-17T12:23:11.943984Z",
     "iopub.status.idle": "2024-10-17T12:23:12.039106Z",
     "shell.execute_reply": "2024-10-17T12:23:12.038257Z",
     "shell.execute_reply.started": "2024-10-17T12:23:11.945060Z"
    },
    "id": "KyaHOpealrtS",
    "outputId": "d06d516b-dc3a-43bf-e9e9-4ebfbee122fc",
    "tags": []
   },
   "outputs": [
    {
     "name": "stdout",
     "output_type": "stream",
     "text": [
      "в распоряжении гостей общая кухня и общая гостиная .\n",
      "a shared kitchen , shared lounge is provided .\n",
      "\n",
      "кроме того , предоставляется прокат велосипедов , услуги трансфера и бесплатная парковка .\n",
      "parking , as well as bicycle rental is available and free parking is available nearby .\n",
      "\n",
      "расстояние до города ки@@ сси@@ м@@ ми составляет 26 км .\n",
      "the unit is 26 km from the property .\n",
      "\n",
      "апартаменты в пент@@ хаусе с общим открытым бассейном , садом , кондиционером и террасой для загара расположены в 5 минутах ходьбы от пляжа на курорте ка@@ бо - рой .\n",
      "set in a historic centre of kam@@ ari , a 5 - minute walk from the beach , villa magnolia is a beach area and a terrace .\n",
      "\n",
      "апартаменты mo@@ s@@ co@@ w point - loft red square находятся в москве , в 200 метрах от большого театра .\n",
      "offering a terrace , studio apartment grad@@ skiy apartment is located in adler .\n",
      "\n",
      "в вашем распоряжении собственная ванная комната с душем и полотенцами .\n",
      "featuring a shower , private bathrooms also come with towels .\n",
      "\n"
     ]
    }
   ],
   "source": [
    "for inp_line, trans_line in zip(dev_inp[::500], model.translate_lines(dev_inp[::500])[0]):\n",
    "    print(inp_line)\n",
    "    print(trans_line)\n",
    "    print()"
   ]
  },
  {
   "cell_type": "markdown",
   "metadata": {
    "id": "edk_oVg0lrtW"
   },
   "source": [
    "### Your Attention Required\n",
    "\n",
    "In this section we want you to improve over the basic model by implementing a simple attention mechanism.\n",
    "\n",
    "This is gonna be a two-parter: building the __attention layer__ and using it for an __attentive seq2seq model__."
   ]
  },
  {
   "cell_type": "markdown",
   "metadata": {
    "id": "Qz9aROAIlrtX"
   },
   "source": [
    "### Attention layer (3 points)\n",
    "\n",
    "Here you will have to implement a layer that computes a simple additive attention:\n",
    "\n",
    "Given encoder sequence $ h^e_0, h^e_1, h^e_2, ..., h^e_T$ and a single decoder state $h^d$,\n",
    "\n",
    "* Compute logits with a 2-layer neural network\n",
    "$$a_t = linear_{out}(tanh(linear_{e}(h^e_t) + linear_{d}(h_d)))$$\n",
    "* Get probabilities from logits,\n",
    "$$ p_t = {{e ^ {a_t}} \\over { \\sum_\\tau e^{a_\\tau} }} $$\n",
    "\n",
    "* Add up encoder states with probabilities to get __attention response__\n",
    "$$ attn = \\sum_t p_t \\cdot h^e_t $$\n",
    "\n",
    "You can learn more about attention layers in the lecture slides or [from this post](https://distill.pub/2016/augmented-rnns/)."
   ]
  },
  {
   "cell_type": "code",
   "execution_count": 46,
   "metadata": {
    "execution": {
     "iopub.execute_input": "2024-10-17T13:34:33.100343Z",
     "iopub.status.busy": "2024-10-17T13:34:33.099250Z",
     "iopub.status.idle": "2024-10-17T13:34:33.143596Z",
     "shell.execute_reply": "2024-10-17T13:34:33.142724Z",
     "shell.execute_reply.started": "2024-10-17T13:34:33.100284Z"
    },
    "id": "3ni-I8_vFFQ8",
    "tags": []
   },
   "outputs": [],
   "source": [
    "class AttentionLayer(nn.Module):\n",
    "    def __init__(self, name, enc_size, dec_size, hid_size, activ=torch.tanh):\n",
    "        \"\"\" A layer that computes additive attention response and weights \"\"\"\n",
    "        super().__init__()\n",
    "        self.name = name\n",
    "        self.enc_size = enc_size # num units in encoder state\n",
    "        self.dec_size = dec_size # num units in decoder state\n",
    "        self.hid_size = hid_size # attention layer hidden units\n",
    "        self.activ = activ       # attention layer hidden nonlinearity\n",
    "\n",
    "        self.fc_e = nn.Linear(enc_size, hid_size)\n",
    "        self.fc_d = nn.Linear(dec_size, hid_size)\n",
    "        self.fc_o = nn.Linear(hid_size, 1)\n",
    "\n",
    "        # create trainable paramteres like this:\n",
    "        #self.<PARAMETER_NAME> = nn.Parameter(<INITIAL_VALUES>, requires_grad=True)\n",
    "        #<...>  # you will need a couple of these\n",
    "\n",
    "\n",
    "    def forward(self, enc, dec, inp_mask):\n",
    "        \"\"\"\n",
    "        Computes attention response and weights\n",
    "        :param enc: encoder activation sequence, float32[batch_size, ninp, enc_size]\n",
    "        :param dec: single decoder state used as \"query\", float32[batch_size, dec_size]\n",
    "        :param inp_mask: mask on enc activatons (0 after first eos), float32 [batch_size, ninp]\n",
    "        :returns: attn[batch_size, enc_size], probs[batch_size, ninp]\n",
    "            - attn - attention response vector (weighted sum of enc)\n",
    "            - probs - attention weights after softmax\n",
    "        \"\"\"\n",
    "\n",
    "        # Compute logits\n",
    "        logits = torch.squeeze(self.fc_o(self.activ(self.fc_e(enc) + self.fc_d(torch.unsqueeze(dec, dim=1)))))\n",
    "\n",
    "        # Apply mask - if mask is 0, logits should be -inf or -1e9\n",
    "        # You may need torch.where\n",
    "        masked_logits = torch.where(inp_mask == 1, logits, float('-inf'))\n",
    "\n",
    "        # Compute attention probabilities (softmax)\n",
    "        probs = torch.softmax(masked_logits, dim=1)\n",
    "\n",
    "        # Compute attention response using enc and probs\n",
    "        attn = torch.sum(enc * torch.unsqueeze(probs, dim=-1), dim=1)\n",
    "\n",
    "        return attn, probs"
   ]
  },
  {
   "cell_type": "code",
   "execution_count": 47,
   "metadata": {
    "colab": {
     "base_uri": "https://localhost:8080/"
    },
    "execution": {
     "iopub.execute_input": "2024-10-17T13:34:33.268315Z",
     "iopub.status.busy": "2024-10-17T13:34:33.267108Z",
     "iopub.status.idle": "2024-10-17T13:34:33.300656Z",
     "shell.execute_reply": "2024-10-17T13:34:33.299872Z",
     "shell.execute_reply.started": "2024-10-17T13:34:33.268262Z"
    },
    "id": "jIwQ-0aVf64u",
    "outputId": "99f9c636-b90f-433d-c98a-41ba8218e958",
    "tags": []
   },
   "outputs": [
    {
     "data": {
      "text/plain": [
       "(tensor([[0.3299, 0.1034, 0.5472],\n",
       "         [0.5212, 0.4573, 0.5311],\n",
       "         [0.5317, 0.4890, 0.0726],\n",
       "         [0.0783, 0.8446, 0.3364],\n",
       "         [0.8694, 0.0947, 0.9871],\n",
       "         [0.8931, 0.3771, 0.4028],\n",
       "         [0.2101, 0.6712, 0.0516],\n",
       "         [0.2058, 0.6235, 0.7946],\n",
       "         [0.9244, 0.8574, 0.3680],\n",
       "         [0.4222, 0.1993, 0.6467]], grad_fn=<SumBackward1>),\n",
       " tensor([[0.4984, 0.5016, 0.0000, 0.0000, 0.0000],\n",
       "         [0.3123, 0.3391, 0.3486, 0.0000, 0.0000],\n",
       "         [1.0000, 0.0000, 0.0000, 0.0000, 0.0000],\n",
       "         [1.0000, 0.0000, 0.0000, 0.0000, 0.0000],\n",
       "         [1.0000, 0.0000, 0.0000, 0.0000, 0.0000],\n",
       "         [1.0000, 0.0000, 0.0000, 0.0000, 0.0000],\n",
       "         [1.0000, 0.0000, 0.0000, 0.0000, 0.0000],\n",
       "         [1.0000, 0.0000, 0.0000, 0.0000, 0.0000],\n",
       "         [1.0000, 0.0000, 0.0000, 0.0000, 0.0000],\n",
       "         [1.0000, 0.0000, 0.0000, 0.0000, 0.0000]], grad_fn=<SoftmaxBackward0>))"
      ]
     },
     "execution_count": 47,
     "metadata": {},
     "output_type": "execute_result"
    }
   ],
   "source": [
    "tmp = AttentionLayer('lol', 3, 3, 3)\n",
    "lol = torch.rand(10, 5, 3)\n",
    "kek = torch.rand(10, 3)\n",
    "bob = torch.zeros(10, 5)\n",
    "bob[0, 0] = 1\n",
    "bob[0, 1] = 1\n",
    "bob[1, 0] = 1\n",
    "bob[1, 1] = 1\n",
    "bob[1, 2] = 1\n",
    "bob[2, 0] = 1\n",
    "bob[3, 0] = 1\n",
    "bob[4, 0] = 1\n",
    "bob[5, 0] = 1\n",
    "bob[6, 0] = 1\n",
    "bob[7, 0] = 1\n",
    "bob[8, 0] = 1\n",
    "bob[9, 0] = 1\n",
    "tmp.forward(lol, kek, bob)"
   ]
  },
  {
   "cell_type": "markdown",
   "metadata": {
    "id": "IalfpdAelrtb"
   },
   "source": [
    "### Seq2seq model with attention (3 points)\n",
    "\n",
    "You can now use the attention layer to build a network. The simplest way to implement attention is to use it in decoder phase:\n",
    "![img](https://i.imgur.com/6fKHlHb.png)\n",
    "_image from distill.pub [article](https://distill.pub/2016/augmented-rnns/)_\n",
    "\n",
    "On every step, use __previous__ decoder state to obtain attention response. Then feed concat this response to the inputs of next attention layer.\n",
    "\n",
    "The key implementation detail here is __model state__. Put simply, you can add any tensor into the list of `encode` outputs. You will then have access to them at each `decode` step. This may include:\n",
    "* Last RNN hidden states (as in basic model)\n",
    "* The whole sequence of encoder outputs (to attend to) and mask\n",
    "* Attention probabilities (to visualize)\n",
    "\n",
    "_There are, of course, alternative ways to wire attention into your network and different kinds of attention. Take a look at [this](https://arxiv.org/abs/1609.08144), [this](https://arxiv.org/abs/1706.03762) and [this](https://arxiv.org/abs/1808.03867) for ideas. And for image captioning/im2latex there's [visual attention](https://arxiv.org/abs/1502.03044)_"
   ]
  },
  {
   "cell_type": "code",
   "execution_count": 48,
   "metadata": {
    "execution": {
     "iopub.execute_input": "2024-10-17T13:34:36.136284Z",
     "iopub.status.busy": "2024-10-17T13:34:36.135194Z",
     "iopub.status.idle": "2024-10-17T13:34:36.206116Z",
     "shell.execute_reply": "2024-10-17T13:34:36.205309Z",
     "shell.execute_reply.started": "2024-10-17T13:34:36.136241Z"
    },
    "id": "QkKv0U6Ayrif",
    "tags": []
   },
   "outputs": [],
   "source": [
    "def compute_mask(input_ix, eos_ix=1):\n",
    "    \"\"\" compute a boolean mask that equals \"1\" until first EOS (including that EOS) \"\"\"\n",
    "    return F.pad(torch.cumsum(input_ix == eos_ix, dim=-1)[..., :-1] < 1, pad=(1, 0, 0, 0), value=True)"
   ]
  },
  {
   "cell_type": "code",
   "execution_count": 49,
   "metadata": {
    "execution": {
     "iopub.execute_input": "2024-10-17T13:34:36.511046Z",
     "iopub.status.busy": "2024-10-17T13:34:36.510141Z",
     "iopub.status.idle": "2024-10-17T13:34:36.568071Z",
     "shell.execute_reply": "2024-10-17T13:34:36.567182Z",
     "shell.execute_reply.started": "2024-10-17T13:34:36.511002Z"
    },
    "id": "NCKPB5JmcE6j",
    "tags": []
   },
   "outputs": [],
   "source": [
    "class AttentiveModel(BasicModel):\n",
    "    def __init__(self, name, inp_voc, out_voc,\n",
    "                 emb_size=64, hid_size=128, attn_size=128):\n",
    "        \"\"\" Translation model that uses attention. See instructions above. \"\"\"\n",
    "        nn.Module.__init__(self)  # initialize base class to track sub-layers, trainable variables, etc.\n",
    "        self.inp_voc, self.out_voc = inp_voc, out_voc\n",
    "        self.hid_size = hid_size\n",
    "\n",
    "        #<YOUR CODE: initialize layers>\n",
    "        self.attention = AttentionLayer(name, hid_size, hid_size, attn_size).to(device)\n",
    "\n",
    "        self.fc_prev_state_and_tokens = nn.Linear(emb_size + hid_size, hid_size)\n",
    "\n",
    "        self.fc_prev_tokens_and_attn = nn.Linear(emb_size + hid_size, emb_size)\n",
    "\n",
    "        self.emb_inp = nn.Embedding(len(inp_voc), emb_size)\n",
    "        self.emb_out = nn.Embedding(len(out_voc), emb_size)\n",
    "        self.enc0 = nn.GRU(emb_size, hid_size, batch_first=True)\n",
    "\n",
    "        self.dec_start = nn.Linear(hid_size, hid_size)\n",
    "        self.dec0 = nn.GRUCell(emb_size, hid_size)\n",
    "        self.logits = nn.Linear(hid_size, len(out_voc))\n",
    "\n",
    "    def encode(self, inp, **flags):\n",
    "        \"\"\"\n",
    "        Takes symbolic input sequence, computes initial state\n",
    "        :param inp: matrix of input tokens [batch, time]\n",
    "        :return: a list of initial decoder state tensors\n",
    "        \"\"\"\n",
    "\n",
    "        # encode input sequence, create initial decoder states\n",
    "        inp_emb = self.emb_inp(inp)\n",
    "        batch_size = inp.shape[0]\n",
    "\n",
    "        enc_seq, [last_state_but_not_really] = self.enc0(inp_emb)\n",
    "        # enc_seq: [batch, time, hid_size], last_state: [batch, hid_size]\n",
    "\n",
    "        # note: last_state is not _actually_ last because of padding, let's find the real last_state\n",
    "        lengths = (inp != self.inp_voc.eos_ix).to(torch.int64).sum(dim=1).clamp_max(inp.shape[1] - 1)\n",
    "        last_state = enc_seq[torch.arange(len(enc_seq)), lengths]\n",
    "        # ^-- shape: [batch_size, hid_size]\n",
    "\n",
    "        dec_start = self.dec_start(last_state)\n",
    "\n",
    "        # apply attention layer from initial decoder hidden state\n",
    "        inp_mask = compute_mask(inp, self.out_voc.eos_ix)\n",
    "        first_attn, first_attn_probas = self.attention(enc_seq, dec_start, inp_mask)\n",
    "\n",
    "        # Build first state: include\n",
    "        # * initial states for decoder recurrent layers\n",
    "        # * encoder sequence and encoder attn mask (for attention)\n",
    "        # * make sure that last state item is attention probabilities tensor\n",
    "\n",
    "        first_state = [dec_start, enc_seq, inp_mask, first_attn_probas]\n",
    "        return first_state\n",
    "\n",
    "    def decode_step(self, prev_state, prev_tokens, **flags):\n",
    "        \"\"\"\n",
    "        Takes previous decoder state and tokens, returns new state and logits for next tokens\n",
    "        :param prev_state: a list of previous decoder state tensors\n",
    "        :param prev_tokens: previous output tokens, an int vector of [batch_size]\n",
    "        :return: a list of next decoder state tensors, a tensor of logits [batch, n_tokens]\n",
    "        \"\"\"\n",
    "\n",
    "        prev_gru0_state = prev_state[0]\n",
    "        enc_seq = prev_state[1]\n",
    "        inp_mask = prev_state[2]\n",
    "\n",
    "        prev_tokens_emb = self.emb_out(prev_tokens)\n",
    "        prev_state_and_tokens = self.fc_prev_state_and_tokens(torch.cat([prev_gru0_state, prev_tokens_emb], dim=1))\n",
    "        dec_attn, dec_attn_probas = self.attention(enc_seq, prev_state_and_tokens, inp_mask)\n",
    "\n",
    "        prev_tokens_and_attn = self.fc_prev_tokens_and_attn(torch.cat([prev_tokens_emb, dec_attn], dim=1))\n",
    "        new_dec_state = self.dec0(prev_tokens_and_attn, prev_gru0_state)\n",
    "        output_logits = self.logits(new_dec_state)\n",
    "\n",
    "        return [new_dec_state, enc_seq, inp_mask, dec_attn_probas], output_logits\n"
   ]
  },
  {
   "cell_type": "code",
   "execution_count": 50,
   "metadata": {
    "execution": {
     "iopub.execute_input": "2024-10-17T13:34:38.079321Z",
     "iopub.status.busy": "2024-10-17T13:34:38.078240Z",
     "iopub.status.idle": "2024-10-17T13:34:38.139649Z",
     "shell.execute_reply": "2024-10-17T13:34:38.138784Z",
     "shell.execute_reply.started": "2024-10-17T13:34:38.079280Z"
    },
    "tags": []
   },
   "outputs": [
    {
     "data": {
      "text/plain": [
       "tensor(7.5169, device='cuda:0', grad_fn=<DivBackward0>)"
      ]
     },
     "execution_count": 50,
     "metadata": {},
     "output_type": "execute_result"
    }
   ],
   "source": [
    "model = AttentiveModel('lol', inp_voc, out_voc).to(device)\n",
    "dummy_loss = compute_loss(model, dummy_inp_tokens, dummy_out_tokens)\n",
    "dummy_loss"
   ]
  },
  {
   "cell_type": "markdown",
   "metadata": {
    "id": "ryZCOTEslrtf"
   },
   "source": [
    "### Training attentive model\n",
    "\n",
    "Please reuse the infrastructure you've built for the regular model. I hope you didn't hard-code anything :)"
   ]
  },
  {
   "cell_type": "code",
   "execution_count": 29,
   "metadata": {
    "execution": {
     "iopub.execute_input": "2024-10-17T12:23:23.505969Z",
     "iopub.status.busy": "2024-10-17T12:23:23.504893Z",
     "iopub.status.idle": "2024-10-17T12:23:23.548762Z",
     "shell.execute_reply": "2024-10-17T12:23:23.547938Z",
     "shell.execute_reply.started": "2024-10-17T12:23:23.505925Z"
    },
    "id": "-YMHPgZxcFaQ",
    "tags": []
   },
   "outputs": [],
   "source": [
    "from IPython.display import clear_output\n",
    "from tqdm import tqdm, trange\n",
    "metrics = {'train_loss': [], 'dev_bleu': [] }\n",
    "\n",
    "device = 'cuda' if torch.cuda.is_available() else 'cpu'\n",
    "model = AttentiveModel('lol', inp_voc, out_voc).to(device)\n",
    "opt = torch.optim.Adam(model.parameters(), lr=1e-3)\n",
    "batch_size = 32"
   ]
  },
  {
   "cell_type": "code",
   "execution_count": 30,
   "metadata": {
    "colab": {
     "base_uri": "https://localhost:8080/"
    },
    "execution": {
     "iopub.execute_input": "2024-10-17T12:23:24.535689Z",
     "iopub.status.busy": "2024-10-17T12:23:24.534689Z",
     "iopub.status.idle": "2024-10-17T13:01:36.162938Z",
     "shell.execute_reply": "2024-10-17T13:01:36.162092Z",
     "shell.execute_reply.started": "2024-10-17T12:23:24.535640Z"
    },
    "id": "HVuqTmx8FFQ9",
    "outputId": "77a52bbd-dae7-42f5-d0ab-da5501e07276",
    "tags": []
   },
   "outputs": [
    {
     "data": {
      "image/png": "[encoded data removed]",
      "text/plain": [
       "<Figure size 1200x400 with 2 Axes>"
      ]
     },
     "metadata": {},
     "output_type": "display_data"
    },
    {
     "name": "stdout",
     "output_type": "stream",
     "text": [
      "Mean loss=1.741\n"
     ]
    },
    {
     "name": "stderr",
     "output_type": "stream",
     "text": [
      "100%|██████████| 25000/25000 [38:11<00:00, 10.91it/s]\n"
     ]
    }
   ],
   "source": [
    "for _ in trange(25000):\n",
    "    step = len(metrics['train_loss']) + 1\n",
    "    batch_ix = np.random.randint(len(train_inp), size=batch_size)\n",
    "    batch_inp = inp_voc.to_matrix(train_inp[batch_ix]).to(device)\n",
    "    batch_out = out_voc.to_matrix(train_out[batch_ix]).to(device)\n",
    "\n",
    "    #<YOUR CODE: training step using batch_inp and batch_out>\n",
    "    loss_t = compute_loss(model, batch_inp, batch_out)\n",
    "\n",
    "    opt.zero_grad()\n",
    "    loss_t.backward()\n",
    "    opt.step()\n",
    "\n",
    "    metrics['train_loss'].append((step, loss_t.item()))\n",
    "\n",
    "    if step % 100 == 0:\n",
    "        metrics['dev_bleu'].append((step, compute_bleu(model, dev_inp, dev_out)))\n",
    "\n",
    "        clear_output(True)\n",
    "        plt.figure(figsize=(12,4))\n",
    "        for i, (name, history) in enumerate(sorted(metrics.items())):\n",
    "            plt.subplot(1, len(metrics), i + 1)\n",
    "            plt.title(name)\n",
    "            plt.plot(*zip(*history))\n",
    "            plt.grid()\n",
    "        plt.show()\n",
    "        print(\"Mean loss=%.3f\" % np.mean(metrics['train_loss'][-10:], axis=0)[1], flush=True)\n",
    "\n",
    "# Note: it's okay if bleu oscillates up and down as long as it gets better on average over long term (e.g. 5k batches)"
   ]
  },
  {
   "cell_type": "code",
   "execution_count": 31,
   "metadata": {
    "execution": {
     "iopub.execute_input": "2024-10-17T13:01:40.328800Z",
     "iopub.status.busy": "2024-10-17T13:01:40.327833Z",
     "iopub.status.idle": "2024-10-17T13:01:42.144090Z",
     "shell.execute_reply": "2024-10-17T13:01:42.143309Z",
     "shell.execute_reply.started": "2024-10-17T13:01:40.328757Z"
    },
    "id": "fJE7SrtbFFQ9",
    "tags": []
   },
   "outputs": [
    {
     "data": {
      "text/plain": [
       "19.489930680386394"
      ]
     },
     "execution_count": 31,
     "metadata": {},
     "output_type": "execute_result"
    }
   ],
   "source": [
    "compute_bleu(model, dev_inp, dev_out)"
   ]
  },
  {
   "cell_type": "markdown",
   "metadata": {
    "id": "dNTQVb48FFQ-",
    "tags": []
   },
   "source": [
    "### Visualizing model attention (2 points)\n",
    "\n",
    "After training the attentive translation model, you can check it's sanity by visualizing its attention weights.\n",
    "\n",
    "We provided you with a function that draws attention maps using [`Bokeh`](https://bokeh.pydata.org/en/latest/index.html). Once you managed to produce something better than random noise, please save at least 3 attention maps and __submit them to anytask__ alongside this notebook to get the max grade. Saving bokeh figures as __cell outputs is not enough!__ (TAs can't see saved bokeh figures in anytask). You can save bokeh images as screenshots or using this button:\n",
    "\n",
    "![bokeh_panel](https://github.com/yandexdataschool/nlp_course/raw/2019/resources/bokeh_panel.png)\n",
    "\n",
    "__Note:__ you're not locked into using bokeh. If you prefer a different visualization method, feel free to use that instead of bokeh."
   ]
  },
  {
   "cell_type": "code",
   "execution_count": 32,
   "metadata": {
    "execution": {
     "iopub.execute_input": "2024-10-17T13:01:53.058572Z",
     "iopub.status.busy": "2024-10-17T13:01:53.057729Z",
     "iopub.status.idle": "2024-10-17T13:01:54.105268Z",
     "shell.execute_reply": "2024-10-17T13:01:54.104422Z",
     "shell.execute_reply.started": "2024-10-17T13:01:53.058528Z"
    },
    "id": "LoF2u9MeFFQ-",
    "tags": []
   },
   "outputs": [
    {
     "data": {
      "text/html": [
       "<style>\n",
       "        .bk-notebook-logo {\n",
       "            display: block;\n",
       "            width: 20px;\n",
       "            height: 20px;\n",
       "            background-image: url(data:image/png;base64,iVBORw0KGgoAAAANSUhEUgAAABQAAAAUCAYAAACNiR0NAAAABHNCSVQICAgIfAhkiAAAAAlwSFlzAAALEgAACxIB0t1+/AAAABx0RVh0U29mdHdhcmUAQWRvYmUgRmlyZXdvcmtzIENTNui8sowAAAOkSURBVDiNjZRtaJVlGMd/1/08zzln5zjP1LWcU9N0NkN8m2CYjpgQYQXqSs0I84OLIC0hkEKoPtiH3gmKoiJDU7QpLgoLjLIQCpEsNJ1vqUOdO7ppbuec5+V+rj4ctwzd8IIbbi6u+8f1539dt3A78eXC7QizUF7gyV1fD1Yqg4JWz84yffhm0qkFqBogB9rM8tZdtwVsPUhWhGcFJngGeWrPzHm5oaMmkfEg1usvLFyc8jLRqDOMru7AyC8saQr7GG7f5fvDeH7Ej8CM66nIF+8yngt6HWaKh7k49Soy9nXurCi1o3qUbS3zWfrYeQDTB/Qj6kX6Ybhw4B+bOYoLKCC9H3Nu/leUTZ1JdRWkkn2ldcCamzrcf47KKXdAJllSlxAOkRgyHsGC/zRday5Qld9DyoM4/q/rUoy/CXh3jzOu3bHUVZeU+DEn8FInkPBFlu3+nW3Nw0mk6vCDiWg8CeJaxEwuHS3+z5RgY+YBR6V1Z1nxSOfoaPa4LASWxxdNp+VWTk7+4vzaou8v8PN+xo+KY2xsw6une2frhw05CTYOmQvsEhjhWjn0bmXPjpE1+kplmmkP3suftwTubK9Vq22qKmrBhpY4jvd5afdRA3wGjFAgcnTK2s4hY0/GPNIb0nErGMCRxWOOX64Z8RAC4oCXdklmEvcL8o0BfkNK4lUg9HTl+oPlQxdNo3Mg4Nv175e/1LDGzZen30MEjRUtmXSfiTVu1kK8W4txyV6BMKlbgk3lMwYCiusNy9fVfvvwMxv8Ynl6vxoByANLTWplvuj/nF9m2+PDtt1eiHPBr1oIfhCChQMBw6Aw0UulqTKZdfVvfG7VcfIqLG9bcldL/+pdWTLxLUy8Qq38heUIjh4XlzZxzQm19lLFlr8vdQ97rjZVOLf8nclzckbcD4wxXMidpX30sFd37Fv/GtwwhzhxGVAprjbg0gCAEeIgwCZyTV2Z1REEW8O4py0wsjeloKoMr6iCY6dP92H6Vw/oTyICIthibxjm/DfN9lVz8IqtqKYLUXfoKVMVQVVJOElGjrnnUt9T9wbgp8AyYKaGlqingHZU/uG2NTZSVqwHQTWkx9hxjkpWDaCg6Ckj5qebgBVbT3V3NNXMSiWSDdGV3hrtzla7J+duwPOToIg42ChPQOQjspnSlp1V+Gjdged7+8UN5CRAV7a5EdFNwCjEaBR27b3W890TE7g24NAP/mMDXRWrGoFPQI9ls/MWO2dWFAar/xcOIImbbpA3zgAAAABJRU5ErkJggg==);\n",
       "        }\n",
       "    </style>\n",
       "    <div>\n",
       "        <a href=\"https://bokeh.org\" target=\"_blank\" class=\"bk-notebook-logo\"></a>\n",
       "        <span id=\"d8ead024-91eb-4310-b0f0-a294cd2887bc\">Loading BokehJS ...</span>\n",
       "    </div>\n"
      ]
     },
     "metadata": {},
     "output_type": "display_data"
    },
    {
     "data": {
      "application/javascript": [
       "(function(root) {\n",
       "  function now() {\n",
       "    return new Date();\n",
       "  }\n",
       "\n",
       "  const force = true;\n",
       "\n",
       "  if (typeof root._bokeh_onload_callbacks === \"undefined\" || force === true) {\n",
       "    root._bokeh_onload_callbacks = [];\n",
       "    root._bokeh_is_loading = undefined;\n",
       "  }\n",
       "\n",
       "const JS_MIME_TYPE = 'application/javascript';\n",
       "  const HTML_MIME_TYPE = 'text/html';\n",
       "  const EXEC_MIME_TYPE = 'application/vnd.bokehjs_exec.v0+json';\n",
       "  const CLASS_NAME = 'output_bokeh rendered_html';\n",
       "\n",
       "  /**\n",
       "   * Render data to the DOM node\n",
       "   */\n",
       "  function render(props, node) {\n",
       "    const script = document.createElement(\"script\");\n",
       "    node.appendChild(script);\n",
       "  }\n",
       "\n",
       "  /**\n",
       "   * Handle when an output is cleared or removed\n",
       "   */\n",
       "  function handleClearOutput(event, handle) {\n",
       "    const cell = handle.cell;\n",
       "\n",
       "    const id = cell.output_area._bokeh_element_id;\n",
       "    const server_id = cell.output_area._bokeh_server_id;\n",
       "    // Clean up Bokeh references\n",
       "    if (id != null && id in Bokeh.index) {\n",
       "      Bokeh.index[id].model.document.clear();\n",
       "      delete Bokeh.index[id];\n",
       "    }\n",
       "\n",
       "    if (server_id !== undefined) {\n",
       "      // Clean up Bokeh references\n",
       "      const cmd_clean = \"from bokeh.io.state import curstate; print(curstate().uuid_to_server['\" + server_id + \"'].get_sessions()[0].document.roots[0]._id)\";\n",
       "      cell.notebook.kernel.execute(cmd_clean, {\n",
       "        iopub: {\n",
       "          output: function(msg) {\n",
       "            const id = msg.content.text.trim();\n",
       "            if (id in Bokeh.index) {\n",
       "              Bokeh.index[id].model.document.clear();\n",
       "              delete Bokeh.index[id];\n",
       "            }\n",
       "          }\n",
       "        }\n",
       "      });\n",
       "      // Destroy server and session\n",
       "      const cmd_destroy = \"import bokeh.io.notebook as ion; ion.destroy_server('\" + server_id + \"')\";\n",
       "      cell.notebook.kernel.execute(cmd_destroy);\n",
       "    }\n",
       "  }\n",
       "\n",
       "  /**\n",
       "   * Handle when a new output is added\n",
       "   */\n",
       "  function handleAddOutput(event, handle) {\n",
       "    const output_area = handle.output_area;\n",
       "    const output = handle.output;\n",
       "\n",
       "    // limit handleAddOutput to display_data with EXEC_MIME_TYPE content only\n",
       "    if ((output.output_type != \"display_data\") || (!Object.prototype.hasOwnProperty.call(output.data, EXEC_MIME_TYPE))) {\n",
       "      return\n",
       "    }\n",
       "\n",
       "    const toinsert = output_area.element.find(\".\" + CLASS_NAME.split(' ')[0]);\n",
       "\n",
       "    if (output.metadata[EXEC_MIME_TYPE][\"id\"] !== undefined) {\n",
       "      toinsert[toinsert.length - 1].firstChild.textContent = output.data[JS_MIME_TYPE];\n",
       "      // store reference to embed id on output_area\n",
       "      output_area._bokeh_element_id = output.metadata[EXEC_MIME_TYPE][\"id\"];\n",
       "    }\n",
       "    if (output.metadata[EXEC_MIME_TYPE][\"server_id\"] !== undefined) {\n",
       "      const bk_div = document.createElement(\"div\");\n",
       "      bk_div.innerHTML = output.data[HTML_MIME_TYPE];\n",
       "      const script_attrs = bk_div.children[0].attributes;\n",
       "      for (let i = 0; i < script_attrs.length; i++) {\n",
       "        toinsert[toinsert.length - 1].firstChild.setAttribute(script_attrs[i].name, script_attrs[i].value);\n",
       "        toinsert[toinsert.length - 1].firstChild.textContent = bk_div.children[0].textContent\n",
       "      }\n",
       "      // store reference to server id on output_area\n",
       "      output_area._bokeh_server_id = output.metadata[EXEC_MIME_TYPE][\"server_id\"];\n",
       "    }\n",
       "  }\n",
       "\n",
       "  function register_renderer(events, OutputArea) {\n",
       "\n",
       "    function append_mime(data, metadata, element) {\n",
       "      // create a DOM node to render to\n",
       "      const toinsert = this.create_output_subarea(\n",
       "        metadata,\n",
       "        CLASS_NAME,\n",
       "        EXEC_MIME_TYPE\n",
       "      );\n",
       "      this.keyboard_manager.register_events(toinsert);\n",
       "      // Render to node\n",
       "      const props = {data: data, metadata: metadata[EXEC_MIME_TYPE]};\n",
       "      render(props, toinsert[toinsert.length - 1]);\n",
       "      element.append(toinsert);\n",
       "      return toinsert\n",
       "    }\n",
       "\n",
       "    /* Handle when an output is cleared or removed */\n",
       "    events.on('clear_output.CodeCell', handleClearOutput);\n",
       "    events.on('delete.Cell', handleClearOutput);\n",
       "\n",
       "    /* Handle when a new output is added */\n",
       "    events.on('output_added.OutputArea', handleAddOutput);\n",
       "\n",
       "    /**\n",
       "     * Register the mime type and append_mime function with output_area\n",
       "     */\n",
       "    OutputArea.prototype.register_mime_type(EXEC_MIME_TYPE, append_mime, {\n",
       "      /* Is output safe? */\n",
       "      safe: true,\n",
       "      /* Index of renderer in `output_area.display_order` */\n",
       "      index: 0\n",
       "    });\n",
       "  }\n",
       "\n",
       "  // register the mime type if in Jupyter Notebook environment and previously unregistered\n",
       "  if (root.Jupyter !== undefined) {\n",
       "    const events = require('base/js/events');\n",
       "    const OutputArea = require('notebook/js/outputarea').OutputArea;\n",
       "\n",
       "    if (OutputArea.prototype.mime_types().indexOf(EXEC_MIME_TYPE) == -1) {\n",
       "      register_renderer(events, OutputArea);\n",
       "    }\n",
       "  }\n",
       "  if (typeof (root._bokeh_timeout) === \"undefined\" || force === true) {\n",
       "    root._bokeh_timeout = Date.now() + 5000;\n",
       "    root._bokeh_failed_load = false;\n",
       "  }\n",
       "\n",
       "  const NB_LOAD_WARNING = {'data': {'text/html':\n",
       "     \"<div style='background-color: #fdd'>\\n\"+\n",
       "     \"<p>\\n\"+\n",
       "     \"BokehJS does not appear to have successfully loaded. If loading BokehJS from CDN, this \\n\"+\n",
       "     \"may be due to a slow or bad network connection. Possible fixes:\\n\"+\n",
       "     \"</p>\\n\"+\n",
       "     \"<ul>\\n\"+\n",
       "     \"<li>re-rerun `output_notebook()` to attempt to load from CDN again, or</li>\\n\"+\n",
       "     \"<li>use INLINE resources instead, as so:</li>\\n\"+\n",
       "     \"</ul>\\n\"+\n",
       "     \"<code>\\n\"+\n",
       "     \"from bokeh.resources import INLINE\\n\"+\n",
       "     \"output_notebook(resources=INLINE)\\n\"+\n",
       "     \"</code>\\n\"+\n",
       "     \"</div>\"}};\n",
       "\n",
       "  function display_loaded() {\n",
       "    const el = document.getElementById(\"d8ead024-91eb-4310-b0f0-a294cd2887bc\");\n",
       "    if (el != null) {\n",
       "      el.textContent = \"BokehJS is loading...\";\n",
       "    }\n",
       "    if (root.Bokeh !== undefined) {\n",
       "      if (el != null) {\n",
       "        el.textContent = \"BokehJS \" + root.Bokeh.version + \" successfully loaded.\";\n",
       "      }\n",
       "    } else if (Date.now() < root._bokeh_timeout) {\n",
       "      setTimeout(display_loaded, 100)\n",
       "    }\n",
       "  }\n",
       "\n",
       "  function run_callbacks() {\n",
       "    try {\n",
       "      root._bokeh_onload_callbacks.forEach(function(callback) {\n",
       "        if (callback != null)\n",
       "          callback();\n",
       "      });\n",
       "    } finally {\n",
       "      delete root._bokeh_onload_callbacks\n",
       "    }\n",
       "    console.debug(\"Bokeh: all callbacks have finished\");\n",
       "  }\n",
       "\n",
       "  function load_libs(css_urls, js_urls, callback) {\n",
       "    if (css_urls == null) css_urls = [];\n",
       "    if (js_urls == null) js_urls = [];\n",
       "\n",
       "    root._bokeh_onload_callbacks.push(callback);\n",
       "    if (root._bokeh_is_loading > 0) {\n",
       "      console.debug(\"Bokeh: BokehJS is being loaded, scheduling callback at\", now());\n",
       "      return null;\n",
       "    }\n",
       "    if (js_urls == null || js_urls.length === 0) {\n",
       "      run_callbacks();\n",
       "      return null;\n",
       "    }\n",
       "    console.debug(\"Bokeh: BokehJS not loaded, scheduling load and callback at\", now());\n",
       "    root._bokeh_is_loading = css_urls.length + js_urls.length;\n",
       "\n",
       "    function on_load() {\n",
       "      root._bokeh_is_loading--;\n",
       "      if (root._bokeh_is_loading === 0) {\n",
       "        console.debug(\"Bokeh: all BokehJS libraries/stylesheets loaded\");\n",
       "        run_callbacks()\n",
       "      }\n",
       "    }\n",
       "\n",
       "    function on_error(url) {\n",
       "      console.error(\"failed to load \" + url);\n",
       "    }\n",
       "\n",
       "    for (let i = 0; i < css_urls.length; i++) {\n",
       "      const url = css_urls[i];\n",
       "      const element = document.createElement(\"link\");\n",
       "      element.onload = on_load;\n",
       "      element.onerror = on_error.bind(null, url);\n",
       "      element.rel = \"stylesheet\";\n",
       "      element.type = \"text/css\";\n",
       "      element.href = url;\n",
       "      console.debug(\"Bokeh: injecting link tag for BokehJS stylesheet: \", url);\n",
       "      document.body.appendChild(element);\n",
       "    }\n",
       "\n",
       "    for (let i = 0; i < js_urls.length; i++) {\n",
       "      const url = js_urls[i];\n",
       "      const element = document.createElement('script');\n",
       "      element.onload = on_load;\n",
       "      element.onerror = on_error.bind(null, url);\n",
       "      element.async = false;\n",
       "      element.src = url;\n",
       "      console.debug(\"Bokeh: injecting script tag for BokehJS library: \", url);\n",
       "      document.head.appendChild(element);\n",
       "    }\n",
       "  };\n",
       "\n",
       "  function inject_raw_css(css) {\n",
       "    const element = document.createElement(\"style\");\n",
       "    element.appendChild(document.createTextNode(css));\n",
       "    document.body.appendChild(element);\n",
       "  }\n",
       "\n",
       "  const js_urls = [\"https://cdn.bokeh.org/bokeh/release/bokeh-3.1.1.min.js\", \"https://cdn.bokeh.org/bokeh/release/bokeh-gl-3.1.1.min.js\", \"https://cdn.bokeh.org/bokeh/release/bokeh-widgets-3.1.1.min.js\", \"https://cdn.bokeh.org/bokeh/release/bokeh-tables-3.1.1.min.js\", \"https://cdn.bokeh.org/bokeh/release/bokeh-mathjax-3.1.1.min.js\"];\n",
       "  const css_urls = [];\n",
       "\n",
       "  const inline_js = [    function(Bokeh) {\n",
       "      Bokeh.set_log_level(\"info\");\n",
       "    },\n",
       "function(Bokeh) {\n",
       "    }\n",
       "  ];\n",
       "\n",
       "  function run_inline_js() {\n",
       "    if (root.Bokeh !== undefined || force === true) {\n",
       "          for (let i = 0; i < inline_js.length; i++) {\n",
       "      inline_js[i].call(root, root.Bokeh);\n",
       "    }\n",
       "if (force === true) {\n",
       "        display_loaded();\n",
       "      }} else if (Date.now() < root._bokeh_timeout) {\n",
       "      setTimeout(run_inline_js, 100);\n",
       "    } else if (!root._bokeh_failed_load) {\n",
       "      console.log(\"Bokeh: BokehJS failed to load within specified timeout.\");\n",
       "      root._bokeh_failed_load = true;\n",
       "    } else if (force !== true) {\n",
       "      const cell = $(document.getElementById(\"d8ead024-91eb-4310-b0f0-a294cd2887bc\")).parents('.cell').data().cell;\n",
       "      cell.output_area.append_execute_result(NB_LOAD_WARNING)\n",
       "    }\n",
       "  }\n",
       "\n",
       "  if (root._bokeh_is_loading === 0) {\n",
       "    console.debug(\"Bokeh: BokehJS loaded, going straight to plotting\");\n",
       "    run_inline_js();\n",
       "  } else {\n",
       "    load_libs(css_urls, js_urls, function() {\n",
       "      console.debug(\"Bokeh: BokehJS plotting callback run at\", now());\n",
       "      run_inline_js();\n",
       "    });\n",
       "  }\n",
       "}(window));"
      ],
      "application/vnd.bokehjs_load.v0+json": "(function(root) {\n  function now() {\n    return new Date();\n  }\n\n  const force = true;\n\n  if (typeof root._bokeh_onload_callbacks === \"undefined\" || force === true) {\n    root._bokeh_onload_callbacks = [];\n    root._bokeh_is_loading = undefined;\n  }\n\n\n  if (typeof (root._bokeh_timeout) === \"undefined\" || force === true) {\n    root._bokeh_timeout = Date.now() + 5000;\n    root._bokeh_failed_load = false;\n  }\n\n  const NB_LOAD_WARNING = {'data': {'text/html':\n     \"<div style='background-color: #fdd'>\\n\"+\n     \"<p>\\n\"+\n     \"BokehJS does not appear to have successfully loaded. If loading BokehJS from CDN, this \\n\"+\n     \"may be due to a slow or bad network connection. Possible fixes:\\n\"+\n     \"</p>\\n\"+\n     \"<ul>\\n\"+\n     \"<li>re-rerun `output_notebook()` to attempt to load from CDN again, or</li>\\n\"+\n     \"<li>use INLINE resources instead, as so:</li>\\n\"+\n     \"</ul>\\n\"+\n     \"<code>\\n\"+\n     \"from bokeh.resources import INLINE\\n\"+\n     \"output_notebook(resources=INLINE)\\n\"+\n     \"</code>\\n\"+\n     \"</div>\"}};\n\n  function display_loaded() {\n    const el = document.getElementById(\"d8ead024-91eb-4310-b0f0-a294cd2887bc\");\n    if (el != null) {\n      el.textContent = \"BokehJS is loading...\";\n    }\n    if (root.Bokeh !== undefined) {\n      if (el != null) {\n        el.textContent = \"BokehJS \" + root.Bokeh.version + \" successfully loaded.\";\n      }\n    } else if (Date.now() < root._bokeh_timeout) {\n      setTimeout(display_loaded, 100)\n    }\n  }\n\n  function run_callbacks() {\n    try {\n      root._bokeh_onload_callbacks.forEach(function(callback) {\n        if (callback != null)\n          callback();\n      });\n    } finally {\n      delete root._bokeh_onload_callbacks\n    }\n    console.debug(\"Bokeh: all callbacks have finished\");\n  }\n\n  function load_libs(css_urls, js_urls, callback) {\n    if (css_urls == null) css_urls = [];\n    if (js_urls == null) js_urls = [];\n\n    root._bokeh_onload_callbacks.push(callback);\n    if (root._bokeh_is_loading > 0) {\n      console.debug(\"Bokeh: BokehJS is being loaded, scheduling callback at\", now());\n      return null;\n    }\n    if (js_urls == null || js_urls.length === 0) {\n      run_callbacks();\n      return null;\n    }\n    console.debug(\"Bokeh: BokehJS not loaded, scheduling load and callback at\", now());\n    root._bokeh_is_loading = css_urls.length + js_urls.length;\n\n    function on_load() {\n      root._bokeh_is_loading--;\n      if (root._bokeh_is_loading === 0) {\n        console.debug(\"Bokeh: all BokehJS libraries/stylesheets loaded\");\n        run_callbacks()\n      }\n    }\n\n    function on_error(url) {\n      console.error(\"failed to load \" + url);\n    }\n\n    for (let i = 0; i < css_urls.length; i++) {\n      const url = css_urls[i];\n      const element = document.createElement(\"link\");\n      element.onload = on_load;\n      element.onerror = on_error.bind(null, url);\n      element.rel = \"stylesheet\";\n      element.type = \"text/css\";\n      element.href = url;\n      console.debug(\"Bokeh: injecting link tag for BokehJS stylesheet: \", url);\n      document.body.appendChild(element);\n    }\n\n    for (let i = 0; i < js_urls.length; i++) {\n      const url = js_urls[i];\n      const element = document.createElement('script');\n      element.onload = on_load;\n      element.onerror = on_error.bind(null, url);\n      element.async = false;\n      element.src = url;\n      console.debug(\"Bokeh: injecting script tag for BokehJS library: \", url);\n      document.head.appendChild(element);\n    }\n  };\n\n  function inject_raw_css(css) {\n    const element = document.createElement(\"style\");\n    element.appendChild(document.createTextNode(css));\n    document.body.appendChild(element);\n  }\n\n  const js_urls = [\"https://cdn.bokeh.org/bokeh/release/bokeh-3.1.1.min.js\", \"https://cdn.bokeh.org/bokeh/release/bokeh-gl-3.1.1.min.js\", \"https://cdn.bokeh.org/bokeh/release/bokeh-widgets-3.1.1.min.js\", \"https://cdn.bokeh.org/bokeh/release/bokeh-tables-3.1.1.min.js\", \"https://cdn.bokeh.org/bokeh/release/bokeh-mathjax-3.1.1.min.js\"];\n  const css_urls = [];\n\n  const inline_js = [    function(Bokeh) {\n      Bokeh.set_log_level(\"info\");\n    },\nfunction(Bokeh) {\n    }\n  ];\n\n  function run_inline_js() {\n    if (root.Bokeh !== undefined || force === true) {\n          for (let i = 0; i < inline_js.length; i++) {\n      inline_js[i].call(root, root.Bokeh);\n    }\nif (force === true) {\n        display_loaded();\n      }} else if (Date.now() < root._bokeh_timeout) {\n      setTimeout(run_inline_js, 100);\n    } else if (!root._bokeh_failed_load) {\n      console.log(\"Bokeh: BokehJS failed to load within specified timeout.\");\n      root._bokeh_failed_load = true;\n    } else if (force !== true) {\n      const cell = $(document.getElementById(\"d8ead024-91eb-4310-b0f0-a294cd2887bc\")).parents('.cell').data().cell;\n      cell.output_area.append_execute_result(NB_LOAD_WARNING)\n    }\n  }\n\n  if (root._bokeh_is_loading === 0) {\n    console.debug(\"Bokeh: BokehJS loaded, going straight to plotting\");\n    run_inline_js();\n  } else {\n    load_libs(css_urls, js_urls, function() {\n      console.debug(\"Bokeh: BokehJS plotting callback run at\", now());\n      run_inline_js();\n    });\n  }\n}(window));"
     },
     "metadata": {},
     "output_type": "display_data"
    }
   ],
   "source": [
    "import bokeh.plotting as pl\n",
    "import bokeh.models as bm\n",
    "from bokeh.io import output_notebook, show\n",
    "output_notebook()\n",
    "\n",
    "def draw_attention(inp_line, translation, probs):\n",
    "    \"\"\" An intentionally ambiguous function to visualize attention weights \"\"\"\n",
    "    inp_tokens = inp_voc.tokenize(inp_line)\n",
    "    trans_tokens = out_voc.tokenize(translation)\n",
    "    probs = probs[:len(trans_tokens), :len(inp_tokens)]\n",
    "\n",
    "    fig = pl.figure(x_range=(0, len(inp_tokens)), y_range=(0, len(trans_tokens)),\n",
    "                    x_axis_type=None, y_axis_type=None, tools=[])\n",
    "    fig.image([probs[::-1]], 0, 0, len(inp_tokens), len(trans_tokens))\n",
    "\n",
    "    fig.add_layout(bm.LinearAxis(axis_label='source tokens'), 'above')\n",
    "    fig.xaxis.ticker = np.arange(len(inp_tokens)) + 0.5\n",
    "    fig.xaxis.major_label_overrides = dict(zip(np.arange(len(inp_tokens)) + 0.5, inp_tokens))\n",
    "    fig.xaxis.major_label_orientation = 45\n",
    "\n",
    "    fig.add_layout(bm.LinearAxis(axis_label='translation tokens'), 'left')\n",
    "    fig.yaxis.ticker = np.arange(len(trans_tokens)) + 0.5\n",
    "    fig.yaxis.major_label_overrides = dict(zip(np.arange(len(trans_tokens)) + 0.5, trans_tokens[::-1]))\n",
    "\n",
    "    show(fig)"
   ]
  },
  {
   "cell_type": "code",
   "execution_count": 33,
   "metadata": {
    "execution": {
     "iopub.execute_input": "2024-10-17T13:01:54.230462Z",
     "iopub.status.busy": "2024-10-17T13:01:54.229262Z",
     "iopub.status.idle": "2024-10-17T13:01:54.312079Z",
     "shell.execute_reply": "2024-10-17T13:01:54.311146Z",
     "shell.execute_reply.started": "2024-10-17T13:01:54.230422Z"
    },
    "id": "yZCJ9M3GFFQ-",
    "tags": []
   },
   "outputs": [],
   "source": [
    "inp = dev_inp[::500]\n",
    "\n",
    "trans, states = model.translate_lines(inp)\n",
    "\n",
    "# select attention probs from model state (you may need to change this for your custom model)\n",
    "# attention_probs below must have shape [batch_size, translation_length, input_length], extracted from states\n",
    "# e.g. if attention probs are at the end of each state, use np.stack([state[-1] for state in states], axis=1)\n",
    "attention_probs = torch.stack([state[-1] for state in states], axis=1).cpu().detach().numpy()"
   ]
  },
  {
   "cell_type": "code",
   "execution_count": 34,
   "metadata": {
    "execution": {
     "iopub.execute_input": "2024-10-17T13:01:56.527297Z",
     "iopub.status.busy": "2024-10-17T13:01:56.526007Z",
     "iopub.status.idle": "2024-10-17T13:01:56.810365Z",
     "shell.execute_reply": "2024-10-17T13:01:56.809526Z",
     "shell.execute_reply.started": "2024-10-17T13:01:56.527240Z"
    },
    "id": "FVX9KfT7FFQ_",
    "tags": []
   },
   "outputs": [
    {
     "data": {
      "text/html": [
       "\n",
       "  <div id=\"b4f3478f-b2b2-4f9f-88ae-8a3df21dd520\" data-root-id=\"p1001\" style=\"display: contents;\"></div>\n"
      ]
     },
     "metadata": {},
     "output_type": "display_data"
    },
    {
     "data": {
      "application/javascript": [
       "(function(root) {\n",
       "  function embed_document(root) {\n",
       "  const docs_json = {\"f2ddb642-c135-4357-b4b5-2079480e83f1\":{\"version\":\"3.1.1\",\"title\":\"Bokeh Application\",\"defs\":[],\"roots\":[{\"type\":\"object\",\"name\":\"Figure\",\"id\":\"p1001\",\"attributes\":{\"x_range\":{\"type\":\"object\",\"name\":\"Range1d\",\"id\":\"p1010\",\"attributes\":{\"end\":11}},\"y_range\":{\"type\":\"object\",\"name\":\"Range1d\",\"id\":\"p1012\",\"attributes\":{\"end\":12}},\"x_scale\":{\"type\":\"object\",\"name\":\"LinearScale\",\"id\":\"p1014\"},\"y_scale\":{\"type\":\"object\",\"name\":\"LinearScale\",\"id\":\"p1016\"},\"title\":{\"type\":\"object\",\"name\":\"Title\",\"id\":\"p1007\"},\"renderers\":[{\"type\":\"object\",\"name\":\"GlyphRenderer\",\"id\":\"p1031\",\"attributes\":{\"data_source\":{\"type\":\"object\",\"name\":\"ColumnDataSource\",\"id\":\"p1019\",\"attributes\":{\"selected\":{\"type\":\"object\",\"name\":\"Selection\",\"id\":\"p1020\",\"attributes\":{\"indices\":[],\"line_indices\":[]}},\"selection_policy\":{\"type\":\"object\",\"name\":\"UnionRenderers\",\"id\":\"p1021\"},\"data\":{\"type\":\"map\",\"entries\":[[\"image\",[{\"type\":\"ndarray\",\"array\":{\"type\":\"bytes\",\"data\":\"lc0CPkgnrT11n3E9A+XoPI+Mmj0va8A9wQTFPQl3xj3N8cE9Iw32PSLC+z2GYB09FACSPMzeZTzploA7wGPiPNYo9jzQBxY99zUWPhs1Hz5cWp8+5VFfPkKcZT1B50w8P+hPPAhivTqIQ6c8Ue4EPWbbwD3vkBw+yhMbPs6HjT4mC0I+bEXYNo84jTb++v43o2SRNvRByjiOMo45uyZDO4aeZD2oO4M+KB8rPzZcgzzKk0c9c880PaV45DwnVfI7L0gFPSyOWj2eMrc9MrIUPiqn9j0CFXk+whtAPj5vsD08NB49Vf3bPDnZ2TxJTe48sx4fPfYyND4QeQQ+DsLyPWm/Nz60Iho+Lx3FPfFQWD3bslc9vHxUPZ0Fbz1p4I89vLsHPilL6z33uwQ+dGP6PVKh8j17uTU8iaO7OpAspzxXz+g78/goPqAzcT6tNOM+N4eCPMDnUz1eNQw86nMhPVn8yT03VLY9lRvBPcezyD1EvMg9Lo24PcRavD3mSrY9mBu5Pc8xoT2Jo6c9zFTYPXjLjT3A4Ic9VcODPbLImD3H5ag9c+4EPg9kDz7C5Ng9RPwiPUmF+T3fG8o9DyLKPaghyj3ioso98wTKPdUEyj0+Aco9ajXGPatLqj3pxfk8+f/JPeoBFDVcJtwwu1i3MI7jQS13M4s14oNoNtDRPjkEMWk7kQkKOeLQOjypFnw/\"},\"shape\":[12,11],\"dtype\":\"float32\",\"order\":\"little\"}]]]}}},\"view\":{\"type\":\"object\",\"name\":\"CDSView\",\"id\":\"p1032\",\"attributes\":{\"filter\":{\"type\":\"object\",\"name\":\"AllIndices\",\"id\":\"p1033\"}}},\"glyph\":{\"type\":\"object\",\"name\":\"Image\",\"id\":\"p1022\",\"attributes\":{\"x\":{\"type\":\"value\",\"value\":0},\"y\":{\"type\":\"value\",\"value\":0},\"dw\":{\"type\":\"value\",\"value\":11},\"dh\":{\"type\":\"value\",\"value\":12},\"image\":{\"type\":\"field\",\"field\":\"image\"},\"color_mapper\":{\"type\":\"object\",\"name\":\"LinearColorMapper\",\"id\":\"p1023\",\"attributes\":{\"palette\":[\"#000000\",\"#252525\",\"#525252\",\"#737373\",\"#969696\",\"#bdbdbd\",\"#d9d9d9\",\"#f0f0f0\",\"#ffffff\"]}}}},\"nonselection_glyph\":{\"type\":\"object\",\"name\":\"Image\",\"id\":\"p1025\",\"attributes\":{\"x\":{\"type\":\"value\",\"value\":0},\"y\":{\"type\":\"value\",\"value\":0},\"dw\":{\"type\":\"value\",\"value\":11},\"dh\":{\"type\":\"value\",\"value\":12},\"global_alpha\":{\"type\":\"value\",\"value\":0.1},\"image\":{\"type\":\"field\",\"field\":\"image\"},\"color_mapper\":{\"type\":\"object\",\"name\":\"LinearColorMapper\",\"id\":\"p1026\",\"attributes\":{\"palette\":[\"#000000\",\"#252525\",\"#525252\",\"#737373\",\"#969696\",\"#bdbdbd\",\"#d9d9d9\",\"#f0f0f0\",\"#ffffff\"]}}}},\"muted_glyph\":{\"type\":\"object\",\"name\":\"Image\",\"id\":\"p1028\",\"attributes\":{\"x\":{\"type\":\"value\",\"value\":0},\"y\":{\"type\":\"value\",\"value\":0},\"dw\":{\"type\":\"value\",\"value\":11},\"dh\":{\"type\":\"value\",\"value\":12},\"global_alpha\":{\"type\":\"value\",\"value\":0.2},\"image\":{\"type\":\"field\",\"field\":\"image\"},\"color_mapper\":{\"type\":\"object\",\"name\":\"LinearColorMapper\",\"id\":\"p1029\",\"attributes\":{\"palette\":[\"#000000\",\"#252525\",\"#525252\",\"#737373\",\"#969696\",\"#bdbdbd\",\"#d9d9d9\",\"#f0f0f0\",\"#ffffff\"]}}}}}}],\"toolbar\":{\"type\":\"object\",\"name\":\"Toolbar\",\"id\":\"p1009\"},\"left\":[{\"type\":\"object\",\"name\":\"LinearAxis\",\"id\":\"p1040\",\"attributes\":{\"ticker\":{\"type\":\"object\",\"name\":\"FixedTicker\",\"id\":\"p1044\",\"attributes\":{\"ticks\":{\"type\":\"ndarray\",\"array\":{\"type\":\"bytes\",\"data\":\"AAAAAAAA4D8AAAAAAAD4PwAAAAAAAARAAAAAAAAADEAAAAAAAAASQAAAAAAAABZAAAAAAAAAGkAAAAAAAAAeQAAAAAAAACFAAAAAAAAAI0AAAAAAAAAlQAAAAAAAACdA\"},\"shape\":[12],\"dtype\":\"float64\",\"order\":\"little\"},\"minor_ticks\":[]}},\"formatter\":{\"type\":\"object\",\"name\":\"BasicTickFormatter\",\"id\":\"p1043\"},\"axis_label\":\"translation tokens\",\"major_label_overrides\":{\"type\":\"map\",\"entries\":[[0.5,\"_EOS_\"],[1.5,\".\"],[2.5,\"kitchen\"],[3.5,\"shared\"],[4.5,\"a\"],[5.5,\"and\"],[6.5,\"kitchen\"],[7.5,\"shared\"],[8.5,\"a\"],[9.5,\"is\"],[10.5,\"there\"],[11.5,\"_BOS_\"]]},\"major_label_policy\":{\"type\":\"object\",\"name\":\"AllLabels\",\"id\":\"p1042\"}}}],\"above\":[{\"type\":\"object\",\"name\":\"LinearAxis\",\"id\":\"p1034\",\"attributes\":{\"ticker\":{\"type\":\"object\",\"name\":\"FixedTicker\",\"id\":\"p1038\",\"attributes\":{\"ticks\":{\"type\":\"ndarray\",\"array\":{\"type\":\"bytes\",\"data\":\"AAAAAAAA4D8AAAAAAAD4PwAAAAAAAARAAAAAAAAADEAAAAAAAAASQAAAAAAAABZAAAAAAAAAGkAAAAAAAAAeQAAAAAAAACFAAAAAAAAAI0AAAAAAAAAlQA==\"},\"shape\":[11],\"dtype\":\"float64\",\"order\":\"little\"},\"minor_ticks\":[]}},\"formatter\":{\"type\":\"object\",\"name\":\"BasicTickFormatter\",\"id\":\"p1037\"},\"axis_label\":\"source tokens\",\"major_label_orientation\":45,\"major_label_overrides\":{\"type\":\"map\",\"entries\":[[0.5,\"_BOS_\"],[1.5,\"\\u0432\"],[2.5,\"\\u0440\\u0430\\u0441\\u043f\\u043e\\u0440\\u044f\\u0436\\u0435\\u043d\\u0438\\u0438\"],[3.5,\"\\u0433\\u043e\\u0441\\u0442\\u0435\\u0439\"],[4.5,\"\\u043e\\u0431\\u0449\\u0430\\u044f\"],[5.5,\"\\u043a\\u0443\\u0445\\u043d\\u044f\"],[6.5,\"\\u0438\"],[7.5,\"\\u043e\\u0431\\u0449\\u0430\\u044f\"],[8.5,\"\\u0433\\u043e\\u0441\\u0442\\u0438\\u043d\\u0430\\u044f\"],[9.5,\".\"],[10.5,\"_EOS_\"]]},\"major_label_policy\":{\"type\":\"object\",\"name\":\"AllLabels\",\"id\":\"p1036\"}}}]}}],\"callbacks\":{\"type\":\"map\"}}};\n",
       "  const render_items = [{\"docid\":\"f2ddb642-c135-4357-b4b5-2079480e83f1\",\"roots\":{\"p1001\":\"b4f3478f-b2b2-4f9f-88ae-8a3df21dd520\"},\"root_ids\":[\"p1001\"]}];\n",
       "  root.Bokeh.embed.embed_items_notebook(docs_json, render_items);\n",
       "  }\n",
       "  if (root.Bokeh !== undefined) {\n",
       "    embed_document(root);\n",
       "  } else {\n",
       "    let attempts = 0;\n",
       "    const timer = setInterval(function(root) {\n",
       "      if (root.Bokeh !== undefined) {\n",
       "        clearInterval(timer);\n",
       "        embed_document(root);\n",
       "      } else {\n",
       "        attempts++;\n",
       "        if (attempts > 100) {\n",
       "          clearInterval(timer);\n",
       "          console.log(\"Bokeh: ERROR: Unable to run BokehJS code because BokehJS library is missing\");\n",
       "        }\n",
       "      }\n",
       "    }, 10, root)\n",
       "  }\n",
       "})(window);"
      ],
      "application/vnd.bokehjs_exec.v0+json": ""
     },
     "metadata": {
      "application/vnd.bokehjs_exec.v0+json": {
       "id": "p1001"
      }
     },
     "output_type": "display_data"
    },
    {
     "data": {
      "text/html": [
       "\n",
       "  <div id=\"bec17e7a-b783-4a10-8028-fac4f15f7773\" data-root-id=\"p1115\" style=\"display: contents;\"></div>\n"
      ]
     },
     "metadata": {},
     "output_type": "display_data"
    },
    {
     "data": {
      "application/javascript": [
       "(function(root) {\n",
       "  function embed_document(root) {\n",
       "  const docs_json = {\"67b5c6af-0408-44ec-ac7b-1625d13a151b\":{\"version\":\"3.1.1\",\"title\":\"Bokeh Application\",\"defs\":[],\"roots\":[{\"type\":\"object\",\"name\":\"Figure\",\"id\":\"p1115\",\"attributes\":{\"x_range\":{\"type\":\"object\",\"name\":\"Range1d\",\"id\":\"p1124\",\"attributes\":{\"end\":15}},\"y_range\":{\"type\":\"object\",\"name\":\"Range1d\",\"id\":\"p1126\",\"attributes\":{\"end\":9}},\"x_scale\":{\"type\":\"object\",\"name\":\"LinearScale\",\"id\":\"p1128\"},\"y_scale\":{\"type\":\"object\",\"name\":\"LinearScale\",\"id\":\"p1130\"},\"title\":{\"type\":\"object\",\"name\":\"Title\",\"id\":\"p1121\"},\"renderers\":[{\"type\":\"object\",\"name\":\"GlyphRenderer\",\"id\":\"p1145\",\"attributes\":{\"data_source\":{\"type\":\"object\",\"name\":\"ColumnDataSource\",\"id\":\"p1133\",\"attributes\":{\"selected\":{\"type\":\"object\",\"name\":\"Selection\",\"id\":\"p1134\",\"attributes\":{\"indices\":[],\"line_indices\":[]}},\"selection_policy\":{\"type\":\"object\",\"name\":\"UnionRenderers\",\"id\":\"p1135\"},\"data\":{\"type\":\"map\",\"entries\":[[\"image\",[{\"type\":\"ndarray\",\"array\":{\"type\":\"bytes\",\"data\":\"6+qYPaOeiD27g4c9KRSHPZZBiD3u44g9mWuJParIhj0Auog93CeGPY8JgT3+0oc9OQmFPV51gT3IR5A9nxf8PPlXhT1a7Ts9DIyVPdxVoT2B78g9rtuWPH4EHz6BUsM960GkPcGAhj18ub08+MLUPDOHcD1LIq89n+GJPS4ohj3Iv4Y9jQB+PUS8hD3enYQ9fK+KPQUBhT0HeIw9Ro+LPbT8ij3Aj4w90TeOPcifjj0swIQ96kqwPFDAaDyJiYM8leqKPBEijjxB/6Q8RdyNPC+znDyuLWA9mk15PWfg7z3QNf898UouPqVjOT57TRg+U7hwPO03qjssZMk7jwepO6ultTuePw489l/rOzfwGj2tDEo9inpTPRjOqj3p/gk+KoY8PpUqWD6n7kc+HAioPQ8wUD2J2FE9E5k+PUiqRT1TMmk9syZnPRjYPT2p52I9TpdcPaP8XT0/9709O67VPTQu3j3cJ709mhyXPSFOPj2SPTI92eFDPbyiPT3s1W09kZlLPWkgyz1DRaw9JTOkPW7ztD0f/IM9u0BLPY1/qT1De689pBa/PevvZz1KUmA9kGelPYAqoT2f3Ik9eK1xPW9eqz2NV7U90kG2PRdcvD0AU5g82gyePM8rCz0WAa0915x3MorJozBlSmkxxOq4MZH9xTFUwVk0weQdM33XTjPjuec0FQoSOClYGDve4wE37wukOeYpUDyoD3w/\"},\"shape\":[9,15],\"dtype\":\"float32\",\"order\":\"little\"}]]]}}},\"view\":{\"type\":\"object\",\"name\":\"CDSView\",\"id\":\"p1146\",\"attributes\":{\"filter\":{\"type\":\"object\",\"name\":\"AllIndices\",\"id\":\"p1147\"}}},\"glyph\":{\"type\":\"object\",\"name\":\"Image\",\"id\":\"p1136\",\"attributes\":{\"x\":{\"type\":\"value\",\"value\":0},\"y\":{\"type\":\"value\",\"value\":0},\"dw\":{\"type\":\"value\",\"value\":15},\"dh\":{\"type\":\"value\",\"value\":9},\"image\":{\"type\":\"field\",\"field\":\"image\"},\"color_mapper\":{\"type\":\"object\",\"name\":\"LinearColorMapper\",\"id\":\"p1137\",\"attributes\":{\"palette\":[\"#000000\",\"#252525\",\"#525252\",\"#737373\",\"#969696\",\"#bdbdbd\",\"#d9d9d9\",\"#f0f0f0\",\"#ffffff\"]}}}},\"nonselection_glyph\":{\"type\":\"object\",\"name\":\"Image\",\"id\":\"p1139\",\"attributes\":{\"x\":{\"type\":\"value\",\"value\":0},\"y\":{\"type\":\"value\",\"value\":0},\"dw\":{\"type\":\"value\",\"value\":15},\"dh\":{\"type\":\"value\",\"value\":9},\"global_alpha\":{\"type\":\"value\",\"value\":0.1},\"image\":{\"type\":\"field\",\"field\":\"image\"},\"color_mapper\":{\"type\":\"object\",\"name\":\"LinearColorMapper\",\"id\":\"p1140\",\"attributes\":{\"palette\":[\"#000000\",\"#252525\",\"#525252\",\"#737373\",\"#969696\",\"#bdbdbd\",\"#d9d9d9\",\"#f0f0f0\",\"#ffffff\"]}}}},\"muted_glyph\":{\"type\":\"object\",\"name\":\"Image\",\"id\":\"p1142\",\"attributes\":{\"x\":{\"type\":\"value\",\"value\":0},\"y\":{\"type\":\"value\",\"value\":0},\"dw\":{\"type\":\"value\",\"value\":15},\"dh\":{\"type\":\"value\",\"value\":9},\"global_alpha\":{\"type\":\"value\",\"value\":0.2},\"image\":{\"type\":\"field\",\"field\":\"image\"},\"color_mapper\":{\"type\":\"object\",\"name\":\"LinearColorMapper\",\"id\":\"p1143\",\"attributes\":{\"palette\":[\"#000000\",\"#252525\",\"#525252\",\"#737373\",\"#969696\",\"#bdbdbd\",\"#d9d9d9\",\"#f0f0f0\",\"#ffffff\"]}}}}}}],\"toolbar\":{\"type\":\"object\",\"name\":\"Toolbar\",\"id\":\"p1123\"},\"left\":[{\"type\":\"object\",\"name\":\"LinearAxis\",\"id\":\"p1154\",\"attributes\":{\"ticker\":{\"type\":\"object\",\"name\":\"FixedTicker\",\"id\":\"p1158\",\"attributes\":{\"ticks\":{\"type\":\"ndarray\",\"array\":{\"type\":\"bytes\",\"data\":\"AAAAAAAA4D8AAAAAAAD4PwAAAAAAAARAAAAAAAAADEAAAAAAAAASQAAAAAAAABZAAAAAAAAAGkAAAAAAAAAeQAAAAAAAACFA\"},\"shape\":[9],\"dtype\":\"float64\",\"order\":\"little\"},\"minor_ticks\":[]}},\"formatter\":{\"type\":\"object\",\"name\":\"BasicTickFormatter\",\"id\":\"p1157\"},\"axis_label\":\"translation tokens\",\"major_label_overrides\":{\"type\":\"map\",\"entries\":[[0.5,\"_EOS_\"],[1.5,\".\"],[2.5,\"available\"],[3.5,\"are\"],[4.5,\"parking\"],[5.5,\"free\"],[6.5,\"and\"],[7.5,\"laundry\"],[8.5,\"_BOS_\"]]},\"major_label_policy\":{\"type\":\"object\",\"name\":\"AllLabels\",\"id\":\"p1156\"}}}],\"above\":[{\"type\":\"object\",\"name\":\"LinearAxis\",\"id\":\"p1148\",\"attributes\":{\"ticker\":{\"type\":\"object\",\"name\":\"FixedTicker\",\"id\":\"p1152\",\"attributes\":{\"ticks\":{\"type\":\"ndarray\",\"array\":{\"type\":\"bytes\",\"data\":\"AAAAAAAA4D8AAAAAAAD4PwAAAAAAAARAAAAAAAAADEAAAAAAAAASQAAAAAAAABZAAAAAAAAAGkAAAAAAAAAeQAAAAAAAACFAAAAAAAAAI0AAAAAAAAAlQAAAAAAAACdAAAAAAAAAKUAAAAAAAAArQAAAAAAAAC1A\"},\"shape\":[15],\"dtype\":\"float64\",\"order\":\"little\"},\"minor_ticks\":[]}},\"formatter\":{\"type\":\"object\",\"name\":\"BasicTickFormatter\",\"id\":\"p1151\"},\"axis_label\":\"source tokens\",\"major_label_orientation\":45,\"major_label_overrides\":{\"type\":\"map\",\"entries\":[[0.5,\"_BOS_\"],[1.5,\"\\u043a\\u0440\\u043e\\u043c\\u0435\"],[2.5,\"\\u0442\\u043e\\u0433\\u043e\"],[3.5,\",\"],[4.5,\"\\u043f\\u0440\\u0435\\u0434\\u043e\\u0441\\u0442\\u0430\\u0432\\u043b\\u044f\\u0435\\u0442\\u0441\\u044f\"],[5.5,\"\\u043f\\u0440\\u043e\\u043a\\u0430\\u0442\"],[6.5,\"\\u0432\\u0435\\u043b\\u043e\\u0441\\u0438\\u043f\\u0435\\u0434\\u043e\\u0432\"],[7.5,\",\"],[8.5,\"\\u0443\\u0441\\u043b\\u0443\\u0433\\u0438\"],[9.5,\"\\u0442\\u0440\\u0430\\u043d\\u0441\\u0444\\u0435\\u0440\\u0430\"],[10.5,\"\\u0438\"],[11.5,\"\\u0431\\u0435\\u0441\\u043f\\u043b\\u0430\\u0442\\u043d\\u0430\\u044f\"],[12.5,\"\\u043f\\u0430\\u0440\\u043a\\u043e\\u0432\\u043a\\u0430\"],[13.5,\".\"],[14.5,\"_EOS_\"]]},\"major_label_policy\":{\"type\":\"object\",\"name\":\"AllLabels\",\"id\":\"p1150\"}}}]}}],\"callbacks\":{\"type\":\"map\"}}};\n",
       "  const render_items = [{\"docid\":\"67b5c6af-0408-44ec-ac7b-1625d13a151b\",\"roots\":{\"p1115\":\"bec17e7a-b783-4a10-8028-fac4f15f7773\"},\"root_ids\":[\"p1115\"]}];\n",
       "  root.Bokeh.embed.embed_items_notebook(docs_json, render_items);\n",
       "  }\n",
       "  if (root.Bokeh !== undefined) {\n",
       "    embed_document(root);\n",
       "  } else {\n",
       "    let attempts = 0;\n",
       "    const timer = setInterval(function(root) {\n",
       "      if (root.Bokeh !== undefined) {\n",
       "        clearInterval(timer);\n",
       "        embed_document(root);\n",
       "      } else {\n",
       "        attempts++;\n",
       "        if (attempts > 100) {\n",
       "          clearInterval(timer);\n",
       "          console.log(\"Bokeh: ERROR: Unable to run BokehJS code because BokehJS library is missing\");\n",
       "        }\n",
       "      }\n",
       "    }, 10, root)\n",
       "  }\n",
       "})(window);"
      ],
      "application/vnd.bokehjs_exec.v0+json": ""
     },
     "metadata": {
      "application/vnd.bokehjs_exec.v0+json": {
       "id": "p1115"
      }
     },
     "output_type": "display_data"
    },
    {
     "data": {
      "text/html": [
       "\n",
       "  <div id=\"c69bc5e3-ccdc-4b76-b895-36d42d53f564\" data-root-id=\"p1240\" style=\"display: contents;\"></div>\n"
      ]
     },
     "metadata": {},
     "output_type": "display_data"
    },
    {
     "data": {
      "application/javascript": [
       "(function(root) {\n",
       "  function embed_document(root) {\n",
       "  const docs_json = {\"c6eb8fcf-69a2-4d5f-b0bd-25890cb77995\":{\"version\":\"3.1.1\",\"title\":\"Bokeh Application\",\"defs\":[],\"roots\":[{\"type\":\"object\",\"name\":\"Figure\",\"id\":\"p1240\",\"attributes\":{\"x_range\":{\"type\":\"object\",\"name\":\"Range1d\",\"id\":\"p1249\",\"attributes\":{\"end\":13}},\"y_range\":{\"type\":\"object\",\"name\":\"Range1d\",\"id\":\"p1251\",\"attributes\":{\"end\":11}},\"x_scale\":{\"type\":\"object\",\"name\":\"LinearScale\",\"id\":\"p1253\"},\"y_scale\":{\"type\":\"object\",\"name\":\"LinearScale\",\"id\":\"p1255\"},\"title\":{\"type\":\"object\",\"name\":\"Title\",\"id\":\"p1246\"},\"renderers\":[{\"type\":\"object\",\"name\":\"GlyphRenderer\",\"id\":\"p1270\",\"attributes\":{\"data_source\":{\"type\":\"object\",\"name\":\"ColumnDataSource\",\"id\":\"p1258\",\"attributes\":{\"selected\":{\"type\":\"object\",\"name\":\"Selection\",\"id\":\"p1259\",\"attributes\":{\"indices\":[],\"line_indices\":[]}},\"selection_policy\":{\"type\":\"object\",\"name\":\"UnionRenderers\",\"id\":\"p1260\"},\"data\":{\"type\":\"map\",\"entries\":[[\"image\",[{\"type\":\"ndarray\",\"array\":{\"type\":\"bytes\",\"data\":\"l7CmPYeXpj2bRKM9JemUPXewlz3swY49CUOQPY+NhT0gIoQ9nhacPVNIhz1RFrE9wq/lPeOErj5PGwo+RaO9PS4DGz1JcZo8nFKNPFLTgjxnkg09dDhWPKWQ8DwMdfg8gBHPPf+DCD4+4Kc9Zx6qPctYqT0EFJ89VLCaPcP5lj1AOpY9udyTPUlhkz2dCJk9+HadPTP8oD1l9p49iJLrNsG5wjdBUdI224YMNkamUjVC4rE31xOyNIFoFjYqgm0yYmPzNlxiMD2LTFM/yKIGPkCT2Tq/goo7ZrlmOrM8ojny+L844Jp3OsOpCziuO5k4KvKdNmkjSzsCDWY+C5oUP3fyOz6kMf88IuAqPP/pBTs9Qb06jTWfOtMXbztvj1s6w22BOphOIDnbcRs89DqbPpEynT4ZI6g+eTOvPRKllz1EiW09SEcvPR3cLj3h6zA949kaPeYnbz3psQo98adtPR2W9z0d4SE+hSo/PlO5BT4Xq1Y9Zk8IPXVNOTwTKSE8gMAaPLfEJDxMI0I8pfMePIWesDw4nJ89WuZwPk8Hxj7b8mE9uZ/NPGu0kDxwTmk9+S1FPZKypz0s6VQ9QB/ZPUVAhT2ovCQ+eKnePYsm4D1SY+c9eXqbPSYSoj0yy509/EKiPeGtmD17HZo96tKaPc3BoT1d5J894pKhPfV2nT2DNJ09b+KWPZxygTssPQY63v8NOv1najlre6M48pTuOTL/hDi+eoA5WMpDNyjPaTsV03A+fY4qP1Mjtj0=\"},\"shape\":[11,13],\"dtype\":\"float32\",\"order\":\"little\"}]]]}}},\"view\":{\"type\":\"object\",\"name\":\"CDSView\",\"id\":\"p1271\",\"attributes\":{\"filter\":{\"type\":\"object\",\"name\":\"AllIndices\",\"id\":\"p1272\"}}},\"glyph\":{\"type\":\"object\",\"name\":\"Image\",\"id\":\"p1261\",\"attributes\":{\"x\":{\"type\":\"value\",\"value\":0},\"y\":{\"type\":\"value\",\"value\":0},\"dw\":{\"type\":\"value\",\"value\":13},\"dh\":{\"type\":\"value\",\"value\":11},\"image\":{\"type\":\"field\",\"field\":\"image\"},\"color_mapper\":{\"type\":\"object\",\"name\":\"LinearColorMapper\",\"id\":\"p1262\",\"attributes\":{\"palette\":[\"#000000\",\"#252525\",\"#525252\",\"#737373\",\"#969696\",\"#bdbdbd\",\"#d9d9d9\",\"#f0f0f0\",\"#ffffff\"]}}}},\"nonselection_glyph\":{\"type\":\"object\",\"name\":\"Image\",\"id\":\"p1264\",\"attributes\":{\"x\":{\"type\":\"value\",\"value\":0},\"y\":{\"type\":\"value\",\"value\":0},\"dw\":{\"type\":\"value\",\"value\":13},\"dh\":{\"type\":\"value\",\"value\":11},\"global_alpha\":{\"type\":\"value\",\"value\":0.1},\"image\":{\"type\":\"field\",\"field\":\"image\"},\"color_mapper\":{\"type\":\"object\",\"name\":\"LinearColorMapper\",\"id\":\"p1265\",\"attributes\":{\"palette\":[\"#000000\",\"#252525\",\"#525252\",\"#737373\",\"#969696\",\"#bdbdbd\",\"#d9d9d9\",\"#f0f0f0\",\"#ffffff\"]}}}},\"muted_glyph\":{\"type\":\"object\",\"name\":\"Image\",\"id\":\"p1267\",\"attributes\":{\"x\":{\"type\":\"value\",\"value\":0},\"y\":{\"type\":\"value\",\"value\":0},\"dw\":{\"type\":\"value\",\"value\":13},\"dh\":{\"type\":\"value\",\"value\":11},\"global_alpha\":{\"type\":\"value\",\"value\":0.2},\"image\":{\"type\":\"field\",\"field\":\"image\"},\"color_mapper\":{\"type\":\"object\",\"name\":\"LinearColorMapper\",\"id\":\"p1268\",\"attributes\":{\"palette\":[\"#000000\",\"#252525\",\"#525252\",\"#737373\",\"#969696\",\"#bdbdbd\",\"#d9d9d9\",\"#f0f0f0\",\"#ffffff\"]}}}}}}],\"toolbar\":{\"type\":\"object\",\"name\":\"Toolbar\",\"id\":\"p1248\"},\"left\":[{\"type\":\"object\",\"name\":\"LinearAxis\",\"id\":\"p1279\",\"attributes\":{\"ticker\":{\"type\":\"object\",\"name\":\"FixedTicker\",\"id\":\"p1283\",\"attributes\":{\"ticks\":{\"type\":\"ndarray\",\"array\":{\"type\":\"bytes\",\"data\":\"AAAAAAAA4D8AAAAAAAD4PwAAAAAAAARAAAAAAAAADEAAAAAAAAASQAAAAAAAABZAAAAAAAAAGkAAAAAAAAAeQAAAAAAAACFAAAAAAAAAI0AAAAAAAAAlQA==\"},\"shape\":[11],\"dtype\":\"float64\",\"order\":\"little\"},\"minor_ticks\":[]}},\"formatter\":{\"type\":\"object\",\"name\":\"BasicTickFormatter\",\"id\":\"p1282\"},\"axis_label\":\"translation tokens\",\"major_label_overrides\":{\"type\":\"map\",\"entries\":[[0.5,\"_EOS_\"],[1.5,\".\"],[2.5,\"away\"],[3.5,\"km\"],[4.5,\"26\"],[5.5,\"is\"],[6.5,\"sardinia\"],[7.5,\"of\"],[8.5,\"city\"],[9.5,\"the\"],[10.5,\"_BOS_\"]]},\"major_label_policy\":{\"type\":\"object\",\"name\":\"AllLabels\",\"id\":\"p1281\"}}}],\"above\":[{\"type\":\"object\",\"name\":\"LinearAxis\",\"id\":\"p1273\",\"attributes\":{\"ticker\":{\"type\":\"object\",\"name\":\"FixedTicker\",\"id\":\"p1277\",\"attributes\":{\"ticks\":{\"type\":\"ndarray\",\"array\":{\"type\":\"bytes\",\"data\":\"AAAAAAAA4D8AAAAAAAD4PwAAAAAAAARAAAAAAAAADEAAAAAAAAASQAAAAAAAABZAAAAAAAAAGkAAAAAAAAAeQAAAAAAAACFAAAAAAAAAI0AAAAAAAAAlQAAAAAAAACdAAAAAAAAAKUA=\"},\"shape\":[13],\"dtype\":\"float64\",\"order\":\"little\"},\"minor_ticks\":[]}},\"formatter\":{\"type\":\"object\",\"name\":\"BasicTickFormatter\",\"id\":\"p1276\"},\"axis_label\":\"source tokens\",\"major_label_orientation\":45,\"major_label_overrides\":{\"type\":\"map\",\"entries\":[[0.5,\"_BOS_\"],[1.5,\"\\u0440\\u0430\\u0441\\u0441\\u0442\\u043e\\u044f\\u043d\\u0438\\u0435\"],[2.5,\"\\u0434\\u043e\"],[3.5,\"\\u0433\\u043e\\u0440\\u043e\\u0434\\u0430\"],[4.5,\"\\u043a\\u0438@@\"],[5.5,\"\\u0441\\u0441\\u0438@@\"],[6.5,\"\\u043c@@\"],[7.5,\"\\u043c\\u0438\"],[8.5,\"\\u0441\\u043e\\u0441\\u0442\\u0430\\u0432\\u043b\\u044f\\u0435\\u0442\"],[9.5,\"26\"],[10.5,\"\\u043a\\u043c\"],[11.5,\".\"],[12.5,\"_EOS_\"]]},\"major_label_policy\":{\"type\":\"object\",\"name\":\"AllLabels\",\"id\":\"p1275\"}}}]}}],\"callbacks\":{\"type\":\"map\"}}};\n",
       "  const render_items = [{\"docid\":\"c6eb8fcf-69a2-4d5f-b0bd-25890cb77995\",\"roots\":{\"p1240\":\"c69bc5e3-ccdc-4b76-b895-36d42d53f564\"},\"root_ids\":[\"p1240\"]}];\n",
       "  root.Bokeh.embed.embed_items_notebook(docs_json, render_items);\n",
       "  }\n",
       "  if (root.Bokeh !== undefined) {\n",
       "    embed_document(root);\n",
       "  } else {\n",
       "    let attempts = 0;\n",
       "    const timer = setInterval(function(root) {\n",
       "      if (root.Bokeh !== undefined) {\n",
       "        clearInterval(timer);\n",
       "        embed_document(root);\n",
       "      } else {\n",
       "        attempts++;\n",
       "        if (attempts > 100) {\n",
       "          clearInterval(timer);\n",
       "          console.log(\"Bokeh: ERROR: Unable to run BokehJS code because BokehJS library is missing\");\n",
       "        }\n",
       "      }\n",
       "    }, 10, root)\n",
       "  }\n",
       "})(window);"
      ],
      "application/vnd.bokehjs_exec.v0+json": ""
     },
     "metadata": {
      "application/vnd.bokehjs_exec.v0+json": {
       "id": "p1240"
      }
     },
     "output_type": "display_data"
    },
    {
     "data": {
      "text/html": [
       "\n",
       "  <div id=\"bbbf5a59-1272-4bed-8db1-2fc3abef63d2\" data-root-id=\"p1376\" style=\"display: contents;\"></div>\n"
      ]
     },
     "metadata": {},
     "output_type": "display_data"
    },
    {
     "data": {
      "application/javascript": [
       "(function(root) {\n",
       "  function embed_document(root) {\n",
       "  const docs_json = {\"5b27007a-4827-45c2-be16-cedc7d35bb26\":{\"version\":\"3.1.1\",\"title\":\"Bokeh Application\",\"defs\":[],\"roots\":[{\"type\":\"object\",\"name\":\"Figure\",\"id\":\"p1376\",\"attributes\":{\"x_range\":{\"type\":\"object\",\"name\":\"Range1d\",\"id\":\"p1385\",\"attributes\":{\"end\":32}},\"y_range\":{\"type\":\"object\",\"name\":\"Range1d\",\"id\":\"p1387\",\"attributes\":{\"end\":26}},\"x_scale\":{\"type\":\"object\",\"name\":\"LinearScale\",\"id\":\"p1389\"},\"y_scale\":{\"type\":\"object\",\"name\":\"LinearScale\",\"id\":\"p1391\"},\"title\":{\"type\":\"object\",\"name\":\"Title\",\"id\":\"p1382\"},\"renderers\":[{\"type\":\"object\",\"name\":\"GlyphRenderer\",\"id\":\"p1406\",\"attributes\":{\"data_source\":{\"type\":\"object\",\"name\":\"ColumnDataSource\",\"id\":\"p1394\",\"attributes\":{\"selected\":{\"type\":\"object\",\"name\":\"Selection\",\"id\":\"p1395\",\"attributes\":{\"indices\":[],\"line_indices\":[]}},\"selection_policy\":{\"type\":\"object\",\"name\":\"UnionRenderers\",\"id\":\"p1396\"},\"data\":{\"type\":\"map\",\"entries\":[[\"image\",[{\"type\":\"ndarray\",\"array\":{\"type\":\"bytes\",\"data\":\"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\"},\"shape\":[26,32],\"dtype\":\"float32\",\"order\":\"little\"}]]]}}},\"view\":{\"type\":\"object\",\"name\":\"CDSView\",\"id\":\"p1407\",\"attributes\":{\"filter\":{\"type\":\"object\",\"name\":\"AllIndices\",\"id\":\"p1408\"}}},\"glyph\":{\"type\":\"object\",\"name\":\"Image\",\"id\":\"p1397\",\"attributes\":{\"x\":{\"type\":\"value\",\"value\":0},\"y\":{\"type\":\"value\",\"value\":0},\"dw\":{\"type\":\"value\",\"value\":32},\"dh\":{\"type\":\"value\",\"value\":26},\"image\":{\"type\":\"field\",\"field\":\"image\"},\"color_mapper\":{\"type\":\"object\",\"name\":\"LinearColorMapper\",\"id\":\"p1398\",\"attributes\":{\"palette\":[\"#000000\",\"#252525\",\"#525252\",\"#737373\",\"#969696\",\"#bdbdbd\",\"#d9d9d9\",\"#f0f0f0\",\"#ffffff\"]}}}},\"nonselection_glyph\":{\"type\":\"object\",\"name\":\"Image\",\"id\":\"p1400\",\"attributes\":{\"x\":{\"type\":\"value\",\"value\":0},\"y\":{\"type\":\"value\",\"value\":0},\"dw\":{\"type\":\"value\",\"value\":32},\"dh\":{\"type\":\"value\",\"value\":26},\"global_alpha\":{\"type\":\"value\",\"value\":0.1},\"image\":{\"type\":\"field\",\"field\":\"image\"},\"color_mapper\":{\"type\":\"object\",\"name\":\"LinearColorMapper\",\"id\":\"p1401\",\"attributes\":{\"palette\":[\"#000000\",\"#252525\",\"#525252\",\"#737373\",\"#969696\",\"#bdbdbd\",\"#d9d9d9\",\"#f0f0f0\",\"#ffffff\"]}}}},\"muted_glyph\":{\"type\":\"object\",\"name\":\"Image\",\"id\":\"p1403\",\"attributes\":{\"x\":{\"type\":\"value\",\"value\":0},\"y\":{\"type\":\"value\",\"value\":0},\"dw\":{\"type\":\"value\",\"value\":32},\"dh\":{\"type\":\"value\",\"value\":26},\"global_alpha\":{\"type\":\"value\",\"value\":0.2},\"image\":{\"type\":\"field\",\"field\":\"image\"},\"color_mapper\":{\"type\":\"object\",\"name\":\"LinearColorMapper\",\"id\":\"p1404\",\"attributes\":{\"palette\":[\"#000000\",\"#252525\",\"#525252\",\"#737373\",\"#969696\",\"#bdbdbd\",\"#d9d9d9\",\"#f0f0f0\",\"#ffffff\"]}}}}}}],\"toolbar\":{\"type\":\"object\",\"name\":\"Toolbar\",\"id\":\"p1384\"},\"left\":[{\"type\":\"object\",\"name\":\"LinearAxis\",\"id\":\"p1415\",\"attributes\":{\"ticker\":{\"type\":\"object\",\"name\":\"FixedTicker\",\"id\":\"p1419\",\"attributes\":{\"ticks\":{\"type\":\"ndarray\",\"array\":{\"type\":\"bytes\",\"data\":\"AAAAAAAA4D8AAAAAAAD4PwAAAAAAAARAAAAAAAAADEAAAAAAAAASQAAAAAAAABZAAAAAAAAAGkAAAAAAAAAeQAAAAAAAACFAAAAAAAAAI0AAAAAAAAAlQAAAAAAAACdAAAAAAAAAKUAAAAAAAAArQAAAAAAAAC1AAAAAAAAAL0AAAAAAAIAwQAAAAAAAgDFAAAAAAACAMkAAAAAAAIAzQAAAAAAAgDRAAAAAAACANUAAAAAAAIA2QAAAAAAAgDdAAAAAAACAOEAAAAAAAIA5QA==\"},\"shape\":[26],\"dtype\":\"float64\",\"order\":\"little\"},\"minor_ticks\":[]}},\"formatter\":{\"type\":\"object\",\"name\":\"BasicTickFormatter\",\"id\":\"p1418\"},\"axis_label\":\"translation tokens\",\"major_label_overrides\":{\"type\":\"map\",\"entries\":[[0.5,\"_EOS_\"],[1.5,\".\"],[2.5,\"terrace\"],[3.5,\"sun\"],[4.5,\"a\"],[5.5,\"and\"],[6.5,\"terrace\"],[7.5,\"sun\"],[8.5,\"a\"],[9.5,\"with\"],[10.5,\"home\"],[11.5,\"holiday\"],[12.5,\"detached\"],[13.5,\"a\"],[14.5,\"is\"],[15.5,\"home\"],[16.5,\"holiday\"],[17.5,\"detached\"],[18.5,\"this\"],[19.5,\",\"],[20.5,\"area\"],[21.5,\"quiet\"],[22.5,\"a\"],[23.5,\"in\"],[24.5,\"located\"],[25.5,\"_BOS_\"]]},\"major_label_policy\":{\"type\":\"object\",\"name\":\"AllLabels\",\"id\":\"p1417\"}}}],\"above\":[{\"type\":\"object\",\"name\":\"LinearAxis\",\"id\":\"p1409\",\"attributes\":{\"ticker\":{\"type\":\"object\",\"name\":\"FixedTicker\",\"id\":\"p1413\",\"attributes\":{\"ticks\":{\"type\":\"ndarray\",\"array\":{\"type\":\"bytes\",\"data\":\"AAAAAAAA4D8AAAAAAAD4PwAAAAAAAARAAAAAAAAADEAAAAAAAAASQAAAAAAAABZAAAAAAAAAGkAAAAAAAAAeQAAAAAAAACFAAAAAAAAAI0AAAAAAAAAlQAAAAAAAACdAAAAAAAAAKUAAAAAAAAArQAAAAAAAAC1AAAAAAAAAL0AAAAAAAIAwQAAAAAAAgDFAAAAAAACAMkAAAAAAAIAzQAAAAAAAgDRAAAAAAACANUAAAAAAAIA2QAAAAAAAgDdAAAAAAACAOEAAAAAAAIA5QAAAAAAAgDpAAAAAAACAO0AAAAAAAIA8QAAAAAAAgD1AAAAAAACAPkAAAAAAAIA/QA==\"},\"shape\":[32],\"dtype\":\"float64\",\"order\":\"little\"},\"minor_ticks\":[]}},\"formatter\":{\"type\":\"object\",\"name\":\"BasicTickFormatter\",\"id\":\"p1412\"},\"axis_label\":\"source tokens\",\"major_label_orientation\":45,\"major_label_overrides\":{\"type\":\"map\",\"entries\":[[0.5,\"_BOS_\"],[1.5,\"\\u0430\\u043f\\u0430\\u0440\\u0442\\u0430\\u043c\\u0435\\u043d\\u0442\\u044b\"],[2.5,\"\\u0432\"],[3.5,\"\\u043f\\u0435\\u043d\\u0442@@\"],[4.5,\"\\u0445\\u0430\\u0443\\u0441\\u0435\"],[5.5,\"\\u0441\"],[6.5,\"\\u043e\\u0431\\u0449\\u0438\\u043c\"],[7.5,\"\\u043e\\u0442\\u043a\\u0440\\u044b\\u0442\\u044b\\u043c\"],[8.5,\"\\u0431\\u0430\\u0441\\u0441\\u0435\\u0439\\u043d\\u043e\\u043c\"],[9.5,\",\"],[10.5,\"\\u0441\\u0430\\u0434\\u043e\\u043c\"],[11.5,\",\"],[12.5,\"\\u043a\\u043e\\u043d\\u0434\\u0438\\u0446\\u0438\\u043e\\u043d\\u0435\\u0440\\u043e\\u043c\"],[13.5,\"\\u0438\"],[14.5,\"\\u0442\\u0435\\u0440\\u0440\\u0430\\u0441\\u043e\\u0439\"],[15.5,\"\\u0434\\u043b\\u044f\"],[16.5,\"\\u0437\\u0430\\u0433\\u0430\\u0440\\u0430\"],[17.5,\"\\u0440\\u0430\\u0441\\u043f\\u043e\\u043b\\u043e\\u0436\\u0435\\u043d\\u044b\"],[18.5,\"\\u0432\"],[19.5,\"5\"],[20.5,\"\\u043c\\u0438\\u043d\\u0443\\u0442\\u0430\\u0445\"],[21.5,\"\\u0445\\u043e\\u0434\\u044c\\u0431\\u044b\"],[22.5,\"\\u043e\\u0442\"],[23.5,\"\\u043f\\u043b\\u044f\\u0436\\u0430\"],[24.5,\"\\u043d\\u0430\"],[25.5,\"\\u043a\\u0443\\u0440\\u043e\\u0440\\u0442\\u0435\"],[26.5,\"\\u043a\\u0430@@\"],[27.5,\"\\u0431\\u043e\"],[28.5,\"-\"],[29.5,\"\\u0440\\u043e\\u0439\"],[30.5,\".\"],[31.5,\"_EOS_\"]]},\"major_label_policy\":{\"type\":\"object\",\"name\":\"AllLabels\",\"id\":\"p1411\"}}}]}}],\"callbacks\":{\"type\":\"map\"}}};\n",
       "  const render_items = [{\"docid\":\"5b27007a-4827-45c2-be16-cedc7d35bb26\",\"roots\":{\"p1376\":\"bbbf5a59-1272-4bed-8db1-2fc3abef63d2\"},\"root_ids\":[\"p1376\"]}];\n",
       "  root.Bokeh.embed.embed_items_notebook(docs_json, render_items);\n",
       "  }\n",
       "  if (root.Bokeh !== undefined) {\n",
       "    embed_document(root);\n",
       "  } else {\n",
       "    let attempts = 0;\n",
       "    const timer = setInterval(function(root) {\n",
       "      if (root.Bokeh !== undefined) {\n",
       "        clearInterval(timer);\n",
       "        embed_document(root);\n",
       "      } else {\n",
       "        attempts++;\n",
       "        if (attempts > 100) {\n",
       "          clearInterval(timer);\n",
       "          console.log(\"Bokeh: ERROR: Unable to run BokehJS code because BokehJS library is missing\");\n",
       "        }\n",
       "      }\n",
       "    }, 10, root)\n",
       "  }\n",
       "})(window);"
      ],
      "application/vnd.bokehjs_exec.v0+json": ""
     },
     "metadata": {
      "application/vnd.bokehjs_exec.v0+json": {
       "id": "p1376"
      }
     },
     "output_type": "display_data"
    },
    {
     "data": {
      "text/html": [
       "\n",
       "  <div id=\"a791517e-2a83-4c62-85a8-2d87cd93a9a6\" data-root-id=\"p1523\" style=\"display: contents;\"></div>\n"
      ]
     },
     "metadata": {},
     "output_type": "display_data"
    },
    {
     "data": {
      "application/javascript": [
       "(function(root) {\n",
       "  function embed_document(root) {\n",
       "  const docs_json = {\"24f91052-a55b-4e93-b0de-25a10cb768bc\":{\"version\":\"3.1.1\",\"title\":\"Bokeh Application\",\"defs\":[],\"roots\":[{\"type\":\"object\",\"name\":\"Figure\",\"id\":\"p1523\",\"attributes\":{\"x_range\":{\"type\":\"object\",\"name\":\"Range1d\",\"id\":\"p1532\",\"attributes\":{\"end\":23}},\"y_range\":{\"type\":\"object\",\"name\":\"Range1d\",\"id\":\"p1534\",\"attributes\":{\"end\":15}},\"x_scale\":{\"type\":\"object\",\"name\":\"LinearScale\",\"id\":\"p1536\"},\"y_scale\":{\"type\":\"object\",\"name\":\"LinearScale\",\"id\":\"p1538\"},\"title\":{\"type\":\"object\",\"name\":\"Title\",\"id\":\"p1529\"},\"renderers\":[{\"type\":\"object\",\"name\":\"GlyphRenderer\",\"id\":\"p1553\",\"attributes\":{\"data_source\":{\"type\":\"object\",\"name\":\"ColumnDataSource\",\"id\":\"p1541\",\"attributes\":{\"selected\":{\"type\":\"object\",\"name\":\"Selection\",\"id\":\"p1542\",\"attributes\":{\"indices\":[],\"line_indices\":[]}},\"selection_policy\":{\"type\":\"object\",\"name\":\"UnionRenderers\",\"id\":\"p1543\"},\"data\":{\"type\":\"map\",\"entries\":[[\"image\",[{\"type\":\"ndarray\",\"array\":{\"type\":\"bytes\",\"data\":\"cdg5PQFOCj0lXQY9tvkDPZNvBz17Mxo9cSUCPXL08Dymuws9c8wPPY4iDT1sxCU9aPgMPXObMj2nFUY9bCcPPZL7cz2cakU91bBhPWg1Uz1kU1E9+25iPZX4xz1w58k6Xq5zN8ku/jUazvA1WC/dNhasHDlTdKE6iYwNOQJx+TjySpk5bJedOY1SdDi68SE4M7twORQxkTiCUoQ7j7CSO3FGSjwvk2o90ChOPfMnrjy8+is+q5otP2UclzyYMsA7f+zBO5mJvzubKS08XhOKPJAQwjw7EwA9jsPlPI3L6zwC9OQ8CEp9PIAdYDzw7ao8n78GPTbM0zwsoFU9PwCaPXKc7T1eGbs9iZ2hPVvj/j27gRk+/yE8PX55Iz22O3889G56PM4qjTwXOAQ9kgEjPTTVPT1rESI9XLccPWxaGT0DjR89TOs7PV/oRT3pGjE9IsxXPT9oUz1YzVo9og1+PbOVcD1fn2c9sUxkPdiShT3zSek8IO8ZOwdNEDuo57Q6f0ZtPCKlkzwq5Ec8DdkPPJaZezzJrl48Qu46PA1ySjwecdY794e5PUpqBD6lmgo9QE5SPueoHT6FD1M9et6bPaXTQz33GRI9yrPqPAe9hzpZTds5K2DJO2Mxvju1YRg8VaKNPZGdjDx/yB47y32tPM37kD3cN649iYoCPBQerzrwwlA92WE/PfQ9OTyJnes9HDdWPSFKND2zPG49Nu5rPeaY0j1xLCc+KyKAOgYpnTnZuSs4mOUOOJWjIjk6KhY7STLvOuXvJTo8afg8Ntz/PKtw1TxRp6U7mA9yOgsshz0/JZY89z4QPUPUfT6twso9BpGUPfi0pT0Q+aQ9L9i2PUYs4j3WBwY9c5YHPcCtZTxdRWg889KxPGE+Fz3Nvws9GbYBPe6OBj39FgM9tdT1PAxPAD38i/w8c9JQPUQ4aT0I3Bs9YHlXPmWObj0g2y09MCk4PT6vMD3VZCY9364ePWrgBz2lsdo8DJYZPb5lKD0aEzE9BktiPf9JSD1a8zU9ejsePbmvIz1DuS09WnBZPcbwCz3BpFM9jJwUPTc9DD1cwwc9lGQkPVQ0ND35Eg49ecMmPRRThD1F6ac9RJ8EPQ1TUzxZvtY7NJS2OyoFAzwggQ096BnVPBvbkTzWz+88mB4BPQk6ET2VTS09iMCkPG0NZD02+nk9Gz8pPY/zez1i+oE9Ka19PcxEjD01I4s9m0XgPXt/2j3v6lk9QMUkPbibDD1KwiM96KERPeuHIj2hUT49LPw7PQUHKj0mAyg90hUlPW14PT3aZyo9OSwqPb4IJD0ypyM9HDkoPe/qJj1GXjE9TgMrPfsPLD3vyFc9nR+RPUivQD1YQrg8tWLZPOSo5DxjjgY9WyFfPYrrGT1Yl9Y8cDUZPa3VKj3ugjo93H5cPdoMGz0Ddj89HTBOPeXbIz1IiDc97ydBPTiNRj0vBmU9CL1vPd6Kbz2JG249h+5AO/1awzr+rV47OXGYO/KnFj3FvC09O1cBPRPAsjxnNSU9oXMqPYdEKT25BUY9ca+kPBwljz2f93M9/5sdPfqmlT12VUQ9bm+SPW42Nz3aNDM9VhXFPRnA8T0fTzw8dxNyPWDpcD3f8HA9UP1wPUhTcD2WbnA91bBwPT3zcD1jCnE9AQFxPWVtcD0Kxkw9kfVmPRHHXj3w6MA8xPsEPSiqPTwv55I8yo45PFxvNTw1q2U8CydxPf0mlDFD6AstF3fbLr08bS5sExgu1v5AMoCohzGtU8svktpWMQz7BTQjgjczcxL+L2WJnS7TQ6s0he/cNc2UVDZvd5o5Q1bCOVrZqTzaEY07ClWHOvz6Uz/nsRQ+\"},\"shape\":[15,23],\"dtype\":\"float32\",\"order\":\"little\"}]]]}}},\"view\":{\"type\":\"object\",\"name\":\"CDSView\",\"id\":\"p1554\",\"attributes\":{\"filter\":{\"type\":\"object\",\"name\":\"AllIndices\",\"id\":\"p1555\"}}},\"glyph\":{\"type\":\"object\",\"name\":\"Image\",\"id\":\"p1544\",\"attributes\":{\"x\":{\"type\":\"value\",\"value\":0},\"y\":{\"type\":\"value\",\"value\":0},\"dw\":{\"type\":\"value\",\"value\":23},\"dh\":{\"type\":\"value\",\"value\":15},\"image\":{\"type\":\"field\",\"field\":\"image\"},\"color_mapper\":{\"type\":\"object\",\"name\":\"LinearColorMapper\",\"id\":\"p1545\",\"attributes\":{\"palette\":[\"#000000\",\"#252525\",\"#525252\",\"#737373\",\"#969696\",\"#bdbdbd\",\"#d9d9d9\",\"#f0f0f0\",\"#ffffff\"]}}}},\"nonselection_glyph\":{\"type\":\"object\",\"name\":\"Image\",\"id\":\"p1547\",\"attributes\":{\"x\":{\"type\":\"value\",\"value\":0},\"y\":{\"type\":\"value\",\"value\":0},\"dw\":{\"type\":\"value\",\"value\":23},\"dh\":{\"type\":\"value\",\"value\":15},\"global_alpha\":{\"type\":\"value\",\"value\":0.1},\"image\":{\"type\":\"field\",\"field\":\"image\"},\"color_mapper\":{\"type\":\"object\",\"name\":\"LinearColorMapper\",\"id\":\"p1548\",\"attributes\":{\"palette\":[\"#000000\",\"#252525\",\"#525252\",\"#737373\",\"#969696\",\"#bdbdbd\",\"#d9d9d9\",\"#f0f0f0\",\"#ffffff\"]}}}},\"muted_glyph\":{\"type\":\"object\",\"name\":\"Image\",\"id\":\"p1550\",\"attributes\":{\"x\":{\"type\":\"value\",\"value\":0},\"y\":{\"type\":\"value\",\"value\":0},\"dw\":{\"type\":\"value\",\"value\":23},\"dh\":{\"type\":\"value\",\"value\":15},\"global_alpha\":{\"type\":\"value\",\"value\":0.2},\"image\":{\"type\":\"field\",\"field\":\"image\"},\"color_mapper\":{\"type\":\"object\",\"name\":\"LinearColorMapper\",\"id\":\"p1551\",\"attributes\":{\"palette\":[\"#000000\",\"#252525\",\"#525252\",\"#737373\",\"#969696\",\"#bdbdbd\",\"#d9d9d9\",\"#f0f0f0\",\"#ffffff\"]}}}}}}],\"toolbar\":{\"type\":\"object\",\"name\":\"Toolbar\",\"id\":\"p1531\"},\"left\":[{\"type\":\"object\",\"name\":\"LinearAxis\",\"id\":\"p1562\",\"attributes\":{\"ticker\":{\"type\":\"object\",\"name\":\"FixedTicker\",\"id\":\"p1566\",\"attributes\":{\"ticks\":{\"type\":\"ndarray\",\"array\":{\"type\":\"bytes\",\"data\":\"AAAAAAAA4D8AAAAAAAD4PwAAAAAAAARAAAAAAAAADEAAAAAAAAASQAAAAAAAABZAAAAAAAAAGkAAAAAAAAAeQAAAAAAAACFAAAAAAAAAI0AAAAAAAAAlQAAAAAAAACdAAAAAAAAAKUAAAAAAAAArQAAAAAAAAC1A\"},\"shape\":[15],\"dtype\":\"float64\",\"order\":\"little\"},\"minor_ticks\":[]}},\"formatter\":{\"type\":\"object\",\"name\":\"BasicTickFormatter\",\"id\":\"p1565\"},\"axis_label\":\"translation tokens\",\"major_label_overrides\":{\"type\":\"map\",\"entries\":[[0.5,\"_EOS_\"],[1.5,\".\"],[2.5,\"property\"],[3.5,\"the\"],[4.5,\"from\"],[5.5,\"metres\"],[6.5,\"850\"],[7.5,\"located\"],[8.5,\"is\"],[9.5,\"theatre\"],[10.5,\"ballet\"],[11.5,\"and\"],[12.5,\"opera\"],[13.5,\"tbilisi\"],[14.5,\"_BOS_\"]]},\"major_label_policy\":{\"type\":\"object\",\"name\":\"AllLabels\",\"id\":\"p1564\"}}}],\"above\":[{\"type\":\"object\",\"name\":\"LinearAxis\",\"id\":\"p1556\",\"attributes\":{\"ticker\":{\"type\":\"object\",\"name\":\"FixedTicker\",\"id\":\"p1560\",\"attributes\":{\"ticks\":{\"type\":\"ndarray\",\"array\":{\"type\":\"bytes\",\"data\":\"AAAAAAAA4D8AAAAAAAD4PwAAAAAAAARAAAAAAAAADEAAAAAAAAASQAAAAAAAABZAAAAAAAAAGkAAAAAAAAAeQAAAAAAAACFAAAAAAAAAI0AAAAAAAAAlQAAAAAAAACdAAAAAAAAAKUAAAAAAAAArQAAAAAAAAC1AAAAAAAAAL0AAAAAAAIAwQAAAAAAAgDFAAAAAAACAMkAAAAAAAIAzQAAAAAAAgDRAAAAAAACANUAAAAAAAIA2QA==\"},\"shape\":[23],\"dtype\":\"float64\",\"order\":\"little\"},\"minor_ticks\":[]}},\"formatter\":{\"type\":\"object\",\"name\":\"BasicTickFormatter\",\"id\":\"p1559\"},\"axis_label\":\"source tokens\",\"major_label_orientation\":45,\"major_label_overrides\":{\"type\":\"map\",\"entries\":[[0.5,\"_BOS_\"],[1.5,\"\\u0430\\u043f\\u0430\\u0440\\u0442\\u0430\\u043c\\u0435\\u043d\\u0442\\u044b\"],[2.5,\"mo@@\"],[3.5,\"s@@\"],[4.5,\"co@@\"],[5.5,\"w\"],[6.5,\"point\"],[7.5,\"-\"],[8.5,\"loft\"],[9.5,\"red\"],[10.5,\"square\"],[11.5,\"\\u043d\\u0430\\u0445\\u043e\\u0434\\u044f\\u0442\\u0441\\u044f\"],[12.5,\"\\u0432\"],[13.5,\"\\u043c\\u043e\\u0441\\u043a\\u0432\\u0435\"],[14.5,\",\"],[15.5,\"\\u0432\"],[16.5,\"200\"],[17.5,\"\\u043c\\u0435\\u0442\\u0440\\u0430\\u0445\"],[18.5,\"\\u043e\\u0442\"],[19.5,\"\\u0431\\u043e\\u043b\\u044c\\u0448\\u043e\\u0433\\u043e\"],[20.5,\"\\u0442\\u0435\\u0430\\u0442\\u0440\\u0430\"],[21.5,\".\"],[22.5,\"_EOS_\"]]},\"major_label_policy\":{\"type\":\"object\",\"name\":\"AllLabels\",\"id\":\"p1558\"}}}]}}],\"callbacks\":{\"type\":\"map\"}}};\n",
       "  const render_items = [{\"docid\":\"24f91052-a55b-4e93-b0de-25a10cb768bc\",\"roots\":{\"p1523\":\"a791517e-2a83-4c62-85a8-2d87cd93a9a6\"},\"root_ids\":[\"p1523\"]}];\n",
       "  root.Bokeh.embed.embed_items_notebook(docs_json, render_items);\n",
       "  }\n",
       "  if (root.Bokeh !== undefined) {\n",
       "    embed_document(root);\n",
       "  } else {\n",
       "    let attempts = 0;\n",
       "    const timer = setInterval(function(root) {\n",
       "      if (root.Bokeh !== undefined) {\n",
       "        clearInterval(timer);\n",
       "        embed_document(root);\n",
       "      } else {\n",
       "        attempts++;\n",
       "        if (attempts > 100) {\n",
       "          clearInterval(timer);\n",
       "          console.log(\"Bokeh: ERROR: Unable to run BokehJS code because BokehJS library is missing\");\n",
       "        }\n",
       "      }\n",
       "    }, 10, root)\n",
       "  }\n",
       "})(window);"
      ],
      "application/vnd.bokehjs_exec.v0+json": ""
     },
     "metadata": {
      "application/vnd.bokehjs_exec.v0+json": {
       "id": "p1523"
      }
     },
     "output_type": "display_data"
    }
   ],
   "source": [
    "for i in range(5):\n",
    "    draw_attention(inp[i], trans[i], attention_probs[i])\n",
    "\n",
    "# Does it look fine already? don't forget to save images for anytask!"
   ]
  },
  {
   "cell_type": "markdown",
   "metadata": {
    "id": "h4cWJfhnFFQ_"
   },
   "source": [
    "__Note 1:__ If the attention maps are not iterpretable, try starting encoder from zeros (instead of dec_start), forcing model to use attention.\n",
    "\n",
    "__Note 2:__ If you're studying this course as a YSDA student, please submit __attention screenshots__ alongside your notebook."
   ]
  },
  {
   "cell_type": "markdown",
   "metadata": {
    "id": "pbIIngNVlrtt"
   },
   "source": [
    "## Goind deeper (2++ points each)\n",
    "\n",
    "We want you to find the best model for the task. Use everything you know.\n",
    "\n",
    "* different recurrent units: rnn/gru/lstm; deeper architectures\n",
    "* bidirectional encoder, different attention methods for decoder (additive, dot-product, multi-head)\n",
    "* word dropout, training schedules, anything you can imagine\n",
    "* replace greedy inference with beam search\n",
    "\n",
    "For a better grasp of seq2seq We recommend you to conduct at least one experiment from one of the bullet-points or your alternative ideas. As usual, describe what you tried and what results you obtained in a short report."
   ]
  },
  {
   "cell_type": "markdown",
   "metadata": {
    "id": "2rzAj_xtlrtt"
   },
   "source": [
    "`[your report/log here or anywhere you please]`"
   ]
  }
 ],
 "metadata": {
  "accelerator": "GPU",
  "colab": {
   "collapsed_sections": [
    "edk_oVg0lrtW"
   ],
   "gpuType": "T4",
   "provenance": []
  },
  "kernelspec": {
   "display_name": "DataSphere Kernel",
   "language": "python",
   "name": "python3"
  },
  "language_info": {
   "codemirror_mode": {
    "name": "ipython",
    "version": 3
   },
   "file_extension": ".py",
   "mimetype": "text/x-python",
   "name": "python",
   "nbconvert_exporter": "python",
   "pygments_lexer": "ipython3",
   "version": "3.10.12"
  }
 },
 "nbformat": 4,
 "nbformat_minor": 4
}
